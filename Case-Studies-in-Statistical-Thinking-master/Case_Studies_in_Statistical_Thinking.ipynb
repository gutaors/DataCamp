{
 "cells": [
  {
   "cell_type": "code",
   "execution_count": 1,
   "metadata": {},
   "outputs": [],
   "source": [
    "import pandas as pd\n",
    "import numpy as np\n",
    "import matplotlib.pyplot as plt\n",
    "%matplotlib inline"
   ]
  },
  {
   "cell_type": "markdown",
   "metadata": {},
   "source": [
    "## Fish sleep and bacteria growth: A review of Statistical Thinking I and II"
   ]
  },
  {
   "cell_type": "markdown",
   "metadata": {},
   "source": [
    "### EDA: Plot ECDFs of active bout length"
   ]
  },
  {
   "cell_type": "code",
   "execution_count": 2,
   "metadata": {},
   "outputs": [],
   "source": [
    "bout_lengths_wt = [3.0000000000057985, 3.0000000000057985, 4.9799999999999045, 2.0399999999995093, 6.000000000001363, 3.0000000000057985, 0.9599999999977626, 10.020000000000095, 1.0199999999963438, 1.020000000003165, 0.9599999999977626, 1.980000000002633, 1.0199999999963438, 1.0199999999997544, 1.9800000000043383, 1.0199999999963438, 4.980000000003315, 1.0199999999946383, 0.9599999999977626, 4.020000000000437, 1.980000000006044, 2.9999999999972715, 3.9600000000035607, 2.9999999999989773, 4.020000000002142, 0.960000000004584, 3.9600000000035607, 4.980000000003315, 8.999999999998636, 1.0199999999963438, 1.0199999999997544, 4.9799999999999045, 0.9600000000028786, 9.000000000000343, 1.980000000000928, 10.019999999996683, 1.020000000003165, 0.960000000004584, 3.0000000000006817, 2.9999999999972715, 1.0199999999980491, 0.9600000000028786, 0.9600000000011732, 0.9600000000028786, 4.0200000000055525, 4.979999999998199, 1.0199999999963438, 2.040000000001214, 2.9999999999972715, 1.9799999999992224, 3.0000000000023874, 2.040000000001214, 1.0199999999997544, 0.9600000000028786, 1.9799999999992224, 3.0000000000023874, 0.960000000004584, 2.9999999999989773, 0.9600000000028786, 1.980000000002633, 2.9999999999972715, 4.019999999997026, 1.0199999999963438, 2.9999999999989773, 1.980000000002633, 7.9800000000005875, 2.9999999999989773, 1.0200000000014595, 2.9999999999972715, 1.020000000003165, 3.9600000000035607, 5.03999999999678, 1.020000000003165, 0.9599999999977626, 1.0199999999980491, 2.0399999999995093, 4.9799999999999045, 6.960000000000832, 1.0199999999997544, 4.020000000000437, 1.980000000000928, 2.9999999999989773, 3.0000000000006817, 1.9799999999992224, 1.0199999999997544, 1.0199999999997544, 1.0199999999997544, 1.0199999999997544, 4.020000000000437, 1.0199999999997544, 4.9799999999999045, 1.0199999999997544, 4.020000000000437, 4.020000000000437, 1.0199999999980491, 4.9799999999999045, 3.9600000000001496, 2.9999999999972715, 10.0200000000018, 1.9799999999975169]"
   ]
  },
  {
   "cell_type": "code",
   "execution_count": 3,
   "metadata": {},
   "outputs": [],
   "source": [
    "bout_lengths_mut = [1.9799999999992224, 2.9999999999989773, 2.039999999994393, 4.980000000003315, 10.979999999997856, 13.019999999997367, 13.019999999999072, 16.980000000002633, 2.9999999999989773, 5.999999999999659, 15.0, 19.980000000003315, 6.0000000000030695, 7.979999999997176, 4.019999999995321, 10.020000000000095, 6.960000000000832, 2.9999999999989773, 6.0000000000030695, 2.9999999999989773, 1.0199999999963438, 5.9999999999979545, 5.039999999998486, 7.019999999997707, 17.99999999999727, 9.000000000000343, 1.0199999999963438, 2.040000000001214, 2.9999999999972715, 17.999999999998977, 6.960000000005947, 4.979999999998199, 1.980000000002633, 3.9600000000035607, 2.0399999999995093, 2.040000000001214, 5.03999999999678, 1.0199999999963438, 10.0200000000018, 1.0199999999963438, 4.9799999999999045, 4.019999999995321, 1.0199999999963438, 16.020000000003165, 1.0200000000014595, 0.9600000000011732, 9.000000000000343, 7.019999999997707, 1.980000000002633, 15.960000000001173, 2.9999999999989773, 20.03999999999849, 2.9999999999989773, 3.0000000000006817, 3.0000000000023874, 1.980000000000928, 4.9799999999999045, 3.0000000000023874, 0.9600000000011732, 5.999999999999659, 7.97999999999888, 1.9799999999992224, 3.0000000000023874, 1.9799999999992224, 1.980000000000928, 6.000000000001363, 0.9599999999994681, 5.999999999999659, 16.980000000000928, 36.00000000000137, 7.0199999999942975, 15.96000000000288, 8.039999999999168, 2.040000000001214, 1.9799999999975169, 19.9799999999982, 3.9600000000035607, 1.9800000000043383, 4.980000000003315, 12.960000000000491, 1.980000000002633, 17.999999999998977, 0.9600000000028786, 1.9799999999941065, 15.0, 32.0399999999961, 0.9599999999977626, 2.9999999999972715, 7.019999999997707, 1.020000000003165, 7.019999999997707, 19.02000000000044, 4.980000000003315, 7.0199999999994125, 3.960000000001856, 25.98000000000297, 4.980000000003315, 17.999999999998977, 2.039999999994393, 5.999999999999659]"
   ]
  },
  {
   "cell_type": "code",
   "execution_count": 4,
   "metadata": {},
   "outputs": [
    {
     "data": {
      "image/png": "[encoded data removed]",
      "text/plain": [
       "<Figure size 432x288 with 1 Axes>"
      ]
     },
     "metadata": {
      "needs_background": "light"
     },
     "output_type": "display_data"
    }
   ],
   "source": [
    "# Import the dc_stat_think module as dcst\n",
    "import dc_stat_think as dcst\n",
    "\n",
    "# Generate x and y values for plotting ECDFs\n",
    "x_wt, y_wt = dcst.ecdf(bout_lengths_wt)\n",
    "x_mut, y_mut = dcst.ecdf(bout_lengths_mut)\n",
    "\n",
    "# Plot the ECDFs\n",
    "_ = plt.plot(x_wt, y_wt, marker='.', linestyle='none')\n",
    "_ = plt.plot(x_mut, y_mut, marker='.', linestyle='none')\n",
    "\n",
    "# Make a legend, label axes, and show plot\n",
    "_ = plt.legend(('wt', 'mut'))\n",
    "_ = plt.xlabel('active bout length (min)')\n",
    "_ = plt.ylabel('ECDF')\n",
    "plt.show()\n"
   ]
  },
  {
   "cell_type": "markdown",
   "metadata": {},
   "source": [
    "### Parameter estimation: active bout length"
   ]
  },
  {
   "cell_type": "code",
   "execution_count": 5,
   "metadata": {},
   "outputs": [
    {
     "name": "stdout",
     "output_type": "stream",
     "text": [
      "\n",
      "wt:  mean = 2.838 min., conf. int. = [2.4, 3.3] min.\n",
      "mut: mean = 7.198 min., conf. int. = [5.9, 8.6] min.\n",
      "\n"
     ]
    }
   ],
   "source": [
    "# Compute mean active bout length\n",
    "mean_wt = np.mean(bout_lengths_wt)\n",
    "mean_mut = np.mean(bout_lengths_mut)\n",
    "\n",
    "# Draw bootstrap replicates\n",
    "bs_reps_wt = dcst.draw_bs_reps(bout_lengths_wt, np.mean, size=10000)\n",
    "bs_reps_mut = dcst.draw_bs_reps(bout_lengths_mut, np.mean, size=10000)\n",
    "\n",
    "# Compute 95% confidence intervals\n",
    "conf_int_wt = np.percentile(bs_reps_wt, [2.5, 97.5])\n",
    "conf_int_mut = np.percentile(bs_reps_mut, [2.5, 97.5])\n",
    "\n",
    "# Print the results\n",
    "print(\"\"\"\n",
    "wt:  mean = {0:.3f} min., conf. int. = [{1:.1f}, {2:.1f}] min.\n",
    "mut: mean = {3:.3f} min., conf. int. = [{4:.1f}, {5:.1f}] min.\n",
    "\"\"\".format(mean_wt, *conf_int_wt, mean_mut, *conf_int_mut))"
   ]
  },
  {
   "cell_type": "markdown",
   "metadata": {},
   "source": [
    "### Permutation test: wild type versus heterozygote"
   ]
  },
  {
   "cell_type": "code",
   "execution_count": 6,
   "metadata": {},
   "outputs": [],
   "source": [
    "bout_lengths_het = [11.999999999999318, 32.99999999999557, 0.9600000000028786, 4.9799999999999045, 1.9800000000043383, 1.9799999999975169, 4.9799999999999045, 30.0, 16.979999999999222, 22.019999999997708, 4.019999999995321, 30.0, 10.979999999997856, 0.9600000000028786, 1.0199999999963438, 11.03999999999985, 24.960000000001518, 1.0199999999963438, 5.999999999999659, 20.03999999999849, 49.019999999998724, 3.9600000000001496, 25.01999999999668, 5.040000000000191, 1.9799999999992224, 38.03999999999746, 5.999999999999659, 7.0199999999994125, 64.01999999999872, 1.9799999999992224, 1.0199999999997544, 1.9799999999992224, 4.019999999998731, 8.039999999999168, 4.019999999998731, 7.0199999999994125, 20.03999999999849, 1.0199999999997544, 0.9600000000011732, 7.9800000000057025, 0.9600000000028786, 0.9599999999977626, 1.0199999999997544, 7.97999999999888, 0.9600000000028786, 8.039999999999168, 0.960000000004584, 4.9799999999999045, 4.980000000003315, 1.980000000000928, 2.039999999994393, 1.020000000003165, 4.980000000003315, 0.9600000000028786, 2.9999999999989773, 0.9599999999977626, 1.0199999999946383, 10.980000000002976, 0.960000000004584, 1.0199999999946383, 3.0000000000006817, 0.9600000000028786, 0.9599999999977626, 4.979999999998199, 5.9999999999979545, 4.019999999998731, 3.960000000001856, 6.000000000001363, 2.9999999999972715, 2.039999999994393, 4.980000000003315, 1.9800000000043383, 2.0399999999960983, 1.980000000002633, 1.0199999999946383, 3.0000000000006817, 0.9600000000028786, 7.0199999999942975, 1.0200000000014595, 1.0199999999963438, 1.0199999999963438, 2.9999999999972715, 1.0199999999946383, 1.0200000000014595, 6.9599999999974225, 3.0000000000023874, 0.9599999999977626, 1.0199999999980491, 1.9800000000043383, 5.039999999998486, 4.020000000000437, 0.9600000000028786, 2.9999999999972715, 0.9600000000028786, 2.9999999999972715, 3.960000000001856, 10.019999999996683, 2.9999999999989773, 0.9600000000011732, 1.0199999999963438]"
   ]
  },
  {
   "cell_type": "code",
   "execution_count": 7,
   "metadata": {},
   "outputs": [
    {
     "name": "stdout",
     "output_type": "stream",
     "text": [
      "p = 0.0\n"
     ]
    }
   ],
   "source": [
    "# Compute the difference of means: diff_means_exp\n",
    "diff_means_exp = np.mean(bout_lengths_het) - np.mean(bout_lengths_wt)\n",
    "\n",
    "# Draw permutation replicates: perm_reps\n",
    "perm_reps = dcst.draw_perm_reps(bout_lengths_het, bout_lengths_wt, \n",
    "                               dcst.diff_of_means, size=10000)\n",
    "\n",
    "# Compute the p-value: p_val\n",
    "p_val = np.sum(perm_reps >= diff_means_exp) / len(perm_reps)\n",
    "\n",
    "# Print the result\n",
    "print('p =', p_val)"
   ]
  },
  {
   "cell_type": "markdown",
   "metadata": {},
   "source": [
    "### Bootstrap hypothesis test"
   ]
  },
  {
   "cell_type": "code",
   "execution_count": 8,
   "metadata": {},
   "outputs": [
    {
     "name": "stdout",
     "output_type": "stream",
     "text": [
      "p-value = 0.0013\n"
     ]
    }
   ],
   "source": [
    "# Concatenate arrays: bout_lengths_concat\n",
    "bout_lengths_concat = np.concatenate((bout_lengths_wt, bout_lengths_het))\n",
    "\n",
    "# Compute mean of all bout_lengths: mean_bout_length\n",
    "mean_bout_length = np.mean(bout_lengths_concat)\n",
    "\n",
    "# Generate shifted arrays\n",
    "wt_shifted = bout_lengths_wt - np.mean(bout_lengths_wt) + mean_bout_length\n",
    "het_shifted = bout_lengths_het - np.mean(bout_lengths_het) + mean_bout_length\n",
    "\n",
    "# Compute 10,000 bootstrap replicates from shifted arrays\n",
    "bs_reps_wt = dcst.draw_bs_reps(wt_shifted, np.mean, size = 10000)\n",
    "bs_reps_het = dcst.draw_bs_reps(het_shifted, np.mean, size = 10000)\n",
    "\n",
    "# Get replicates of difference of means: bs_replicates\n",
    "bs_reps = bs_reps_het - bs_reps_wt\n",
    "\n",
    "# Compute and print p-value: p\n",
    "p = np.sum(bs_reps >= diff_means_exp) / len(bs_reps)\n",
    "print('p-value =', p)"
   ]
  },
  {
   "cell_type": "markdown",
   "metadata": {},
   "source": [
    "### Assessing the growth rate"
   ]
  },
  {
   "cell_type": "code",
   "execution_count": 9,
   "metadata": {},
   "outputs": [
    {
     "data": {
      "text/html": [
       "<div>\n",
       "<style scoped>\n",
       "    .dataframe tbody tr th:only-of-type {\n",
       "        vertical-align: middle;\n",
       "    }\n",
       "\n",
       "    .dataframe tbody tr th {\n",
       "        vertical-align: top;\n",
       "    }\n",
       "\n",
       "    .dataframe thead th {\n",
       "        text-align: right;\n",
       "    }\n",
       "</style>\n",
       "<table border=\"1\" class=\"dataframe\">\n",
       "  <thead>\n",
       "    <tr style=\"text-align: right;\">\n",
       "      <th></th>\n",
       "      <th>bacterial area (sq. microns)</th>\n",
       "      <th>time (hr)</th>\n",
       "    </tr>\n",
       "  </thead>\n",
       "  <tbody>\n",
       "    <tr>\n",
       "      <th>0</th>\n",
       "      <td>5.574735</td>\n",
       "      <td>0.00</td>\n",
       "    </tr>\n",
       "    <tr>\n",
       "      <th>1</th>\n",
       "      <td>5.712023</td>\n",
       "      <td>0.25</td>\n",
       "    </tr>\n",
       "    <tr>\n",
       "      <th>2</th>\n",
       "      <td>5.903395</td>\n",
       "      <td>0.50</td>\n",
       "    </tr>\n",
       "    <tr>\n",
       "      <th>3</th>\n",
       "      <td>6.194612</td>\n",
       "      <td>0.75</td>\n",
       "    </tr>\n",
       "    <tr>\n",
       "      <th>4</th>\n",
       "      <td>6.456708</td>\n",
       "      <td>1.00</td>\n",
       "    </tr>\n",
       "  </tbody>\n",
       "</table>\n",
       "</div>"
      ],
      "text/plain": [
       "   bacterial area (sq. microns)  time (hr)\n",
       "0                      5.574735       0.00\n",
       "1                      5.712023       0.25\n",
       "2                      5.903395       0.50\n",
       "3                      6.194612       0.75\n",
       "4                      6.456708       1.00"
      ]
     },
     "execution_count": 9,
     "metadata": {},
     "output_type": "execute_result"
    }
   ],
   "source": [
    "df = pd.read_csv('park_bacterial_growth.csv', comment = '#')\n",
    "df.head()"
   ]
  },
  {
   "cell_type": "code",
   "execution_count": 10,
   "metadata": {},
   "outputs": [],
   "source": [
    "t = df['time (hr)'].values\n",
    "bac_area = df['bacterial area (sq. microns)'].values"
   ]
  },
  {
   "cell_type": "code",
   "execution_count": 11,
   "metadata": {},
   "outputs": [
    {
     "name": "stdout",
     "output_type": "stream",
     "text": [
      "\n",
      "Growth rate: 0.2301 sq. µm/hour\n",
      "95% conf int: [0.2266, 0.2337] sq. µm/hour\n",
      "\n"
     ]
    }
   ],
   "source": [
    "# Compute logarithm of the bacterial area: log_bac_area\n",
    "log_bac_area = np.log(bac_area)\n",
    "\n",
    "# Compute the slope and intercept: growth_rate, log_a0\n",
    "growth_rate, log_a0 = np.polyfit(t, log_bac_area, 1)\n",
    "\n",
    "# Draw 10,000 pairs bootstrap replicates: growth_rate_bs_reps, log_a0_bs_reps\n",
    "growth_rate_bs_reps, log_a0_bs_reps = \\\n",
    "            dcst.draw_bs_pairs_linreg(t, log_bac_area, size=10000)\n",
    "    \n",
    "# Compute confidence intervals: growth_rate_conf_int\n",
    "growth_rate_conf_int = np.percentile(growth_rate_bs_reps, [2.5, 97.5])\n",
    "\n",
    "# Print the result to the screen\n",
    "print(\"\"\"\n",
    "Growth rate: {0:.4f} sq. µm/hour\n",
    "95% conf int: [{1:.4f}, {2:.4f}] sq. µm/hour\n",
    "\"\"\".format(growth_rate, *growth_rate_conf_int))"
   ]
  },
  {
   "cell_type": "markdown",
   "metadata": {},
   "source": [
    "### Plotting the growth curve"
   ]
  },
  {
   "cell_type": "code",
   "execution_count": 12,
   "metadata": {},
   "outputs": [
    {
     "data": {
      "image/png": "[encoded data removed]",
      "text/plain": [
       "<Figure size 432x288 with 1 Axes>"
      ]
     },
     "metadata": {
      "needs_background": "light"
     },
     "output_type": "display_data"
    }
   ],
   "source": [
    "# Plot data points in a semilog-y plot with axis labeles\n",
    "_ = plt.semilogy(t, bac_area, marker='.', linestyle='none')\n",
    "\n",
    "# Generate x-values for the bootstrap lines: t_bs\n",
    "t_bs = np.array([0, 14])\n",
    "\n",
    "# Plot the first 100 bootstrap lines\n",
    "for i in range(100):\n",
    "    y = np.exp(growth_rate_bs_reps[i] * t_bs + log_a0_bs_reps[i])\n",
    "    _ = plt.semilogy(t_bs, y, linewidth=0.5, alpha=0.05, color='red')\n",
    "    \n",
    "# Label axes and show plot\n",
    "_ = plt.xlabel('time (hr)')\n",
    "_ = plt.ylabel('area (sq. µm)')\n",
    "plt.show()"
   ]
  },
  {
   "cell_type": "markdown",
   "metadata": {},
   "source": [
    "## Analysis of results of the 2015 FINA World Swimming Championships"
   ]
  },
  {
   "cell_type": "markdown",
   "metadata": {},
   "source": [
    "### Graphical EDA of men's 200 free heats"
   ]
  },
  {
   "cell_type": "code",
   "execution_count": 13,
   "metadata": {},
   "outputs": [],
   "source": [
    "mens_200_free_heats = [118.32, 107.73, 107.0, 106.39, 108.75, 117.74, 108.43, 111.96, 114.36, 121.77, 108.23, 107.47, 118.41, 108.29, 106.0, 109.32, 111.49, 112.92, 117.38, 110.95, 108.27, 111.78, 107.87, 110.77, 109.05, 111.0, 108.77, 106.1, 106.61, 113.68, 108.2, 106.2, 111.01, 109.25, 112.0, 118.55, 109.56, 108.18, 111.67, 108.09, 110.04, 113.97, 109.91, 112.12, 111.65, 110.18, 116.36, 124.59, 115.59, 121.01, 106.88, 108.96, 109.09, 108.67, 109.6, 111.85, 118.54, 108.12, 124.38, 107.17, 107.48, 106.65, 106.91, 140.68, 117.93, 120.66, 111.29, 107.1, 108.49, 112.43, 110.61, 110.38, 109.87, 106.73, 107.18, 110.98, 108.55, 114.31, 112.05]"
   ]
  },
  {
   "cell_type": "code",
   "execution_count": 14,
   "metadata": {},
   "outputs": [
    {
     "data": {
      "image/png": "[encoded data removed]",
      "text/plain": [
       "<Figure size 432x288 with 1 Axes>"
      ]
     },
     "metadata": {
      "needs_background": "light"
     },
     "output_type": "display_data"
    }
   ],
   "source": [
    "# Generate x and y values for ECDF: x, y\n",
    "x, y = dcst.ecdf(mens_200_free_heats)\n",
    "\n",
    "# Plot the ECDF as dots\n",
    "plt.plot(x, y, marker = '.', linestyle = 'none')\n",
    "\n",
    "# Label axes and show plot\n",
    "plt.xlabel('time (s)')\n",
    "plt.ylabel('ECDF')\n",
    "plt.show()\n"
   ]
  },
  {
   "cell_type": "markdown",
   "metadata": {},
   "source": [
    "### 200 m free time with confidence interval"
   ]
  },
  {
   "cell_type": "code",
   "execution_count": 15,
   "metadata": {},
   "outputs": [
    {
     "name": "stdout",
     "output_type": "stream",
     "text": [
      "\n",
      "mean time: 111.63 sec.\n",
      "95% conf int of mean: [110.47, 112.91] sec.\n",
      "\n",
      "median time: 110.04 sec.\n",
      "95% conf int of median: [108.96, 111.29] sec.\n",
      "\n"
     ]
    }
   ],
   "source": [
    "# Compute mean and median swim times\n",
    "mean_time = np.mean(mens_200_free_heats)\n",
    "median_time = np.median(mens_200_free_heats)\n",
    "\n",
    "# Draw 10,000 bootstrap replicates of the mean and median\n",
    "bs_reps_mean = dcst.draw_bs_reps(mens_200_free_heats, np.mean, size = 10000)\n",
    "bs_reps_median = dcst.draw_bs_reps(mens_200_free_heats, np.median, size = 10000)\n",
    "\n",
    "\n",
    "# Compute the 95% confidence intervals\n",
    "conf_int_mean = np.percentile(bs_reps_mean, [2.5, 97.5])\n",
    "conf_int_median = np.percentile(bs_reps_median, [2.5, 97.5])\n",
    "\n",
    "# Print the result to the screen\n",
    "print(\"\"\"\n",
    "mean time: {0:.2f} sec.\n",
    "95% conf int of mean: [{1:.2f}, {2:.2f}] sec.\n",
    "\n",
    "median time: {3:.2f} sec.\n",
    "95% conf int of median: [{4:.2f}, {5:.2f}] sec.\n",
    "\"\"\".format(mean_time, *conf_int_mean, median_time, *conf_int_median))"
   ]
  },
  {
   "cell_type": "markdown",
   "metadata": {},
   "source": [
    "### EDA: finals versus semifinals"
   ]
  },
  {
   "cell_type": "code",
   "execution_count": 16,
   "metadata": {},
   "outputs": [],
   "source": [
    "semi_times = np.array([53.0, 24.32, 52.84, 24.22, 57.59, 116.95, 58.56, 27.7, 126.56, 59.05, 27.83, 127.57, 25.81, 24.38, 27.41, 58.05, 128.99, 24.52, 57.52, 142.82, 128.16, 31.03, 59.33, 27.18, 57.63, 66.28, 143.06, 57.36, 25.79, 116.44, 53.91, 127.08, 27.67, 127.69, 141.99, 57.04, 25.27, 58.84, 27.63, 25.88, 142.9, 25.71, 24.5, 59.71, 27.88, 57.77, 126.64, 129.16, 28.01, 116.51, 126.18, 127.05, 129.04, 67.11, 30.9, 116.23, 66.95, 66.21, 30.78, 126.36, 66.64, 142.15, 142.88, 65.64, 29.98, 116.91, 53.38, 53.78, 24.23, 25.9, 25.91, 116.56, 128.74, 65.6, 30.14, 59.55, 142.72, 55.74, 52.78, 25.06, 24.31, 66.76, 30.39, 30.64, 53.81, 24.47, 142.04, 116.76, 59.42, 116.37, 53.92, 127.79, 30.25, 127.52, 59.63, 127.57])"
   ]
  },
  {
   "cell_type": "code",
   "execution_count": 17,
   "metadata": {},
   "outputs": [],
   "source": [
    "final_times = np.array([52.52, 24.12, 52.82, 24.36, 57.67, 116.41, 58.26, 27.66, 125.81, 58.75, 27.92, 126.78, 25.93, 24.44, 27.26, 58.22, 128.66, 24.39, 57.69, 143.61, 128.51, 30.74, 59.02, 27.11, 57.85, 66.55, 142.76, 57.48, 25.37, 116.27, 54.76, 126.51, 27.58, 130.2, 142.76, 57.05, 25.34, 58.86, 27.73, 25.78, 142.76, 25.85, 24.51, 59.78, 27.99, 57.94, 126.78, 128.49, 28.17, 116.19, 126.84, 127.76, 129.53, 67.1, 31.12, 115.32, 67.6, 66.42, 30.11, 125.56, 66.43, 141.15, 143.19, 66.36, 30.14, 116.79, 53.58, 53.17, 24.22, 25.64, 26.2, 116.16, 127.64, 65.66, 30.13, 59.66, 143.59, 55.64, 52.7, 24.96, 24.31, 67.17, 30.05, 31.14, 53.93, 24.57, 142.44, 115.16, 59.4, 115.49, 54.0, 126.34, 30.2, 126.95, 59.99, 126.4])"
   ]
  },
  {
   "cell_type": "code",
   "execution_count": 18,
   "metadata": {},
   "outputs": [
    {
     "data": {
      "image/png": "[encoded data removed]",
      "text/plain": [
       "<Figure size 432x288 with 1 Axes>"
      ]
     },
     "metadata": {
      "needs_background": "light"
     },
     "output_type": "display_data"
    }
   ],
   "source": [
    "# Compute fractional difference in time between finals and semis\n",
    "f = (final_times - semi_times) / final_times\n",
    "\n",
    "# Generate x and y values for the ECDF: x, y\n",
    "x, y = dcst.ecdf(f)\n",
    "\n",
    "# Make a plot of the ECDF\n",
    "plt.plot(x, y, marker = '.', linestyle = 'none')\n",
    "\n",
    "# Label axes and show plot\n",
    "_ = plt.xlabel('f')\n",
    "_ = plt.ylabel('ECDF')\n",
    "plt.show()"
   ]
  },
  {
   "cell_type": "markdown",
   "metadata": {},
   "source": [
    "### Parameter estimates of difference between finals and semifinals"
   ]
  },
  {
   "cell_type": "code",
   "execution_count": 19,
   "metadata": {},
   "outputs": [
    {
     "name": "stdout",
     "output_type": "stream",
     "text": [
      "\n",
      "mean frac. diff.: -0.00045\n",
      "95% conf int of mean frac. diff.: [-0.00178, 0.00088]\n"
     ]
    }
   ],
   "source": [
    "# Mean fractional time difference: f_mean\n",
    "f_mean = np.mean(f)\n",
    "\n",
    "# Get bootstrap reps of mean: bs_reps\n",
    "bs_reps = dcst.draw_bs_reps(f, np.mean, size = 10000)\n",
    "\n",
    "# Compute confidence intervals: conf_int\n",
    "conf_int = np.percentile(bs_reps, [2.5, 97.5])\n",
    "\n",
    "# Report\n",
    "print(\"\"\"\n",
    "mean frac. diff.: {0:.5f}\n",
    "95% conf int of mean frac. diff.: [{1:.5f}, {2:.5f}]\"\"\".format(f_mean, *conf_int))"
   ]
  },
  {
   "cell_type": "markdown",
   "metadata": {},
   "source": [
    "### Generating permutation samples"
   ]
  },
  {
   "cell_type": "code",
   "execution_count": 20,
   "metadata": {},
   "outputs": [],
   "source": [
    "def swap_random(a,b):\n",
    "    \"\"\"Randomly swap entries in two arrays.\"\"\"\n",
    "    # Indices to swap\n",
    "    swap_inds = np.random.random(size = len(a)) < 0.5\n",
    "    \n",
    "    # Make copies of arrays a and b for output\n",
    "    a_out = np.copy(a)\n",
    "    b_out = np.copy(b)\n",
    "    \n",
    "    # Swap values\n",
    "    a_out[swap_inds] = b[swap_inds]\n",
    "    b_out[swap_inds] = a[swap_inds]\n",
    "\n",
    "    return a_out, b_out"
   ]
  },
  {
   "cell_type": "markdown",
   "metadata": {},
   "source": [
    "### Hypothesis test: Do women swim the same way in semis and finals?"
   ]
  },
  {
   "cell_type": "code",
   "execution_count": 21,
   "metadata": {},
   "outputs": [
    {
     "name": "stdout",
     "output_type": "stream",
     "text": [
      "p = 0.742\n"
     ]
    }
   ],
   "source": [
    "# Set up array of permutation replicates\n",
    "perm_reps = np.empty(1000)\n",
    "\n",
    "for i in range(1000):\n",
    "    # Generate a permutation sample\n",
    "    semi_perm, final_perm = swap_random(semi_times, final_times)\n",
    "    \n",
    "    # Compute f from the permutation sample\n",
    "    f = (semi_perm - final_perm) / semi_perm\n",
    "    \n",
    "    # Compute and store permutation replicate\n",
    "    perm_reps[i] = np.mean(f)\n",
    "\n",
    "# Compute and print p-value\n",
    "print('p =', np.sum(perm_reps >= f_mean) / 1000)"
   ]
  },
  {
   "cell_type": "markdown",
   "metadata": {},
   "source": [
    "### EDA: Plot all your data"
   ]
  },
  {
   "cell_type": "code",
   "execution_count": 22,
   "metadata": {},
   "outputs": [],
   "source": [
    "split_number = np.array([3, 4, 5, 6, 7, 8, 9, 10, 11, 12, 13, 14])"
   ]
  },
  {
   "cell_type": "code",
   "execution_count": 23,
   "metadata": {},
   "outputs": [],
   "source": [
    "splits = [np.array([35.04, 36.39, 35.92, 36.23, 36.67, 36.76, 36.48, 36.85, 36.92,\n",
    "       36.68, 36.97, 36.98]), np.array([34.14, 34.22, 33.67, 33.88, 34.15, 33.91, 34.41, 33.92, 34.36,\n",
    "       34.38, 34.6 , 34.45]), np.array([31.8 , 31.91, 31.95, 32.04, 31.95, 31.65, 31.57, 31.39, 31.61,\n",
    "       31.43, 31.46, 31.47]), np.array([33.16, 32.9 , 32.68, 32.84, 33.55, 33.74, 33.71, 33.6 , 33.71,\n",
    "       33.12, 33.14, 32.79]), np.array([32.97, 32.83, 32.99, 32.94, 33.19, 33.6 , 33.72, 33.74, 33.82,\n",
    "       33.67, 33.86, 33.59])]"
   ]
  },
  {
   "cell_type": "code",
   "execution_count": 24,
   "metadata": {},
   "outputs": [
    {
     "data": {
      "image/png": "[encoded data removed]",
      "text/plain": [
       "<Figure size 432x288 with 1 Axes>"
      ]
     },
     "metadata": {
      "needs_background": "light"
     },
     "output_type": "display_data"
    }
   ],
   "source": [
    "# Plot the splits for each swimmer\n",
    "for splitset in splits:\n",
    "    _ = plt.plot(split_number, splitset, linewidth=1, color='lightgray')\n",
    "\n",
    "# Compute the mean split times\n",
    "mean_splits = np.mean(splits, axis = 0)\n",
    "\n",
    "# Plot the mean split times\n",
    "_ = plt.plot(split_number, mean_splits, marker = '.', linewidth = 3, markersize = 12)\n",
    "\n",
    "# Label axes and show plot\n",
    "_ = plt.xlabel('split number')\n",
    "_ = plt.ylabel('split time (s)')\n",
    "plt.show()"
   ]
  },
  {
   "cell_type": "markdown",
   "metadata": {},
   "source": [
    "### Linear regression of average split time"
   ]
  },
  {
   "cell_type": "code",
   "execution_count": 25,
   "metadata": {},
   "outputs": [
    {
     "data": {
      "image/png": "[encoded data removed]",
      "text/plain": [
       "<Figure size 432x288 with 1 Axes>"
      ]
     },
     "metadata": {
      "needs_background": "light"
     },
     "output_type": "display_data"
    },
    {
     "name": "stdout",
     "output_type": "stream",
     "text": [
      "\n",
      "mean slowdown: 0.047 sec./split\n",
      "95% conf int of mean slowdown: [0.019, 0.077] sec./split\n"
     ]
    }
   ],
   "source": [
    "# Perform regression\n",
    "slowdown, split_3 = np.polyfit(split_number, mean_splits, 1)\n",
    "\n",
    "# Compute pairs bootstrap\n",
    "bs_reps, _ = dcst.draw_bs_pairs_linreg(split_number, mean_splits, size = 10000)\n",
    "\n",
    "# Compute confidence interval\n",
    "conf_int = np.percentile(bs_reps, [2.5, 97.5])\n",
    "\n",
    "# Plot the data with regressions line\n",
    "_ = plt.plot(split_number, mean_splits, marker='.', linestyle='none')\n",
    "_ = plt.plot(split_number, slowdown * split_number + split_3, '-')\n",
    "\n",
    "# Label axes and show plot\n",
    "_ = plt.xlabel('split number')\n",
    "_ = plt.ylabel('split time (s)')\n",
    "plt.show()\n",
    "\n",
    "# Print the slowdown per split\n",
    "print(\"\"\"\n",
    "mean slowdown: {0:.3f} sec./split\n",
    "95% conf int of mean slowdown: [{1:.3f}, {2:.3f}] sec./split\"\"\".format(\n",
    "    slowdown, *conf_int))\n"
   ]
  },
  {
   "cell_type": "markdown",
   "metadata": {},
   "source": [
    "### Hypothesis test: are they slowing down?"
   ]
  },
  {
   "cell_type": "code",
   "execution_count": 26,
   "metadata": {},
   "outputs": [
    {
     "name": "stdout",
     "output_type": "stream",
     "text": [
      "p = 0.0026\n"
     ]
    }
   ],
   "source": [
    "# Observed correlation\n",
    "rho = dcst.pearson_r(split_number, mean_splits)\n",
    "\n",
    "# Initialize permutation reps\n",
    "perm_reps_rho = np.empty(10000)\n",
    "\n",
    "# Make permutation reps\n",
    "for i in range(10000):\n",
    "    # Scramble the split number array\n",
    "    scrambled_split_number = np.random.permutation(split_number)\n",
    "    \n",
    "    # Compute the Pearson correlation coefficient\n",
    "    perm_reps_rho[i] = dcst.pearson_r(scrambled_split_number, mean_splits)\n",
    "    \n",
    "# Compute and print p-value\n",
    "p_val = np.sum(perm_reps_rho>= rho) / 10000\n",
    "print('p =', p_val)"
   ]
  },
  {
   "cell_type": "markdown",
   "metadata": {},
   "source": [
    "## The \"Current Controversy\" of the 2013 World Championships"
   ]
  },
  {
   "cell_type": "markdown",
   "metadata": {},
   "source": [
    "### ECDF of improvement from low to high lanes"
   ]
  },
  {
   "cell_type": "code",
   "execution_count": 27,
   "metadata": {},
   "outputs": [],
   "source": [
    "swimtime_low_lanes = np.array([24.66, 23.28, 27.2, 24.95, 32.34, 24.66, 26.17, 27.93, 23.35, 22.93, 21.93, 28.33, 25.14, 25.19, 26.11, 31.31, 27.44, 21.85, 27.48, 30.66, 21.74, 23.22, 27.93, 21.42, 24.79, 26.46])"
   ]
  },
  {
   "cell_type": "code",
   "execution_count": 28,
   "metadata": {},
   "outputs": [],
   "source": [
    "swimtime_high_lanes = np.array([24.62, 22.9, 27.05, 24.76, 30.31, 24.54, 26.12, 27.71, 23.15, 23.11, 21.62, 28.02, 24.73, 24.95, 25.83, 30.61, 27.04, 21.67, 27.16, 30.23, 21.51, 22.97, 28.05, 21.65, 24.54, 26.06])"
   ]
  },
  {
   "cell_type": "code",
   "execution_count": 29,
   "metadata": {},
   "outputs": [
    {
     "data": {
      "image/png": "[encoded data removed]",
      "text/plain": [
       "<Figure size 432x288 with 1 Axes>"
      ]
     },
     "metadata": {
      "needs_background": "light"
     },
     "output_type": "display_data"
    }
   ],
   "source": [
    "# Compute the fractional improvement of being in high lane: f\n",
    "f = (swimtime_low_lanes - swimtime_high_lanes) / swimtime_low_lanes\n",
    "\n",
    "# Make x and y values for ECDF: x, y\n",
    "x, y = dcst.ecdf(f)\n",
    "\n",
    "# Plot the ECDFs as dots\n",
    "plt.plot(x, y, marker = '.', linestyle = 'none')\n",
    "\n",
    "# Label the axes and show the plot\n",
    "plt.xlabel('f')\n",
    "plt.ylabel('ECDF')\n",
    "plt.show()"
   ]
  },
  {
   "cell_type": "markdown",
   "metadata": {},
   "source": [
    "### Estimation of mean improvement"
   ]
  },
  {
   "cell_type": "code",
   "execution_count": 30,
   "metadata": {},
   "outputs": [
    {
     "name": "stdout",
     "output_type": "stream",
     "text": [
      "\n",
      "mean frac. diff.: 0.01051\n",
      "95% conf int of mean frac. diff.: [0.00618, 0.01585]\n"
     ]
    }
   ],
   "source": [
    "# Compute the mean difference: f_mean\n",
    "f_mean = np.mean(f)\n",
    "\n",
    "# Draw 10,000 bootstrap replicates: bs_reps\n",
    "bs_reps = dcst.draw_bs_reps(f, np.mean, size = 10000)\n",
    "\n",
    "# Compute 95% confidence interval: conf_int\n",
    "conf_int = np.percentile(bs_reps, [2.5, 97.5])\n",
    "\n",
    "# Print the result\n",
    "print(\"\"\"\n",
    "mean frac. diff.: {0:.5f}\n",
    "95% conf int of mean frac. diff.: [{1:.5f}, {2:.5f}]\"\"\".format(f_mean, *conf_int))"
   ]
  },
  {
   "cell_type": "markdown",
   "metadata": {},
   "source": [
    "### Hypothesis test: Does lane assignment affect performance?"
   ]
  },
  {
   "cell_type": "code",
   "execution_count": 31,
   "metadata": {},
   "outputs": [
    {
     "name": "stdout",
     "output_type": "stream",
     "text": [
      "p = 0.00036\n"
     ]
    }
   ],
   "source": [
    "# Shift f: f_shift\n",
    "f_shift = f - f_mean\n",
    "\n",
    "# Draw 100,000 bootstrap replicates of the mean: bs_reps\n",
    "bs_reps = dcst.draw_bs_reps(f_shift, np.mean, size=100000)\n",
    "\n",
    "# Compute and report the p-value\n",
    "p_val = np.sum(bs_reps >= f_mean) / 100000\n",
    "print('p =', p_val)"
   ]
  },
  {
   "cell_type": "markdown",
   "metadata": {},
   "source": [
    "### Did the 2015 event have this problem?"
   ]
  },
  {
   "cell_type": "code",
   "execution_count": 32,
   "metadata": {},
   "outputs": [],
   "source": [
    "swimtime_low_lanes_15 = np.array([27.66, 24.69, 23.29, 23.05, 26.87, 31.03, 22.04, 24.51, 21.86, 25.64, 25.91, 24.77, 30.14, 27.23, 24.31, 30.2, 26.86])\n",
    "swimtime_high_lanes_15 = np.array([27.7, 24.64, 23.21, 23.09, 26.87, 30.74, 21.88, 24.5, 21.86, 25.9, 26.2, 24.73, 30.13, 26.92, 24.31, 30.25, 26.76])"
   ]
  },
  {
   "cell_type": "code",
   "execution_count": 33,
   "metadata": {},
   "outputs": [
    {
     "name": "stdout",
     "output_type": "stream",
     "text": [
      "\n",
      "mean frac. diff.: 0.00079\n",
      "95% conf int of mean frac. diff.: [-0.00198, 0.00340]\n",
      "p-value: 0.28585\n"
     ]
    }
   ],
   "source": [
    "# Compute f and its mean\n",
    "f = (swimtime_low_lanes_15 - swimtime_high_lanes_15) / swimtime_low_lanes_15\n",
    "f_mean = np.mean(f)\n",
    "\n",
    "# Draw 10,000 bootstrap replicates\n",
    "bs_reps = dcst.draw_bs_reps(f, np.mean, size = 10000)\n",
    "\n",
    "# Compute 95% confidence interval\n",
    "conf_int = np.percentile(bs_reps, [2.5, 97.5])\n",
    "\n",
    "# Shift f\n",
    "f_shift = f - f_mean\n",
    "\n",
    "# Draw 100,000 bootstrap replicates of the mean\n",
    "bs_reps = dcst.draw_bs_reps(f_shift, np.mean, size = 100000)\n",
    "\n",
    "# Compute the p-value\n",
    "p_val = np.sum(bs_reps >= f_mean) / 100000\n",
    "\n",
    "# Print the results\n",
    "print(\"\"\"\n",
    "mean frac. diff.: {0:.5f}\n",
    "95% conf int of mean frac. diff.: [{1:.5f}, {2:.5f}]\n",
    "p-value: {3:.5f}\"\"\".format(f_mean, *conf_int, p_val))"
   ]
  },
  {
   "cell_type": "markdown",
   "metadata": {},
   "source": [
    "### EDA: mean differences between odd and even splits"
   ]
  },
  {
   "cell_type": "code",
   "execution_count": 34,
   "metadata": {},
   "outputs": [],
   "source": [
    "lanes = np.array([1, 2, 3, 4, 5, 6, 7, 8])"
   ]
  },
  {
   "cell_type": "code",
   "execution_count": 35,
   "metadata": {},
   "outputs": [],
   "source": [
    "f_13 = np.array([-0.01562214370476285, -0.014638103564590154, -0.009776733919830173, -0.005257125646248888, 0.002041043769013733, 0.003810139186796837, 0.0075664033273217385, 0.01525869402175616])"
   ]
  },
  {
   "cell_type": "code",
   "execution_count": 36,
   "metadata": {},
   "outputs": [],
   "source": [
    "f_15 = np.array([-0.005160181993383321, -0.003929522771324137, -0.000992838476615289, 0.0005995269293851621, -0.0024240044622061228, -0.004510986845095341, 0.0004746700793632159, 0.0008196226209307321])"
   ]
  },
  {
   "cell_type": "code",
   "execution_count": 37,
   "metadata": {},
   "outputs": [
    {
     "data": {
      "image/png": "[encoded data removed]",
      "text/plain": [
       "<Figure size 432x288 with 1 Axes>"
      ]
     },
     "metadata": {
      "needs_background": "light"
     },
     "output_type": "display_data"
    }
   ],
   "source": [
    "# Plot the the fractional difference for 2013 and 2015\n",
    "_ = plt.plot(lanes, f_13, marker = '.', markersize = 12, linestyle = 'none')\n",
    "_ = plt.plot(lanes, f_15, marker = '.', markersize = 12, linestyle = 'none')\n",
    "\n",
    "# Add a legend\n",
    "_ = plt.legend((2013, 2015))\n",
    "\n",
    "# Label axes and show plot\n",
    "_ = plt.xlabel('lane')\n",
    "_ = plt.ylabel('frac. diff. (odd - even)')\n",
    "plt.show()\n"
   ]
  },
  {
   "cell_type": "markdown",
   "metadata": {},
   "source": [
    "### How does the current effect depend on lane position?"
   ]
  },
  {
   "cell_type": "code",
   "execution_count": 38,
   "metadata": {},
   "outputs": [
    {
     "name": "stdout",
     "output_type": "stream",
     "text": [
      "\n",
      "slope: 0.00447 per lane\n",
      "95% conf int: [0.00392, 0.00501] per lane\n"
     ]
    },
    {
     "data": {
      "image/png": "[encoded data removed]",
      "text/plain": [
       "<Figure size 432x288 with 1 Axes>"
      ]
     },
     "metadata": {
      "needs_background": "light"
     },
     "output_type": "display_data"
    }
   ],
   "source": [
    "# Compute the slope and intercept of the frac diff/lane curve\n",
    "slope, intercept = np.polyfit(lanes, f_13, 1)\n",
    "\n",
    "# Compute bootstrap replicates\n",
    "bs_reps_slope, bs_reps_int = dcst.draw_bs_pairs_linreg(lanes, f_13, size = 10000)\n",
    "\n",
    "# Compute 95% confidence interval of slope\n",
    "conf_int = np.percentile(bs_reps_slope, [2.5, 97.5])\n",
    "\n",
    "# Print slope and confidence interval\n",
    "print(\"\"\"\n",
    "slope: {0:.5f} per lane\n",
    "95% conf int: [{1:.5f}, {2:.5f}] per lane\"\"\".format(slope, *conf_int))\n",
    "\n",
    "# x-values for plotting regression lines\n",
    "x = np.array([1, 8])\n",
    "\n",
    "# Plot 100 bootstrap replicate lines\n",
    "for i in range(100):\n",
    "    _ = plt.plot(x, bs_reps_slope[i] * x + bs_reps_int[i], \n",
    "                 color='red', alpha=0.2, linewidth=0.5)\n",
    "\n",
    "_ = plt.plot(lanes, f_13, marker = '.', markersize = 12, linestyle = 'none')\n",
    "# Update the plot\n",
    "plt.draw()\n",
    "plt.show()"
   ]
  },
  {
   "cell_type": "markdown",
   "metadata": {},
   "source": [
    "### Hypothesis test: can this be by chance?"
   ]
  },
  {
   "cell_type": "code",
   "execution_count": 39,
   "metadata": {},
   "outputs": [
    {
     "name": "stdout",
     "output_type": "stream",
     "text": [
      "p = 0.0\n"
     ]
    }
   ],
   "source": [
    "# Compute observed correlation: rho\n",
    "rho = dcst.pearson_r(lanes, f_13)\n",
    "\n",
    "# Initialize permutation reps: perm_reps_rho\n",
    "perm_reps_rho = np.empty(10000)\n",
    "\n",
    "# Make permutation reps\n",
    "for i in range(10000):\n",
    "    # Scramble the lanes array: scrambled_lanes\n",
    "    scrambled_lanes = np.random.permutation(lanes)\n",
    "    \n",
    "    # Compute the Pearson correlation coefficient\n",
    "    perm_reps_rho[i] = dcst.pearson_r(scrambled_lanes, f_13)\n",
    "    \n",
    "# Compute and print p-value\n",
    "p_val = np.sum(perm_reps_rho >= rho) / 10000\n",
    "print('p =', p_val)"
   ]
  },
  {
   "cell_type": "markdown",
   "metadata": {},
   "source": [
    "## Statistical seismology and the Parkfield region\n"
   ]
  },
  {
   "cell_type": "code",
   "execution_count": 40,
   "metadata": {},
   "outputs": [
    {
     "data": {
      "text/html": [
       "<div>\n",
       "<style scoped>\n",
       "    .dataframe tbody tr th:only-of-type {\n",
       "        vertical-align: middle;\n",
       "    }\n",
       "\n",
       "    .dataframe tbody tr th {\n",
       "        vertical-align: top;\n",
       "    }\n",
       "\n",
       "    .dataframe thead th {\n",
       "        text-align: right;\n",
       "    }\n",
       "</style>\n",
       "<table border=\"1\" class=\"dataframe\">\n",
       "  <thead>\n",
       "    <tr style=\"text-align: right;\">\n",
       "      <th></th>\n",
       "      <th>time</th>\n",
       "      <th>latitude</th>\n",
       "      <th>longitude</th>\n",
       "      <th>depth</th>\n",
       "      <th>mag</th>\n",
       "      <th>magType</th>\n",
       "      <th>nst</th>\n",
       "      <th>gap</th>\n",
       "      <th>dmin</th>\n",
       "      <th>rms</th>\n",
       "      <th>...</th>\n",
       "      <th>depthError</th>\n",
       "      <th>magError</th>\n",
       "      <th>magNst</th>\n",
       "      <th>status</th>\n",
       "      <th>locationSource</th>\n",
       "      <th>magSource</th>\n",
       "      <th>loc_name</th>\n",
       "      <th>loc_admin1</th>\n",
       "      <th>loc_admin2</th>\n",
       "      <th>loc_cc</th>\n",
       "    </tr>\n",
       "  </thead>\n",
       "  <tbody>\n",
       "    <tr>\n",
       "      <th>0</th>\n",
       "      <td>1951-10-03 13:44:33.170</td>\n",
       "      <td>35.869333</td>\n",
       "      <td>-120.451000</td>\n",
       "      <td>6.0</td>\n",
       "      <td>3.67</td>\n",
       "      <td>ml</td>\n",
       "      <td>6.0</td>\n",
       "      <td>259.0</td>\n",
       "      <td>1.5480</td>\n",
       "      <td>0.43</td>\n",
       "      <td>...</td>\n",
       "      <td>31.61</td>\n",
       "      <td>0.154</td>\n",
       "      <td>10.0</td>\n",
       "      <td>reviewed</td>\n",
       "      <td>ci</td>\n",
       "      <td>ci</td>\n",
       "      <td>Shandon</td>\n",
       "      <td>California</td>\n",
       "      <td>San Luis Obispo County</td>\n",
       "      <td>US</td>\n",
       "    </tr>\n",
       "    <tr>\n",
       "      <th>1</th>\n",
       "      <td>1953-05-28 07:58:34.510</td>\n",
       "      <td>36.004167</td>\n",
       "      <td>-120.501167</td>\n",
       "      <td>6.0</td>\n",
       "      <td>3.61</td>\n",
       "      <td>ml</td>\n",
       "      <td>7.0</td>\n",
       "      <td>296.0</td>\n",
       "      <td>0.9139</td>\n",
       "      <td>0.39</td>\n",
       "      <td>...</td>\n",
       "      <td>31.61</td>\n",
       "      <td>NaN</td>\n",
       "      <td>1.0</td>\n",
       "      <td>reviewed</td>\n",
       "      <td>ci</td>\n",
       "      <td>ci</td>\n",
       "      <td>Coalinga</td>\n",
       "      <td>California</td>\n",
       "      <td>Fresno County</td>\n",
       "      <td>US</td>\n",
       "    </tr>\n",
       "    <tr>\n",
       "      <th>2</th>\n",
       "      <td>1961-12-14 11:51:15.410</td>\n",
       "      <td>35.970000</td>\n",
       "      <td>-120.470167</td>\n",
       "      <td>6.0</td>\n",
       "      <td>3.95</td>\n",
       "      <td>ml</td>\n",
       "      <td>12.0</td>\n",
       "      <td>297.0</td>\n",
       "      <td>0.8718</td>\n",
       "      <td>0.51</td>\n",
       "      <td>...</td>\n",
       "      <td>31.61</td>\n",
       "      <td>0.070</td>\n",
       "      <td>11.0</td>\n",
       "      <td>reviewed</td>\n",
       "      <td>ci</td>\n",
       "      <td>ci</td>\n",
       "      <td>Coalinga</td>\n",
       "      <td>California</td>\n",
       "      <td>Fresno County</td>\n",
       "      <td>US</td>\n",
       "    </tr>\n",
       "    <tr>\n",
       "      <th>3</th>\n",
       "      <td>1965-02-21 18:39:24.500</td>\n",
       "      <td>35.881000</td>\n",
       "      <td>-120.383500</td>\n",
       "      <td>6.0</td>\n",
       "      <td>3.54</td>\n",
       "      <td>ml</td>\n",
       "      <td>10.0</td>\n",
       "      <td>257.0</td>\n",
       "      <td>1.5380</td>\n",
       "      <td>0.56</td>\n",
       "      <td>...</td>\n",
       "      <td>31.61</td>\n",
       "      <td>0.048</td>\n",
       "      <td>11.0</td>\n",
       "      <td>reviewed</td>\n",
       "      <td>ci</td>\n",
       "      <td>ci</td>\n",
       "      <td>Shandon</td>\n",
       "      <td>California</td>\n",
       "      <td>San Luis Obispo County</td>\n",
       "      <td>US</td>\n",
       "    </tr>\n",
       "    <tr>\n",
       "      <th>4</th>\n",
       "      <td>1966-06-28 04:18:36.180</td>\n",
       "      <td>35.856500</td>\n",
       "      <td>-120.446167</td>\n",
       "      <td>6.0</td>\n",
       "      <td>3.15</td>\n",
       "      <td>ml</td>\n",
       "      <td>7.0</td>\n",
       "      <td>259.0</td>\n",
       "      <td>1.3120</td>\n",
       "      <td>0.32</td>\n",
       "      <td>...</td>\n",
       "      <td>31.61</td>\n",
       "      <td>0.105</td>\n",
       "      <td>7.0</td>\n",
       "      <td>reviewed</td>\n",
       "      <td>ci</td>\n",
       "      <td>ci</td>\n",
       "      <td>Shandon</td>\n",
       "      <td>California</td>\n",
       "      <td>San Luis Obispo County</td>\n",
       "      <td>US</td>\n",
       "    </tr>\n",
       "  </tbody>\n",
       "</table>\n",
       "<p>5 rows × 26 columns</p>\n",
       "</div>"
      ],
      "text/plain": [
       "                      time   latitude   longitude  depth   mag magType   nst  \\\n",
       "0  1951-10-03 13:44:33.170  35.869333 -120.451000    6.0  3.67      ml   6.0   \n",
       "1  1953-05-28 07:58:34.510  36.004167 -120.501167    6.0  3.61      ml   7.0   \n",
       "2  1961-12-14 11:51:15.410  35.970000 -120.470167    6.0  3.95      ml  12.0   \n",
       "3  1965-02-21 18:39:24.500  35.881000 -120.383500    6.0  3.54      ml  10.0   \n",
       "4  1966-06-28 04:18:36.180  35.856500 -120.446167    6.0  3.15      ml   7.0   \n",
       "\n",
       "     gap    dmin   rms  ... depthError magError magNst    status  \\\n",
       "0  259.0  1.5480  0.43  ...      31.61    0.154   10.0  reviewed   \n",
       "1  296.0  0.9139  0.39  ...      31.61      NaN    1.0  reviewed   \n",
       "2  297.0  0.8718  0.51  ...      31.61    0.070   11.0  reviewed   \n",
       "3  257.0  1.5380  0.56  ...      31.61    0.048   11.0  reviewed   \n",
       "4  259.0  1.3120  0.32  ...      31.61    0.105    7.0  reviewed   \n",
       "\n",
       "  locationSource  magSource  loc_name  loc_admin1              loc_admin2  \\\n",
       "0             ci         ci   Shandon  California  San Luis Obispo County   \n",
       "1             ci         ci  Coalinga  California           Fresno County   \n",
       "2             ci         ci  Coalinga  California           Fresno County   \n",
       "3             ci         ci   Shandon  California  San Luis Obispo County   \n",
       "4             ci         ci   Shandon  California  San Luis Obispo County   \n",
       "\n",
       "  loc_cc  \n",
       "0     US  \n",
       "1     US  \n",
       "2     US  \n",
       "3     US  \n",
       "4     US  \n",
       "\n",
       "[5 rows x 26 columns]"
      ]
     },
     "execution_count": 40,
     "metadata": {},
     "output_type": "execute_result"
    }
   ],
   "source": [
    "df = pd.read_csv('parkfield_earthquakes_1950-2017.csv', comment = '#')\n",
    "df.head()"
   ]
  },
  {
   "cell_type": "markdown",
   "metadata": {},
   "source": [
    "### Parkfield earthquake magnitudes"
   ]
  },
  {
   "cell_type": "code",
   "execution_count": 41,
   "metadata": {},
   "outputs": [],
   "source": [
    "mags = df.mag"
   ]
  },
  {
   "cell_type": "code",
   "execution_count": 42,
   "metadata": {},
   "outputs": [
    {
     "data": {
      "image/png": "[encoded data removed]",
      "text/plain": [
       "<Figure size 432x288 with 1 Axes>"
      ]
     },
     "metadata": {
      "needs_background": "light"
     },
     "output_type": "display_data"
    }
   ],
   "source": [
    "# Make the plot\n",
    "plt.plot(*dcst.ecdf(mags), marker = '.', linestyle = 'none')\n",
    "\n",
    "# Label axes and show plot\n",
    "plt.xlabel('magnitude')\n",
    "plt.ylabel('ECDF')\n",
    "plt.show()"
   ]
  },
  {
   "cell_type": "markdown",
   "metadata": {},
   "source": [
    "### Computing the b-value"
   ]
  },
  {
   "cell_type": "code",
   "execution_count": 43,
   "metadata": {},
   "outputs": [],
   "source": [
    "def b_value(mags, mt, perc=[2.5, 97.5], n_reps=None):\n",
    "    \"\"\"Compute the b-value and optionally its confidence interval.\"\"\"\n",
    "    # Extract magnitudes above completeness threshold: m\n",
    "    m = mags[mags >= mt]\n",
    "\n",
    "    # Compute b-value: b\n",
    "    b = (np.mean(m) - mt) * np.log(10)\n",
    "\n",
    "    # Draw bootstrap replicates\n",
    "    if n_reps is None:\n",
    "        return b\n",
    "    else:\n",
    "        m_bs_reps = dcst.draw_bs_reps(m, np.mean, size=n_reps)\n",
    "\n",
    "        # Compute b-value from replicates: b_bs_reps\n",
    "        b_bs_reps = (m_bs_reps - mt) * np.log(10)\n",
    "\n",
    "        # Compute confidence interval: conf_int\n",
    "        conf_int = np.percentile(b_bs_reps, perc)\n",
    "    \n",
    "        return b, conf_int"
   ]
  },
  {
   "cell_type": "markdown",
   "metadata": {},
   "source": [
    "### The b-value for Parkfield"
   ]
  },
  {
   "cell_type": "code",
   "execution_count": 44,
   "metadata": {},
   "outputs": [
    {
     "data": {
      "image/png": "[encoded data removed]",
      "text/plain": [
       "<Figure size 432x288 with 1 Axes>"
      ]
     },
     "metadata": {
      "needs_background": "light"
     },
     "output_type": "display_data"
    },
    {
     "name": "stdout",
     "output_type": "stream",
     "text": [
      "\n",
      "b-value: 1.08\n",
      "95% conf int: [0.94, 1.24]\n"
     ]
    }
   ],
   "source": [
    "mt = 3\n",
    "# Compute b-value and 95% confidence interval\n",
    "b, conf_int = b_value(mags, mt, perc=[2.5, 97.5], n_reps=10000)\n",
    "\n",
    "# Generate samples to for theoretical ECDF\n",
    "m_theor = np.random.exponential(b/np.log(10), size=100000) + mt\n",
    "\n",
    "# Plot the theoretical CDF\n",
    "_ = plt.plot(*dcst.ecdf(m_theor), marker = '.', linestyle = 'none')\n",
    "\n",
    "# Plot the ECDF (slicing mags >= mt)\n",
    "_ = plt.plot(*dcst.ecdf(mags[mags >= mt]), marker='.', linestyle='none')\n",
    "\n",
    "# Pretty up and show the plot\n",
    "_ = plt.xlabel('magnitude')\n",
    "_ = plt.ylabel('ECDF')\n",
    "_ = plt.xlim(2.8, 6.2)\n",
    "plt.show()\n",
    "\n",
    "# Report the results\n",
    "print(\"\"\"\n",
    "b-value: {0:.2f}\n",
    "95% conf int: [{1:.2f}, {2:.2f}]\"\"\".format(b, *conf_int))"
   ]
  },
  {
   "cell_type": "markdown",
   "metadata": {},
   "source": [
    "### Interearthquake time estimates for Parkfield"
   ]
  },
  {
   "cell_type": "code",
   "execution_count": 45,
   "metadata": {},
   "outputs": [],
   "source": [
    "time_gap = np.array([24.06570841889117, 20.076659822039698, 21.018480492813143, 12.24640657084189, 32.054757015742645, 38.25325119780972])"
   ]
  },
  {
   "cell_type": "code",
   "execution_count": 46,
   "metadata": {},
   "outputs": [
    {
     "data": {
      "image/png": "[encoded data removed]",
      "text/plain": [
       "<Figure size 432x288 with 1 Axes>"
      ]
     },
     "metadata": {
      "needs_background": "light"
     },
     "output_type": "display_data"
    }
   ],
   "source": [
    "# Compute the mean time gap: mean_time_gap\n",
    "mean_time_gap = np.mean(time_gap)\n",
    "\n",
    "# Standard deviation of the time gap: std_time_gap\n",
    "std_time_gap = np.std(time_gap)\n",
    "\n",
    "# Generate theoretical Exponential distribution of timings: time_gap_exp\n",
    "time_gap_exp = np.random.exponential(mean_time_gap, size=10000)\n",
    "\n",
    "# Generate theoretical Normal distribution of timings: time_gap_norm\n",
    "time_gap_norm = np.random.normal(mean_time_gap, std_time_gap, size=10000)\n",
    "\n",
    "# Plot theoretical CDFs\n",
    "_ = plt.plot(*dcst.ecdf(time_gap_exp))\n",
    "_ = plt.plot(*dcst.ecdf(time_gap_norm))\n",
    "\n",
    "# Plot Parkfield ECDF\n",
    "_ = plt.plot(*dcst.ecdf(time_gap, formal=True, min_x=-10, max_x=50))\n",
    "\n",
    "# Add legend\n",
    "_ = plt.legend(('Exp.', 'Norm.'), loc='upper left')\n",
    "\n",
    "# Label axes, set limits and show plot\n",
    "_ = plt.xlabel('time gap (years)')\n",
    "_ = plt.ylabel('ECDF')\n",
    "_ = plt.xlim(-10, 50)\n",
    "plt.show()"
   ]
  },
  {
   "cell_type": "markdown",
   "metadata": {},
   "source": [
    "### When will the next big Parkfield quake be?"
   ]
  },
  {
   "cell_type": "code",
   "execution_count": 47,
   "metadata": {},
   "outputs": [],
   "source": [
    "today = 2019.435149441914\n",
    "last_quake = 2004.74"
   ]
  },
  {
   "cell_type": "code",
   "execution_count": 48,
   "metadata": {},
   "outputs": [
    {
     "name": "stdout",
     "output_type": "stream",
     "text": [
      "Exponential: [2020.04567145 2036.51222968 2110.0859572 ]\n",
      "     Normal: [2020.33321802 2030.61041475 2046.36190596]\n"
     ]
    }
   ],
   "source": [
    "# Draw samples from the Exponential distribution: exp_samples\n",
    "exp_samples = np.random.exponential(mean_time_gap, size = 100000)\n",
    "\n",
    "# Draw samples from the Normal distribution: norm_samples\n",
    "norm_samples = np.random.normal(mean_time_gap, std_time_gap, size = 100000)\n",
    "\n",
    "# No earthquake as of today, so only keep samples that are long enough\n",
    "exp_samples = exp_samples[exp_samples > today - last_quake]\n",
    "norm_samples = norm_samples[norm_samples > today - last_quake]\n",
    "\n",
    "# Compute the confidence intervals with medians\n",
    "conf_int_exp = np.percentile(exp_samples, [2.5, 50, 97.5]) + last_quake\n",
    "conf_int_norm = np.percentile(norm_samples, [2.5, 50, 97.5]) + last_quake\n",
    "\n",
    "# Print the results\n",
    "print('Exponential:', conf_int_exp)\n",
    "print('     Normal:', conf_int_norm)"
   ]
  },
  {
   "cell_type": "markdown",
   "metadata": {},
   "source": [
    "### Computing the K-S statistic"
   ]
  },
  {
   "cell_type": "code",
   "execution_count": 49,
   "metadata": {},
   "outputs": [],
   "source": [
    "def ks_stat(data1, data2):\n",
    "    # Compute ECDF from data: x, y\n",
    "    x, y = dcst.ecdf(data1)\n",
    "    \n",
    "    # Compute corresponding values of the target CDF\n",
    "    cdf = dcst.ecdf_formal(x, data2)\n",
    "\n",
    "    # Compute distances between concave corners and CDF\n",
    "    D_top = y -cdf\n",
    "\n",
    "    # Compute distance between convex corners and CDF\n",
    "    D_bottom = cdf - y + 1/len(data1)\n",
    "\n",
    "    return np.max((D_top, D_bottom))"
   ]
  },
  {
   "cell_type": "markdown",
   "metadata": {},
   "source": [
    "### Drawing K-S replicates"
   ]
  },
  {
   "cell_type": "code",
   "execution_count": 50,
   "metadata": {},
   "outputs": [],
   "source": [
    "def draw_ks_reps(n, f, args=(), size=10000, n_reps=10000):\n",
    "    # Generate samples from target distribution\n",
    "    x_f = f(*args, size = size)\n",
    "    \n",
    "    # Initialize K-S replicates\n",
    "    reps = np.empty(n_reps)\n",
    "    \n",
    "    # Draw replicates\n",
    "    for i in range(n_reps):\n",
    "        # Draw samples for comparison\n",
    "        x_samp = f(*args, size = n)\n",
    "        \n",
    "        # Compute K-S statistic\n",
    "        reps[i] = dcst.ks_stat(x_samp, x_f)\n",
    "\n",
    "    return reps"
   ]
  },
  {
   "cell_type": "markdown",
   "metadata": {},
   "source": [
    "### The K-S test for Exponentiality"
   ]
  },
  {
   "cell_type": "code",
   "execution_count": 51,
   "metadata": {},
   "outputs": [
    {
     "name": "stdout",
     "output_type": "stream",
     "text": [
      "p = 0.2292\n"
     ]
    }
   ],
   "source": [
    "# Draw target distribution: x_f\n",
    "x_f = np.random.exponential(mean_time_gap, size = 10000)\n",
    "\n",
    "# Compute K-S stat: d\n",
    "d = dcst.ks_stat(time_gap, x_f)\n",
    "\n",
    "# Draw K-S replicates: reps\n",
    "reps = dcst.draw_ks_reps(len(time_gap), np.random.exponential, \n",
    "                         args=(mean_time_gap,), size=10000, n_reps=10000)\n",
    "\n",
    "# Compute and print p-value\n",
    "p_val = np.sum(reps >= d) / 10000\n",
    "print('p =', p_val)"
   ]
  },
  {
   "cell_type": "markdown",
   "metadata": {},
   "source": [
    "## Earthquakes and oil mining in Oklahoma"
   ]
  },
  {
   "cell_type": "code",
   "execution_count": 52,
   "metadata": {},
   "outputs": [],
   "source": [
    "df = pd.read_csv('oklahoma_earthquakes_1950-2017.csv', comment = '#')"
   ]
  },
  {
   "cell_type": "code",
   "execution_count": 53,
   "metadata": {},
   "outputs": [],
   "source": [
    "time = pd.to_datetime(df.time)\n",
    "mags = df.mag"
   ]
  },
  {
   "cell_type": "markdown",
   "metadata": {},
   "source": [
    "### EDA: Plotting earthquakes over time"
   ]
  },
  {
   "cell_type": "code",
   "execution_count": 54,
   "metadata": {},
   "outputs": [
    {
     "name": "stderr",
     "output_type": "stream",
     "text": [
      "/Users/huiren/anaconda3/lib/python3.6/site-packages/pandas/plotting/_converter.py:129: FutureWarning: Using an implicitly registered datetime converter for a matplotlib plotting method. The converter was registered by pandas on import. Future versions of pandas will require you to explicitly register matplotlib converters.\n",
      "\n",
      "To register the converters:\n",
      "\t>>> from pandas.plotting import register_matplotlib_converters\n",
      "\t>>> register_matplotlib_converters()\n",
      "  warnings.warn(msg, FutureWarning)\n"
     ]
    },
    {
     "data": {
      "image/png": "[encoded data removed]",
      "text/plain": [
       "<Figure size 432x288 with 1 Axes>"
      ]
     },
     "metadata": {
      "needs_background": "light"
     },
     "output_type": "display_data"
    }
   ],
   "source": [
    "# Plot time vs. magnitude\n",
    "plt.plot(time, mags, marker = '.', linestyle = 'none', alpha = 0.1);\n",
    "\n",
    "# Label axes and show the plot\n",
    "plt.xlabel('time (year)');\n",
    "plt.ylabel('magnitude');"
   ]
  },
  {
   "cell_type": "markdown",
   "metadata": {},
   "source": [
    "### Estimates of the mean interearthquake times"
   ]
  },
  {
   "cell_type": "code",
   "execution_count": 55,
   "metadata": {},
   "outputs": [],
   "source": [
    "dt_pre = np.array([251.5, 295.7, 641.2, 1086.3, 317.6, 589.6, 483.6, 69.8, 692.6, 28.4, 469.8, 264.7, 76.6, 57.0, 105.9, 722.5, 233.8, 70.2, 115.0, 360.5, 836.3, 111.8, 141.8, 596.9, 167.6, 150.2, 327.4, 21.4, 184.3, 233.1, 378.9, 142.4, 89.7, 6.0, 19.0, 2.8, 11.4, 98.4, 12.0, 4.8, 20.4, 36.3, 0.7, 56.1, 22.3, 2.0, 0.7, 11.9, 8.7, 4.7, 0.9, 6.9])"
   ]
  },
  {
   "cell_type": "code",
   "execution_count": 56,
   "metadata": {},
   "outputs": [],
   "source": [
    "dt_post = np.array([1.2, 0.0, 1.9, 6.7, 19.9, 1.9, 4.5, 6.7, 1.6, 5.9, 4.4, 1.1, 0.1, 0.5, 1.4, 8.7, 17.4, 3.6, 2.9, 0.5, 22.0, 38.4, 48.5, 29.6, 3.7, 11.2, 1.1, 3.0, 5.6, 6.4, 11.7, 12.3, 30.1, 0.0, 3.2, 0.0, 0.4, 13.5, 12.4, 3.6, 18.4, 55.0, 19.8, 122.9, 17.7, 13.1, 5.2, 6.6, 22.8, 22.8, 0.1, 7.9, 0.0, 0.1, 0.1, 0.1, 0.0, 0.4, 0.1, 0.0, 0.0, 0.0, 0.0, 0.1, 0.0, 0.0, 0.0, 0.0, 0.0, 0.0, 0.1, 0.0, 0.2, 0.1, 0.0, 0.3, 0.0, 0.0, 0.2, 0.2, 0.1, 0.4, 0.0, 0.7, 0.7, 0.1, 0.7, 1.4, 0.2, 0.0, 1.3, 0.8, 2.5, 1.6, 3.6, 3.0, 1.0, 0.1, 1.6, 5.7, 6.5, 15.9, 5.8, 3.1, 14.1, 21.1, 22.2, 9.5, 21.0, 2.8, 3.4, 5.8, 1.8, 2.0, 5.2, 6.5, 2.6, 10.1, 0.3, 33.0, 0.7, 0.9, 18.8, 27.1, 0.9, 6.8, 10.7, 21.9, 21.7, 8.5, 7.8, 4.2, 6.7, 20.0, 24.9, 0.6, 3.9, 18.4, 12.2, 0.6, 42.0, 4.6, 2.3, 5.0, 5.1, 4.8, 0.0, 25.6, 0.0, 0.0, 0.1, 0.0, 0.3, 0.0, 0.0, 0.0, 0.2, 0.0, 0.1, 0.6, 0.1, 0.0, 4.3, 1.8, 0.9, 0.2, 0.3, 2.6, 0.3, 22.0, 7.3, 11.0, 2.0, 1.6, 5.4, 0.2, 0.3, 0.2, 0.3, 1.3, 6.4, 1.9, 0.2, 3.1, 1.2, 0.0, 23.1, 3.4, 3.3, 1.0, 7.2, 0.7, 1.4, 35.9, 8.2, 0.1, 2.6, 5.6, 0.2, 0.0, 3.3, 3.2, 3.7, 8.3, 5.7, 7.3, 0.1, 0.1, 0.0, 1.4, 1.1, 0.2, 2.9, 0.0, 2.7, 0.5, 0.4, 0.3, 0.8, 2.1, 3.3, 4.3, 4.3, 0.4, 3.6, 1.4, 0.0, 3.7, 1.7, 0.1, 0.2, 0.3, 9.3, 5.1, 2.4, 0.3, 2.5, 0.7, 0.7, 4.2, 0.2, 1.5, 0.6, 0.0, 0.1, 4.2, 0.8, 16.3, 2.4, 0.5, 0.0, 1.1, 1.5, 0.7, 3.3, 1.3, 0.6, 2.6, 1.9, 0.2, 0.2, 3.5, 0.1, 1.1, 1.1, 0.0, 0.3, 0.1, 0.9, 0.0, 1.2, 1.9, 0.3, 1.2, 0.1, 0.1, 0.1, 0.6, 0.7, 2.1, 0.1, 0.0, 0.2, 0.4, 2.8, 0.4, 3.0, 2.5, 0.0, 0.8, 0.8, 0.9, 0.9, 2.6, 1.7, 1.5, 0.4, 0.2, 1.4, 0.0, 0.1, 0.4, 0.4, 0.4, 0.3, 0.4, 0.7, 0.0, 0.0, 0.0, 0.7, 0.0, 2.2, 0.6, 2.3, 0.9, 0.2, 0.3, 0.9, 0.0, 0.1, 0.0, 0.0, 0.0, 0.0, 0.0, 0.0, 0.2, 0.1, 1.1, 0.3, 0.3, 0.4, 0.3, 0.3, 1.4, 0.2, 0.0, 0.2, 0.0, 0.1, 0.5, 0.7, 0.1, 1.1, 0.0, 0.4, 0.1, 0.1, 0.4, 0.1, 1.4, 0.6, 0.2, 0.3, 0.1, 0.0, 0.0, 0.0, 0.4, 0.0, 0.0, 0.5, 0.9, 0.1, 0.4, 1.0, 0.1, 0.7, 2.9, 2.0, 1.4, 0.0, 0.0, 0.9, 0.7, 1.2, 1.1, 0.6, 0.7, 1.0, 1.1, 2.2, 0.0, 0.5, 0.1, 0.5, 0.4, 0.4, 0.2, 0.4, 0.6, 2.9, 1.5, 0.4, 0.4, 0.2, 0.9, 1.5, 0.5, 0.2, 1.9, 0.8, 0.3, 0.8, 0.3, 0.7, 0.6, 0.4, 0.5, 0.4, 0.4, 0.1, 0.9, 0.1, 0.1, 0.3, 1.4, 0.1, 3.3, 5.2, 0.3, 0.0, 0.5, 0.8, 0.6, 0.9, 0.2, 0.0, 7.3, 0.3, 4.3, 0.6, 0.2, 0.7, 0.0, 0.0, 1.2, 0.6, 0.1, 0.0, 0.1, 0.1, 0.0, 0.0, 0.0, 0.0, 1.7, 0.1, 0.4, 0.1, 2.2, 0.1, 0.2, 1.0, 0.1, 0.0, 0.8, 0.7, 0.0, 0.0, 0.0, 0.1, 0.0, 0.3, 0.4, 0.3, 0.2, 0.1, 0.2, 0.1, 0.3, 1.4, 0.4, 0.4, 0.9, 0.0, 0.3, 2.0, 0.1, 0.2, 0.0, 0.4, 0.7, 1.2, 0.1, 0.5, 0.6, 0.0, 0.3, 3.9, 1.0, 0.2, 0.0, 0.9, 0.7, 0.4, 0.6, 0.1, 0.1, 2.6, 0.5, 4.5, 0.2, 2.0, 2.7, 0.7, 0.3, 0.2, 1.6, 0.0, 0.3, 0.3, 0.7, 0.6, 0.0, 0.5, 1.1, 0.3, 0.2, 0.9, 0.1, 0.9, 1.0, 1.0, 0.0, 1.1, 0.1, 0.0, 0.0, 1.7, 0.3, 1.6, 1.1, 0.9, 1.9, 0.8, 0.0, 0.4, 0.0, 0.4, 0.1, 0.7, 0.7, 0.9, 0.0, 0.0, 0.0, 2.3, 0.7, 0.0, 2.4, 0.8, 0.8, 0.2, 1.5, 0.3, 0.2, 1.7, 0.4, 0.1, 0.1, 0.6, 0.2, 0.0, 0.4, 0.1, 2.2, 0.5, 0.0, 1.8, 1.3, 0.6, 0.1, 0.1, 0.5, 0.0, 0.4, 0.2, 2.6, 0.7, 0.4, 0.1, 0.3, 0.3, 0.5, 0.4, 0.2, 0.3, 0.0, 0.4, 0.7, 0.5, 0.0, 0.0, 0.1, 0.7, 0.5, 0.2, 0.1, 0.0, 0.1, 0.2, 0.3, 0.6, 0.7, 1.8, 0.5, 0.1, 0.1, 0.7, 2.3, 1.0, 0.0, 0.6, 1.5, 0.5, 0.1, 0.0, 0.0, 0.7, 0.8, 0.0, 0.1, 1.1, 1.6, 0.3, 0.2, 0.4, 2.1, 0.2, 0.3, 0.1, 0.7, 1.5, 0.3, 0.1, 0.0, 2.1, 0.3, 0.3, 0.1, 0.2, 0.4, 0.2, 0.0, 0.1, 0.5, 0.6, 0.1, 1.8, 0.2, 0.0, 0.1, 0.1, 0.0, 0.8, 0.3, 0.2, 0.0, 0.1, 0.6, 0.9, 0.2, 0.2, 0.3, 1.3, 0.3, 0.4, 2.2, 0.2, 0.1, 0.9, 0.7, 1.6, 0.7, 1.1, 0.2, 0.0, 0.2, 1.0, 0.8, 1.2, 0.1, 0.6, 0.3, 0.5, 0.3, 0.1, 2.8, 0.6, 0.0, 0.6, 0.0, 0.5, 0.2, 0.1, 0.3, 0.0, 1.5, 0.4, 0.9, 0.2, 0.5, 0.6, 0.1, 0.0, 0.0, 0.0, 0.2, 0.2, 0.9, 0.7, 0.1, 0.5, 0.9, 0.8, 0.2, 0.2, 0.0, 0.3, 0.0, 2.0, 0.1, 0.5, 0.3, 0.2, 0.0, 0.2, 0.4, 0.0, 1.1, 0.0, 0.0, 0.0, 0.2, 0.2, 0.2, 0.1, 0.5, 0.3, 0.1, 0.4, 0.2, 0.1, 0.1, 0.2, 1.1, 0.2, 1.9, 0.1, 0.1, 0.1, 1.2, 0.8, 0.2, 0.9, 0.7, 0.1, 0.1, 0.3, 0.2, 0.2, 1.1, 1.6, 0.1, 0.7, 0.7, 0.1, 0.9, 0.1, 0.3, 0.0, 0.6, 0.5, 0.0, 0.6, 0.3, 0.6, 0.8, 0.2, 0.0, 0.2, 0.0, 0.2, 0.0, 0.0, 0.2, 0.6, 0.1, 0.9, 0.0, 2.2, 0.6, 1.5, 0.2, 0.1, 0.3, 0.1, 0.0, 0.4, 0.1, 0.3, 1.4, 2.0, 0.1, 0.8, 0.0, 0.4, 0.3, 0.2, 0.7, 0.9, 0.3, 0.1, 0.7, 0.1, 0.1, 0.3, 0.0, 0.4, 0.7, 0.6, 0.4, 0.4, 0.3, 0.8, 0.2, 0.1, 1.1, 0.6, 0.1, 0.3, 0.0, 0.7, 0.1, 0.2, 0.9, 0.4, 0.7, 0.4, 0.0, 0.4, 0.0, 0.5, 0.0, 0.0, 0.1, 0.2, 0.9, 1.7, 0.3, 0.6, 0.0, 0.0, 0.1, 0.6, 0.6, 0.0, 0.8, 0.1, 0.3, 0.4, 0.3, 0.5, 0.2, 0.5, 0.3, 0.3, 0.0, 0.4, 0.2, 0.3, 0.1, 2.2, 1.7, 0.2, 0.6, 0.2, 0.5, 0.7, 0.8, 0.1, 0.1, 0.5, 0.0, 0.2, 0.0, 0.0, 0.5, 0.2, 0.2, 0.1, 1.2, 0.1, 0.1, 0.6, 3.0, 0.4, 0.6, 0.0, 0.9, 0.3, 0.1, 0.3, 0.1, 0.1, 0.3, 0.3, 0.7, 0.1, 0.0, 0.0, 1.1, 0.4, 0.2, 1.4, 1.0, 0.9, 0.2, 0.1, 0.2, 0.5, 2.0, 0.0, 0.0, 0.1, 0.4, 0.1, 0.3, 0.9, 0.1, 1.1, 0.1, 1.1, 0.0, 0.1, 0.0, 0.3, 1.0, 0.3, 0.8, 0.1, 0.2, 3.2, 0.3, 0.7, 0.6, 1.5, 1.0, 0.2, 0.4, 1.4, 0.0, 0.7, 0.3, 1.6, 0.4, 0.0, 0.0, 0.5, 1.5, 0.0, 0.1, 0.6, 0.1, 0.0, 0.2, 0.2, 0.0, 0.3, 0.5, 0.2, 0.7, 0.8, 0.8, 0.4, 0.4, 0.0, 1.3, 0.6, 1.3, 0.0, 0.1, 0.3, 0.1, 1.0, 0.8, 0.9, 0.8, 1.0, 0.0, 0.4, 0.0, 0.6, 0.5, 0.4, 0.4, 0.0, 0.0, 0.1, 0.1, 0.1, 0.0, 0.4, 0.0, 0.0, 0.2, 0.0, 0.2, 0.0, 0.1, 0.0, 0.0, 0.0, 0.1, 0.2, 0.4, 1.2, 0.5, 0.3, 0.7, 0.0, 0.0, 0.7, 1.0, 0.0, 0.3, 0.6, 0.5, 0.0, 0.0, 1.1, 0.2, 0.1, 0.1, 0.0, 0.0, 0.9, 0.8, 0.0, 0.1, 0.1, 0.0, 0.1, 0.0, 0.2, 0.1, 0.5, 0.2, 0.9, 0.3, 0.0, 0.5, 0.6, 0.2, 0.0, 0.1, 0.0, 0.1, 0.7, 0.0, 0.3, 0.2, 0.4, 0.6, 1.4, 0.2, 0.3, 0.2, 0.4, 0.6, 0.1, 1.6, 0.7, 0.9, 0.7, 0.0, 0.0, 0.0, 0.3, 1.5, 0.0, 1.2, 2.7, 0.0, 0.0, 1.0, 0.0, 0.2, 0.0, 0.4, 1.0, 0.1, 0.0, 0.0, 0.5, 0.2, 0.5, 0.7, 0.1, 0.9, 0.4, 0.4, 0.1, 0.2, 1.5, 0.0, 1.4, 1.4, 0.0, 0.4, 0.4, 0.2, 1.4, 0.1, 0.0, 0.1, 0.1, 0.3, 0.1, 0.4, 0.4, 0.1, 0.5, 0.1, 0.3, 0.0, 1.1, 0.1, 0.1, 0.7, 1.8, 0.2, 1.3, 0.6, 0.5, 1.3, 0.1, 1.0, 0.1, 0.3, 0.0, 0.2, 0.4, 0.9, 0.8, 0.7, 0.4, 0.8, 0.2, 1.0, 2.1, 1.1, 0.0, 0.1, 0.1, 0.2, 0.0, 0.8, 0.2, 0.5, 3.3, 0.8, 0.1, 0.1, 0.1, 0.3, 0.0, 0.7, 0.3, 0.0, 0.8, 0.4, 0.3, 0.8, 0.2, 0.0, 0.9, 1.1, 0.1, 0.7, 0.3, 0.2, 0.8, 0.7, 0.6, 0.3, 0.5, 0.0, 0.0, 0.2, 0.7, 0.0, 0.0, 0.3, 0.0, 0.6, 0.4, 0.5, 0.0, 1.3, 0.1, 0.5, 1.2, 0.0, 1.1, 0.0, 0.0, 0.2, 0.4, 0.1, 0.2, 0.3, 0.0, 0.0, 0.0, 0.0, 0.0, 0.2, 0.0, 0.0, 0.2, 0.2, 0.2, 0.5, 0.2, 0.0, 0.4, 0.0, 0.0, 0.6, 0.1, 0.0, 0.0, 0.8, 1.5, 0.3, 0.7, 0.1, 0.0, 0.2, 0.0, 0.6, 0.1, 0.0, 0.4, 0.4, 0.1, 0.5, 0.0, 0.3, 0.2, 1.3, 0.4, 0.8, 0.2, 0.9, 0.1, 0.3, 0.2, 0.6, 0.5, 0.0, 0.4, 1.4, 1.2, 0.6, 0.6, 0.6, 1.1, 0.5, 0.1, 0.0, 0.3, 0.5, 1.0, 1.1, 0.3, 0.1, 0.9, 2.1, 2.6, 0.7, 0.0, 0.0, 0.2, 0.1, 0.1, 0.0, 0.0, 0.1, 0.1, 0.2, 0.3, 0.4, 1.1, 0.0, 0.2, 0.8, 0.1, 0.0, 0.5, 0.0, 0.2, 0.1, 0.8, 0.1, 0.0, 0.1, 0.1, 0.8, 0.1, 0.2, 0.0, 0.0, 0.1, 0.2, 0.0, 0.3, 0.2, 2.5, 0.5, 1.3, 0.8, 1.3, 0.5, 0.4, 0.2, 0.2, 0.2, 0.0, 0.2, 0.0, 0.1, 0.1, 0.3, 0.2, 1.0, 0.5, 0.3, 0.2, 1.0, 0.2, 0.4, 1.1, 0.5, 1.8, 0.2, 0.4, 0.0, 0.1, 0.1, 1.1, 0.3, 0.4, 0.5, 0.4, 1.1, 0.0, 0.7, 1.8, 0.1, 0.0, 0.3, 2.0, 0.8, 0.4, 0.0, 0.1, 1.0, 0.5, 0.4, 0.0, 0.4, 0.3, 0.1, 0.7, 1.9, 0.1, 1.0, 0.2, 0.1, 0.2, 0.5, 0.6, 0.8, 0.3, 0.8, 0.0, 5.6, 0.7, 0.3, 0.9, 0.7, 0.0, 1.6, 0.1, 1.4, 0.1, 0.2, 0.4, 0.4, 0.5, 0.1, 0.3, 0.0, 0.1, 0.1, 0.3, 0.1, 0.2, 0.8, 0.8, 0.0, 0.1, 0.0, 0.4, 0.2, 0.0, 0.0, 1.3, 0.4, 0.2, 0.7, 0.4, 0.1, 0.1, 0.7, 1.2, 0.7, 0.0, 0.2, 0.7, 1.6, 0.3, 0.0, 0.6, 1.0, 0.4, 0.4, 0.9, 0.1, 0.9, 0.0, 0.3, 2.3, 0.5, 0.0, 1.2, 1.0, 0.5, 0.2, 1.3, 0.5, 0.1, 0.1, 0.3, 0.3, 0.3, 0.0, 0.0, 0.1, 0.4, 0.1, 0.9, 0.0, 0.2, 0.1, 0.2, 0.8, 0.3, 0.8, 0.1, 0.3, 0.0, 0.2, 2.0, 0.7, 0.1, 1.0, 0.0, 0.4, 4.6, 0.6, 0.0, 0.3, 1.1, 1.1, 0.1, 0.2, 0.2, 0.6, 0.6, 0.2, 0.0, 1.2, 0.2, 0.1, 0.1, 0.4, 2.4, 0.0, 0.0, 0.9, 0.0, 0.1, 0.4, 0.5, 0.1, 2.5, 0.0, 0.2, 0.0, 0.3, 0.0, 0.0, 0.0, 0.0, 0.0, 0.0, 0.1, 0.2, 0.2, 0.5, 0.4, 0.2, 0.6, 0.3, 0.2, 0.0, 0.0, 0.2, 0.0, 0.2, 0.1, 0.0, 0.4, 0.2, 0.8, 0.1, 0.6, 0.8, 0.8, 0.7, 2.3, 0.4, 0.4, 0.6, 0.2, 0.1, 0.1, 0.1, 0.0, 0.7, 0.1, 0.1, 0.0, 0.1, 0.2, 0.1, 0.0, 0.0, 0.0, 0.6, 0.8, 1.4, 0.1, 0.0, 0.1, 0.0, 0.1, 0.9, 0.6, 0.2, 0.3, 0.0, 0.2, 0.0, 0.2, 0.0, 3.0, 1.0, 0.1, 0.0, 0.3, 0.1, 0.1, 0.7, 0.0, 0.5, 0.6, 1.2, 0.2, 0.4, 0.3, 0.1, 0.9, 0.1, 0.1, 0.6, 0.0, 1.2, 0.0, 0.0, 0.0, 0.1, 1.0, 0.9, 1.0, 1.6, 0.2, 0.9, 0.2, 0.4, 0.8, 0.4, 0.3, 0.2, 0.1, 0.4, 0.9, 0.4, 0.4, 0.0, 0.1, 0.2, 0.4, 0.3, 1.6, 0.4, 1.6, 0.1, 0.2, 0.1, 0.2, 0.9, 0.0, 0.4, 0.0, 0.3, 0.6, 0.2, 0.4, 0.6, 0.0, 0.7, 0.5, 0.1, 0.2, 0.3, 0.0, 0.5, 0.3, 0.0, 0.0, 0.0, 0.2, 0.0, 0.1, 0.0, 0.1, 0.0, 0.2, 0.1, 0.1, 0.2, 0.3, 0.4, 0.3, 1.0, 0.0, 0.4, 0.1, 0.0, 0.0, 0.0, 0.2, 0.4, 0.3, 0.0, 1.0, 0.0, 0.5, 0.0, 0.1, 0.0, 1.5, 0.2, 0.0, 0.2, 0.1, 0.1, 0.4, 0.0, 0.1, 0.0, 0.0, 0.0, 0.0, 0.0, 0.0, 0.0, 0.1, 0.0, 0.0, 0.1, 0.0, 0.1, 0.2, 0.0, 0.1, 0.2, 0.1, 0.2, 0.0, 0.2, 0.2, 0.0, 0.1, 0.0, 0.0, 0.0, 0.0, 0.9, 0.9, 0.5, 0.1, 0.2, 0.2, 0.0, 0.0, 1.5, 0.0, 0.5, 0.1, 0.4, 0.3, 0.4, 0.0, 0.1, 0.1, 0.2, 0.1, 0.6, 0.9, 0.1, 0.3, 0.7, 0.5, 0.2, 1.1, 0.0, 0.1, 0.2, 0.2, 1.0, 0.2, 0.3, 0.2, 0.2, 0.0, 0.1, 0.0, 0.1, 0.0, 0.0, 0.6, 1.1, 0.4, 0.1, 0.2, 0.3, 0.2, 2.6, 0.6, 0.1, 1.0, 0.1, 0.0, 0.1, 0.9, 0.1, 0.4, 1.0, 0.7, 0.5, 0.7, 0.7, 0.9, 0.6, 0.1, 0.1, 0.0, 0.7, 0.0, 0.5, 0.1, 0.8, 0.7, 1.3, 1.9, 0.2, 0.1, 1.9, 0.0, 0.0, 0.0, 0.0, 0.1, 0.0, 0.0, 0.0, 0.1, 0.0, 0.1, 0.3, 0.0, 0.5, 0.1, 0.1, 0.7, 0.1, 0.3, 0.8, 0.1, 0.3, 0.0, 0.0, 0.4, 0.0, 0.8, 0.7, 0.1, 0.1, 0.3, 0.7, 0.4, 0.1, 1.1, 0.3, 0.0, 0.4, 0.1, 0.0, 0.3, 0.0, 0.0, 0.2, 0.1, 0.8, 0.9, 0.1, 0.4, 0.5, 0.0, 0.8, 0.0, 0.7, 0.0, 0.0, 0.3, 0.9, 0.3, 0.0, 1.5, 0.3, 0.0, 0.1, 0.6, 0.2, 0.0, 0.5, 0.2, 2.0, 1.1, 1.4, 0.5, 0.2, 0.1, 1.0, 0.2, 0.1, 0.2, 0.2, 0.0, 0.3, 0.2, 0.5, 1.1, 0.9, 0.4, 0.7, 0.3, 0.8, 0.7, 0.2, 0.0, 1.7, 1.0, 0.1, 0.3, 0.1, 0.5, 1.1, 0.0, 1.5, 1.0, 1.1, 1.6, 0.0, 0.0, 0.7, 1.2, 0.2, 0.5, 0.0, 0.7, 0.0, 1.2, 0.0, 0.0, 2.0, 0.0, 0.2, 0.0, 1.5, 0.1, 1.2, 1.2, 0.3, 0.1, 0.0, 0.0, 0.4, 0.1, 0.1, 0.3, 0.2, 0.0, 0.0, 0.4, 0.4, 0.5, 0.2, 0.8, 1.1, 0.9, 0.1, 1.2, 0.6, 1.1, 0.0, 1.8, 2.3, 0.9, 0.7, 0.2, 0.3, 1.4, 0.1, 0.6, 2.3, 0.0, 0.4, 0.1, 0.4, 0.3, 0.2, 0.2, 0.2, 1.1, 0.1, 0.5, 0.2, 0.0, 0.2, 0.6, 0.0, 0.2, 0.6, 1.0, 0.2, 0.5, 0.0, 0.2, 1.1, 0.2, 0.4, 0.4, 2.5, 0.9, 0.1, 0.4, 0.3, 1.1, 1.2, 0.6, 1.6, 0.8, 0.4, 0.3, 1.3, 2.8, 0.2, 0.2, 0.1, 1.4, 0.9, 0.5, 0.0, 2.2, 0.8, 1.0, 1.1, 0.9, 2.3, 0.8, 0.8, 0.7, 1.3, 0.1, 1.8, 0.6, 0.2, 0.0, 0.0, 0.9, 1.0, 0.6, 0.1, 0.4, 1.1, 1.4, 0.4, 0.7, 0.6, 0.2, 1.3, 0.0, 0.0, 0.0, 0.2, 0.4, 1.0, 1.5, 0.2, 0.2, 0.6, 0.7, 0.6, 0.0, 0.7, 0.7, 1.1, 0.4, 1.3, 0.2, 1.4, 1.3, 0.0, 0.7, 0.0, 0.5, 0.3, 1.3, 0.4, 0.9, 0.3, 1.2, 1.1, 0.3, 0.5, 3.1, 0.1, 0.0, 0.0, 0.1, 0.0, 0.0, 0.0, 0.1, 0.1, 0.1, 0.3, 0.2, 0.0, 0.1, 1.9, 1.8, 0.1, 0.1, 0.4, 0.8, 1.5, 0.2, 0.5, 0.0, 0.2, 1.4, 0.2, 0.6, 2.2, 0.7, 0.4, 1.4, 0.6, 4.1, 2.7, 4.3, 0.3, 0.3, 1.5, 0.3, 2.2, 0.3, 0.0, 0.0, 0.4, 0.2, 0.2, 1.5, 0.2, 1.8, 0.4, 0.9, 0.0, 0.7, 0.5, 0.4, 0.5, 2.5, 4.3, 2.9, 2.4, 0.0, 0.4, 0.2, 0.4, 0.4, 1.1, 0.2, 1.6, 0.0, 0.4, 0.0, 0.0, 0.1, 0.0, 0.1, 0.1, 0.1, 0.1, 0.0, 0.0, 0.4, 0.1, 0.2, 1.0, 0.9, 0.0, 0.0, 0.3, 0.8, 1.0, 0.0, 0.0, 0.1, 0.1, 0.6, 0.2, 0.0, 0.5, 1.8, 0.7, 0.2, 0.0, 0.5, 0.1, 1.0, 0.2, 1.8, 0.2, 0.3, 0.0, 1.5, 1.4, 0.6, 0.5, 2.1, 1.6, 1.7, 0.3, 0.3, 2.0, 0.5, 0.5, 1.9, 2.2, 0.2, 0.9, 0.2, 0.1, 0.0, 0.0, 0.3, 0.4, 2.0, 1.0, 0.3, 0.8, 0.2, 0.1, 2.2, 1.4, 1.1, 2.2, 0.4, 1.1, 0.2, 0.4, 0.0, 0.8, 1.1, 0.0, 0.0, 0.0, 0.1, 0.0, 0.6, 1.5, 2.2, 1.0, 1.4, 0.1, 0.5, 0.2, 0.0, 0.9, 0.4, 0.3, 0.0, 1.9, 0.0, 0.0, 0.2, 0.4, 2.3, 0.4, 0.7, 0.7, 0.3, 0.0, 0.2, 0.1, 0.2, 1.3, 0.2, 1.9, 0.4, 0.1, 0.2, 1.0, 1.3, 0.6, 0.0, 0.9, 3.6, 0.4, 2.9, 0.3, 1.6, 0.3, 0.9, 2.0, 7.5, 0.2, 0.4, 0.9, 1.1, 2.6, 0.4, 0.7, 0.7, 2.6, 2.2, 1.1, 0.2, 0.1, 1.0, 0.9, 0.2, 0.2, 1.5, 0.5, 1.3, 0.0, 0.2, 0.1, 4.0, 1.8, 0.0, 0.9, 1.4, 1.4, 0.0, 0.2, 2.3, 4.7, 0.4, 1.6, 3.3, 4.7, 2.5, 1.5, 1.0, 0.3, 0.7, 0.7, 1.7, 1.8, 0.3, 0.5, 1.1, 1.3, 1.5, 3.2, 4.6, 1.3, 3.9, 4.7, 1.0, 2.4, 0.9, 3.5, 0.6, 0.2, 0.7, 0.2, 0.3, 1.6, 0.8, 2.2, 0.0, 0.2, 1.1, 6.3, 0.4, 0.2, 0.6, 6.2, 1.6, 0.5, 0.8, 0.0, 0.0, 0.4, 2.3, 1.5, 3.7, 2.7, 0.0, 0.3, 0.5, 1.5, 0.1, 0.2, 1.5, 4.4, 0.0, 2.8, 0.1, 1.8, 0.4, 1.6, 0.4, 2.0, 0.0, 2.3, 0.4, 0.2, 0.3, 0.2, 0.7, 1.4, 0.0, 1.3, 5.6, 0.5, 2.2, 1.9, 3.0, 0.1, 0.1, 0.6, 0.0, 0.0, 0.2, 0.3, 1.2, 1.4, 2.6, 1.8, 0.8, 2.6, 1.5, 0.8, 2.6, 1.3, 0.2, 0.2, 0.2, 0.3, 0.5, 0.1, 0.9, 0.0, 0.7, 2.2, 2.4, 0.6, 0.4, 1.4, 0.0, 0.8, 5.0, 2.2, 2.3, 7.5, 2.2, 1.5, 0.5])"
   ]
  },
  {
   "cell_type": "code",
   "execution_count": 57,
   "metadata": {},
   "outputs": [
    {
     "name": "stdout",
     "output_type": "stream",
     "text": [
      "1980 through 2009\n",
      "mean time gap: 204.62 days\n",
      "95% conf int: [140.62, 276.58] days\n",
      "\n",
      "2010 through mid-2017\n",
      "mean time gap: 1.12 days\n",
      "95% conf int: [0.97, 1.29] days\n"
     ]
    }
   ],
   "source": [
    "# Compute mean interearthquake time\n",
    "mean_dt_pre = np.mean(dt_pre)\n",
    "mean_dt_post = np.mean(dt_post)\n",
    "\n",
    "# Draw 10,000 bootstrap replicates of the mean\n",
    "bs_reps_pre = dcst.draw_bs_reps(dt_pre, np.mean, size = 10000)\n",
    "bs_reps_post = dcst.draw_bs_reps(dt_post, np.mean, size = 10000)\n",
    "\n",
    "# Compute the confidence interval\n",
    "conf_int_pre = np.percentile(bs_reps_pre, [2.5, 97.5])\n",
    "conf_int_post = np.percentile(bs_reps_post, [2.5, 97.5])\n",
    "# Print the results\n",
    "print(\"\"\"1980 through 2009\n",
    "mean time gap: {0:.2f} days\n",
    "95% conf int: [{1:.2f}, {2:.2f}] days\"\"\".format(mean_dt_pre, *conf_int_pre))\n",
    "\n",
    "print(\"\"\"\n",
    "2010 through mid-2017\n",
    "mean time gap: {0:.2f} days\n",
    "95% conf int: [{1:.2f}, {2:.2f}] days\"\"\".format(mean_dt_post, *conf_int_post))\n"
   ]
  },
  {
   "cell_type": "markdown",
   "metadata": {},
   "source": [
    "### Hypothesis test: did earthquake frequency change?"
   ]
  },
  {
   "cell_type": "code",
   "execution_count": 58,
   "metadata": {},
   "outputs": [
    {
     "name": "stdout",
     "output_type": "stream",
     "text": [
      "p = 0.0\n"
     ]
    }
   ],
   "source": [
    "# Compute the observed test statistic\n",
    "mean_dt_diff = mean_dt_pre - mean_dt_post\n",
    "\n",
    "# Shift the post-2010 data to have the same mean as the pre-2010 data\n",
    "dt_post_shift = dt_post - mean_dt_post + mean_dt_pre\n",
    "\n",
    "# Compute 10,000 bootstrap replicates from arrays\n",
    "bs_reps_pre = dcst.draw_bs_reps(dt_pre, np.mean, size = 10000)\n",
    "bs_reps_post = dcst.draw_bs_reps(dt_post_shift, np.mean, size = 10000)\n",
    "\n",
    "# Get replicates of difference of means\n",
    "bs_reps = bs_reps_pre - bs_reps_post\n",
    "\n",
    "# Compute and print the p-value\n",
    "p_val =np.mean(bs_reps >= mean_dt_diff) / 10000\n",
    "print('p =', p_val)"
   ]
  },
  {
   "cell_type": "markdown",
   "metadata": {},
   "source": [
    "### EDA: Comparing magnitudes before and after 2010"
   ]
  },
  {
   "cell_type": "code",
   "execution_count": 59,
   "metadata": {},
   "outputs": [
    {
     "data": {
      "image/png": "[encoded data removed]",
      "text/plain": [
       "<Figure size 432x288 with 1 Axes>"
      ]
     },
     "metadata": {
      "needs_background": "light"
     },
     "output_type": "display_data"
    }
   ],
   "source": [
    "# Get magnitudes before and after 2010\n",
    "mags_pre = mags[time.dt.year < 2010]\n",
    "mags_post = mags[time.dt.year >= 2010]\n",
    "\n",
    "# Generate ECDFs\n",
    "_ = plt.plot(*dcst.ecdf(mags_pre), marker = '.', linestyle = 'none')\n",
    "_ = plt.plot(*dcst.ecdf(mags_post), marker = '.', linestyle = 'none')\n",
    "\n",
    "# Label axes and show plot\n",
    "_ = plt.xlabel('magnitude')\n",
    "_ = plt.ylabel('ECDF')\n",
    "plt.legend(('1980 though 2009', '2010 through mid-2017'), loc='upper left')\n",
    "plt.show()\n"
   ]
  },
  {
   "cell_type": "markdown",
   "metadata": {},
   "source": [
    "### Quantification of the b-values"
   ]
  },
  {
   "cell_type": "code",
   "execution_count": 60,
   "metadata": {},
   "outputs": [
    {
     "name": "stdout",
     "output_type": "stream",
     "text": [
      "\n",
      "1980 through 2009\n",
      "b-value: 0.75\n",
      "95% conf int: [0.56, 0.95]\n",
      "\n",
      "2010 through mid-2017\n",
      "b-value: 0.62\n",
      "95% conf int: [0.60, 0.65]\n",
      "\n"
     ]
    }
   ],
   "source": [
    "mt = 3\n",
    "# Compute b-value and confidence interval for pre-2010\n",
    "b_pre, conf_int_pre = b_value(mags_pre, mt, perc=[2.5, 97.5], n_reps=10000)\n",
    "# Compute b-value and confidence interval for post-2010\n",
    "b_post, conf_int_post = b_value(mags_post, mt, perc=[2.5, 97.5], n_reps=10000)\n",
    "# Report the results\n",
    "print(\"\"\"\n",
    "1980 through 2009\n",
    "b-value: {0:.2f}\n",
    "95% conf int: [{1:.2f}, {2:.2f}]\n",
    "\n",
    "2010 through mid-2017\n",
    "b-value: {3:.2f}\n",
    "95% conf int: [{4:.2f}, {5:.2f}]\n",
    "\"\"\".format(b_pre, *conf_int_pre, b_post, *conf_int_post))"
   ]
  },
  {
   "cell_type": "markdown",
   "metadata": {},
   "source": [
    "### Hypothesis test: are the b-values different?"
   ]
  },
  {
   "cell_type": "code",
   "execution_count": 61,
   "metadata": {},
   "outputs": [
    {
     "name": "stdout",
     "output_type": "stream",
     "text": [
      "p = 0.0882\n"
     ]
    }
   ],
   "source": [
    "mt = 3\n",
    "# Only magnitudes above completeness threshold\n",
    "mags_pre = mags_pre[mags_pre >= mt]\n",
    "mags_post = mags_post[mags_post >= mt]\n",
    "\n",
    "# Observed difference in mean magnitudes: diff_obs\n",
    "diff_obs = np.mean(mags_post) - np.mean(mags_pre)\n",
    "\n",
    "# Generate permutation replicates: perm_reps\n",
    "perm_reps = dcst.draw_perm_reps(mags_post, mags_pre, dcst.diff_of_means, size = 10000)\n",
    "\n",
    "# Compute and print p-value\n",
    "p_val = np.sum(perm_reps < diff_obs) / 10000\n",
    "print('p =', p_val)"
   ]
  },
  {
   "cell_type": "code",
   "execution_count": null,
   "metadata": {},
   "outputs": [],
   "source": []
  }
 ],
 "metadata": {
  "kernelspec": {
   "display_name": "Python 3 (ipykernel)",
   "language": "python",
   "name": "python3"
  },
  "language_info": {
   "codemirror_mode": {
    "name": "ipython",
    "version": 3
   },
   "file_extension": ".py",
   "mimetype": "text/x-python",
   "name": "python",
   "nbconvert_exporter": "python",
   "pygments_lexer": "ipython3",
   "version": "3.9.5"
  }
 },
 "nbformat": 4,
 "nbformat_minor": 4
}
