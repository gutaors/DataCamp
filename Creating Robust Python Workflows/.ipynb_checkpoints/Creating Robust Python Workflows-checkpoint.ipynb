{
 "cells": [
  {
   "cell_type": "code",
   "execution_count": 1,
   "metadata": {},
   "outputs": [],
   "source": [
    "### MODULE 1\n",
    "\n",
    "### Python Programming Principles"
   ]
  },
  {
   "cell_type": "raw",
   "metadata": {},
   "source": [
    "In this chapter, we will discuss three principles that guide decisions made by Python programmers. You will put these principles into practice in the coding exercises and throughout the rest of the course!"
   ]
  },
  {
   "cell_type": "code",
   "execution_count": 3,
   "metadata": {},
   "outputs": [
    {
     "ename": "ModuleNotFoundError",
     "evalue": "No module named 'Path'",
     "output_type": "error",
     "traceback": [
      "\u001b[0;31m---------------------------------------------------------------------------\u001b[0m",
      "\u001b[0;31mModuleNotFoundError\u001b[0m                       Traceback (most recent call last)",
      "\u001b[0;32m<ipython-input-3-7c0e03191b40>\u001b[0m in \u001b[0;36m<module>\u001b[0;34m\u001b[0m\n\u001b[1;32m      1\u001b[0m \u001b[0;31m### Functions and iteration\u001b[0m\u001b[0;34m\u001b[0m\u001b[0;34m\u001b[0m\u001b[0;34m\u001b[0m\u001b[0m\n\u001b[0;32m----> 2\u001b[0;31m \u001b[0;32mimport\u001b[0m \u001b[0mPath\u001b[0m\u001b[0;34m\u001b[0m\u001b[0;34m\u001b[0m\u001b[0m\n\u001b[0m\u001b[1;32m      3\u001b[0m \u001b[0;32mdef\u001b[0m \u001b[0mprint_files\u001b[0m\u001b[0;34m(\u001b[0m\u001b[0mfilenames\u001b[0m\u001b[0;34m)\u001b[0m\u001b[0;34m:\u001b[0m\u001b[0;34m\u001b[0m\u001b[0;34m\u001b[0m\u001b[0m\n\u001b[1;32m      4\u001b[0m     \u001b[0;31m# Set up the loop iteration instructions\u001b[0m\u001b[0;34m\u001b[0m\u001b[0;34m\u001b[0m\u001b[0;34m\u001b[0m\u001b[0m\n\u001b[1;32m      5\u001b[0m     \u001b[0;32mfor\u001b[0m \u001b[0mname\u001b[0m \u001b[0;32min\u001b[0m \u001b[0mfilenames\u001b[0m\u001b[0;34m:\u001b[0m\u001b[0;34m\u001b[0m\u001b[0;34m\u001b[0m\u001b[0m\n",
      "\u001b[0;31mModuleNotFoundError\u001b[0m: No module named 'Path'"
     ]
    }
   ],
   "source": [
    "### Functions and iteration\n",
    "\n",
    "def print_files(filenames):\n",
    "    # Set up the loop iteration instructions\n",
    "    for name in filenames:\n",
    "        # Use pathlib.Path to print out each file\n",
    "        print(Path(name).read_text())\n",
    "        \n",
    "def list_files(filenames):\n",
    "    # Use pathlib.Path to read the contents of each file\n",
    "    return [Path(name).read_text()\n",
    "            # Obtain each name from the list of filenames\n",
    "            for name in filenames]\n",
    "\n",
    "filenames = 'diabetes.txt', 'boston.txt', 'digits.txt', 'iris.txt', 'wine.txt'\n",
    "print_files(filenames)\n",
    "file_contents = list_files(filenames)"
   ]
  },
  {
   "cell_type": "code",
   "execution_count": null,
   "metadata": {},
   "outputs": [],
   "source": []
  },
  {
   "cell_type": "code",
   "execution_count": null,
   "metadata": {},
   "outputs": [],
   "source": [
    "### Find matches\n",
    "\n",
    "def get_matches(filename, query):\n",
    "    # Obtain lines from the input file\n",
    "    return [line for line in Path(filename).open()\n",
    "            # Filter the list comprehension\n",
    "            if query in line]\n",
    "\n",
    "# Iterate over files to find all matching lines\n",
    "matches = [get_matches(name, 'Number of') for name in filenames]\n",
    "print(matches)"
   ]
  },
  {
   "cell_type": "code",
   "execution_count": null,
   "metadata": {},
   "outputs": [],
   "source": []
  },
  {
   "cell_type": "code",
   "execution_count": null,
   "metadata": {},
   "outputs": [],
   "source": [
    "### Dataset dimensions\n",
    "\n",
    "def flatten(nested_list):\n",
    "    return (element \n",
    "            # Obtain each list from the list of lists\n",
    "            for sublist in nested_list\n",
    "            # Obtain each string from every list\n",
    "            for element in sublist)\n",
    "\n",
    "number_generator = (int(substring) for string in flatten(matches)\n",
    "                    for substring in string.split() if substring.isdigit())\n",
    "print(dict(zip(filenames, zip(number_generator, number_generator))))"
   ]
  },
  {
   "cell_type": "code",
   "execution_count": null,
   "metadata": {},
   "outputs": [],
   "source": []
  },
  {
   "cell_type": "code",
   "execution_count": null,
   "metadata": {},
   "outputs": [],
   "source": [
    "### Extract words\n",
    "\n",
    "def obtain_words(string):\n",
    "    # Replace non-alphabetic characters with spaces\n",
    "    return ''.join(char if char.isalpha() else ' ' for char in string).split()\n",
    "\n",
    "def filter_words(words, minimum_length=3):\n",
    "    # Remove words shorter than 3 characters\n",
    "    return [word for word in words if len(word) >= minimum_length]\n",
    "\n",
    "# Use a string method to convert the text to lowercase\n",
    "words = obtain_words(Path('diabetes.txt').read_text().lower())\n",
    "filtered_words = filter_words(words)\n",
    "\n",
    "print(filtered_words)"
   ]
  },
  {
   "cell_type": "code",
   "execution_count": null,
   "metadata": {},
   "outputs": [],
   "source": []
  },
  {
   "cell_type": "code",
   "execution_count": null,
   "metadata": {},
   "outputs": [],
   "source": [
    "### Most frequent words\n",
    "\n",
    "def count_words(word_list):\n",
    "    # Count the words in the input list\n",
    "    return {word: word_list.count(word) for word in word_list}\n",
    "\n",
    "# Create the dictionary of words and word counts\n",
    "word_count_dictionary = count_words(filtered_words)\n",
    "\n",
    "(pd.DataFrame(word_count_dictionary.items())\n",
    " .sort_values(by=1, ascending=False)\n",
    " .head()\n",
    " .plot(x=0, kind='barh', xticks=range(5), legend=False)\n",
    " .set_ylabel(\"\")\n",
    ")\n",
    "plt.show()"
   ]
  },
  {
   "cell_type": "code",
   "execution_count": null,
   "metadata": {},
   "outputs": [],
   "source": []
  },
  {
   "cell_type": "code",
   "execution_count": null,
   "metadata": {},
   "outputs": [],
   "source": [
    "### Instance method\n",
    "\n",
    "# Fill in the first parameter in the pair_plot() definition\n",
    "def pair_plot(self, vars=range(3), hue=None):\n",
    "    return pairplot(pd.DataFrame(self.data), \n",
    "                    vars=vars, \n",
    "                    hue=hue, \n",
    "                    kind='reg')\n",
    "\n",
    "ScikitData.pair_plot = pair_plot\n",
    "\n",
    "# Create the diabetes instance of the ScikitData class\n",
    "diabetes = ScikitData('diabetes')\n",
    "\n",
    "# Call pairplot() to plot diabetes dataset variables\n",
    "diabetes.pair_plot(vars=range(2, 6), hue=1)._legend.remove()\n",
    "plt.show()"
   ]
  },
  {
   "cell_type": "code",
   "execution_count": null,
   "metadata": {},
   "outputs": [],
   "source": []
  },
  {
   "cell_type": "code",
   "execution_count": null,
   "metadata": {},
   "outputs": [],
   "source": [
    "### Class method\n",
    "\n",
    "# Fill in the decorator for the get_generator() definition\n",
    "@classmethod\n",
    "# Add the first parameter to the get_generator() definition\n",
    "def get_generator(cls, names):\n",
    "    return (cls(x) for x in names)\n",
    "\n",
    "ScikitData.get_generator = get_generator\n",
    "\n",
    "# Create a generator for the diabetes and iris datasets\n",
    "dataset_generator = ScikitData.get_generator(['diabetes', 'iris'])\n",
    "\n",
    "# Iterate over each dataset in the dataset generator\n",
    "for dataset in dataset_generator:\n",
    "    dataset.pair_plot()\n",
    "    plt.show()"
   ]
  },
  {
   "cell_type": "code",
   "execution_count": null,
   "metadata": {},
   "outputs": [],
   "source": []
  },
  {
   "cell_type": "code",
   "execution_count": null,
   "metadata": {},
   "outputs": [],
   "source": [
    "### MODULE 2 \n",
    "\n",
    "### Documentation and Tests"
   ]
  },
  {
   "cell_type": "raw",
   "metadata": {},
   "source": [
    "Documentation and tests are often overlooked, despite being essential to the success of all projects. In this chapter, you will learn how to include documentation in our code and practice Test-Driven Development (TDD), a process that puts tests first!"
   ]
  },
  {
   "cell_type": "code",
   "execution_count": null,
   "metadata": {},
   "outputs": [],
   "source": []
  },
  {
   "cell_type": "code",
   "execution_count": null,
   "metadata": {},
   "outputs": [],
   "source": [
    "### TextFile hints\n",
    "\n",
    "class TextFile:\n",
    "  \t# Add type hints to TextFile's __init__() method\n",
    "    def __init__(self, name: str) -> None:\n",
    "        self.lines = read_file(name).split('\\n')\n",
    "\n",
    "\t# Add type hints to TextFile's get_list() method\n",
    "    def get_lines(self) -> List[str]:\n",
    "        return self.lines\n",
    "\n",
    "help(TextFile)"
   ]
  },
  {
   "cell_type": "code",
   "execution_count": null,
   "metadata": {},
   "outputs": [],
   "source": []
  },
  {
   "cell_type": "code",
   "execution_count": null,
   "metadata": {},
   "outputs": [],
   "source": [
    "### MatchFinder hints\n",
    "\n",
    "class MatchFinder:\n",
    "  \t# Add type hints to the __init__()'s strings argument\n",
    "    def __init__(self, strings: List[str]) -> None:\n",
    "        self.strings = strings\n",
    "\n",
    "\t# Type annotate the query argument and return value\n",
    "    def get_matches(self, query: Optional[str] = None) -> List[str]:\n",
    "        return list(filter(lambda x: match in x, self.strings) if match else self.strings)\n",
    "\n",
    "help(MatchFinder)"
   ]
  },
  {
   "cell_type": "code",
   "execution_count": null,
   "metadata": {},
   "outputs": [],
   "source": []
  },
  {
   "cell_type": "code",
   "execution_count": null,
   "metadata": {},
   "outputs": [],
   "source": []
  },
  {
   "cell_type": "code",
   "execution_count": null,
   "metadata": {},
   "outputs": [],
   "source": []
  },
  {
   "cell_type": "code",
   "execution_count": null,
   "metadata": {},
   "outputs": [],
   "source": []
  },
  {
   "cell_type": "code",
   "execution_count": null,
   "metadata": {},
   "outputs": [],
   "source": []
  },
  {
   "cell_type": "code",
   "execution_count": null,
   "metadata": {},
   "outputs": [],
   "source": []
  },
  {
   "cell_type": "code",
   "execution_count": null,
   "metadata": {},
   "outputs": [],
   "source": []
  },
  {
   "cell_type": "code",
   "execution_count": null,
   "metadata": {},
   "outputs": [],
   "source": []
  }
 ],
 "metadata": {
  "jupytext": {
   "formats": "ipynb,auto:light"
  },
  "kernelspec": {
   "display_name": "Python 3 (ipykernel)",
   "language": "python",
   "name": "python3"
  },
  "language_info": {
   "codemirror_mode": {
    "name": "ipython",
    "version": 3
   },
   "file_extension": ".py",
   "mimetype": "text/x-python",
   "name": "python",
   "nbconvert_exporter": "python",
   "pygments_lexer": "ipython3",
   "version": "3.9.7"
  }
 },
 "nbformat": 4,
 "nbformat_minor": 4
}
