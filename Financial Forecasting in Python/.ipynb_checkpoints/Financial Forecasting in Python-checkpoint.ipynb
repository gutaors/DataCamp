{
 "cells": [
  {
   "cell_type": "code",
   "execution_count": null,
   "metadata": {},
   "outputs": [],
   "source": [
    "# Calculating gross profit \n",
    "\n",
    "# Set the sales variable and cost of goods sold (cogs) variables\n",
    "sales = 8000\n",
    "cogs = 5400\n",
    "\n",
    "# Calculate the gross profit (gross_profit)\n",
    "gross_profit = sales - cogs\n",
    "\n",
    "# Print the gross profit\n",
    "print(\"The gross profit is {}.\".format(gross_profit))\n",
    "\n",
    "# Calculate the gross profit margin\n",
    "gross_profit_margin = gross_profit / sales\n",
    "\n",
    "# Print the gross profit margin\n",
    "print(\"The gross profit margin is {}.\".format(gross_profit_margin))\n",
    "\n",
    "<script.py> output:\n",
    "    The gross profit is 2600.\n",
    "    The gross profit margin is 0.325."
   ]
  },
  {
   "cell_type": "code",
   "execution_count": null,
   "metadata": {},
   "outputs": [],
   "source": [
    "## Calculating net profit\n",
    "\n",
    "# Create and print the opex list\n",
    "opex = [admin, travel, training, marketing, insurance]\n",
    "print(opex)\n",
    "\n",
    "# Calculate and print net profit\n",
    "net_profit = gross_profit - sum(opex) \n",
    "print(\"The net profit is {}.\".format(net_profit))"
   ]
  },
  {
   "cell_type": "code",
   "execution_count": null,
   "metadata": {},
   "outputs": [],
   "source": [
    "## Calculating sales\n",
    "\n",
    "# Set variables units sold and sales price of the T-shirts (basic and extensive)\n",
    "salesprice_basic = 15\n",
    "salesprice_custom = 25\n",
    "\n",
    "# Calculate the combined sales price taking into account the sales mix\n",
    "average_sales_price = (salesprice_basic*0.6) + (salesprice_custom*0.4)\n",
    "\n",
    "# Calculate the total sales for next month\n",
    "sales_USD = average_sales_price * forecast_units\n",
    "\n",
    "# Print the total sales\n",
    "print(\"Next month's forcast sales figure is {} USD.\".format(sales_USD))"
   ]
  },
  {
   "cell_type": "code",
   "execution_count": null,
   "metadata": {},
   "outputs": [],
   "source": []
  },
  {
   "cell_type": "code",
   "execution_count": null,
   "metadata": {},
   "outputs": [],
   "source": [
    "# Forecasting sales with a discount\n",
    "\n",
    "# Forecast the sales of January\n",
    "sales_january = sales_price * units_january\n",
    "\n",
    "# Forecast the discounted price\n",
    "dsales_price = sales_price * 0.6\n",
    "\n",
    "# Forecast the sales of February\n",
    "sales_february = (sales_price * units_february * 0.55) + (dsales_price * units_february * 0.45)\n",
    "\n",
    "# Print the forecast sales for January and February\n",
    "print(\"The forecast sales for January and February are {} and {} USD respectively.\".format(sales_january, sales_february))"
   ]
  },
  {
   "cell_type": "code",
   "execution_count": null,
   "metadata": {},
   "outputs": [],
   "source": []
  },
  {
   "cell_type": "code",
   "execution_count": null,
   "metadata": {},
   "outputs": [],
   "source": [
    "## Calculating the break-even point\n",
    "\n",
    "# Calculate the cogs for January and February\n",
    "cogs_jan = (units_jan * mat_costs) + mach_rental\n",
    "cogs_feb = (units_feb * mat_costs) + mach_rental\n",
    "\n",
    "# Calculate the unit cost for January and February\n",
    "unit_cost_jan = cogs_jan / units_jan\n",
    "unit_cost_feb = cogs_feb / units_feb\n",
    "\n",
    "# Print the January and February cost per unit\n",
    "print(\"The cost per unit for January and February are {} and {} USD respectively.\".format(unit_cost_jan, unit_cost_feb))"
   ]
  },
  {
   "cell_type": "code",
   "execution_count": null,
   "metadata": {},
   "outputs": [],
   "source": []
  },
  {
   "cell_type": "code",
   "execution_count": null,
   "metadata": {},
   "outputs": [],
   "source": [
    "## Tesla income statement\n",
    "\n",
    "# Create the filter\n",
    "flter = ['Revenue', 'Gross profit', 'Total operating expenses', 'Net income']\n",
    "\n",
    "# Iterate over the rows and headers in the dataset\n",
    "for row, header in income_statement.iterrows():\n",
    "    description = row[0]\n",
    "    \n",
    "    # Create an if statement to convert values to floating values\n",
    "    if description in flter:\n",
    "        values = list(float(x) for x in row[1:len(row)])\n",
    "        # Create rows by including description and float values, append rows to result\n",
    "        row = [description] + values\n",
    "        result.append(row)\n",
    "\n",
    "print(result)"
   ]
  },
  {
   "cell_type": "code",
   "execution_count": null,
   "metadata": {},
   "outputs": [],
   "source": []
  },
  {
   "cell_type": "code",
   "execution_count": null,
   "metadata": {},
   "outputs": [],
   "source": [
    "## Forecasting profit for Tesla\n",
    "\n",
    "# Create the for loop\n",
    "for row, header in income_statement.iterrows():\n",
    "    description = row[0]\n",
    "    ttm = header[0]\n",
    "    if description in flter:\n",
    "        ttmvalue = float(ttm)\n",
    "        values = list(float(x) for x in row[1:len(row)])\n",
    "        # Create an if statement to calculate the 2018 forecast and add a new row with the new values\n",
    "        if description == flter[0]:\n",
    "            newval = ttmvalue * 1.1\n",
    "            row = [description] + values + [ttmvalue] + [newval]\n",
    "            result.append(row)\n",
    "            print(result)"
   ]
  },
  {
   "cell_type": "code",
   "execution_count": null,
   "metadata": {},
   "outputs": [],
   "source": []
  },
  {
   "cell_type": "code",
   "execution_count": null,
   "metadata": {},
   "outputs": [],
   "source": [
    "## Modulo 2"
   ]
  },
  {
   "cell_type": "code",
   "execution_count": null,
   "metadata": {},
   "outputs": [],
   "source": [
    "# Create the list for sales, and empty lists for debtors and credits\n",
    "sales = [500, 350, 700]\n",
    "credits = [] \n",
    "debtors = []\n",
    "\n",
    "# Create the statement to append the calculated figures to the debtors and credits lists\n",
    "for mvalue in sales: \n",
    "    credits.append(mvalue * 0.6)\n",
    "    if month > 0:\n",
    "        debtors.append(credits[month] + credits[month-1])\n",
    "    else:\n",
    "        debtors.append(credits[month-1]) \n",
    "    month += 1\n",
    "# Print the result\n",
    "print(\"The ‘Debtors’ are {}.\".format(debtors))\n",
    "\n",
    "# Well done! We have covered the accounts receivable, \n",
    "# or debtors asset, but there is \n",
    "# more to know about this account. "
   ]
  },
  {
   "cell_type": "raw",
   "metadata": {},
   "source": [
    "Bad debts\n",
    "When offering credit terms to customers, there is always a risk that the customer does not pay their debt. In the finance world, this is known as \"bad debts\".\n",
    "\n",
    "As we have already recorded sales, we need to record the loss of sales now, as we never received the payment.\n",
    "\n",
    "This affects both the income statement and the balance sheet. In the income statement, we record a negative value in the sales for the month we write off the debt. In the balance sheet, we need to reduce our debtor’s asset."
   ]
  },
  {
   "cell_type": "code",
   "execution_count": null,
   "metadata": {},
   "outputs": [],
   "source": [
    "# Calculate the bad debts for February\n",
    "bad_debts_feb = 500 * .3\n",
    "\n",
    "# Calculate the feb debtors amount\n",
    "debtors_feb = (debtors_jan - bad_debts_feb)\n",
    "\n",
    "# Print the debtors for January and the bad debts and the debtors for February\n",
    "print(\"The debtors are {} in January, {} in February. February's bad debts are {} USD.\"\n",
    "      .format(debtors_jan, debtors_feb, bad_debts_feb))"
   ]
  },
  {
   "cell_type": "code",
   "execution_count": null,
   "metadata": {},
   "outputs": [],
   "source": []
  },
  {
   "cell_type": "code",
   "execution_count": null,
   "metadata": {},
   "outputs": [],
   "source": [
    "## Calculating accounts payable (creditors)\n",
    "\n",
    "# Set the cost per unit\n",
    "unit_cost = 0.25\n",
    "\n",
    "# Create the list for production units and empty list for creditors\n",
    "production = [1000,1200]\n",
    "creditors = []\n",
    "\n",
    "# Calculate the accounts payable for January and February\n",
    "for mvalue in production: \n",
    "    creditors.append(mvalue * unit_cost * 0.5)\n",
    "    \n",
    "# Print the creditors balance for January and February\n",
    "print(\"The creditors balance for January and February are {} and {} USD.\"\n",
    "      .format(creditors[0], creditors[1]))"
   ]
  },
  {
   "cell_type": "code",
   "execution_count": null,
   "metadata": {},
   "outputs": [],
   "source": [
    "## Debtor days ratio\n",
    "\n",
    "# Create the variables\n",
    "debtors_end = 650\n",
    "sales_tot = 12500\n",
    "\n",
    "# Calculate the debtor days variable\n",
    "ddays_ratio = (debtors_end/sales_tot) * 365\n",
    "\n",
    "# Print the result\n",
    "print(\"The debtor days ratio is {}.\".format(ddays_ratio))"
   ]
  },
  {
   "cell_type": "code",
   "execution_count": null,
   "metadata": {},
   "outputs": [],
   "source": []
  },
  {
   "cell_type": "code",
   "execution_count": null,
   "metadata": {},
   "outputs": [],
   "source": [
    "# Get the variables\n",
    "cogs_tot = 4000\n",
    "creditors_end = 650\n",
    "\n",
    "# Calculate the days payable outstanding\n",
    "dpo = (creditors_end/cogs_tot)*365\n",
    "\n",
    "# Print the days payable outstanding\n",
    "print(\"The days payable outstanding is {}.\".format(dpo))"
   ]
  },
  {
   "cell_type": "code",
   "execution_count": null,
   "metadata": {},
   "outputs": [],
   "source": []
  },
  {
   "cell_type": "code",
   "execution_count": null,
   "metadata": {},
   "outputs": [],
   "source": [
    "## Days in inventory and asset turnover ratio\n",
    "\n",
    "# Calculate the DII Ratio\n",
    "dii_ratio = (av_inv/cogs_tot)*365\n",
    "\n",
    "# Print the result\n",
    "print(\"The DII ratio is {}.\".format(dii_ratio))\n",
    "\n",
    "# Calculate the Average Assets\n",
    "av_assets = (ob_assets + cb_assets)/2\n",
    "\n",
    "# Calculate the Asset Turnover Ratio\n",
    "at_ratio = sales_tot / av_assets\n",
    "\n",
    "# Print the Asset Turnover Ratio\n",
    "print(\"The asset turnover ratio is {}.\".format(at_ratio))"
   ]
  },
  {
   "cell_type": "code",
   "execution_count": null,
   "metadata": {},
   "outputs": [],
   "source": []
  },
  {
   "cell_type": "code",
   "execution_count": null,
   "metadata": {},
   "outputs": [],
   "source": [
    "## Calculating balance sheet ratios for Ford\n",
    "\n",
    "# Set the sales and cogs variables for Ford\n",
    "sales = 156776\n",
    "cogs = 131332\n",
    "\n",
    "# Create a filter for Receivables\n",
    "flter = ['Receivables']\n",
    "\n",
    "# Create a for loop to find the correct header and row\n",
    "for row, header in balance_sheet.iterrows():\n",
    "    description = row[0]\n",
    "    if description in flter:\n",
    "        debtors_end = float(header[0])\n",
    "        break\n",
    "\n",
    "# Calculate the debtor days ratio\n",
    "ddays = (debtors_end/sales) * 365\n",
    "\n",
    "# Print the debtor days ratio\n",
    "print(\"The debtor day ratio is {}. A higher debtors days ratio means it takes longer to collect cash from debtors.\".format(ddays))"
   ]
  },
  {
   "cell_type": "code",
   "execution_count": null,
   "metadata": {},
   "outputs": [],
   "source": []
  },
  {
   "cell_type": "code",
   "execution_count": null,
   "metadata": {},
   "outputs": [],
   "source": [
    "## Forecasting the balance sheet for Ford\n",
    "\n",
    "# Calculate the forecasted sales and solve for the forcasted debtors ending balance \n",
    "f_sales = sales * 1.10\n",
    "f_debtors_end = ddays/365*f_sales\n",
    "\n",
    "print(\"If sales rise by 10% and the debtor days decrease to {} then the forcasted closing balance for debtors will be {}.\".format(ddays, f_debtors_end))\n",
    "\n",
    "# Create the statement to find the correct row and header, set the new value to f_debtors_end, and append the new value to the table:\n",
    "for row, header in balance_sheet.iterrows():\n",
    "    description = row[0]\n",
    "    ttm = header[0]\n",
    "    if description in flter:\n",
    "        ttmvalue = float(ttm)\n",
    "        values = list(float(x) for x in row[1:len(row)])\n",
    "        if description == flter[0]:\n",
    "            row = [description] + values + [ttmvalue] + [f_debtors_end]\n",
    "            result.append(row)\n",
    "            print(row)"
   ]
  },
  {
   "cell_type": "code",
   "execution_count": null,
   "metadata": {},
   "outputs": [],
   "source": []
  },
  {
   "cell_type": "code",
   "execution_count": null,
   "metadata": {},
   "outputs": [],
   "source": [
    "## Converting quarters into months\n",
    "\n",
    "# Create a list for quarters\n",
    "quarters = [700, 650]\n",
    "\n",
    "# Create a for loop to split the quarters into months into the new qrtlist\n",
    "for qrt in quarters:\n",
    " month = qrt / 3\n",
    " qrtlist = [month, month, month]\n",
    " \n",
    "# Print the result\n",
    "print(\"The quarter list per month is {}.\".format(qrtlist))"
   ]
  },
  {
   "cell_type": "code",
   "execution_count": null,
   "metadata": {},
   "outputs": [],
   "source": []
  },
  {
   "cell_type": "code",
   "execution_count": null,
   "metadata": {},
   "outputs": [],
   "source": [
    "## Merging months into quarters\n",
    "\n",
    "# Jan = 100\n",
    "# Feb = 100\n",
    "# Mar = 150\n",
    "# Apr = 250\n",
    "# May = 300\n",
    "# Jun = 10\n",
    "# Jul = 20\n",
    "\n",
    "# Create a months list, as well as an index, and set the qt to 0\n",
    "months = [100, 100, 150, 250, 300, 10, 20]\n",
    "qt = 0\n",
    "idx = 1\n",
    "\n",
    "# Create for loop for qt, print result, and increment the index\n",
    "print(\"The quarter totals are:\")\n",
    "\n",
    "for m in months:\n",
    "    qt = qt + m\n",
    "    if idx % 3 == 0 or idx == len(months):\n",
    "        print(qt)\n",
    "        qt = 0\n",
    "    idx = idx + 1"
   ]
  },
  {
   "cell_type": "code",
   "execution_count": null,
   "metadata": {},
   "outputs": [],
   "source": [
    "# Converting date formats - simple\n",
    "\n",
    "# Sales area A in Europe, and Sales area B in Australia have different date formats.\n",
    "# Sale A: 4000 on 14/02/2018\n",
    "# Sale B: 3000 on 2 March 2018\n",
    "\n",
    "# Import the datetime python library\n",
    "from datetime import datetime\n",
    "\n",
    "# Create a dt_object to convert the first date and print the month result\n",
    "dt_object = datetime.strptime('14/02/2018', '%d/%m/%Y')\n",
    "print(dt_object.month)\n",
    "\n",
    "# Create a dt_object to convert the second date and print the month result\n",
    "dt_object = datetime.strptime('2 March 2018', '%d %B %Y')\n",
    "print(dt_object.month)"
   ]
  },
  {
   "cell_type": "code",
   "execution_count": null,
   "metadata": {},
   "outputs": [],
   "source": [
    "## Converting date formats - explicit\n",
    "\n",
    "# Set the variable for the datetime to convert\n",
    "dt = '14/02/2018'\n",
    "\n",
    "# Create the dictionary for the month values\n",
    "mm = {'01': 'January', '02': 'February', '03': 'March'}\n",
    "\n",
    "# Split the dt string into the different parts\n",
    "day, month, year = dt.split('/')\n",
    "\n",
    "# Print the concatenated date string\n",
    "print(day + ' ' + mm[month] + ' ' + year)"
   ]
  },
  {
   "cell_type": "code",
   "execution_count": null,
   "metadata": {},
   "outputs": [],
   "source": []
  },
  {
   "cell_type": "code",
   "execution_count": null,
   "metadata": {},
   "outputs": [],
   "source": [
    "## Working with datasets - month totals\n",
    "\n",
    "# Set the index to start at 0\n",
    "idx = 0 \n",
    "\n",
    "# Create the dictionary for the months\n",
    "tt = {'Jan': 0, 'Feb': 0, 'Mar': 0}\n",
    "\n",
    "# Create a for loop that will iterate the date and amount values in the dataset\n",
    "for date, amount in df.iteritems():\n",
    "    # Create the if statement to split the day and month, then add it to the new tt variable\n",
    "    if idx > 0: \n",
    "        day, month = date.split('-')\n",
    "        tt[month] +=float(amount[0])\n",
    "    idx += 1\n",
    "\n",
    "print(tt)"
   ]
  },
  {
   "cell_type": "code",
   "execution_count": null,
   "metadata": {},
   "outputs": [],
   "source": []
  },
  {
   "cell_type": "code",
   "execution_count": null,
   "metadata": {},
   "outputs": [],
   "source": [
    "## Working with datasets - combining dataset\n",
    "\n",
    "tt = {'Jan': 0, 'Feb': 0, 'Mar': 0}\n",
    "mm = {'01': 'Jan', '02': 'Feb', '03': 'Mar'}\n",
    "\n",
    "for date, amount in df1.iteritems():\n",
    "    if idx > 0: \n",
    "        day, month, year = date.split('-')\n",
    "        tt[month] +=float(amount[0]) \n",
    "    idx += 1 \n",
    "\n",
    "idx = 0 \n",
    "for date, amount in df2.iteritems():\n",
    "    if idx > 0: \n",
    "        day, month, year = date.split('/')\n",
    "        tt[mm[month]] += float(amount[0])\n",
    "    idx += 1\n",
    "\n",
    "print(tt)\n",
    "\n",
    "# TRansformando o tt em dataframe e exportando para csv\n",
    "rf = pd.DataFrame.from_dict(tt, orient=\"index\") \n",
    "\n",
    "rf.to_csv(\"LocalDrive\\\\Sales.csv\")"
   ]
  },
  {
   "cell_type": "code",
   "execution_count": null,
   "metadata": {},
   "outputs": [],
   "source": []
  },
  {
   "cell_type": "code",
   "execution_count": null,
   "metadata": {},
   "outputs": [],
   "source": [
    "# Weighted probability\n",
    "\n",
    "# Create the combined list for sales and probability\n",
    "sales_probability = ['0|0.5', '200|0.10', '300|0.40', '500|0.2', '800|0.25'] \n",
    "weighted_probability = 0\n",
    "\n",
    "# Create a for loop to calculate the weighted probability\n",
    "for pair in sales_probability:\n",
    "    parts = pair.split('|')\n",
    "    weighted_probability += float(parts[0]) * float(parts[1])\n",
    "\n",
    "# Print the weighted probability result\n",
    "print(\"The weighted probability is {}.\".format(weighted_probability))"
   ]
  },
  {
   "cell_type": "code",
   "execution_count": null,
   "metadata": {},
   "outputs": [],
   "source": []
  },
  {
   "cell_type": "code",
   "execution_count": null,
   "metadata": {},
   "outputs": [],
   "source": [
    "## Market sentiment\n",
    "\n",
    "# Create the computevariance function\n",
    "def computevariance(amount, sentiment):\n",
    " if (sentiment < 0.6):\n",
    "  res = amount + (amount * 0.02)\n",
    " elif (sentiment > 0.8):\n",
    "  res = amount + (amount * 0.07)\n",
    " else:\n",
    "  res = amount + (amount * 0.05)\n",
    " return res\n",
    "\n",
    "# Compute the variance for jan, feb and mar\n",
    "jan = computevariance(500, 0.5)\n",
    "feb = computevariance(500, 0.65)\n",
    "mar = computevariance(500, 0.85)\n",
    "\n",
    "print(\"The forecast sales considering variance due to market\\ \n",
    "      sentiment is {} for Jan, {} for Feb, and {} for Mar.\"\n",
    "      .format(jan, feb, mar))"
   ]
  },
  {
   "cell_type": "code",
   "execution_count": null,
   "metadata": {},
   "outputs": [],
   "source": []
  },
  {
   "cell_type": "code",
   "execution_count": null,
   "metadata": {},
   "outputs": [],
   "source": [
    "## Assigning dependencies for sales and COGS\n",
    "\n",
    "# Set the Sales Dependency\n",
    "if sales >= 350:\n",
    "    sales_dep = (350 * base_sales_price) + ((sales - 350) * (base_sales_price - 1))\n",
    "else:\n",
    "    sales_dep = sales * base_sales_price\n",
    "\n",
    "# Print the results\n",
    "print(\"The sales dependency is {} USD.\".format(sales_dep))\n",
    "\n",
    "\n",
    "# Set the Cost Dependency\n",
    "if sales >= 500:\n",
    "    cost_dep = (500 * base_cost_price) + ((sales - 500) * (base_cost_price + 2))\n",
    "else:\n",
    "    cost_dep = sales * base_cost_price\n",
    "    \n",
    "# Print the results\n",
    "print(\"The cost dependency is {} USD.\".format(cost_dep))"
   ]
  },
  {
   "cell_type": "code",
   "execution_count": null,
   "metadata": {},
   "outputs": [],
   "source": [
    "## Building a sensitivity analysis for gross profit\n",
    "\n",
    "# Create the sales_usd list\n",
    "sales_usd = [700, 350, 650]\n",
    "\n",
    "# Create the if statement to calculate the forecast_gross_profit\n",
    "for sales in sales_usd:\n",
    "    if sales > 350:\n",
    "        sales_dep = (350 * base_sales_price) + ((sales - 350) * (base_sales_price - 1))\n",
    "    else:\n",
    "        sales_dep = sales * base_sales_price\n",
    "        \n",
    "    if sales > 500:\n",
    "        cost_dep = (500 * base_cost_price) + ((sales - 500) * (base_cost_price + 2))\n",
    "    else:\n",
    "        cost_dep = sales * base_cost_price\n",
    "        \n",
    "    forecast_gross_profit = sales_dep - cost_dep\n",
    "\n",
    "    # Print the result\n",
    "    print(\"The gross profit forecast for a sale unit value of {} is {} USD.\".format(sales, forecast_gross_profit))"
   ]
  },
  {
   "cell_type": "code",
   "execution_count": null,
   "metadata": {},
   "outputs": [],
   "source": []
  },
  {
   "cell_type": "code",
   "execution_count": null,
   "metadata": {},
   "outputs": [],
   "source": [
    "## Build a sensitivity analysis for the net profit\n",
    "\n",
    "admin_usd = [1500, 1500, 1500]\n",
    "index = 0\n",
    "\n",
    "print(\"The forecast net profit is:\")\n",
    "for admin in admin_usd:\n",
    "    employee = emp_leave[index]\n",
    "    if employee > 0:\n",
    "        admin_dep = emp_leave[index] * 80 + admin\n",
    "    else: \n",
    "        admin_dep = admin \n",
    "    forecast_net_profit = forecast_gross_profit[index] - admin_dep\n",
    "    print(forecast_net_profit)\n",
    "    index += 1\n",
    "    \n"
   ]
  },
  {
   "cell_type": "code",
   "execution_count": null,
   "metadata": {},
   "outputs": [],
   "source": [
    "## Building an alternate forecast\n",
    "\n",
    "def dependencies(base_cost_price, base_sales_price, sales_usd):\n",
    "    res = []\n",
    "    for sales in sales_usd:\n",
    "        if sales >= 350:\n",
    "            sales_dep = (350 * base_sales_price) + ((sales - 350) * (base_sales_price - 1))\n",
    "        else:\n",
    "            sales_dep = sales * base_sales_price\n",
    "        if sales >= 500:\n",
    "            cost_dep = (500 * base_cost_price) + ((sales - 500) * (base_cost_price + 2))\n",
    "        else:\n",
    "            cost_dep = sales * base_cost_price\n",
    "        res.append(sales_dep - cost_dep)\n",
    "    return res\n",
    "\n",
    "forecast1 = dependencies(7, 15, [700, 350, 650])\n",
    "forecast2 = dependencies(7, 15, [700, 220, 520])\n",
    "\n",
    "print(\"The original forecast scenario is {}:\".format(forecast1))\n",
    "print(\"The alternative forecast scenario is {}:\".format(forecast2))"
   ]
  },
  {
   "cell_type": "code",
   "execution_count": null,
   "metadata": {},
   "outputs": [],
   "source": [
    "## Building a gap analysis between forecasts\n",
    "\n",
    "# Set the two results\n",
    "forecast1 = dependencies(7, 15, [700, 350, 650])\n",
    "forecast2 = dependencies(7, 15, [700, 220, 520])\n",
    "\n",
    "# Create an index and the gap analysis for the forecast\n",
    "index = 0\n",
    "for value in forecast2:\n",
    "    print(\"The gap between forecasts is {}\".format(value - forecast1[index]))\n",
    "    index += 1"
   ]
  },
  {
   "cell_type": "code",
   "execution_count": null,
   "metadata": {},
   "outputs": [],
   "source": []
  },
  {
   "cell_type": "code",
   "execution_count": null,
   "metadata": {},
   "outputs": [],
   "source": [
    "## Setting dependencies for Netflix\n",
    "\n",
    "for header, row in netflix_f_is.iteritems():\n",
    "    year_test = (row[0] == 2019)\n",
    "    if year_test == True:\n",
    "        fc = row[1]\n",
    "        break\n",
    "\n",
    "print(\"The sales forecast is {}.\".format(fc))\n",
    "\n",
    "success = 0.78\n",
    "subscribers = (500*success)*100\n",
    "print(\"The depencency for the subscribers base is {}.\".format(subscribers))\n",
    "\n",
    "sales_subs = fc / subscribers\n",
    "print(\"The ratio between forecast sales and subscribers is {}.\".format(sales_subs))"
   ]
  },
  {
   "cell_type": "code",
   "execution_count": null,
   "metadata": {},
   "outputs": [],
   "source": []
  },
  {
   "cell_type": "code",
   "execution_count": null,
   "metadata": {},
   "outputs": [],
   "source": []
  },
  {
   "cell_type": "code",
   "execution_count": null,
   "metadata": {},
   "outputs": [],
   "source": []
  },
  {
   "cell_type": "code",
   "execution_count": null,
   "metadata": {},
   "outputs": [],
   "source": []
  },
  {
   "cell_type": "code",
   "execution_count": null,
   "metadata": {},
   "outputs": [],
   "source": []
  },
  {
   "cell_type": "code",
   "execution_count": null,
   "metadata": {},
   "outputs": [],
   "source": []
  }
 ],
 "metadata": {
  "kernelspec": {
   "display_name": "Python [default]",
   "language": "python",
   "name": "python3"
  },
  "language_info": {
   "codemirror_mode": {
    "name": "ipython",
    "version": 3
   },
   "file_extension": ".py",
   "mimetype": "text/x-python",
   "name": "python",
   "nbconvert_exporter": "python",
   "pygments_lexer": "ipython3",
   "version": "3.6.8"
  }
 },
 "nbformat": 4,
 "nbformat_minor": 2
}
