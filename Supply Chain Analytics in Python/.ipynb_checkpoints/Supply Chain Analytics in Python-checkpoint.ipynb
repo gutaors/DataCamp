{
 "cells": [
  {
   "cell_type": "raw",
   "metadata": {},
   "source": [
    "In this exercise you are planning the production at a glass manufacturer. \n",
    "\n",
    "This manufacturer only produces wine and beer glasses:\n",
    "\n",
    "- there is a maximum production capacity of 60 hours\n",
    "- each batch of wine and beer glasses takes 6 and 5 hours respectively\n",
    "- the warehouse has a maximum capacity of 150 rack spaces\n",
    "- each batch of the wine and beer glasses takes 10 and 20 spaces respectively\n",
    "- the production equipment can only make full batches, no partial batches\n",
    "\n",
    "Also, we only have orders for 6 batches of wine glasses. Therefore, we do not want to produce more than this. Each batch of the wine glasses earns a profit of $5 and the beer $4.5.\n",
    "\n",
    "The objective is to maximize the profit for the manufacturer.\n",
    "\n",
    "puLP has already been imported for you."
   ]
  },
  {
   "cell_type": "code",
   "execution_count": null,
   "metadata": {},
   "outputs": [],
   "source": [
    "# Initialize Class\n",
    "model = LpProblem(\"Maximize Glass Co. Profits\", LpMaximize)\n",
    "\n",
    "# Define Decision Variables\n",
    "wine = LpVariable('Wine', lowBound=0, upBound=None, cat='Integer')\n",
    "beer = LpVariable('Beer', lowBound=0, upBound=None, cat='Integer')\n",
    "\n",
    "# Define Objective Function\n",
    "model += 5 * wine + 4.5 * beer\n",
    "\n",
    "# Define Constraints\n",
    "model += 6 * wine + 5 * beer <= 60\n",
    "model += 10 * wine + 20 * beer <= 150\n",
    "model += wine <= 6\n",
    "\n",
    "# Solve Model\n",
    "model.solve()\n",
    "print(\"Produce {} batches of wine glasses\".format(wine.varValue))\n",
    "print(\"Produce {} batches of beer glasses\".format(beer.varValue))\n",
    "\n",
    "\n",
    "# Usar o LpMaximize () faz sentido porque estamos tentando maximizar os lucros. \n",
    "# Não faz sentido estabelecer um limite superior para o número de \n",
    "# copos de vinho ou cerveja produzidos: quanto mais, melhor. \n",
    "# No entanto, é importante estabelecer um limite inferior porque \n",
    "# é impossível produzir óculos negativos. \n",
    "# Além disso, selecionar a variável como um inteiro faz sentido, porque não podemos fazer meio lote. \n",
    "# É importante adicionar a última restrição ao vinho com base nas encomendas atuais \n",
    "# para evitar a produção de demasiados copos de vinho.\n"
   ]
  },
  {
   "cell_type": "code",
   "execution_count": null,
   "metadata": {},
   "outputs": [],
   "source": []
  },
  {
   "cell_type": "code",
   "execution_count": null,
   "metadata": {},
   "outputs": [],
   "source": [
    "## Logistics Planning Problem 2\n",
    "\n",
    "# Define decision variables\n",
    "key = [(m, w, c) for m in months for w in warehouse for c in customers]\n",
    "\n",
    "var_dict = LpVariable.dicts('num_of_shipments', \n",
    "                            key, \n",
    "                            lowBound=0, cat='Integer')\n",
    "\n",
    "# Use the LpVariable dictionary variable to define objective\n",
    "model += lpSum([costs[(w, c)] * var_dict[(m, w, c)] \n",
    "                for m in months for w in warehouse for c in customers])"
   ]
  },
  {
   "cell_type": "code",
   "execution_count": null,
   "metadata": {},
   "outputs": [],
   "source": []
  },
  {
   "cell_type": "raw",
   "metadata": {},
   "source": [
    "Trying out lpSum\n",
    "In this exercise you are making two types (premium and budget) of ice cream, using heavy cream, whole milk, and sugar. One version is a premium version containing more cream than your budget version. You are looking to find the mixture of ingredients that minimizes the total costs of ingredients.\n",
    "\n",
    "Ingredient\t$/cup\n",
    "- Cream\t    $1.5\n",
    "- Milk  \t$0.125\n",
    "- Sugar  \t$0.10\n",
    "\n",
    "Two Python lists called prod_type and ingredient have been created for you, \n",
    "along with a dictionary var_dict containing the decision variables of the model. "
   ]
  },
  {
   "cell_type": "code",
   "execution_count": null,
   "metadata": {},
   "outputs": [],
   "source": [
    "\n",
    "# Define Objective Function\n",
    "model += lpSum([1.5 * var_dict[(i, 'cream')] \n",
    "                + 0.125 * var_dict[(i, 'milk')] \n",
    "                + 0.10 * var_dict[(i, 'sugar')]\n",
    "                \n",
    "                # Iterate over product types\n",
    "                for i in prod_type])\n",
    "\n"
   ]
  },
  {
   "cell_type": "code",
   "execution_count": null,
   "metadata": {},
   "outputs": [],
   "source": [
    "### "
   ]
  },
  {
   "cell_type": "raw",
   "metadata": {},
   "source": [
    "Logistics Planning Problem\n",
    "You are consulting for kitchen oven manufacturer helping to plan their logistics for next month. There are two warehouse locations (New York, and Atlanta), and four regional customer locations (East, South, Midwest, West). \n",
    "The expected demand next month for East it is 1,800, for South it is 1,200, for the Midwest it is 1,100, and for West it is 1000. The cost for shipping each of the warehouse locations to the regional customer's is listed in the table below. Your goal is to fulfill the regional demand at the lowest price.\n",
    "\n",
    "Customer\tNew York\tAtlanta\n",
    "East\t        $211\t   $232\n",
    "South\t        $232\t   $212\n",
    "Midwest\t        $240\t   $230\n",
    "West\t        $300\t   $280\n",
    "\n",
    "Two Python dictionaries costs and var_dict have been created for you containing the costs and decision variables of the model. You can explore them in the console."
   ]
  },
  {
   "cell_type": "code",
   "execution_count": null,
   "metadata": {},
   "outputs": [],
   "source": [
    "from pulp import *\n",
    "\n",
    "# Initialize Model\n",
    "model = LpProblem(\"Minimize Transportation Costs\", LpMinimize)\n",
    "\n",
    "# Build the lists and the demand dictionary\n",
    "warehouse = ['New York', 'Atlanta']\n",
    "customers = ['East', 'South', 'Midwest', 'West']\n",
    "regional_demand = [1800, 1200, 1100, 1000]\n",
    "demand = dict(zip(customers, regional_demand))\n",
    "\n",
    "# Define Objective\n",
    "model += lpSum([costs[(w, c)] * var_dict[(w, c)] \n",
    "                for c in customers for w in warehouse])\n",
    "\n",
    "# For each customer, sum warehouse shipments and set equal to customer demand\n",
    "for c in customers:\n",
    "    model += lpSum([var_dict[(w, c)] for w in warehouse]) == demand[c]"
   ]
  },
  {
   "cell_type": "code",
   "execution_count": null,
   "metadata": {},
   "outputs": [],
   "source": [
    "## Module 2"
   ]
  },
  {
   "cell_type": "code",
   "execution_count": null,
   "metadata": {},
   "outputs": [],
   "source": [
    "\n",
    "## Travelling Salesman Problem (TSP)\n",
    "\n",
    "# Define Decision Variables\n",
    "x = LpVariable.dicts('X', [(c1, c2) for c1 in cities for c2 in cities], \n",
    "                     cat='Binary')\n",
    "u = LpVariable.dicts('U', [c1 for c1 in cities], \n",
    "                     lowBound=0, upBound=(n-1), cat='Integer')\n",
    "\n",
    "# Define Objective\n",
    "model += lpSum([dist.iloc[c1, c2] * x[(c1, c2)] \n",
    "                for c1 in cities for c2 in cities])\n",
    "\n",
    "# Define Constraints\n",
    "for c2 in cities:\n",
    "    model += lpSum([x[(c1, c2)] for c1 in cities]) == 1\n",
    "    \n",
    "for c1 in cities:\n",
    "    model += lpSum([x[(c1, c2)] for c2 in cities]) == 1\n",
    "\n"
   ]
  },
  {
   "cell_type": "code",
   "execution_count": null,
   "metadata": {},
   "outputs": [],
   "source": []
  },
  {
   "cell_type": "raw",
   "metadata": {},
   "source": [
    "## Scheduling Workers Problem\n",
    "\n",
    "You are looking to hire workers to work in a warehouse. Each worker is expected to work 5 consecutive days and then have two days off. The chart below has the estimated number of workers you will need each day. You are looking to hire the minimum number of workers to handle the workload for each day.\n",
    "\n",
    "\n",
    "Expected Workload\n",
    "\n",
    "Day of Week  \tEmployees Needed\n",
    "\n",
    "0 = Monday\t           31\n",
    "1 = Tuesday            45\n",
    "2 = Wednesday          40\n",
    "3 = Thursday\t40\n",
    "4 = Friday  \t48\n",
    "5 = Saturday\t30\n",
    "6 = Sunday  \t25\n",
    "\n",
    "The pulp module has been imported and the model has been initialized for you. \n",
    "Also, the variable days has been defined for you as a list of number from 0-6.\n",
    "\n"
   ]
  },
  {
   "cell_type": "code",
   "execution_count": null,
   "metadata": {},
   "outputs": [],
   "source": [
    "# The class has been initialize, and x, days, and objective function defined\n",
    "model = LpProblem(\"Minimize Staffing\", LpMinimize)\n",
    "days = list(range(7))\n",
    "x = LpVariable.dicts('staff_', days, lowBound=0, cat='Integer')\n",
    "model += lpSum([x[i] for i in days])\n",
    "\n",
    "# Define Constraints\n",
    "model += x[0] + x[3] + x[4] + x[5] + x[6] >= 31\n",
    "model += x[0] + x[1] + x[4] + x[5] + x[6] >= 45\n",
    "model += x[0] + x[1] + x[2] + x[5] + x[6] >= 40\n",
    "model += x[0] + x[1] + x[2] + x[3] + x[6] >= 40\n",
    "model += x[0] + x[1] + x[2] + x[3] + x[4] >= 48\n",
    "model += x[1] + x[2] + x[3] + x[4] + x[5] >= 30\n",
    "model += x[2] + x[3] + x[4] + x[5] + x[6] >= 25\n",
    "\n",
    "model.solve()\n",
    "\n",
    "# Usar o LpMaximize () faz sentido porque estamos tentando maximizar os lucros. \n",
    "# Não faz sentido estabelecer um limite superior para o número de copos de vinho ou \n",
    "# cerveja produzidos: quanto mais, melhor. No entanto, é importante estabelecer um \n",
    "# limite inferior porque é impossível produzir óculos negativos. Além disso, \n",
    "# selecionar a variável como um inteiro faz sentido, porque não podemos fazer meio lote. \n",
    "# É importante adicionar a última restrição ao vinho com base nas encomendas atuais \n",
    "# para evitar a produção de demasiados copos de vinho."
   ]
  },
  {
   "cell_type": "raw",
   "metadata": {},
   "source": [
    "## Preventative Maintenance Scheduling\n",
    "\n",
    "At a quarry they use diamond saws to cut slabs of marble. For preventative maintenance the saws are only allowed to run for 4 consecutive hours, afterwards a 1 hour inspection is completed before they are allowed to go back into service. The quarry operates 10-hour shifts. At the end of the shift if the saw blades have not been used for 4 consecutive hours the remaining time will be used at the start of the next shift. The expected number of saw blades needed for each hour is listed below. Our goal is to determine the minimum number of saw blades are needed for the shift.\n",
    "\n",
    "Expected Workload - (Note that the chart at hour 0)\n",
    "\n",
    "Hour\tSaws Needed\n",
    "0\t         7\n",
    "1\t         7\n",
    "2\t         7\n",
    "3\t         6\n",
    "4\t         5\n",
    "5\t         6\n",
    "6\t         6\n",
    "7\t         7\n",
    "8\t         7\n",
    "9\t         6"
   ]
  },
  {
   "cell_type": "code",
   "execution_count": null,
   "metadata": {},
   "outputs": [],
   "source": [
    "# The class has been initialize, and x, hours and objective fuction defined\n",
    "model = LpProblem(\"Minimize Staffing\", LpMinimize)\n",
    "hours = list(range(10))\n",
    "x = LpVariable.dicts('saws_', hours, lowBound=0, cat='Integer')\n",
    "model += lpSum([x[i] for i in hours])\n",
    "\n",
    "# Define Constraints\n",
    "model += x[0] + x[2] + x[3] + x[4] + x[5] + x[7] + x[8] + x[9] >= 7\n",
    "model += x[0] + x[1] + x[3] + x[4] + x[5] + x[6] + x[8] + x[9] >= 7\n",
    "model += x[0] + x[1] + x[2] + x[4] + x[5] + x[6] + x[7] + x[9] >= 7\n",
    "model += x[0] + x[1] + x[2] + x[3] + x[5] + x[6] + x[7] + x[8] >= 6\n",
    "model += x[1] + x[2] + x[3] + x[4] + x[6] + x[7] + x[8] + x[9] >= 5\n",
    "model += x[0] + x[2] + x[3] + x[4] + x[5] + x[7] + x[8] + x[9] >= 6\n",
    "model += x[0] + x[1] + x[3] + x[4] + x[5] + x[6] + x[8] + x[9] >= 6\n",
    "model += x[0] + x[1] + x[2] + x[4] + x[5] + x[6] + x[7] + x[9] >= 7\n",
    "model += x[0] + x[1] + x[2] + x[3] + x[5] + x[6] + x[7] + x[8] >= 7\n",
    "model += x[1] + x[2] + x[3] + x[4] + x[6] + x[7] + x[8] + x[9] >= 6\n",
    "\n",
    "model.solve()\n",
    "\n",
    "\n",
    "# Logo no início você reconhece que precisava definir suas variáveis como \n",
    "# o número de lâminas de serra que começam suas 4 horas de serviço. \n",
    "# Além disso, você foi capaz de usar essas variáveis na definição de sua \n",
    "# função objetiva usando lpSum. Finalmente, você reconheceu o \n",
    "# padrão usado para definir suas restrições."
   ]
  },
  {
   "cell_type": "code",
   "execution_count": null,
   "metadata": {},
   "outputs": [],
   "source": []
  },
  {
   "cell_type": "code",
   "execution_count": null,
   "metadata": {},
   "outputs": [],
   "source": []
  },
  {
   "cell_type": "code",
   "execution_count": null,
   "metadata": {},
   "outputs": [],
   "source": []
  },
  {
   "cell_type": "code",
   "execution_count": null,
   "metadata": {},
   "outputs": [],
   "source": []
  },
  {
   "cell_type": "code",
   "execution_count": null,
   "metadata": {},
   "outputs": [],
   "source": []
  },
  {
   "cell_type": "code",
   "execution_count": null,
   "metadata": {},
   "outputs": [],
   "source": []
  },
  {
   "cell_type": "code",
   "execution_count": null,
   "metadata": {},
   "outputs": [],
   "source": []
  },
  {
   "cell_type": "code",
   "execution_count": null,
   "metadata": {},
   "outputs": [],
   "source": []
  },
  {
   "cell_type": "code",
   "execution_count": null,
   "metadata": {},
   "outputs": [],
   "source": []
  },
  {
   "cell_type": "code",
   "execution_count": null,
   "metadata": {},
   "outputs": [],
   "source": []
  },
  {
   "cell_type": "code",
   "execution_count": null,
   "metadata": {},
   "outputs": [],
   "source": []
  },
  {
   "cell_type": "code",
   "execution_count": null,
   "metadata": {},
   "outputs": [],
   "source": []
  },
  {
   "cell_type": "code",
   "execution_count": null,
   "metadata": {},
   "outputs": [],
   "source": []
  },
  {
   "cell_type": "code",
   "execution_count": null,
   "metadata": {},
   "outputs": [],
   "source": []
  },
  {
   "cell_type": "code",
   "execution_count": null,
   "metadata": {},
   "outputs": [],
   "source": []
  },
  {
   "cell_type": "code",
   "execution_count": null,
   "metadata": {},
   "outputs": [],
   "source": []
  },
  {
   "cell_type": "code",
   "execution_count": null,
   "metadata": {},
   "outputs": [],
   "source": []
  },
  {
   "cell_type": "code",
   "execution_count": null,
   "metadata": {},
   "outputs": [],
   "source": []
  }
 ],
 "metadata": {
  "kernelspec": {
   "display_name": "Python [default]",
   "language": "python",
   "name": "python3"
  },
  "language_info": {
   "codemirror_mode": {
    "name": "ipython",
    "version": 3
   },
   "file_extension": ".py",
   "mimetype": "text/x-python",
   "name": "python",
   "nbconvert_exporter": "python",
   "pygments_lexer": "ipython3",
   "version": "3.6.8"
  }
 },
 "nbformat": 4,
 "nbformat_minor": 2
}
