{
 "cells": [
  {
   "cell_type": "code",
   "execution_count": null,
   "metadata": {},
   "outputs": [],
   "source": [
    "### MODULE 1"
   ]
  },
  {
   "cell_type": "code",
   "execution_count": null,
   "metadata": {},
   "outputs": [],
   "source": [
    "## Hardcoding a highlight\n",
    "\n",
    "houston_pollution = pollution[pollution.city  ==  'Houston']\n",
    "\n",
    "# Make array orangred for day 330 of year 2014, otherwise lightgray\n",
    "houston_colors = ['orangered' if (day  ==  330) & (year  ==  2014) else 'lightgray' \n",
    "                  for day,year in zip(houston_pollution.day, houston_pollution.year)]\n",
    "\n",
    "sns.regplot(x = 'NO2',\n",
    "            y = 'SO2',\n",
    "            data = houston_pollution,\n",
    "            fit_reg = False, \n",
    "            # Send scatterplot argument to color points \n",
    "            scatter_kws = {'facecolors': houston_colors, 'alpha': 0.7})\n",
    "plt.show()"
   ]
  },
  {
   "cell_type": "code",
   "execution_count": null,
   "metadata": {},
   "outputs": [],
   "source": []
  },
  {
   "cell_type": "code",
   "execution_count": null,
   "metadata": {},
   "outputs": [],
   "source": [
    "## Programmatically creating a highlight\n",
    "\n",
    "houston_pollution = pollution[pollution.city  ==  'Houston'].copy()\n",
    "\n",
    "# Find the highest observed O3 value\n",
    "max_O3 = houston_pollution.O3.max()\n",
    "\n",
    "# Make a column that denotes which day had highest O3\n",
    "houston_pollution['point type'] = ['Highest O3 Day' if O3  ==  max_O3 \n",
    "                                                    else 'Others' \n",
    "                                   for O3 in houston_pollution.O3]\n",
    "\n",
    "# Encode the hue of the points with the O3 generated column\n",
    "sns.scatterplot(x = 'NO2',\n",
    "                y = 'SO2',\n",
    "                hue = 'point type',\n",
    "                data = houston_pollution)\n",
    "plt.show()"
   ]
  },
  {
   "cell_type": "code",
   "execution_count": null,
   "metadata": {},
   "outputs": [],
   "source": []
  },
  {
   "cell_type": "code",
   "execution_count": null,
   "metadata": {},
   "outputs": [],
   "source": [
    "## Comparing with two KDEs\n",
    "\n",
    "# Filter dataset to the year 2012\n",
    "sns.kdeplot(pollution[pollution.year == 2012].O3, \n",
    "            # Shade under kde and add a helpful label\n",
    "            shade = True,\n",
    "            label = '2012')\n",
    "\n",
    "# Filter dataset to everything except the year 2012\n",
    "sns.kdeplot(pollution[pollution.year != 2012].O3, \n",
    "            # Again, shade under kde and add a helpful label\n",
    "            shade = True,\n",
    "            label = 'other years')\n",
    "plt.show()"
   ]
  },
  {
   "cell_type": "code",
   "execution_count": null,
   "metadata": {},
   "outputs": [],
   "source": []
  },
  {
   "cell_type": "code",
   "execution_count": null,
   "metadata": {},
   "outputs": [],
   "source": [
    "## Improving your KDEs\n",
    "\n",
    "sns.distplot(pollution[pollution.city == 'Vandenberg Air Force Base'].O3, \n",
    "             label = 'Vandenberg', \n",
    "             # Turn of the histogram and color blue to stand out\n",
    "             hist = False,\n",
    "             color = 'steelblue', \n",
    "             # Turn on rugplot\n",
    "             rug = True)\n",
    "\n",
    "sns.distplot(pollution[pollution.city != 'Vandenberg Air Force Base'].O3, \n",
    "             label = 'Other cities',\n",
    "             # Turn off histogram and color gray\n",
    "             hist = False,  \n",
    "             color = 'gray')\n",
    "plt.show()"
   ]
  },
  {
   "cell_type": "code",
   "execution_count": null,
   "metadata": {},
   "outputs": [],
   "source": []
  },
  {
   "cell_type": "code",
   "execution_count": null,
   "metadata": {},
   "outputs": [],
   "source": [
    "## Beeswarms\n",
    "\n",
    "# Filter data to just March\n",
    "pollution_mar = pollution[pollution.month == 3]\n",
    "\n",
    "# Plot beeswarm with x as O3\n",
    "sns.swarmplot(y = \"city\",\n",
    "              x = 'O3', \n",
    "              data = pollution_mar, \n",
    "              # Decrease the size of the points to avoid crowding \n",
    "              size = 3)\n",
    "\n",
    "# Give a descriptive title\n",
    "plt.title('March Ozone levels by city')\n",
    "plt.show()"
   ]
  },
  {
   "cell_type": "code",
   "execution_count": null,
   "metadata": {},
   "outputs": [],
   "source": []
  },
  {
   "cell_type": "code",
   "execution_count": null,
   "metadata": {},
   "outputs": [],
   "source": [
    "## A basic text annotation\n",
    "\n",
    "# Draw basic scatter plot of pollution data for August\n",
    "sns.scatterplot(x = 'CO', y = 'SO2', data = pollution[pollution.month  ==  8])\n",
    "\n",
    "# Label highest SO2 value with text annotation\n",
    "plt.text(0.57, 41,\n",
    "         'Cincinnati had highest observed\\nSO2 value on Aug 11, 2013', \n",
    "         # Set the font to large\n",
    "         fontdict = {'ha': 'left', 'size': 'large'})\n",
    "\n",
    "plt.show()"
   ]
  },
  {
   "cell_type": "code",
   "execution_count": null,
   "metadata": {},
   "outputs": [],
   "source": []
  },
  {
   "cell_type": "code",
   "execution_count": null,
   "metadata": {},
   "outputs": [],
   "source": [
    "### Arrow Annotations\n",
    "\n",
    "# Query and filter to New Years in Long Beach\n",
    "jan_pollution = pollution.query(\"(month  ==  1) & (year  ==  2012)\")\n",
    "lb_newyears = jan_pollution.query(\"(day  ==  1) & (city  ==  'Long Beach')\")\n",
    "\n",
    "sns.scatterplot(x = 'CO', y = 'NO2',\n",
    "                data = jan_pollution)\n",
    "\n",
    "# Point arrow to lb_newyears & place text in lower left \n",
    "plt.annotate('Long Beach New Years',\n",
    "             xy = (lb_newyears.CO, lb_newyears.NO2),\n",
    "             xytext = (2, 15), \n",
    "             # Shrink the arrow to avoid occlusion\n",
    "             arrowprops = {'facecolor':'gray', 'width': 3, 'shrink': 0.03},\n",
    "             backgroundcolor = 'white')\n",
    "plt.show()"
   ]
  },
  {
   "cell_type": "code",
   "execution_count": null,
   "metadata": {},
   "outputs": [],
   "source": []
  },
  {
   "cell_type": "code",
   "execution_count": null,
   "metadata": {},
   "outputs": [],
   "source": [
    "## Combining annotations and color\n",
    "\n",
    "# Make a vector where Long Beach is orangered; else lightgray\n",
    "is_lb = ['orangered' if city  ==  'Long Beach' else 'lightgray' for city in pollution['city']]\n",
    "\n",
    "# Map facecolors to the list is_lb and set alpha to 0.3\n",
    "sns.regplot(x = 'CO',\n",
    "            y = 'O3',\n",
    "            data = pollution,\n",
    "            fit_reg = False,\n",
    "            scatter_kws = {'facecolors':is_lb, 'alpha': 0.3})\n",
    "\n",
    "# Add annotation to plot\n",
    "plt.text(1.6, 0.072, 'April 30th, Bad Day')\n",
    "plt.show() "
   ]
  },
  {
   "cell_type": "code",
   "execution_count": null,
   "metadata": {},
   "outputs": [],
   "source": []
  },
  {
   "cell_type": "code",
   "execution_count": null,
   "metadata": {},
   "outputs": [],
   "source": [
    "## MODULE 2"
   ]
  },
  {
   "cell_type": "code",
   "execution_count": null,
   "metadata": {},
   "outputs": [],
   "source": [
    "## Getting rid of unnecessary color\n",
    "\n",
    "# Hard to read scatter of CO and NO2 w/ color mapped to city\n",
    "# sns.scatterplot('CO', 'NO2',\n",
    "#                 alpha = 0.2,\n",
    "#                 hue = 'city',\n",
    "#                 data = pollution)\n",
    "\n",
    "# Setup a facet grid to separate the cities apart\n",
    "g = sns.FacetGrid(data = pollution,\n",
    "                  col = 'city',\n",
    "                  col_wrap = 3)\n",
    "\n",
    "# Map sns.scatterplot to create separate city scatter plots\n",
    "g.map(sns.scatterplot, 'CO', 'NO2', alpha = 0.2)\n",
    "plt.show()"
   ]
  },
  {
   "cell_type": "code",
   "execution_count": null,
   "metadata": {},
   "outputs": [],
   "source": []
  },
  {
   "cell_type": "code",
   "execution_count": null,
   "metadata": {},
   "outputs": [],
   "source": [
    "## Fixing Seaborn's bar charts\n",
    "\n",
    "import numpy as np\n",
    "\n",
    "sns.barplot(y = 'city', x = 'CO', \n",
    "              estimator = np.mean,\n",
    "              ci = False,\n",
    "              data = pollution,\n",
    "              # Add a border to the bars\n",
    "            edgecolor = 'black')\n",
    "plt.show()\n",
    "\n",
    "\n",
    "## Changing bar colors\n",
    "import numpy as np\n",
    "\n",
    "sns.barplot(y = 'city', x = 'CO', \n",
    "              estimator = np.mean,\n",
    "            ci = False,\n",
    "              data = pollution,\n",
    "              # Replace border with bar colors\n",
    "            color = 'cadetblue')\n",
    "plt.show()"
   ]
  },
  {
   "cell_type": "code",
   "execution_count": null,
   "metadata": {},
   "outputs": [],
   "source": []
  },
  {
   "cell_type": "code",
   "execution_count": null,
   "metadata": {},
   "outputs": [],
   "source": [
    "## Making a custom continuous palette\n",
    "\n",
    "\n",
    "# Filter the data\n",
    "cinci_2014 = pollution.query(\"city  ==  'Cincinnati' & year  ==  2014\")\n",
    "\n",
    "\n",
    "# Define a custom continuous color palette\n",
    "color_palette = sns.light_palette('orangered',\n",
    "                         as_cmap = True)\n",
    "\n",
    "\n",
    "# Plot mapping the color of the points with custom palette\n",
    "sns.scatterplot(x = 'CO',\n",
    "                y = 'NO2',\n",
    "                hue = 'O3', \n",
    "                data = cinci_2014,\n",
    "                palette = color_palette)\n",
    "\n",
    "plt.show()"
   ]
  },
  {
   "cell_type": "code",
   "execution_count": null,
   "metadata": {},
   "outputs": [],
   "source": []
  },
  {
   "cell_type": "code",
   "execution_count": null,
   "metadata": {},
   "outputs": [],
   "source": [
    "## Customizing a diverging palette heatmap\n",
    "\n",
    "# Define a custom palette\n",
    "color_palette = sns.diverging_palette(250, 0, as_cmap = True)\n",
    "\n",
    "# Pass palette to plot and set axis ranges\n",
    "sns.heatmap(nov_2015_CO,\n",
    "            cmap = color_palette,\n",
    "            center = 0,\n",
    "            vmin = -4,\n",
    "            vmax = 4)\n",
    "\n",
    "plt.yticks(rotation = 0)\n",
    "plt.show()"
   ]
  },
  {
   "cell_type": "code",
   "execution_count": null,
   "metadata": {},
   "outputs": [],
   "source": []
  },
  {
   "cell_type": "code",
   "execution_count": null,
   "metadata": {},
   "outputs": [],
   "source": [
    "## Adjusting your palette according to context\n",
    "\n",
    "# Dark plot background\n",
    "plt.style.use(\"dark_background\")\n",
    "\n",
    "# Modify palette for dark background\n",
    "color_palette = sns.diverging_palette(250, 0,\n",
    "                                      center = 'dark',\n",
    "                                      as_cmap = True)\n",
    "\n",
    "# Pass palette to plot and set center\n",
    "sns.heatmap(oct_2015_o3,\n",
    "            cmap = color_palette,\n",
    "            center = 0)\n",
    "plt.yticks(rotation = 0)\n",
    "plt.show()"
   ]
  },
  {
   "cell_type": "code",
   "execution_count": null,
   "metadata": {},
   "outputs": [],
   "source": []
  },
  {
   "cell_type": "code",
   "execution_count": null,
   "metadata": {},
   "outputs": [],
   "source": [
    "### Using a custom categorical palette\n",
    "\n",
    "# Filter our data to Jan 2013\n",
    "pollution_jan13 = pollution.query('year  ==  2013 & month  ==  1')\n",
    "\n",
    "# Color lines by the city and use custom ColorBrewer palette\n",
    "sns.lineplot(x = \"day\", \n",
    "             y = \"CO\", \n",
    "             hue = \"city\",\n",
    "             palette = \"Set2\", \n",
    "             linewidth = 3,\n",
    "             data = pollution_jan13)\n",
    "\n",
    "plt.show()"
   ]
  },
  {
   "cell_type": "code",
   "execution_count": null,
   "metadata": {},
   "outputs": [],
   "source": []
  },
  {
   "cell_type": "code",
   "execution_count": null,
   "metadata": {},
   "outputs": [],
   "source": [
    "## Dealing with too many categories\n",
    "\n",
    "# Choose the combos that get distinct colors\n",
    "wanted_combos = ['Vandenberg Air Force Base NO2', 'Long Beach CO', 'Cincinnati SO2']\n",
    "\n",
    "# Assign a new column to DataFrame for isolating the desired combos\n",
    "city_pol_month['color_cats'] = [x if x in wanted_combos else 'other' for x in city_pol_month['city_pol']]\n",
    "\n",
    "# Plot lines with color driven by new column and lines driven by original categories\n",
    "sns.lineplot(x = \"month\",\n",
    "             y = \"value\",\n",
    "             hue = 'color_cats',\n",
    "             units = 'city_pol',\n",
    "             estimator = None,\n",
    "             palette = 'Set2',\n",
    "             data = city_pol_month)\n",
    "plt.show()"
   ]
  },
  {
   "cell_type": "code",
   "execution_count": null,
   "metadata": {},
   "outputs": [],
   "source": []
  },
  {
   "cell_type": "code",
   "execution_count": null,
   "metadata": {},
   "outputs": [],
   "source": [
    "## Coloring ordinal categories\n",
    "\n",
    "# Divide CO into quartiles\n",
    "pollution['CO quartile'] = pd.qcut(pollution['CO'], q = 4, labels = False)\n",
    "\n",
    "# Filter to just Des Moines\n",
    "des_moines = pollution.query(\"city  ==  'Des Moines'\")\n",
    "\n",
    "# Color points with by quartile and use ColorBrewer palette\n",
    "sns.scatterplot(x = 'SO2',\n",
    "                y = 'NO2',\n",
    "                hue = 'CO quartile', \n",
    "                  data = des_moines,\n",
    "                palette = 'GnBu')\n",
    "\n",
    "plt.show()"
   ]
  },
  {
   "cell_type": "code",
   "execution_count": null,
   "metadata": {},
   "outputs": [],
   "source": []
  },
  {
   "cell_type": "code",
   "execution_count": null,
   "metadata": {},
   "outputs": [],
   "source": [
    "## Choosing the right variable to encode with color\n",
    "\n",
    "# Reduce to just cities in the western half of US\n",
    "cities = ['Fairbanks', 'Long Beach', \n",
    "          'Vandenberg Air Force Base', 'Denver']\n",
    "\n",
    "# Filter data to desired cities\n",
    "city_maxes = max_pollutant_values[max_pollutant_values.city.isin(cities)]\n",
    "\n",
    "# Swap city and year encodings\n",
    "sns.catplot(x = 'city', hue = 'year',\n",
    "              y = 'value', row = 'pollutant',    \n",
    "              # Change palette to one appropriate for ordinal categories\n",
    "              data = city_maxes, palette = 'BuGn',\n",
    "              sharey = False, kind = 'bar')\n",
    "\n",
    "plt.show()"
   ]
  },
  {
   "cell_type": "code",
   "execution_count": null,
   "metadata": {},
   "outputs": [],
   "source": []
  },
  {
   "cell_type": "code",
   "execution_count": null,
   "metadata": {},
   "outputs": [],
   "source": [
    "### MODULE 3"
   ]
  },
  {
   "cell_type": "code",
   "execution_count": null,
   "metadata": {},
   "outputs": [],
   "source": []
  },
  {
   "cell_type": "code",
   "execution_count": null,
   "metadata": {},
   "outputs": [],
   "source": [
    "### Basic confidence intervals\n",
    "\n",
    "# Construct CI bounds for averages\n",
    "average_ests['lower'] = average_ests['mean'] - 1.96*average_ests['std_err']\n",
    "average_ests['upper'] = average_ests['mean'] + 1.96*average_ests['std_err']\n",
    "\n",
    "# Setup a grid of plots, with non-shared x axes limits\n",
    "g = sns.FacetGrid(average_ests, row = 'pollutant', sharex = False)\n",
    "\n",
    "# Plot CI for average estimate\n",
    "g.map(plt.hlines, 'y', 'lower', 'upper')\n",
    "\n",
    "# Plot observed values for comparison and remove axes labels\n",
    "g.map(plt.scatter, 'seen', 'y', color = 'orangered').set_ylabels('').set_xlabels('') \n",
    "\n",
    "plt.show()"
   ]
  },
  {
   "cell_type": "code",
   "execution_count": null,
   "metadata": {},
   "outputs": [],
   "source": []
  },
  {
   "cell_type": "code",
   "execution_count": null,
   "metadata": {},
   "outputs": [],
   "source": [
    "## Annotating confidence intervals\n",
    "\n",
    "# Set start and ends according to intervals \n",
    "# Make intervals thicker\n",
    "plt.hlines(y = 'year', xmin = 'lower', xmax = 'upper', \n",
    "           linewidth = 5, color = 'steelblue', alpha = 0.7,\n",
    "           data = diffs_by_year)\n",
    "# Point estimates\n",
    "plt.plot('mean', 'year', 'k|', data = diffs_by_year)\n",
    "\n",
    "# Add a 'null' reference line at 0 and color orangered\n",
    "plt.axvline(x = 0, color = 'orangered', linestyle = '--')\n",
    "\n",
    "# Set descriptive axis labels and title\n",
    "plt.xlabel('95% CI')\n",
    "plt.title('Avg SO2 differences between Cincinnati and Indianapolis')\n",
    "plt.show()"
   ]
  },
  {
   "cell_type": "code",
   "execution_count": null,
   "metadata": {},
   "outputs": [],
   "source": []
  },
  {
   "cell_type": "code",
   "execution_count": null,
   "metadata": {},
   "outputs": [],
   "source": [
    "\n",
    "# Draw 99% inverval bands for average NO2\n",
    "vandenberg_NO2['lower'] = vandenberg_NO2['mean'] - 2.58*vandenberg_NO2['std_err']\n",
    "vandenberg_NO2['upper'] = vandenberg_NO2['mean'] + 2.58*vandenberg_NO2['std_err']\n",
    "\n",
    "# Plot mean estimate as a white semi-transparent line\n",
    "plt.plot('day', 'mean', data = vandenberg_NO2,\n",
    "         color = 'white', alpha = 0.4)\n",
    "\n",
    "# Fill between the upper and lower confidence band values\n",
    "plt.fill_between(x = 'day', \n",
    "                 y1 = 'lower', y2 = 'upper', \n",
    "                 data = vandenberg_NO2)\n",
    "\n",
    "plt.show()"
   ]
  },
  {
   "cell_type": "code",
   "execution_count": null,
   "metadata": {},
   "outputs": [],
   "source": []
  },
  {
   "cell_type": "code",
   "execution_count": null,
   "metadata": {},
   "outputs": [],
   "source": [
    "## Separating a lot of bands\n",
    "\n",
    "# Setup a grid of plots with columns divided by location\n",
    "g = sns.FacetGrid(eastern_SO2, col = 'city', col_wrap = 2)\n",
    "\n",
    "# Map interval plots to each cities data with corol colored ribbons\n",
    "g.map(plt.fill_between, 'day', 'lower', 'upper', color = 'coral')\n",
    "\n",
    "# Map overlaid mean plots with white line\n",
    "g.map(plt.plot, 'day', 'mean', color = 'white')\n",
    "\n",
    "plt.show()"
   ]
  },
  {
   "cell_type": "code",
   "execution_count": null,
   "metadata": {},
   "outputs": [],
   "source": []
  },
  {
   "cell_type": "code",
   "execution_count": null,
   "metadata": {},
   "outputs": [],
   "source": [
    "### Cleaning up bands for overlaps\n",
    "\n",
    "\n",
    "for city, color in [('Denver',\"#66c2a5\"), ('Long Beach', \"#fc8d62\")]:\n",
    "    # Filter data to desired city\n",
    "    city_data = SO2_compare[SO2_compare.city  ==  city]\n",
    "\n",
    "    # Set city interval color to desired and lower opacity\n",
    "    plt.fill_between(x = 'day', y1 = 'lower', y2 = 'upper', data = city_data,\n",
    "                     color = color, alpha = 0.4)\n",
    "    \n",
    "    # Draw a faint mean line for reference and give a label for legend\n",
    "    plt.plot('day','mean', data = city_data, color = color,\n",
    "             label = city, alpha = 0.25)\n",
    "\n",
    "plt.legend()\n",
    "plt.show()"
   ]
  },
  {
   "cell_type": "code",
   "execution_count": null,
   "metadata": {},
   "outputs": [],
   "source": []
  },
  {
   "cell_type": "code",
   "execution_count": null,
   "metadata": {},
   "outputs": [],
   "source": [
    "## 90, 95, and 99% intervals\n",
    "\n",
    "# Add interval percent widths\n",
    "alphas = [     0.01,  0.05,   0.1] \n",
    "widths = [ '99% CI', '95%', '90%']\n",
    "colors = ['#fee08b','#fc8d59','#d53e4f']\n",
    "\n",
    "for alpha, color, width in zip(alphas, colors, widths):\n",
    "    # Grab confidence interval\n",
    "    conf_ints = pollution_model.conf_int(alpha)\n",
    "    \n",
    "    # Pass current interval color and legend label to plot\n",
    "    plt.hlines(y = conf_ints.index, xmin = conf_ints[0], xmax = conf_ints[1],\n",
    "               colors = color, label = width, linewidth = 10) \n",
    "\n",
    "# Draw point estimates\n",
    "plt.plot(pollution_model.params, pollution_model.params.index, 'wo', label = 'Point Estimate')\n",
    "\n",
    "plt.legend()\n",
    "plt.show() "
   ]
  },
  {
   "cell_type": "code",
   "execution_count": null,
   "metadata": {},
   "outputs": [],
   "source": []
  },
  {
   "cell_type": "code",
   "execution_count": null,
   "metadata": {},
   "outputs": [],
   "source": [
    "## 90 and 95% bands\n",
    "\n",
    "int_widths = ['90%', '99%']\n",
    "z_scores = [1.67, 2.58]\n",
    "colors = ['#fc8d59', '#fee08b']\n",
    "\n",
    "for percent, Z, color in zip(int_widths, z_scores, colors):\n",
    "    \n",
    "    # Pass lower and upper confidence bounds and lower opacity\n",
    "    plt.fill_between(\n",
    "        x = cinci_13_no2.day, alpha = 0.4, color = color,\n",
    "        y1 = cinci_13_no2['mean'] - Z*cinci_13_no2['std_err'],\n",
    "        y2 = cinci_13_no2['mean'] + Z*cinci_13_no2['std_err'],\n",
    "        label = percent)\n",
    "    \n",
    "plt.legend()\n",
    "plt.show()"
   ]
  },
  {
   "cell_type": "code",
   "execution_count": null,
   "metadata": {},
   "outputs": [],
   "source": []
  },
  {
   "cell_type": "code",
   "execution_count": null,
   "metadata": {},
   "outputs": [],
   "source": [
    "### Using band thickness instead of coloring\n",
    "\n",
    "# Decrase interval thickness as interval widens\n",
    "sizes =      [15, 10, 5]\n",
    "int_widths = ['90% CI', '95%', '99%']\n",
    "z_scores =   [ 1.67, 1.96, 2.58]\n",
    "\n",
    "for percent, Z, size in zip(int_widths, z_scores, sizes):\n",
    "    plt.hlines(y = rocket_model.pollutant, \n",
    "               xmin = rocket_model['est'] - Z*rocket_model['std_err'],\n",
    "               xmax = rocket_model['est'] + Z*rocket_model['std_err'],\n",
    "               label = percent, \n",
    "               # Resize lines and color them gray\n",
    "               linewidth = size, \n",
    "               color = 'gray') \n",
    "    \n",
    "# Add point estimate\n",
    "plt.plot('est', 'pollutant', 'wo', data = rocket_model, label = 'Point Estimate')\n",
    "plt.legend(loc = 'center left', bbox_to_anchor = (1, 0.5))\n",
    "plt.show()"
   ]
  },
  {
   "cell_type": "code",
   "execution_count": null,
   "metadata": {},
   "outputs": [],
   "source": []
  },
  {
   "cell_type": "code",
   "execution_count": null,
   "metadata": {},
   "outputs": [],
   "source": [
    "### The bootstrap histogram\n",
    "\n",
    "cinci_may_NO2 = pollution.query(\"city  ==  'Cincinnati' & month  ==  5\").NO2\n",
    "\n",
    "# Generate bootstrap samples\n",
    "boot_means = bootstrap(cinci_may_NO2, 1000)\n",
    "\n",
    "# Get lower and upper 95% interval bounds\n",
    "lower, upper = np.percentile(boot_means, [2.5, 97.5])\n",
    "\n",
    "# Plot shaded area for interval\n",
    "plt.axvspan(lower, upper, color = 'gray', alpha = 0.2)\n",
    "\n",
    "# Draw histogram of bootstrap samples\n",
    "sns.distplot(boot_means, bins = 100, kde = False)\n",
    "\n",
    "plt.show()"
   ]
  },
  {
   "cell_type": "code",
   "execution_count": null,
   "metadata": {},
   "outputs": [],
   "source": []
  },
  {
   "cell_type": "code",
   "execution_count": null,
   "metadata": {},
   "outputs": [],
   "source": [
    "### Bootstrapped regressions\n",
    "\n",
    "sns.lmplot('NO2', 'SO2', data = no2_so2_boot,\n",
    "           # Tell seaborn to a regression line for each sample\n",
    "           hue = 'sample', \n",
    "           # Make lines blue and transparent\n",
    "           line_kws = {'color': 'steelblue', 'alpha': 0.2},\n",
    "           # Disable built-in confidence intervals\n",
    "           ci = None, legend = False, scatter = False)\n",
    "\n",
    "\n",
    "# Draw scatter of all points\n",
    "plt.scatter('NO2', 'SO2', data = no2_so2)\n",
    "\n",
    "plt.show()"
   ]
  },
  {
   "cell_type": "code",
   "execution_count": null,
   "metadata": {},
   "outputs": [],
   "source": []
  },
  {
   "cell_type": "code",
   "execution_count": null,
   "metadata": {},
   "outputs": [],
   "source": [
    "### Lots of bootstraps with beeswarms\n",
    "\n",
    "# Initialize a holder DataFrame for bootstrap results\n",
    "city_boots = pd.DataFrame()\n",
    "\n",
    "for city in ['Cincinnati', 'Des Moines', 'Indianapolis', 'Houston']:\n",
    "    # Filter to city\n",
    "    city_NO2 = pollution_may[pollution_may.city  ==  city].NO2\n",
    "    # Bootstrap city data & put in DataFrame\n",
    "    cur_boot = pd.DataFrame({'NO2_avg': bootstrap(city_NO2, 100), 'city': city})\n",
    "    # Append to other city's bootstraps\n",
    "    city_boots = pd.concat([city_boots,cur_boot])\n",
    "\n",
    "# Beeswarm plot of averages with citys on y axis\n",
    "sns.swarmplot(y = \"city\", x = \"NO2_avg\", data = city_boots, color = 'coral')\n",
    "\n",
    "plt.show()"
   ]
  },
  {
   "cell_type": "code",
   "execution_count": null,
   "metadata": {},
   "outputs": [],
   "source": []
  },
  {
   "cell_type": "code",
   "execution_count": null,
   "metadata": {},
   "outputs": [],
   "source": [
    "### Looking at the farmers market data\n",
    "\n",
    "# Print first three rows of data and transpose\n",
    "first_rows = markets.head(3).transpose()\n",
    "print(first_rows)\n",
    "\n",
    "# Get descriptions of every column\n",
    "col_descriptions = markets.describe(include = 'all',\n",
    "                                percentiles = [0.5]).transpose()\n",
    "print(col_descriptions)"
   ]
  },
  {
   "cell_type": "code",
   "execution_count": null,
   "metadata": {},
   "outputs": [],
   "source": []
  },
  {
   "cell_type": "code",
   "execution_count": null,
   "metadata": {},
   "outputs": [],
   "source": [
    "### Scatter matrix of numeric columns\n",
    "\n",
    "# Select just the numeric columns (exluding individual goods)\n",
    "numeric_columns = ['lat', 'lon', 'months_open', \n",
    "                   'num_items_sold', 'state_pop']\n",
    "\n",
    "# Make a scatter matrix of numeric columns\n",
    "pd.plotting.scatter_matrix(markets[numeric_columns], \n",
    "                             # Make figure large to show details\n",
    "                             figsize = (15,10), \n",
    "                           # Lower point opacity to show overlap\n",
    "                           alpha = .5)\n",
    "\n",
    "plt.show()"
   ]
  },
  {
   "cell_type": "code",
   "execution_count": null,
   "metadata": {},
   "outputs": [],
   "source": []
  },
  {
   "cell_type": "code",
   "execution_count": null,
   "metadata": {},
   "outputs": [],
   "source": [
    "### Digging in with basic transforms\n",
    "\n",
    "# Create a new logged population column \n",
    "markets['log_pop'] = np.log(markets['state_pop'])\n",
    "\n",
    "# Draw a scatterplot of log-population to # of items sold\n",
    "sns.scatterplot(x = 'log_pop', \n",
    "                  y = 'num_items_sold', \n",
    "                  # Reduce point opacity to show overlap\n",
    "                  alpha = .25, \n",
    "                  data = markets)\n",
    "\n",
    "plt.show()"
   ]
  },
  {
   "cell_type": "code",
   "execution_count": null,
   "metadata": {},
   "outputs": [],
   "source": [
    "### MODULE 4"
   ]
  },
  {
   "cell_type": "code",
   "execution_count": 1,
   "metadata": {},
   "outputs": [],
   "source": [
    "### Is longitude related to months open?\n",
    "\n",
    "sns.regplot(x = 'lon', \n",
    "            y = 'months_open', \n",
    "            # Set scatter point opacity & color\n",
    "            scatter_kws = {'alpha':.10, 'color':'gray'}, \n",
    "            # Disable confidence band\n",
    "            ci = False, \n",
    "            data = markets)\n",
    "\n",
    "plt.show()"
   ]
  },
  {
   "cell_type": "code",
   "execution_count": null,
   "metadata": {},
   "outputs": [],
   "source": []
  },
  {
   "cell_type": "code",
   "execution_count": null,
   "metadata": {},
   "outputs": [],
   "source": [
    "## What state is the most market-friendly?\n",
    "\n",
    "markets_and_pop = (markets\n",
    "    .groupby('state', as_index = False)\n",
    "    .agg({\n",
    "       'name': lambda d: log(len(d)),\n",
    "       'state_pop': lambda d: log(d.iloc[0]) })\n",
    "    .rename(columns = {\n",
    "        'name': 'log_markets', \n",
    "        'state_pop': 'log_pop' }))\n",
    "\n",
    "\n",
    "\n",
    "g = sns.regplot(\"log_markets\", \"log_pop\", \n",
    "                ci = False,    \n",
    "                # Shrink scatter plot points\n",
    "                scatter_kws = {'s':2},\n",
    "                data = markets_and_pop)\n",
    "\n",
    "# Iterate over the rows of the data\n",
    "for _, row in markets_and_pop.iterrows():\n",
    "    state, _, _, log_markets, log_pop = row\n",
    "    # Place annotation and reduce size for clarity\n",
    "    g.annotate(state, (log_markets,log_pop), size = 10)\n",
    "\n",
    "plt.show()"
   ]
  },
  {
   "cell_type": "code",
   "execution_count": null,
   "metadata": {},
   "outputs": [],
   "source": []
  },
  {
   "cell_type": "code",
   "execution_count": null,
   "metadata": {},
   "outputs": [],
   "source": [
    "### Popularity of goods sold by state\n",
    "\n",
    "# Subset goods to interesting ones\n",
    "to_plot = ['Cheese','Maple','Fruits','Grains','Seafood','Plants','Vegetables']\n",
    "goods_by_state_small = goods_by_state.query(\"good in \"+str(to_plot))\n",
    "\n",
    "g = sns.scatterplot('good','prop_selling', data = goods_by_state_small,\n",
    "                    # Hide scatter points by shrinking to nothing\n",
    "                    s = 0)\n",
    "\n",
    "for _,row in goods_by_state_small.iterrows():\n",
    "  g.annotate(row['state'], (row['good'], row['prop_selling']), \n",
    "             # Center annotation on axis\n",
    "             ha = 'center', \n",
    "             size = 10)\n",
    "\n",
    "plt.show()"
   ]
  },
  {
   "cell_type": "code",
   "execution_count": null,
   "metadata": {},
   "outputs": [],
   "source": []
  },
  {
   "cell_type": "code",
   "execution_count": null,
   "metadata": {},
   "outputs": [],
   "source": [
    "### Stacking to find trends\n",
    "\n",
    "# Setup two stacked plots\n",
    "_, (ax1, ax2) = plt.subplots(2, 1)\n",
    "\n",
    "# Draw location scatter plot on first plot\n",
    "sns.scatterplot(\"lat\", \"lon\", 'months_open', \n",
    "                palette = sns.light_palette(\"orangered\",n_colors = 12), \n",
    "                legend = False, data = markets,\n",
    "                ax = ax1);\n",
    "\n",
    "# Plot a regression plot on second plot\n",
    "sns.regplot('lat', 'months_open',\n",
    "            scatter_kws = {'alpha': 0.2, 'color': 'gray', 'marker': '|'},\n",
    "            lowess = True,\n",
    "            marker = '|', data = markets, \n",
    "            ax = ax2)\n",
    "\n",
    "plt.show()"
   ]
  },
  {
   "cell_type": "code",
   "execution_count": null,
   "metadata": {},
   "outputs": [],
   "source": []
  },
  {
   "cell_type": "code",
   "execution_count": null,
   "metadata": {},
   "outputs": [],
   "source": [
    "## Stacking to find trends \n",
    "\n",
    "# Setup two stacked plots\n",
    "_, (ax1, ax2) = plt.subplots(2, 1)\n",
    "\n",
    "# Draw location scatter plot on first plot\n",
    "sns.scatterplot(\"lat\", \"lon\", 'months_open', \n",
    "                palette = sns.light_palette(\"orangered\",n_colors = 12), \n",
    "                legend = False, data = markets,\n",
    "                ax = ax1);\n",
    "\n",
    "# Plot a regression plot on second plot\n",
    "sns.regplot('lat', 'months_open',\n",
    "            scatter_kws = {'alpha': 0.2, 'color': 'gray', 'marker': '|'},\n",
    "            lowess = True,\n",
    "            marker = '|', data = markets, \n",
    "            ax = ax2)\n",
    "\n",
    "plt.show()"
   ]
  },
  {
   "cell_type": "code",
   "execution_count": null,
   "metadata": {},
   "outputs": [],
   "source": []
  },
  {
   "cell_type": "code",
   "execution_count": null,
   "metadata": {},
   "outputs": [],
   "source": [
    "### Using a plot as a legend\n",
    "\n",
    "# Set up two side-by-side plots\n",
    "f, (ax1, ax2) = plt.subplots(1, 2, figsize = (15, 15))\n",
    "\n",
    "# Map the column for selected states to the bar color\n",
    "sns.barplot('people_per_market', 'state', hue = 'is_selected',\n",
    "            # Disable dodge so bars are full size\n",
    "            dodge = False, \n",
    "            data = markets_by_state, ax = ax1)\n",
    "\n",
    "# Map selected states to point color\n",
    "sns.scatterplot('log_pop', 'log_markets', hue = 'is_selected', \n",
    "                data = markets_by_state, ax = ax2, s = 100)\n",
    "\n",
    "# Remove the legend for both plots\n",
    "ax1.legend_.remove()\n",
    "ax2.legend_.remove() \n",
    "plt.show() "
   ]
  },
  {
   "cell_type": "code",
   "execution_count": null,
   "metadata": {},
   "outputs": [],
   "source": []
  },
  {
   "cell_type": "code",
   "execution_count": null,
   "metadata": {},
   "outputs": [],
   "source": [
    "### Cleaning up the background\n",
    "\n",
    "# Set background to white with grid\n",
    "sns.set_style('whitegrid')\n",
    "\n",
    "plt.scatter('good','prop selling', marker = '_', alpha = 0.7, data = goods_by_state)\n",
    "\n",
    "# Draw lines across goods for highlighted states\n",
    "highlighted = goods_by_state.query(\"state in ['New Mexico','North Dakota','Vermont']\")\n",
    "sns.lineplot('good','prop selling', 'state', data = highlighted, legend = False)\n",
    "\n",
    "# Draw state name at end of lines\n",
    "last_rows = highlighted.groupby('state', as_index = False).agg('first')\n",
    "\n",
    "for _,row in last_rows.iterrows():\n",
    "    plt.annotate(row['state'], (row['good'], row['prop selling']),\n",
    "                 ha = 'right', xytext = (5,0), textcoords = 'offset pixels')\n",
    "\n",
    "# Remove all borders\n",
    "sns.despine(bottom= True, left = True)\n",
    "plt.show()"
   ]
  },
  {
   "cell_type": "code",
   "execution_count": null,
   "metadata": {},
   "outputs": [],
   "source": []
  },
  {
   "cell_type": "code",
   "execution_count": null,
   "metadata": {},
   "outputs": [],
   "source": [
    "### Remixing a plot \n",
    "\n",
    "# Decrease font size so state names are less crowded\n",
    "sns.set(font_scale = 0.85)\n",
    "\n",
    "# Switch to an appropriate color palette\n",
    "blue_pal = sns.light_palette(\"steelblue\", as_cmap = True)\n",
    "\n",
    "# Order states by longitude\n",
    "g = sns.heatmap(markets_by_month.reindex(state_by_lon), \n",
    "            # Add gaps between cells\n",
    "            linewidths = 0.1, \n",
    "            # Set new palette and remove color bar \n",
    "            cmap = blue_pal, cbar = False,\n",
    "            yticklabels = True)\n",
    "\n",
    "# Rotate y-axis ticks \n",
    "g.set_yticklabels(g.get_yticklabels(), rotation = 0)\n",
    "plt.title('Distribution of months open for farmers markets by longitude')\n",
    "plt.show()"
   ]
  },
  {
   "cell_type": "code",
   "execution_count": null,
   "metadata": {},
   "outputs": [],
   "source": []
  },
  {
   "cell_type": "code",
   "execution_count": null,
   "metadata": {},
   "outputs": [],
   "source": [
    "### Enhancing legibility\n",
    "\n",
    "# Draw barplot w/ colors mapped to state_colors vector\n",
    "sns.barplot('people_per_market', 'state', palette = state_colors,\n",
    "            data = markets_by_state, ax = ax1)\n",
    "\n",
    "# Map state colors vector to the scatterplot as well\n",
    "p = sns.scatterplot('population', 'num_markets', color = state_colors,\n",
    "                    data = markets_by_state, s = 60, ax = ax2)\n",
    "\n",
    "# Log the x and y scales of our scatter plot so it's easier to read\n",
    "ax2.set(xscale = \"log\", yscale = 'log')\n",
    "\n",
    "# Increase annotation text size for legibility\n",
    "ax2.annotate(tx_message, xy = (26956958,230), \n",
    "             xytext = (26956958, 450),ha = 'right', \n",
    "             size = 15, backgroundcolor = 'white',\n",
    "             arrowprops = {'facecolor':'black', 'width': 3})\n",
    "\n",
    "sns.set_style('whitegrid')\n",
    "plt.show()"
   ]
  },
  {
   "cell_type": "code",
   "execution_count": null,
   "metadata": {},
   "outputs": [],
   "source": []
  },
  {
   "cell_type": "code",
   "execution_count": null,
   "metadata": {},
   "outputs": [],
   "source": []
  },
  {
   "cell_type": "code",
   "execution_count": null,
   "metadata": {},
   "outputs": [],
   "source": []
  },
  {
   "cell_type": "code",
   "execution_count": null,
   "metadata": {},
   "outputs": [],
   "source": []
  },
  {
   "cell_type": "code",
   "execution_count": null,
   "metadata": {},
   "outputs": [],
   "source": []
  },
  {
   "cell_type": "code",
   "execution_count": null,
   "metadata": {},
   "outputs": [],
   "source": []
  },
  {
   "cell_type": "code",
   "execution_count": null,
   "metadata": {},
   "outputs": [],
   "source": []
  },
  {
   "cell_type": "code",
   "execution_count": null,
   "metadata": {},
   "outputs": [],
   "source": []
  },
  {
   "cell_type": "code",
   "execution_count": null,
   "metadata": {},
   "outputs": [],
   "source": []
  }
 ],
 "metadata": {
  "kernelspec": {
   "display_name": "Python [default]",
   "language": "python",
   "name": "python3"
  },
  "language_info": {
   "codemirror_mode": {
    "name": "ipython",
    "version": 3
   },
   "file_extension": ".py",
   "mimetype": "text/x-python",
   "name": "python",
   "nbconvert_exporter": "python",
   "pygments_lexer": "ipython3",
   "version": "3.6.8"
  }
 },
 "nbformat": 4,
 "nbformat_minor": 2
}
