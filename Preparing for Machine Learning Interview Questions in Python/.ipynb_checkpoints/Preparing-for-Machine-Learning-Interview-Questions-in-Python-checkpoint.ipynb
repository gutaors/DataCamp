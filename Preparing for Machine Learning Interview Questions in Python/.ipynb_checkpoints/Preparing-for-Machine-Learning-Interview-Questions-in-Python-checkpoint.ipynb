{
 "cells": [
  {
   "cell_type": "markdown",
   "metadata": {},
   "source": [
    "## Data Pre-processing and Visualization"
   ]
  },
  {
   "cell_type": "markdown",
   "metadata": {},
   "source": [
    "### The hunt for missing values"
   ]
  },
  {
   "cell_type": "code",
   "execution_count": 1,
   "metadata": {},
   "outputs": [],
   "source": [
    "# Import modules\n",
    "import numpy as np\n",
    "import pandas as pd\n",
    "loan_data = pd.read_csv('loan_missing_filled.csv')"
   ]
  },
  {
   "cell_type": "code",
   "execution_count": 2,
   "metadata": {},
   "outputs": [
    {
     "name": "stdout",
     "output_type": "stream",
     "text": [
      "Current Loan Amount             0\n",
      "Credit Score                    0\n",
      "Years in current job            0\n",
      "Annual Income                   0\n",
      "Monthly Debt                    0\n",
      "Years of Credit History         0\n",
      "Months since last delinquent    0\n",
      "Number of Open Accounts         0\n",
      "Number of Credit Problems       0\n",
      "Current Credit Balance          0\n",
      "Maximum Open Credit             0\n",
      "Bankruptcies                    0\n",
      "Tax Liens                       0\n",
      "dtype: int64\n"
     ]
    }
   ],
   "source": [
    "# Print missing values\n",
    "print(loan_data.isnull().sum())"
   ]
  },
  {
   "cell_type": "code",
   "execution_count": 3,
   "metadata": {},
   "outputs": [
    {
     "name": "stdout",
     "output_type": "stream",
     "text": [
      "100.0\n"
     ]
    }
   ],
   "source": [
    "# Drop rows with missing values\n",
    "dropNArows = loan_data.dropna(axis = 0)\n",
    "\n",
    "# Print percentage of rows remaining\n",
    "print(dropNArows.shape[0]/loan_data.shape[0] * 100)"
   ]
  },
  {
   "cell_type": "code",
   "execution_count": 4,
   "metadata": {},
   "outputs": [
    {
     "name": "stdout",
     "output_type": "stream",
     "text": [
      "100.0\n"
     ]
    }
   ],
   "source": [
    "# Drop columns with missing values\n",
    "dropNAcols = loan_data.dropna(axis = 1)\n",
    "\n",
    "# Print percentage of columns remaining\n",
    "print(dropNAcols.shape[1]/loan_data.shape[1] * 100)"
   ]
  },
  {
   "cell_type": "code",
   "execution_count": 5,
   "metadata": {},
   "outputs": [],
   "source": [
    "# Fill missing values with zero\n",
    "loan_data_filled = loan_data.fillna(0)"
   ]
  },
  {
   "cell_type": "markdown",
   "metadata": {},
   "source": [
    "### Simple imputation"
   ]
  },
  {
   "cell_type": "code",
   "execution_count": 6,
   "metadata": {},
   "outputs": [
    {
     "name": "stdout",
     "output_type": "stream",
     "text": [
      "<class 'pandas.core.frame.DataFrame'>\n",
      "RangeIndex: 88910 entries, 0 to 88909\n",
      "Data columns (total 13 columns):\n",
      "Current Loan Amount             88910 non-null float64\n",
      "Credit Score                    88910 non-null float64\n",
      "Years in current job            88910 non-null float64\n",
      "Annual Income                   88910 non-null float64\n",
      "Monthly Debt                    88910 non-null float64\n",
      "Years of Credit History         88910 non-null float64\n",
      "Months since last delinquent    88910 non-null float64\n",
      "Number of Open Accounts         88910 non-null float64\n",
      "Number of Credit Problems       88910 non-null float64\n",
      "Current Credit Balance          88910 non-null float64\n",
      "Maximum Open Credit             88910 non-null float64\n",
      "Bankruptcies                    88910 non-null float64\n",
      "Tax Liens                       88910 non-null float64\n",
      "dtypes: float64(13)\n",
      "memory usage: 8.8 MB\n",
      "None\n"
     ]
    }
   ],
   "source": [
    "# Import imputer module\n",
    "from sklearn.impute import SimpleImputer\n",
    "\n",
    "# Subset numeric features: numeric_cols\n",
    "numeric_cols = loan_data.select_dtypes(include=[np.number])\n",
    "\n",
    "# Impute with mean\n",
    "imp_mean = SimpleImputer(strategy='mean')\n",
    "loans_imp_mean = imp_mean.fit_transform(numeric_cols)\n",
    "\n",
    "# Convert returned array to DataFrame\n",
    "loans_imp_meanDF = pd.DataFrame(loans_imp_mean, columns=numeric_cols.columns)\n",
    "\n",
    "# Check the DataFrame's info\n",
    "print(loans_imp_meanDF.info())"
   ]
  },
  {
   "cell_type": "markdown",
   "metadata": {},
   "source": [
    "### Iterative imputation"
   ]
  },
  {
   "cell_type": "code",
   "execution_count": 7,
   "metadata": {},
   "outputs": [
    {
     "name": "stdout",
     "output_type": "stream",
     "text": [
      "<class 'pandas.core.frame.DataFrame'>\n",
      "RangeIndex: 88910 entries, 0 to 88909\n",
      "Data columns (total 13 columns):\n",
      "Current Loan Amount             88910 non-null float64\n",
      "Credit Score                    88910 non-null float64\n",
      "Years in current job            88910 non-null float64\n",
      "Annual Income                   88910 non-null float64\n",
      "Monthly Debt                    88910 non-null float64\n",
      "Years of Credit History         88910 non-null float64\n",
      "Months since last delinquent    88910 non-null float64\n",
      "Number of Open Accounts         88910 non-null float64\n",
      "Number of Credit Problems       88910 non-null float64\n",
      "Current Credit Balance          88910 non-null float64\n",
      "Maximum Open Credit             88910 non-null float64\n",
      "Bankruptcies                    88910 non-null float64\n",
      "Tax Liens                       88910 non-null float64\n",
      "dtypes: float64(13)\n",
      "memory usage: 8.8 MB\n",
      "None\n"
     ]
    }
   ],
   "source": [
    "# Explicitly require this experimental feature\n",
    "from sklearn.experimental import enable_iterative_imputer\n",
    "# Now you can import normally from sklearn.impute\n",
    "from sklearn.impute import IterativeImputer\n",
    "\n",
    "# Subset numeric features: numeric_cols\n",
    "numeric_cols = loan_data.select_dtypes(include=[np.number])\n",
    "\n",
    "# Iteratively impute\n",
    "imp_iter = IterativeImputer(max_iter=5, sample_posterior=True, random_state=123)\n",
    "loans_imp_iter = imp_iter.fit_transform(numeric_cols)\n",
    "\n",
    "# Convert returned array to DataFrame\n",
    "loans_imp_iterDF = pd.DataFrame(loans_imp_iter, columns=numeric_cols.columns)\n",
    "\n",
    "# Check the DataFrame's info\n",
    "print(loans_imp_iterDF.info())"
   ]
  },
  {
   "cell_type": "code",
   "execution_count": 8,
   "metadata": {},
   "outputs": [],
   "source": [
    "loan_data['Loan Status'] = np.random.binomial(1, 0.71, loan_data.shape[0])"
   ]
  },
  {
   "cell_type": "markdown",
   "metadata": {},
   "source": [
    "### Train/test distributions"
   ]
  },
  {
   "cell_type": "code",
   "execution_count": 9,
   "metadata": {},
   "outputs": [
    {
     "name": "stderr",
     "output_type": "stream",
     "text": [
      "C:\\Users\\hwdgr\\Anaconda3\\lib\\site-packages\\statsmodels\\nonparametric\\kde.py:487: RuntimeWarning: invalid value encountered in true_divide\n",
      "  binned = fast_linbin(X, a, b, gridsize) / (delta * nobs)\n",
      "C:\\Users\\hwdgr\\Anaconda3\\lib\\site-packages\\statsmodels\\nonparametric\\kdetools.py:34: RuntimeWarning: invalid value encountered in double_scalars\n",
      "  FAC1 = 2*(np.pi*bw/RANGE)**2\n"
     ]
    },
    {
     "data": {
      "text/plain": [
       "<Figure size 432x288 with 0 Axes>"
      ]
     },
     "metadata": {},
     "output_type": "display_data"
    },
    {
     "data": {
      "image/png": "[encoded data removed]",
      "text/plain": [
       "<Figure size 606.875x540 with 12 Axes>"
      ]
     },
     "metadata": {
      "needs_background": "light"
     },
     "output_type": "display_data"
    },
    {
     "data": {
      "text/plain": [
       "<Figure size 432x288 with 0 Axes>"
      ]
     },
     "metadata": {},
     "output_type": "display_data"
    },
    {
     "data": {
      "image/png": "[encoded data removed]",
      "text/plain": [
       "<Figure size 606.875x540 with 12 Axes>"
      ]
     },
     "metadata": {
      "needs_background": "light"
     },
     "output_type": "display_data"
    }
   ],
   "source": [
    "from sklearn.model_selection import train_test_split\n",
    "import matplotlib.pyplot as plt\n",
    "import seaborn as sns\n",
    "%matplotlib inline\n",
    "# Create `loan_data` subset: loan_data_subset\n",
    "loan_data_subset = loan_data[['Credit Score','Annual Income','Loan Status']]\n",
    "\n",
    "# Create train and test sets\n",
    "trainingSet, testSet = train_test_split(loan_data_subset, test_size=0.2, random_state=123)\n",
    "\n",
    "# Examine pairplots\n",
    "plt.figure()\n",
    "sns.pairplot(trainingSet, hue='Loan Status', palette='RdBu')\n",
    "plt.show()\n",
    "\n",
    "plt.figure()\n",
    "sns.pairplot(testSet, hue='Loan Status', palette='RdBu')\n",
    "plt.show()"
   ]
  },
  {
   "cell_type": "markdown",
   "metadata": {},
   "source": [
    "### Log and power transformations"
   ]
  },
  {
   "cell_type": "code",
   "execution_count": 10,
   "metadata": {},
   "outputs": [
    {
     "data": {
      "image/png": "[encoded data removed]",
      "text/plain": [
       "<Figure size 432x288 with 1 Axes>"
      ]
     },
     "metadata": {
      "needs_background": "light"
     },
     "output_type": "display_data"
    }
   ],
   "source": [
    "# Subset loan_data\n",
    "cr_yrs = loan_data['Years of Credit History']\n",
    "\n",
    "# Histogram and kernel density estimate\n",
    "plt.figure()\n",
    "sns.distplot(cr_yrs)\n",
    "plt.show()"
   ]
  },
  {
   "cell_type": "code",
   "execution_count": 11,
   "metadata": {},
   "outputs": [
    {
     "data": {
      "image/png": "[encoded data removed]",
      "text/plain": [
       "<Figure size 432x288 with 1 Axes>"
      ]
     },
     "metadata": {
      "needs_background": "light"
     },
     "output_type": "display_data"
    }
   ],
   "source": [
    "from scipy.stats import boxcox\n",
    "# Subset loan_data\n",
    "cr_yrs = loan_data['Years of Credit History']\n",
    "\n",
    "# Box-Cox transformation\n",
    "cr_yrs_log = boxcox(cr_yrs, lmbda=0.0)\n",
    "\n",
    "# Histogram and kernel density estimate\n",
    "plt.figure()\n",
    "sns.distplot(cr_yrs_log)\n",
    "plt.show()"
   ]
  },
  {
   "cell_type": "code",
   "execution_count": 12,
   "metadata": {},
   "outputs": [
    {
     "data": {
      "image/png": "[encoded data removed]",
      "text/plain": [
       "<Figure size 432x288 with 1 Axes>"
      ]
     },
     "metadata": {
      "needs_background": "light"
     },
     "output_type": "display_data"
    }
   ],
   "source": [
    "# Subset loan_data\n",
    "cr_yrs = loan_data['Years of Credit History']\n",
    "\n",
    "# Square root transform\n",
    "cr_yrs_sqrt = boxcox(cr_yrs, lmbda=0.5)\n",
    "\n",
    "# Histogram and kernel density estimate\n",
    "plt.figure()\n",
    "sns.distplot(cr_yrs_sqrt)\n",
    "plt.show()"
   ]
  },
  {
   "cell_type": "markdown",
   "metadata": {},
   "source": [
    "### Outlier detection"
   ]
  },
  {
   "cell_type": "code",
   "execution_count": 13,
   "metadata": {},
   "outputs": [
    {
     "data": {
      "image/png": "[encoded data removed]",
      "text/plain": [
       "<Figure size 432x288 with 2 Axes>"
      ]
     },
     "metadata": {
      "needs_background": "light"
     },
     "output_type": "display_data"
    }
   ],
   "source": [
    "# Univariate and multivariate boxplots\n",
    "fig, ax =plt.subplots(1,2)\n",
    "sns.boxplot(y=loan_data['Annual Income'], ax=ax[0])\n",
    "sns.boxplot(x='Loan Status', y='Annual Income', data=loan_data, ax=ax[1])\n",
    "plt.show()"
   ]
  },
  {
   "cell_type": "code",
   "execution_count": 14,
   "metadata": {},
   "outputs": [
    {
     "data": {
      "image/png": "[encoded data removed]",
      "text/plain": [
       "<Figure size 432x288 with 2 Axes>"
      ]
     },
     "metadata": {
      "needs_background": "light"
     },
     "output_type": "display_data"
    }
   ],
   "source": [
    "# Multivariate boxplot\n",
    "fig, ax =plt.subplots(1,2)\n",
    "sns.boxplot(y=loan_data['Monthly Debt'], ax=ax[0])\n",
    "sns.boxplot(x='Loan Status', y='Monthly Debt', data=loan_data, ax=ax[1])\n",
    "plt.show()"
   ]
  },
  {
   "cell_type": "code",
   "execution_count": 15,
   "metadata": {},
   "outputs": [
    {
     "data": {
      "image/png": "[encoded data removed]",
      "text/plain": [
       "<Figure size 432x288 with 2 Axes>"
      ]
     },
     "metadata": {
      "needs_background": "light"
     },
     "output_type": "display_data"
    }
   ],
   "source": [
    "# Univariate and multivariate boxplots\n",
    "fig, ax =plt.subplots(1,2)\n",
    "sns.boxplot(x=loan_data['Years of Credit History'], ax=ax[0])\n",
    "sns.boxplot(x='Loan Status', y='Years of Credit History', data=loan_data, ax=ax[1])\n",
    "plt.show()"
   ]
  },
  {
   "cell_type": "markdown",
   "metadata": {},
   "source": [
    "### Handling outliers"
   ]
  },
  {
   "cell_type": "code",
   "execution_count": 16,
   "metadata": {},
   "outputs": [
    {
     "name": "stdout",
     "output_type": "stream",
     "text": [
      "Current Loan Amount             11937.624913\n",
      "Credit Score                      721.198303\n",
      "Years in current job                5.721263\n",
      "Annual Income                   72749.391817\n",
      "Monthly Debt                      963.102059\n",
      "Years of Credit History            18.315313\n",
      "Months since last delinquent       35.576659\n",
      "Number of Open Accounts            11.110348\n",
      "Number of Credit Problems           0.160477\n",
      "Current Credit Balance          15435.932752\n",
      "Maximum Open Credit             33568.124339\n",
      "Bankruptcies                        0.112488\n",
      "Tax Liens                           0.028221\n",
      "dtype: float64\n",
      "Current Loan Amount             11623.387031\n",
      "Credit Score                      723.253084\n",
      "Years in current job                5.704660\n",
      "Annual Income                   68503.602998\n",
      "Monthly Debt                      907.364200\n",
      "Years of Credit History            17.861675\n",
      "Months since last delinquent       35.643633\n",
      "Number of Open Accounts            10.819309\n",
      "Number of Credit Problems           0.111294\n",
      "Current Credit Balance          13779.543486\n",
      "Maximum Open Credit             27561.576801\n",
      "Bankruptcies                        0.100024\n",
      "Tax Liens                           0.000002\n",
      "Loan Status                         0.710905\n",
      "dtype: float64\n"
     ]
    }
   ],
   "source": [
    "from scipy import stats\n",
    "categoric_cols = loan_data[[i for i in loan_data.columns if i not in numeric_cols.columns]]\n",
    "\n",
    "# Print: before dropping\n",
    "print(numeric_cols.mean())\n",
    "# print(numeric_cols.median())\n",
    "# print(numeric_cols.max())\n",
    "\n",
    "# Create index of rows to keep\n",
    "idx = (np.abs(stats.zscore(numeric_cols)) < 3).all(axis=1)\n",
    "\n",
    "# Concatenate numeric and categoric subsets\n",
    "ld_out_drop = pd.concat([numeric_cols.loc[idx], categoric_cols.loc[idx]], axis=1)\n",
    "\n",
    "# Print: after dropping\n",
    "print(ld_out_drop.mean())\n",
    "# print(ld_out_drop.median())\n",
    "# print(ld_out_drop.max())"
   ]
  },
  {
   "cell_type": "code",
   "execution_count": 17,
   "metadata": {},
   "outputs": [
    {
     "name": "stdout",
     "output_type": "stream",
     "text": [
      "963.1020592734293\n",
      "Monthly Debt    935.371257\n",
      "dtype: float64\n"
     ]
    }
   ],
   "source": [
    "from scipy.stats import mstats\n",
    "# Print: before winsorize\n",
    "print((loan_data['Monthly Debt']).mean())\n",
    "# print((loan_data['Monthly Debt']).median())\n",
    "# print((loan_data['Monthly Debt']).max())\n",
    "\n",
    "# Winsorize numeric columns\n",
    "debt_win =  mstats.winsorize(loan_data['Monthly Debt'], limits=[0.05, 0.05])\n",
    "\n",
    "# Convert to DataFrame, reassign column name\n",
    "debt_out = pd.DataFrame(debt_win, columns=['Monthly Debt'])\n",
    "\n",
    "# Print: after winsorize\n",
    "print(debt_out.mean())\n",
    "# print(debt_out.median())\n",
    "# print(debt_out.max())"
   ]
  },
  {
   "cell_type": "code",
   "execution_count": 18,
   "metadata": {},
   "outputs": [
    {
     "name": "stdout",
     "output_type": "stream",
     "text": [
      "963.1020592734293\n",
      "866.8290722078564\n"
     ]
    }
   ],
   "source": [
    "# Print: before replace with median\n",
    "print((loan_data['Monthly Debt']).mean())\n",
    "# print((loan_data['Monthly Debt']).median())\n",
    "# print((loan_data['Monthly Debt']).max())\n",
    "\n",
    "# Find median\n",
    "median = loan_data.loc[loan_data['Monthly Debt'] < 2120, 'Monthly Debt'].median()\n",
    "loan_data['Monthly Debt'] = np.where(loan_data['Monthly Debt'] > 2120, median, loan_data['Monthly Debt'])\n",
    "\n",
    "# Print: after replace with median\n",
    "print((loan_data['Monthly Debt']).mean())\n",
    "# print((loan_data['Monthly Debt']).median())\n",
    "# print((loan_data['Monthly Debt']).max())"
   ]
  },
  {
   "cell_type": "markdown",
   "metadata": {},
   "source": [
    " ### Z-score standardization"
   ]
  },
  {
   "cell_type": "code",
   "execution_count": 19,
   "metadata": {},
   "outputs": [
    {
     "data": {
      "text/html": [
       "<div>\n",
       "<style scoped>\n",
       "    .dataframe tbody tr th:only-of-type {\n",
       "        vertical-align: middle;\n",
       "    }\n",
       "\n",
       "    .dataframe tbody tr th {\n",
       "        vertical-align: top;\n",
       "    }\n",
       "\n",
       "    .dataframe thead th {\n",
       "        text-align: right;\n",
       "    }\n",
       "</style>\n",
       "<table border=\"1\" class=\"dataframe\">\n",
       "  <thead>\n",
       "    <tr style=\"text-align: right;\">\n",
       "      <th></th>\n",
       "      <th>Current Loan Amount</th>\n",
       "      <th>Credit Score</th>\n",
       "      <th>Years in current job</th>\n",
       "      <th>Annual Income</th>\n",
       "      <th>Monthly Debt</th>\n",
       "      <th>Years of Credit History</th>\n",
       "      <th>Months since last delinquent</th>\n",
       "      <th>Number of Open Accounts</th>\n",
       "      <th>Number of Credit Problems</th>\n",
       "      <th>Current Credit Balance</th>\n",
       "      <th>Maximum Open Credit</th>\n",
       "      <th>Bankruptcies</th>\n",
       "      <th>Tax Liens</th>\n",
       "      <th>Loan Status</th>\n",
       "    </tr>\n",
       "  </thead>\n",
       "  <tbody>\n",
       "    <tr>\n",
       "      <th>0</th>\n",
       "      <td>0.032520</td>\n",
       "      <td>0.281670</td>\n",
       "      <td>-1.312259</td>\n",
       "      <td>-0.493295</td>\n",
       "      <td>-0.195819</td>\n",
       "      <td>-0.044731</td>\n",
       "      <td>-1.681931</td>\n",
       "      <td>0.178701</td>\n",
       "      <td>-0.338742</td>\n",
       "      <td>-0.441228</td>\n",
       "      <td>-0.097522</td>\n",
       "      <td>-0.327934</td>\n",
       "      <td>-0.109589</td>\n",
       "      <td>0.635683</td>\n",
       "    </tr>\n",
       "    <tr>\n",
       "      <th>1</th>\n",
       "      <td>1.444549</td>\n",
       "      <td>0.488729</td>\n",
       "      <td>1.189261</td>\n",
       "      <td>0.157771</td>\n",
       "      <td>0.055307</td>\n",
       "      <td>1.189463</td>\n",
       "      <td>-0.042509</td>\n",
       "      <td>0.580434</td>\n",
       "      <td>-0.338742</td>\n",
       "      <td>1.031104</td>\n",
       "      <td>0.168967</td>\n",
       "      <td>-0.327934</td>\n",
       "      <td>-0.109589</td>\n",
       "      <td>0.635683</td>\n",
       "    </tr>\n",
       "    <tr>\n",
       "      <th>2</th>\n",
       "      <td>0.461696</td>\n",
       "      <td>0.116023</td>\n",
       "      <td>0.911314</td>\n",
       "      <td>-0.232631</td>\n",
       "      <td>0.825827</td>\n",
       "      <td>-0.229151</td>\n",
       "      <td>-0.235202</td>\n",
       "      <td>-0.022165</td>\n",
       "      <td>1.772105</td>\n",
       "      <td>-0.211660</td>\n",
       "      <td>-0.071377</td>\n",
       "      <td>2.587350</td>\n",
       "      <td>-0.109589</td>\n",
       "      <td>0.635683</td>\n",
       "    </tr>\n",
       "    <tr>\n",
       "      <th>3</th>\n",
       "      <td>-0.024483</td>\n",
       "      <td>0.778611</td>\n",
       "      <td>-0.756366</td>\n",
       "      <td>-0.728961</td>\n",
       "      <td>0.271730</td>\n",
       "      <td>-1.179622</td>\n",
       "      <td>0.142336</td>\n",
       "      <td>1.986499</td>\n",
       "      <td>-0.338742</td>\n",
       "      <td>-0.428664</td>\n",
       "      <td>0.037928</td>\n",
       "      <td>-0.327934</td>\n",
       "      <td>-0.109589</td>\n",
       "      <td>0.635683</td>\n",
       "    </tr>\n",
       "    <tr>\n",
       "      <th>4</th>\n",
       "      <td>-0.237359</td>\n",
       "      <td>-1.457623</td>\n",
       "      <td>1.189261</td>\n",
       "      <td>-0.486493</td>\n",
       "      <td>-0.795018</td>\n",
       "      <td>-0.229151</td>\n",
       "      <td>-0.695525</td>\n",
       "      <td>0.379568</td>\n",
       "      <td>1.772105</td>\n",
       "      <td>0.075136</td>\n",
       "      <td>-0.053344</td>\n",
       "      <td>2.587350</td>\n",
       "      <td>-0.109589</td>\n",
       "      <td>0.635683</td>\n",
       "    </tr>\n",
       "  </tbody>\n",
       "</table>\n",
       "</div>"
      ],
      "text/plain": [
       "   Current Loan Amount  Credit Score  Years in current job  Annual Income  \\\n",
       "0             0.032520      0.281670             -1.312259      -0.493295   \n",
       "1             1.444549      0.488729              1.189261       0.157771   \n",
       "2             0.461696      0.116023              0.911314      -0.232631   \n",
       "3            -0.024483      0.778611             -0.756366      -0.728961   \n",
       "4            -0.237359     -1.457623              1.189261      -0.486493   \n",
       "\n",
       "   Monthly Debt  Years of Credit History  Months since last delinquent  \\\n",
       "0     -0.195819                -0.044731                     -1.681931   \n",
       "1      0.055307                 1.189463                     -0.042509   \n",
       "2      0.825827                -0.229151                     -0.235202   \n",
       "3      0.271730                -1.179622                      0.142336   \n",
       "4     -0.795018                -0.229151                     -0.695525   \n",
       "\n",
       "   Number of Open Accounts  Number of Credit Problems  Current Credit Balance  \\\n",
       "0                 0.178701                  -0.338742               -0.441228   \n",
       "1                 0.580434                  -0.338742                1.031104   \n",
       "2                -0.022165                   1.772105               -0.211660   \n",
       "3                 1.986499                  -0.338742               -0.428664   \n",
       "4                 0.379568                   1.772105                0.075136   \n",
       "\n",
       "   Maximum Open Credit  Bankruptcies  Tax Liens  Loan Status  \n",
       "0            -0.097522     -0.327934  -0.109589     0.635683  \n",
       "1             0.168967     -0.327934  -0.109589     0.635683  \n",
       "2            -0.071377      2.587350  -0.109589     0.635683  \n",
       "3             0.037928     -0.327934  -0.109589     0.635683  \n",
       "4            -0.053344      2.587350  -0.109589     0.635683  "
      ]
     },
     "execution_count": 19,
     "metadata": {},
     "output_type": "execute_result"
    }
   ],
   "source": [
    "from sklearn.preprocessing import StandardScaler\n",
    "# Subset features\n",
    "numeric_cols = loan_data.select_dtypes(include=[np.number])\n",
    "categoric_cols = loan_data.select_dtypes(include=[object])\n",
    "\n",
    "# Instantiate\n",
    "scaler = StandardScaler()\n",
    "\n",
    "# Fit and transform, convert to DF\n",
    "numeric_cols_scaled = scaler.fit_transform(numeric_cols)\n",
    "numeric_cols_scaledDF = pd.DataFrame(numeric_cols_scaled, columns=numeric_cols.columns)\n",
    "\n",
    "# Concatenate categoric columns to scaled numeric columns\n",
    "final_DF = pd.concat([numeric_cols_scaledDF, categoric_cols], axis =1)\n",
    "final_DF.head()"
   ]
  },
  {
   "cell_type": "markdown",
   "metadata": {},
   "source": [
    "## Supervised Learning\n"
   ]
  },
  {
   "cell_type": "markdown",
   "metadata": {},
   "source": [
    "### Filter and wrapper methods"
   ]
  },
  {
   "cell_type": "code",
   "execution_count": 20,
   "metadata": {},
   "outputs": [],
   "source": [
    "diabetes = pd.read_csv('diabetes.csv')"
   ]
  },
  {
   "cell_type": "code",
   "execution_count": 21,
   "metadata": {},
   "outputs": [
    {
     "name": "stdout",
     "output_type": "stream",
     "text": [
      "                  age       sex       bmi        bp        s1        s2  \\\n",
      "age          1.000000  0.173737  0.185085  0.335427  0.260061  0.219243   \n",
      "sex          0.173737  1.000000  0.088161  0.241013  0.035277  0.142637   \n",
      "bmi          0.185085  0.088161  1.000000  0.395415  0.249777  0.261170   \n",
      "bp           0.335427  0.241013  0.395415  1.000000  0.242470  0.185558   \n",
      "s1           0.260061  0.035277  0.249777  0.242470  1.000000  0.896663   \n",
      "s2           0.219243  0.142637  0.261170  0.185558  0.896663  1.000000   \n",
      "s3          -0.075181 -0.379090 -0.366811 -0.178761  0.051519 -0.196455   \n",
      "s4           0.203841  0.332115  0.413807  0.257653  0.542207  0.659817   \n",
      "s5           0.270777  0.149918  0.446159  0.393478  0.515501  0.318353   \n",
      "s6           0.301731  0.208133  0.388680  0.390429  0.325717  0.290600   \n",
      "progression  0.187889  0.043062  0.586450  0.441484  0.212022  0.174054   \n",
      "\n",
      "                   s3        s4        s5        s6  progression  \n",
      "age         -0.075181  0.203841  0.270777  0.301731     0.187889  \n",
      "sex         -0.379090  0.332115  0.149918  0.208133     0.043062  \n",
      "bmi         -0.366811  0.413807  0.446159  0.388680     0.586450  \n",
      "bp          -0.178761  0.257653  0.393478  0.390429     0.441484  \n",
      "s1           0.051519  0.542207  0.515501  0.325717     0.212022  \n",
      "s2          -0.196455  0.659817  0.318353  0.290600     0.174054  \n",
      "s3           1.000000 -0.738493 -0.398577 -0.273697    -0.394789  \n",
      "s4          -0.738493  1.000000  0.617857  0.417212     0.430453  \n",
      "s5          -0.398577  0.617857  1.000000  0.464670     0.565883  \n",
      "s6          -0.273697  0.417212  0.464670  1.000000     0.382483  \n",
      "progression -0.394789  0.430453  0.565883  0.382483     1.000000  \n"
     ]
    },
    {
     "data": {
      "image/png": "[encoded data removed]",
      "text/plain": [
       "<Figure size 432x288 with 2 Axes>"
      ]
     },
     "metadata": {
      "needs_background": "light"
     },
     "output_type": "display_data"
    },
    {
     "name": "stdout",
     "output_type": "stream",
     "text": [
      "bmi            0.586450\n",
      "s5             0.565883\n",
      "progression    1.000000\n",
      "Name: progression, dtype: float64\n"
     ]
    }
   ],
   "source": [
    "# Create correlation matrix and print it\n",
    "cor = diabetes.corr()\n",
    "print(cor)\n",
    "\n",
    "# Correlation matrix heatmap\n",
    "plt.figure()\n",
    "sns.heatmap(cor, annot=True, cmap=plt.cm.Reds)\n",
    "plt.show()\n",
    "\n",
    "# Correlation with output variable\n",
    "cor_target = abs(cor[\"progression\"])\n",
    "cor_target\n",
    "# Selecting highly correlated features\n",
    "best_features = cor_target[cor_target> 0.5]\n",
    "print(best_features)"
   ]
  },
  {
   "cell_type": "code",
   "execution_count": 22,
   "metadata": {},
   "outputs": [
    {
     "name": "stdout",
     "output_type": "stream",
     "text": [
      "[ True False  True  True  True  True  True  True  True  True]\n",
      "[1 2 1 1 1 1 1 1 1 1]\n",
      "Index(['age', 'sex', 'bmi', 'bp', 's1', 's2', 's3', 's4', 's5', 's6'], dtype='object')\n"
     ]
    }
   ],
   "source": [
    "X = diabetes.drop('progression', axis =1)\n",
    "y = diabetes['progression']\n",
    "from sklearn.svm import SVR\n",
    "from sklearn.feature_selection import RFECV\n",
    "\n",
    "# Instantiate estimator and feature selector\n",
    "svr_mod = SVR(kernel=\"linear\")\n",
    "feat_selector = RFECV(svr_mod, cv=5)\n",
    "\n",
    "# Fit\n",
    "feat_selector = feat_selector.fit(X, y)\n",
    "\n",
    "# Print support and ranking\n",
    "print(feat_selector.support_)\n",
    "print(feat_selector.ranking_)\n",
    "print(X.columns)"
   ]
  },
  {
   "cell_type": "code",
   "execution_count": 23,
   "metadata": {},
   "outputs": [
    {
     "name": "stdout",
     "output_type": "stream",
     "text": [
      "0.4982900996498095\n",
      "0.05226862285159276\n"
     ]
    }
   ],
   "source": [
    "# Import modules\n",
    "from sklearn.linear_model import LarsCV\n",
    "\n",
    "# Drop feature suggested not important in step 2\n",
    "X = X.drop('sex', axis=1)\n",
    "\n",
    "# Instantiate\n",
    "lars_mod = LarsCV(cv=5, normalize=False)\n",
    "\n",
    "# Fit\n",
    "feat_selector = lars_mod.fit(X,y)\n",
    "\n",
    "# Print r-squared score and estimated alpha\n",
    "print(lars_mod.score(X, y))\n",
    "print(lars_mod.alpha_)"
   ]
  },
  {
   "cell_type": "markdown",
   "metadata": {},
   "source": [
    "### Feature selection through feature importance"
   ]
  },
  {
   "cell_type": "code",
   "execution_count": 24,
   "metadata": {},
   "outputs": [
    {
     "name": "stdout",
     "output_type": "stream",
     "text": [
      "Index(['age', 'sex', 'bmi', 'bp', 's1', 's2', 's3', 's4', 's5', 's6',\n",
      "       'progression'],\n",
      "      dtype='object')\n",
      "[0.         0.39961579 0.03085607 0.         0.00128948 0.00700339\n",
      " 0.00417891 0.53899467 0.01806168]\n"
     ]
    }
   ],
   "source": [
    "# Import\n",
    "from sklearn.ensemble import RandomForestRegressor\n",
    "\n",
    "# Instantiate\n",
    "rf_mod = RandomForestRegressor(max_depth=2, random_state=123, \n",
    "              n_estimators=100, oob_score=True)\n",
    "\n",
    "# Fit\n",
    "rf_mod.fit(X, y)\n",
    "\n",
    "# Print\n",
    "print(diabetes.columns)\n",
    "print(rf_mod.feature_importances_)"
   ]
  },
  {
   "cell_type": "code",
   "execution_count": 25,
   "metadata": {},
   "outputs": [
    {
     "name": "stdout",
     "output_type": "stream",
     "text": [
      "Index(['age', 'sex', 'bmi', 'bp', 's1', 's2', 's3', 's4', 's5', 's6',\n",
      "       'progression'],\n",
      "      dtype='object')\n",
      "[0.05902754 0.23727381 0.12065383 0.05455273 0.04944996 0.07576858\n",
      " 0.08398635 0.23461093 0.08467627]\n"
     ]
    }
   ],
   "source": [
    "# Import\n",
    "from sklearn.ensemble import ExtraTreesRegressor\n",
    "\n",
    "# Instantiate\n",
    "xt_mod = ExtraTreesRegressor(n_estimators=10)\n",
    "\n",
    "# Fit\n",
    "xt_mod.fit(X,y)\n",
    "\n",
    "# Print\n",
    "print(diabetes.columns)\n",
    "print(xt_mod.feature_importances_)"
   ]
  },
  {
   "cell_type": "markdown",
   "metadata": {},
   "source": [
    "### Lasso regularization"
   ]
  },
  {
   "cell_type": "code",
   "execution_count": 26,
   "metadata": {},
   "outputs": [
    {
     "name": "stdout",
     "output_type": "stream",
     "text": [
      "2977.4320945626737\n"
     ]
    }
   ],
   "source": [
    "# Import modules\n",
    "from sklearn.linear_model import Lasso, LassoCV\n",
    "from sklearn.metrics import mean_squared_error\n",
    "\n",
    "# Train/test split\n",
    "X_train, X_test, y_train, y_test = train_test_split(X, y, random_state=123, test_size=0.3)\n",
    "\n",
    "# Instantiate cross-validated lasso, fit\n",
    "lasso_cv = LassoCV(alphas=None, cv=10, max_iter=10000)\n",
    "lasso_cv.fit(X_train, y_train) \n",
    "\n",
    "# Instantiate lasso, fit, predict and print MSE\n",
    "lasso = Lasso(alpha = lasso_cv.alpha_)\n",
    "lasso.fit(X_train, y_train)\n",
    "print(mean_squared_error(y_true=y_test, y_pred=lasso.predict(X_test)))"
   ]
  },
  {
   "cell_type": "markdown",
   "metadata": {},
   "source": [
    "### Ridge regularization"
   ]
  },
  {
   "cell_type": "code",
   "execution_count": 27,
   "metadata": {},
   "outputs": [
    {
     "name": "stdout",
     "output_type": "stream",
     "text": [
      "3037.3833325134415\n"
     ]
    }
   ],
   "source": [
    "# Import modules\n",
    "from sklearn.linear_model import Ridge, RidgeCV\n",
    "from sklearn.metrics import mean_squared_error\n",
    "\n",
    "# Train/test split\n",
    "X_train, X_test, y_train, y_test = train_test_split(X, y, random_state=123, test_size=0.3)\n",
    "\n",
    "# Instantiate cross-validated ridge, fit\n",
    "ridge_cv = RidgeCV(alphas=np.logspace(-6, 6, 13))\n",
    "ridge_cv.fit(X_train, y_train)\n",
    "\n",
    "# Instantiate ridge, fit, predict and print MSE\n",
    "ridge = Ridge(alpha = ridge_cv.alpha_)\n",
    "ridge.fit(X_train, y_train)\n",
    "print(mean_squared_error(y_true=y_test, y_pred=ridge.predict(X_test)))"
   ]
  },
  {
   "cell_type": "markdown",
   "metadata": {},
   "source": [
    "### Logistic regression baseline classifier"
   ]
  },
  {
   "cell_type": "code",
   "execution_count": 28,
   "metadata": {},
   "outputs": [
    {
     "name": "stdout",
     "output_type": "stream",
     "text": [
      "0.7086941851310313\n"
     ]
    }
   ],
   "source": [
    "from sklearn.linear_model import LogisticRegression\n",
    "from sklearn.metrics import accuracy_score\n",
    "# Create X matrix and y array\n",
    "X = loan_data.drop(\"Loan Status\", axis=1)\n",
    "y = loan_data[\"Loan Status\"]\n",
    "\n",
    "# Train/test split\n",
    "X_train, X_test, y_train, y_test = train_test_split(X, y, test_size=0.3, random_state=123)\n",
    "\n",
    "# Instantiate\n",
    "logistic = LogisticRegression(solver = 'liblinear')\n",
    "\n",
    "# Fit\n",
    "logistic.fit(X_train, y_train)\n",
    "\n",
    "# Predict and print accuracy\n",
    "print(accuracy_score(y_true=y_test, y_pred=logistic.predict(X_test)))"
   ]
  },
  {
   "cell_type": "code",
   "execution_count": 29,
   "metadata": {},
   "outputs": [
    {
     "data": {
      "text/html": [
       "<div>\n",
       "<style scoped>\n",
       "    .dataframe tbody tr th:only-of-type {\n",
       "        vertical-align: middle;\n",
       "    }\n",
       "\n",
       "    .dataframe tbody tr th {\n",
       "        vertical-align: top;\n",
       "    }\n",
       "\n",
       "    .dataframe thead th {\n",
       "        text-align: right;\n",
       "    }\n",
       "</style>\n",
       "<table border=\"1\" class=\"dataframe\">\n",
       "  <thead>\n",
       "    <tr style=\"text-align: right;\">\n",
       "      <th></th>\n",
       "      <th>Current Loan Amount</th>\n",
       "      <th>Credit Score</th>\n",
       "      <th>Years in current job</th>\n",
       "      <th>Annual Income</th>\n",
       "      <th>Monthly Debt</th>\n",
       "      <th>Years of Credit History</th>\n",
       "      <th>Months since last delinquent</th>\n",
       "      <th>Number of Open Accounts</th>\n",
       "      <th>Number of Credit Problems</th>\n",
       "      <th>Current Credit Balance</th>\n",
       "      <th>Maximum Open Credit</th>\n",
       "      <th>Bankruptcies</th>\n",
       "      <th>Tax Liens</th>\n",
       "      <th>Loan Status</th>\n",
       "    </tr>\n",
       "  </thead>\n",
       "  <tbody>\n",
       "    <tr>\n",
       "      <th>0</th>\n",
       "      <td>12232.0</td>\n",
       "      <td>728.0</td>\n",
       "      <td>1.0</td>\n",
       "      <td>46643.0</td>\n",
       "      <td>777.39</td>\n",
       "      <td>18.0</td>\n",
       "      <td>10.000000</td>\n",
       "      <td>12.0</td>\n",
       "      <td>0.0</td>\n",
       "      <td>6762.0</td>\n",
       "      <td>7946.0</td>\n",
       "      <td>0.0</td>\n",
       "      <td>0.0</td>\n",
       "      <td>1</td>\n",
       "    </tr>\n",
       "    <tr>\n",
       "      <th>1</th>\n",
       "      <td>25014.0</td>\n",
       "      <td>733.0</td>\n",
       "      <td>10.0</td>\n",
       "      <td>81099.0</td>\n",
       "      <td>892.09</td>\n",
       "      <td>26.7</td>\n",
       "      <td>34.930232</td>\n",
       "      <td>14.0</td>\n",
       "      <td>0.0</td>\n",
       "      <td>35706.0</td>\n",
       "      <td>77961.0</td>\n",
       "      <td>0.0</td>\n",
       "      <td>0.0</td>\n",
       "      <td>1</td>\n",
       "    </tr>\n",
       "    <tr>\n",
       "      <th>2</th>\n",
       "      <td>16117.0</td>\n",
       "      <td>724.0</td>\n",
       "      <td>9.0</td>\n",
       "      <td>60438.0</td>\n",
       "      <td>1244.02</td>\n",
       "      <td>16.7</td>\n",
       "      <td>32.000000</td>\n",
       "      <td>11.0</td>\n",
       "      <td>1.0</td>\n",
       "      <td>11275.0</td>\n",
       "      <td>14815.0</td>\n",
       "      <td>1.0</td>\n",
       "      <td>0.0</td>\n",
       "      <td>1</td>\n",
       "    </tr>\n",
       "    <tr>\n",
       "      <th>3</th>\n",
       "      <td>11716.0</td>\n",
       "      <td>740.0</td>\n",
       "      <td>3.0</td>\n",
       "      <td>34171.0</td>\n",
       "      <td>990.94</td>\n",
       "      <td>10.0</td>\n",
       "      <td>37.741130</td>\n",
       "      <td>21.0</td>\n",
       "      <td>0.0</td>\n",
       "      <td>7009.0</td>\n",
       "      <td>43533.0</td>\n",
       "      <td>0.0</td>\n",
       "      <td>0.0</td>\n",
       "      <td>1</td>\n",
       "    </tr>\n",
       "    <tr>\n",
       "      <th>4</th>\n",
       "      <td>9789.0</td>\n",
       "      <td>686.0</td>\n",
       "      <td>10.0</td>\n",
       "      <td>47003.0</td>\n",
       "      <td>503.71</td>\n",
       "      <td>16.7</td>\n",
       "      <td>25.000000</td>\n",
       "      <td>13.0</td>\n",
       "      <td>1.0</td>\n",
       "      <td>16913.0</td>\n",
       "      <td>19553.0</td>\n",
       "      <td>1.0</td>\n",
       "      <td>0.0</td>\n",
       "      <td>1</td>\n",
       "    </tr>\n",
       "  </tbody>\n",
       "</table>\n",
       "</div>"
      ],
      "text/plain": [
       "   Current Loan Amount  Credit Score  Years in current job  Annual Income  \\\n",
       "0              12232.0         728.0                   1.0        46643.0   \n",
       "1              25014.0         733.0                  10.0        81099.0   \n",
       "2              16117.0         724.0                   9.0        60438.0   \n",
       "3              11716.0         740.0                   3.0        34171.0   \n",
       "4               9789.0         686.0                  10.0        47003.0   \n",
       "\n",
       "   Monthly Debt  Years of Credit History  Months since last delinquent  \\\n",
       "0        777.39                     18.0                     10.000000   \n",
       "1        892.09                     26.7                     34.930232   \n",
       "2       1244.02                     16.7                     32.000000   \n",
       "3        990.94                     10.0                     37.741130   \n",
       "4        503.71                     16.7                     25.000000   \n",
       "\n",
       "   Number of Open Accounts  Number of Credit Problems  Current Credit Balance  \\\n",
       "0                     12.0                        0.0                  6762.0   \n",
       "1                     14.0                        0.0                 35706.0   \n",
       "2                     11.0                        1.0                 11275.0   \n",
       "3                     21.0                        0.0                  7009.0   \n",
       "4                     13.0                        1.0                 16913.0   \n",
       "\n",
       "   Maximum Open Credit  Bankruptcies  Tax Liens  Loan Status  \n",
       "0               7946.0           0.0        0.0            1  \n",
       "1              77961.0           0.0        0.0            1  \n",
       "2              14815.0           1.0        0.0            1  \n",
       "3              43533.0           0.0        0.0            1  \n",
       "4              19553.0           1.0        0.0            1  "
      ]
     },
     "execution_count": 29,
     "metadata": {},
     "output_type": "execute_result"
    }
   ],
   "source": [
    "# Create dti_ratio variable\n",
    "# monthly_income = loan_data[\"Annual Income\"]/12\n",
    "# loan_data[\"dti_ratio\"] = loan_data[\"Monthly Debt\"]/monthly_income * 100\n",
    "# loan_data = loan_data.drop([\"Monthly Debt\",\"Annual Income\"], axis=1)\n",
    "\n",
    "# Replace target variable levels\n",
    "# loan_data[\"Loan Status\"] = loan_data[\"Loan Status\"].replace({'Fully Paid': 0, \n",
    "#                                             'Charged Off': 1})\n",
    "\n",
    "# One-hot encode categorical variables\n",
    "loan_data = pd.get_dummies(data=loan_data)\n",
    "\n",
    "# Print\n",
    "loan_data.head()"
   ]
  },
  {
   "cell_type": "code",
   "execution_count": 30,
   "metadata": {},
   "outputs": [
    {
     "name": "stdout",
     "output_type": "stream",
     "text": [
      "0.7086941851310313\n"
     ]
    }
   ],
   "source": [
    "# Create X matrix and y array\n",
    "X = loan_data.drop(\"Loan Status\", axis=1)\n",
    "y = loan_data[\"Loan Status\"]\n",
    "\n",
    "# Train/test split\n",
    "X_train, X_test, y_train, y_test = train_test_split(X, y, test_size=0.3, random_state=123)\n",
    "\n",
    "# Instantiate\n",
    "logistic_dti = LogisticRegression(solver='liblinear')\n",
    "\n",
    "# Fit\n",
    "logistic_dti.fit(X_train, y_train)\n",
    "\n",
    "# Predict and print accuracy\n",
    "print(accuracy_score(y_true=y_test, y_pred=logistic_dti.predict(X_test)))"
   ]
  },
  {
   "cell_type": "markdown",
   "metadata": {},
   "source": [
    "### Bootstrap aggregation (bagging)"
   ]
  },
  {
   "cell_type": "code",
   "execution_count": 31,
   "metadata": {},
   "outputs": [
    {
     "name": "stdout",
     "output_type": "stream",
     "text": [
      "0.6987965358227421\n"
     ]
    }
   ],
   "source": [
    "from sklearn.ensemble import BaggingClassifier, AdaBoostClassifier\n",
    "# Instantiate bootstrap aggregation model\n",
    "bagged_model = BaggingClassifier(n_estimators=50, random_state=123)\n",
    "\n",
    "# Fit\n",
    "bagged_model.fit(X_train, y_train)\n",
    "\n",
    "# Predict\n",
    "bagged_pred = bagged_model.predict(X_test)\n",
    "\n",
    "# Print accuracy score\n",
    "print(accuracy_score(y_test, bagged_pred))"
   ]
  },
  {
   "cell_type": "markdown",
   "metadata": {},
   "source": [
    "### Boosting"
   ]
  },
  {
   "cell_type": "code",
   "execution_count": 32,
   "metadata": {},
   "outputs": [
    {
     "name": "stdout",
     "output_type": "stream",
     "text": [
      "0.7086192029393019\n"
     ]
    }
   ],
   "source": [
    "# Boosting model\n",
    "boosted_model = AdaBoostClassifier(n_estimators=50, random_state=123)\n",
    "\n",
    "# Fit\n",
    "boosted_fit = boosted_model.fit(X_train, y_train)\n",
    "\n",
    "# Predict\n",
    "boosted_pred = boosted_model.predict(X_test)\n",
    "\n",
    "# Print model accuracy\n",
    "print(accuracy_score(y_test, boosted_pred))"
   ]
  },
  {
   "cell_type": "markdown",
   "metadata": {},
   "source": [
    "### XG Boost"
   ]
  },
  {
   "cell_type": "code",
   "execution_count": 33,
   "metadata": {},
   "outputs": [
    {
     "name": "stdout",
     "output_type": "stream",
     "text": [
      "Final prediction score: [0.70869419]\n"
     ]
    }
   ],
   "source": [
    "from xgboost import XGBClassifier \n",
    "# Instantiate\n",
    "xgb = XGBClassifier(random_state=123, learning_rate=0.1, n_estimators=10, max_depth=3)\n",
    "\n",
    "# Fit\n",
    "xgb_fit = xgb.fit(X_train, y_train)\n",
    "\n",
    "# Predict\n",
    "xgb_pred = xgb.predict(X_test)\n",
    "\n",
    "# Print accuracy score\n",
    "print('Final prediction score: [%.8f]' % accuracy_score(y_test, xgb_pred))"
   ]
  },
  {
   "cell_type": "markdown",
   "metadata": {},
   "source": [
    "## Unsupervised Learning"
   ]
  },
  {
   "cell_type": "markdown",
   "metadata": {},
   "source": [
    "### Principal component analysis"
   ]
  },
  {
   "cell_type": "code",
   "execution_count": 34,
   "metadata": {},
   "outputs": [
    {
     "name": "stdout",
     "output_type": "stream",
     "text": [
      "[0.40242142 0.14923182 0.12059623]\n"
     ]
    }
   ],
   "source": [
    "# Import module\n",
    "from sklearn.decomposition import PCA\n",
    "\n",
    "# Feature matrix and target array\n",
    "X = diabetes.drop('progression', axis=1)\n",
    "y = diabetes['progression']\n",
    "\n",
    "# PCA\n",
    "pca = PCA(n_components=3)\n",
    "\n",
    "# Fit and transform\n",
    "principalComponents = pca.fit_transform(X)\n",
    "\n",
    "# Print ratio of variance explained\n",
    "print(pca.explained_variance_ratio_)"
   ]
  },
  {
   "cell_type": "markdown",
   "metadata": {},
   "source": [
    "### Singular value decomposition"
   ]
  },
  {
   "cell_type": "code",
   "execution_count": 35,
   "metadata": {},
   "outputs": [
    {
     "name": "stdout",
     "output_type": "stream",
     "text": [
      "[0.40242142 0.14923182 0.12059623]\n"
     ]
    }
   ],
   "source": [
    "# Import module\n",
    "from sklearn.decomposition import TruncatedSVD\n",
    "\n",
    "# Feature matrix and target array\n",
    "X = diabetes.drop('progression', axis=1)\n",
    "y = diabetes['progression']\n",
    "\n",
    "# SVD\n",
    "svd = TruncatedSVD(n_components=3)\n",
    "\n",
    "# Fit and transform\n",
    "principalComponents = svd.fit_transform(X)\n",
    "\n",
    "# Print ratio of variance explained\n",
    "print(svd.explained_variance_ratio_)"
   ]
  },
  {
   "cell_type": "markdown",
   "metadata": {},
   "source": [
    "### Visualization separation of classes with PCA I"
   ]
  },
  {
   "cell_type": "code",
   "execution_count": 36,
   "metadata": {},
   "outputs": [
    {
     "data": {
      "text/html": [
       "<div>\n",
       "<style scoped>\n",
       "    .dataframe tbody tr th:only-of-type {\n",
       "        vertical-align: middle;\n",
       "    }\n",
       "\n",
       "    .dataframe tbody tr th {\n",
       "        vertical-align: top;\n",
       "    }\n",
       "\n",
       "    .dataframe thead th {\n",
       "        text-align: right;\n",
       "    }\n",
       "</style>\n",
       "<table border=\"1\" class=\"dataframe\">\n",
       "  <thead>\n",
       "    <tr style=\"text-align: right;\">\n",
       "      <th></th>\n",
       "      <th>principal component 1</th>\n",
       "      <th>principal component 2</th>\n",
       "      <th>principal component 3</th>\n",
       "      <th>Loan Status</th>\n",
       "    </tr>\n",
       "  </thead>\n",
       "  <tbody>\n",
       "    <tr>\n",
       "      <th>0</th>\n",
       "      <td>-26057.081687</td>\n",
       "      <td>-26607.344710</td>\n",
       "      <td>-4691.090350</td>\n",
       "      <td>1</td>\n",
       "    </tr>\n",
       "    <tr>\n",
       "      <th>1</th>\n",
       "      <td>44784.366589</td>\n",
       "      <td>10926.547662</td>\n",
       "      <td>19620.964531</td>\n",
       "      <td>1</td>\n",
       "    </tr>\n",
       "    <tr>\n",
       "      <th>2</th>\n",
       "      <td>-18952.177727</td>\n",
       "      <td>-12265.181426</td>\n",
       "      <td>-1798.908462</td>\n",
       "      <td>1</td>\n",
       "    </tr>\n",
       "    <tr>\n",
       "      <th>3</th>\n",
       "      <td>9373.129374</td>\n",
       "      <td>-39448.278967</td>\n",
       "      <td>-3240.574794</td>\n",
       "      <td>1</td>\n",
       "    </tr>\n",
       "    <tr>\n",
       "      <th>4</th>\n",
       "      <td>-14312.282642</td>\n",
       "      <td>-25208.984082</td>\n",
       "      <td>4884.302455</td>\n",
       "      <td>1</td>\n",
       "    </tr>\n",
       "  </tbody>\n",
       "</table>\n",
       "</div>"
      ],
      "text/plain": [
       "   principal component 1  principal component 2  principal component 3  \\\n",
       "0          -26057.081687          -26607.344710           -4691.090350   \n",
       "1           44784.366589           10926.547662           19620.964531   \n",
       "2          -18952.177727          -12265.181426           -1798.908462   \n",
       "3            9373.129374          -39448.278967           -3240.574794   \n",
       "4          -14312.282642          -25208.984082            4884.302455   \n",
       "\n",
       "   Loan Status  \n",
       "0            1  \n",
       "1            1  \n",
       "2            1  \n",
       "3            1  \n",
       "4            1  "
      ]
     },
     "execution_count": 36,
     "metadata": {},
     "output_type": "execute_result"
    }
   ],
   "source": [
    "# Feature matrix and target array\n",
    "X = loan_data.drop('Loan Status', axis=1)\n",
    "y = loan_data['Loan Status']\n",
    "\n",
    "# PCA\n",
    "pca = PCA(n_components=3)\n",
    "\n",
    "# Fit and transform\n",
    "principalComponents = pca.fit_transform(X)\n",
    "principalComponents = pd.DataFrame(principalComponents, columns = ['principal component 1', 'principal component 2', 'principal component 3'])\n",
    "loan_data_PCA = pd.concat([principalComponents, y], axis =1)\n",
    "loan_data_PCA.head()"
   ]
  },
  {
   "cell_type": "code",
   "execution_count": 41,
   "metadata": {},
   "outputs": [
    {
     "data": {
      "image/png": "[encoded data removed]",
      "text/plain": [
       "<Figure size 432x288 with 1 Axes>"
      ]
     },
     "metadata": {
      "needs_background": "light"
     },
     "output_type": "display_data"
    }
   ],
   "source": [
    "targets = [0, 1]\n",
    "colors = ['r', 'b']\n",
    "\n",
    "\n",
    "# For loop to create plot\n",
    "for target, color in zip(targets,colors):\n",
    "    indicesToKeep = loan_data_PCA['Loan Status'] == target\n",
    "    plt.scatter(loan_data_PCA.loc[indicesToKeep, 'principal component 1']\n",
    "               , loan_data_PCA.loc[indicesToKeep, 'principal component 2']\n",
    "               , c = color\n",
    "               , s = 50)\n",
    "\n",
    "# Legend    \n",
    "plt.legend(targets)\n",
    "plt.grid()\n",
    "plt.show()"
   ]
  },
  {
   "cell_type": "markdown",
   "metadata": {},
   "source": [
    "### Visualization PCs with a scree plot"
   ]
  },
  {
   "cell_type": "code",
   "execution_count": 42,
   "metadata": {},
   "outputs": [],
   "source": [
    "# Remove target variable\n",
    "X = loan_data.drop('Loan Status', axis=1)\n",
    "\n",
    "# Instantiate\n",
    "pca = PCA(n_components=10)\n",
    "\n",
    "# Fit and transform\n",
    "principalComponents = pca.fit_transform(X)"
   ]
  },
  {
   "cell_type": "code",
   "execution_count": 43,
   "metadata": {},
   "outputs": [
    {
     "data": {
      "image/png": "[encoded data removed]",
      "text/plain": [
       "<Figure size 432x288 with 1 Axes>"
      ]
     },
     "metadata": {
      "needs_background": "light"
     },
     "output_type": "display_data"
    }
   ],
   "source": [
    "# List principal components names\n",
    "principal_components = ['PC1','PC2','PC3','PC4','PC5','PC6','PC7','PC8','PC9','PC10']\n",
    "\n",
    "# Create a DataFrame\n",
    "pca_df = pd.DataFrame({'Variance Explained': pca.explained_variance_ratio_,\n",
    "             'PC':principal_components})\n",
    "\n",
    "# Plot DataFrame\n",
    "sns.barplot(x='PC',y='Variance Explained', \n",
    "           data=pca_df, color=\"c\")\n",
    "plt.show()"
   ]
  },
  {
   "cell_type": "code",
   "execution_count": 44,
   "metadata": {},
   "outputs": [],
   "source": [
    "# Instantiate, fit and transform\n",
    "pca2 = PCA()\n",
    "principalComponents2 = pca2.fit_transform(X)\n",
    "# Assign variance explained\n",
    "var = pca2.explained_variance_ratio_"
   ]
  },
  {
   "cell_type": "code",
   "execution_count": 45,
   "metadata": {},
   "outputs": [
    {
     "data": {
      "image/png": "[encoded data removed]",
      "text/plain": [
       "<Figure size 432x288 with 1 Axes>"
      ]
     },
     "metadata": {
      "needs_background": "light"
     },
     "output_type": "display_data"
    }
   ],
   "source": [
    "# Plot cumulative variance\n",
    "cumulative_var = np.cumsum(var)*100\n",
    "plt.plot(cumulative_var,'k-o',markerfacecolor='None',markeredgecolor='k')\n",
    "plt.title('Principal Component Analysis',fontsize=12)\n",
    "plt.xlabel(\"Principal Component\",fontsize=12)\n",
    "plt.ylabel(\"Cumulative Proportion of Variance Explained\",fontsize=12)\n",
    "plt.show()"
   ]
  },
  {
   "cell_type": "markdown",
   "metadata": {},
   "source": [
    "### K-means clustering"
   ]
  },
  {
   "cell_type": "code",
   "execution_count": 46,
   "metadata": {},
   "outputs": [
    {
     "name": "stdout",
     "output_type": "stream",
     "text": [
      "Sum of squared distances for 2 clusters is 7.187000018583656\n"
     ]
    }
   ],
   "source": [
    "# Import module\n",
    "from sklearn.cluster import KMeans\n",
    "\n",
    "# Create feature matrix\n",
    "X = diabetes.drop(\"progression\", axis=1)\n",
    "\n",
    "# Instantiate\n",
    "kmeans = KMeans(n_clusters=2, random_state=123)\n",
    "\n",
    "# Fit\n",
    "fit = kmeans.fit(X)\n",
    "\n",
    "# Print inertia\n",
    "print(\"Sum of squared distances for 2 clusters is\", kmeans.inertia_)"
   ]
  },
  {
   "cell_type": "code",
   "execution_count": 47,
   "metadata": {},
   "outputs": [
    {
     "name": "stdout",
     "output_type": "stream",
     "text": [
      "Sum of squared distances for 5 clusters is 5.554112564296045\n"
     ]
    }
   ],
   "source": [
    "# Instantiate\n",
    "kmeans = KMeans(n_clusters=5, random_state=123)\n",
    "\n",
    "# Fit\n",
    "fit = kmeans.fit(X)\n",
    "\n",
    "# Print inertia\n",
    "print(\"Sum of squared distances for 5 clusters is\", kmeans.inertia_)"
   ]
  },
  {
   "cell_type": "code",
   "execution_count": 48,
   "metadata": {},
   "outputs": [
    {
     "name": "stdout",
     "output_type": "stream",
     "text": [
      "Sum of squared distances for 10 clusters is 4.36463117911814\n"
     ]
    }
   ],
   "source": [
    "\n",
    "# Instantiate\n",
    "kmeans = KMeans(n_clusters=10, random_state=123)\n",
    "\n",
    "# Fit\n",
    "fit = kmeans.fit(X)\n",
    "\n",
    "# Print inertia\n",
    "print(\"Sum of squared distances for 10 clusters is\", kmeans.inertia_)"
   ]
  },
  {
   "cell_type": "code",
   "execution_count": 49,
   "metadata": {},
   "outputs": [
    {
     "name": "stdout",
     "output_type": "stream",
     "text": [
      "Sum of squared distances for 20 clusters is 3.516404544955704\n"
     ]
    }
   ],
   "source": [
    "# Instantiate\n",
    "kmeans = KMeans(n_clusters=20, random_state=123)\n",
    "\n",
    "# Fit\n",
    "fit = kmeans.fit(X)\n",
    "\n",
    "# Print inertia\n",
    "print(\"Sum of squared distances for 20 clusters is\", kmeans.inertia_)"
   ]
  },
  {
   "cell_type": "markdown",
   "metadata": {},
   "source": [
    "### Hierarchical agglomerative clustering"
   ]
  },
  {
   "cell_type": "code",
   "execution_count": 50,
   "metadata": {},
   "outputs": [
    {
     "data": {
      "image/png": "[encoded data removed]",
      "text/plain": [
       "<Figure size 432x288 with 1 Axes>"
      ]
     },
     "metadata": {
      "needs_background": "light"
     },
     "output_type": "display_data"
    }
   ],
   "source": [
    "# Import hierarchical clustering libraries\n",
    "import scipy.cluster.hierarchy as sch\n",
    "from sklearn.cluster import AgglomerativeClustering\n",
    "\n",
    "# Create dendrogram\n",
    "dendrogram = sch.dendrogram(sch.linkage(X, method='ward'))\n",
    "plt.show()"
   ]
  },
  {
   "cell_type": "code",
   "execution_count": 51,
   "metadata": {},
   "outputs": [
    {
     "name": "stdout",
     "output_type": "stream",
     "text": [
      "2\n"
     ]
    }
   ],
   "source": [
    "# Create clusters and fit\n",
    "hc = AgglomerativeClustering(affinity = 'euclidean', linkage = 'ward')\n",
    "hc.fit(X)\n",
    "\n",
    "# Print number of clusters\n",
    "print(hc.n_clusters_)"
   ]
  },
  {
   "cell_type": "markdown",
   "metadata": {},
   "source": [
    "### Silhouette method"
   ]
  },
  {
   "cell_type": "code",
   "execution_count": 52,
   "metadata": {},
   "outputs": [
    {
     "name": "stdout",
     "output_type": "stream",
     "text": [
      "For n_clusters = 2, silhouette score is 0.23698717031681762)\n",
      "For n_clusters = 3, silhouette score is 0.15322276171472807)\n",
      "For n_clusters = 4, silhouette score is 0.1424121357216505)\n",
      "For n_clusters = 5, silhouette score is 0.14247713077187324)\n",
      "For n_clusters = 6, silhouette score is 0.1453977069541696)\n",
      "For n_clusters = 7, silhouette score is 0.13893460302300306)\n",
      "For n_clusters = 8, silhouette score is 0.1399912539724841)\n"
     ]
    }
   ],
   "source": [
    "# Import modules\n",
    "from sklearn.cluster import KMeans\n",
    "from sklearn.metrics import silhouette_score\n",
    "\n",
    "# Feature matrix\n",
    "X = diabetes.drop(\"progression\", axis=1)\n",
    "\n",
    "# For loop\n",
    "for n_clusters in range(2, 9):\n",
    "    kmeans = KMeans(n_clusters=n_clusters)\n",
    "    # Fit and predict your k-Means object\n",
    "    preds = kmeans.fit_predict(X)\n",
    "    score = silhouette_score(X, preds, metric='euclidean')\n",
    "    print (\"For n_clusters = {}, silhouette score is {})\".format(n_clusters, score))"
   ]
  },
  {
   "cell_type": "markdown",
   "metadata": {},
   "source": [
    "### Elbow method"
   ]
  },
  {
   "cell_type": "code",
   "execution_count": 53,
   "metadata": {},
   "outputs": [
    {
     "data": {
      "image/png": "[encoded data removed]",
      "text/plain": [
       "<Figure size 432x288 with 1 Axes>"
      ]
     },
     "metadata": {
      "needs_background": "light"
     },
     "output_type": "display_data"
    }
   ],
   "source": [
    "# Create empty list\n",
    "sum_of_squared_distances = []\n",
    "\n",
    "# Create for loop\n",
    "for k in range(1,15):\n",
    "    kmeans = KMeans(n_clusters=k)\n",
    "    kmeans = kmeans.fit(X)\n",
    "    sum_of_squared_distances.append(kmeans.inertia_)\n",
    "\n",
    "# Plot\n",
    "plt.plot(range(1,15), sum_of_squared_distances, 'bx-')\n",
    "plt.xlabel('k')\n",
    "plt.ylabel('Sum of squared distances')\n",
    "plt.title('Elbow Method For Optimal k')\n",
    "plt.show()"
   ]
  },
  {
   "cell_type": "markdown",
   "metadata": {},
   "source": [
    "## Model Selection and Evaluation"
   ]
  },
  {
   "cell_type": "markdown",
   "metadata": {},
   "source": [
    "### Decision Tree"
   ]
  },
  {
   "cell_type": "code",
   "execution_count": 54,
   "metadata": {},
   "outputs": [
    {
     "name": "stdout",
     "output_type": "stream",
     "text": [
      "Decision Tree Accuracy: 0.5836613804221498\n"
     ]
    }
   ],
   "source": [
    "# Import modules\n",
    "from sklearn.tree import DecisionTreeClassifier\n",
    "from sklearn.metrics import accuracy_score\n",
    "\n",
    "# Create X matrix and y array\n",
    "X = loan_data.drop(\"Loan Status\", axis=1)\n",
    "y = loan_data[\"Loan Status\"]\n",
    "\n",
    "# Train/test split\n",
    "X_train, X_test, y_train, y_test = train_test_split(X, y, test_size=0.30, random_state=123)\n",
    "\n",
    "# Instantiate, Fit, Predict\n",
    "loans_clf = DecisionTreeClassifier() \n",
    "loans_clf.fit(X_train, y_train)\n",
    "y_pred = loans_clf.predict(X_test)\n",
    "\n",
    "# Evaluation metric\n",
    "print(\"Decision Tree Accuracy: {}\".format(accuracy_score(y_test, y_pred)))"
   ]
  },
  {
   "cell_type": "code",
   "execution_count": 55,
   "metadata": {},
   "outputs": [
    {
     "name": "stdout",
     "output_type": "stream",
     "text": [
      "Tuned Decision Tree Parameter: {'criterion': 'gini', 'max_depth': 2, 'min_samples_split': 2}\n",
      "Tuned Decision Tree Accuracy: 0.713643009785176\n"
     ]
    }
   ],
   "source": [
    "# Import modules\n",
    "from sklearn.model_selection import GridSearchCV\n",
    "\n",
    "# Create the hyperparameter grid\n",
    "param_grid = {\"criterion\": [\"gini\"], \"min_samples_split\": [2, 10, 20], \n",
    "              \"max_depth\": [None, 2, 5, 10]}\n",
    "\n",
    "# Instantiate classifier and GridSearchCV, fit\n",
    "loans_clf = DecisionTreeClassifier()\n",
    "dtree_cv = GridSearchCV(loans_clf, param_grid=param_grid, cv=5)\n",
    "fit = dtree_cv.fit(X_train, y_train)\n",
    "\n",
    "# Print the optimal parameters and best score\n",
    "print(\"Tuned Decision Tree Parameter: {}\".format(dtree_cv.best_params_))\n",
    "print(\"Tuned Decision Tree Accuracy: {}\".format(dtree_cv.best_score_))"
   ]
  },
  {
   "cell_type": "markdown",
   "metadata": {},
   "source": [
    "### A forest of decision trees"
   ]
  },
  {
   "cell_type": "code",
   "execution_count": 57,
   "metadata": {},
   "outputs": [
    {
     "name": "stdout",
     "output_type": "stream",
     "text": [
      "Random Forest Accuracy: 0.6411352303827841\n"
     ]
    }
   ],
   "source": [
    "# Import modules\n",
    "from sklearn.ensemble import RandomForestClassifier\n",
    "from sklearn.metrics import accuracy_score\n",
    "\n",
    "# Train/test split\n",
    "X_train, X_test, y_train, y_test = train_test_split(X, y, test_size=0.30, random_state=123)\n",
    "\n",
    "# Instantiate, Fit, Predict\n",
    "loans_rf = RandomForestClassifier(n_estimators=10) \n",
    "loans_rf.fit(X_train, y_train)\n",
    "y_pred = loans_rf.predict(X_test)\n",
    "\n",
    "# Evaluation metric\n",
    "print(\"Random Forest Accuracy: {}\".format(accuracy_score(y_test, y_pred)))"
   ]
  },
  {
   "cell_type": "code",
   "execution_count": null,
   "metadata": {},
   "outputs": [],
   "source": [
    "# Import modules\n",
    "from sklearn.model_selection import GridSearchCV\n",
    "\n",
    "# Create the hyperparameter grid\n",
    "param_grid = {\"criterion\": [\"gini\"], \"min_samples_split\": [2, 10, 20], \n",
    "              \"max_depth\": [None, 2, 5, 10],\"max_features\": [10, 20, 30]}\n",
    "\n",
    "# Instantiate classifier and GridSearchCV, fit\n",
    "loans_rf = RandomForestClassifier(n_estimators=10)\n",
    "rf_cv = GridSearchCV(loans_rf, param_grid=param_grid, cv=5)\n",
    "fit = rf_cv.fit(X_train, y_train)\n",
    "\n",
    "# Print the optimal parameters and best score\n",
    "print(\"Tuned Random Forest Parameter: {}\".format(rf_cv.best_params_))\n",
    "print(\"Tuned Random Forest Accuracy: {}\".format(rf_cv.best_score_))"
   ]
  },
  {
   "cell_type": "markdown",
   "metadata": {},
   "source": [
    "### Imbalanced class metrics"
   ]
  },
  {
   "cell_type": "code",
   "execution_count": 59,
   "metadata": {},
   "outputs": [
    {
     "name": "stdout",
     "output_type": "stream",
     "text": [
      "Confusion matrix:\n",
      " [[    0  7770]\n",
      " [    0 18903]]\n",
      "Accuracy: 0.7086941851310313\n",
      "Precision: 0.7086941851310313\n",
      "Recall: 1.0\n",
      "F1: 0.8295155344918378\n"
     ]
    }
   ],
   "source": [
    "# Import\n",
    "from sklearn.linear_model import LogisticRegression\n",
    "from sklearn.metrics import confusion_matrix, accuracy_score, precision_score, recall_score, f1_score\n",
    "\n",
    "# Instantiate, fit, predict\n",
    "lr = LogisticRegression(solver='liblinear')\n",
    "lr.fit(X_train, y_train)\n",
    "y_pred = lr.predict(X_test)\n",
    "\n",
    "# Print evaluation metrics\n",
    "print(\"Confusion matrix:\\n {}\".format(confusion_matrix(y_test, y_pred)))\n",
    "print(\"Accuracy: {}\".format(accuracy_score(y_test, y_pred)))\n",
    "print(\"Precision: {}\".format(precision_score(y_test, y_pred)))\n",
    "print(\"Recall: {}\".format(recall_score(y_test, y_pred)))\n",
    "print(\"F1: {}\".format(f1_score(y_test ,y_pred)))"
   ]
  },
  {
   "cell_type": "markdown",
   "metadata": {},
   "source": [
    "### Resampling techniques"
   ]
  },
  {
   "cell_type": "code",
   "execution_count": 60,
   "metadata": {},
   "outputs": [],
   "source": [
    "deny = loan_data[loan_data['Loan Status']==0]\n",
    "approve = loan_data[loan_data['Loan Status']==1]"
   ]
  },
  {
   "cell_type": "code",
   "execution_count": 62,
   "metadata": {},
   "outputs": [],
   "source": [
    "from sklearn.utils import resample\n",
    "# Upsample minority and combine with majority\n",
    "loans_upsampled = resample(deny, replace=True, n_samples=len(approve), random_state=123)\n",
    "upsampled = pd.concat([approve, loans_upsampled])\n",
    "\n",
    "# Downsample majority and combine with minority\n",
    "loans_downsampled = resample(approve, replace = False,  n_samples = len(deny), random_state = 123)\n",
    "downsampled = pd.concat([loans_downsampled, deny])"
   ]
  },
  {
   "cell_type": "code",
   "execution_count": 63,
   "metadata": {},
   "outputs": [
    {
     "name": "stdout",
     "output_type": "stream",
     "text": [
      "Confusion matrix:\n",
      " [[ 4385  3385]\n",
      " [10475  8428]]\n",
      "Accuracy: 0.48037341131481276\n",
      "Precision: 0.7134512824853975\n",
      "Recall: 0.4458551552663598\n",
      "F1: 0.5487693710118505\n"
     ]
    }
   ],
   "source": [
    "# Upsampled feature matrix and target array\n",
    "X_train_up = upsampled.drop('Loan Status', axis=1)\n",
    "y_train_up = upsampled['Loan Status']\n",
    "\n",
    "# Instantiate, fit, predict\n",
    "loan_lr_up = LogisticRegression(solver='liblinear')\n",
    "loan_lr_up.fit(X_train_up, y_train_up)\n",
    "upsampled_y_pred = loan_lr_up.predict(X_test)\n",
    "\n",
    "# Print evaluation metrics\n",
    "print(\"Confusion matrix:\\n {}\".format(confusion_matrix(y_test, upsampled_y_pred)))\n",
    "print(\"Accuracy: {}\".format(accuracy_score(y_test, upsampled_y_pred)))\n",
    "print(\"Precision: {}\".format(precision_score(y_test, upsampled_y_pred)))\n",
    "print(\"Recall: {}\".format(recall_score(y_test, upsampled_y_pred)))\n",
    "print(\"F1: {}\".format(f1_score(y_test,upsampled_y_pred)))"
   ]
  },
  {
   "cell_type": "code",
   "execution_count": 64,
   "metadata": {},
   "outputs": [
    {
     "name": "stdout",
     "output_type": "stream",
     "text": [
      "Confusion matrix:\n",
      " [[3924 3846]\n",
      " [9423 9480]]\n",
      "Accuracy: 0.5025306489708694\n",
      "Precision: 0.7113912651958577\n",
      "Recall: 0.501507697190922\n",
      "F1: 0.5882900493344503\n"
     ]
    }
   ],
   "source": [
    "# Downsampled feature matrix and target array\n",
    "X_train_down = downsampled.drop('Loan Status', axis=1)\n",
    "y_train_down = downsampled['Loan Status']\n",
    "\n",
    "# Instantiate, fit, predict\n",
    "loan_lr_down = LogisticRegression(solver='liblinear')\n",
    "loan_lr_down.fit(X_train_down, y_train_down)\n",
    "downsampled_y_pred = loan_lr_down.predict(X_test)\n",
    "\n",
    "# Print evaluation metrics\n",
    "print(\"Confusion matrix:\\n {}\".format(confusion_matrix(y_test, downsampled_y_pred)))\n",
    "print(\"Accuracy: {}\".format(accuracy_score(y_test, downsampled_y_pred)))\n",
    "print(\"Precision: {}\".format(precision_score(y_test, downsampled_y_pred)))\n",
    "print(\"Recall: {}\".format(recall_score(y_test, downsampled_y_pred)))\n",
    "print(\"F1: {}\".format(f1_score(y_test, downsampled_y_pred)))"
   ]
  },
  {
   "cell_type": "markdown",
   "metadata": {},
   "source": [
    "### Multicollinearity techniques - feature engineering"
   ]
  },
  {
   "cell_type": "code",
   "execution_count": 65,
   "metadata": {},
   "outputs": [],
   "source": [
    "# Feature matrix and target array\n",
    "X = diabetes.drop('progression', axis=1)\n",
    "y = diabetes['progression']\n",
    "# Train/test split\n",
    "X_train, X_test, y_train, y_test = train_test_split(X, y, test_size=0.30, random_state=123)"
   ]
  },
  {
   "cell_type": "code",
   "execution_count": 66,
   "metadata": {},
   "outputs": [
    {
     "name": "stdout",
     "output_type": "stream",
     "text": [
      "Coefficients: \n",
      " [  10.45384922 -261.16601105  538.84541221  280.72544466 -855.21447839\n",
      "  472.17305267  166.51881384  309.88763264  684.0489522   102.37723262]\n",
      "Mean squared error: 2926.80\n",
      "R_squared score: 0.51\n"
     ]
    }
   ],
   "source": [
    "from sklearn.linear_model import LinearRegression\n",
    "from sklearn.metrics import r2_score\n",
    "# Instantiate, fit, predict\n",
    "lin_mod = LinearRegression()\n",
    "lin_mod.fit(X_train, y_train)\n",
    "y_pred = lin_mod.predict(X_test)\n",
    "\n",
    "# Coefficient estimates\n",
    "print('Coefficients: \\n', lin_mod.coef_)\n",
    "\n",
    "# Mean squared error\n",
    "print(\"Mean squared error: %.2f\"\n",
    "      % mean_squared_error(y_test, y_pred))\n",
    "\n",
    "# Explained variance score\n",
    "print('R_squared score: %.2f' % r2_score(y_test, y_pred))"
   ]
  },
  {
   "cell_type": "code",
   "execution_count": 67,
   "metadata": {},
   "outputs": [
    {
     "data": {
      "image/png": "[encoded data removed]",
      "text/plain": [
       "<Figure size 432x288 with 2 Axes>"
      ]
     },
     "metadata": {
      "needs_background": "light"
     },
     "output_type": "display_data"
    },
    {
     "name": "stdout",
     "output_type": "stream",
     "text": [
      "                  age       sex       bmi        bp        s1        s2  \\\n",
      "age          1.000000  0.173737  0.185085  0.335427  0.260061  0.219243   \n",
      "sex          0.173737  1.000000  0.088161  0.241013  0.035277  0.142637   \n",
      "bmi          0.185085  0.088161  1.000000  0.395415  0.249777  0.261170   \n",
      "bp           0.335427  0.241013  0.395415  1.000000  0.242470  0.185558   \n",
      "s1           0.260061  0.035277  0.249777  0.242470  1.000000  0.896663   \n",
      "s2           0.219243  0.142637  0.261170  0.185558  0.896663  1.000000   \n",
      "s3          -0.075181 -0.379090 -0.366811 -0.178761  0.051519 -0.196455   \n",
      "s4           0.203841  0.332115  0.413807  0.257653  0.542207  0.659817   \n",
      "s5           0.270777  0.149918  0.446159  0.393478  0.515501  0.318353   \n",
      "s6           0.301731  0.208133  0.388680  0.390429  0.325717  0.290600   \n",
      "progression  0.187889  0.043062  0.586450  0.441484  0.212022  0.174054   \n",
      "\n",
      "                   s3        s4        s5        s6  progression  \n",
      "age         -0.075181  0.203841  0.270777  0.301731     0.187889  \n",
      "sex         -0.379090  0.332115  0.149918  0.208133     0.043062  \n",
      "bmi         -0.366811  0.413807  0.446159  0.388680     0.586450  \n",
      "bp          -0.178761  0.257653  0.393478  0.390429     0.441484  \n",
      "s1           0.051519  0.542207  0.515501  0.325717     0.212022  \n",
      "s2          -0.196455  0.659817  0.318353  0.290600     0.174054  \n",
      "s3           1.000000 -0.738493 -0.398577 -0.273697    -0.394789  \n",
      "s4          -0.738493  1.000000  0.617857  0.417212     0.430453  \n",
      "s5          -0.398577  0.617857  1.000000  0.464670     0.565883  \n",
      "s6          -0.273697  0.417212  0.464670  1.000000     0.382483  \n",
      "progression -0.394789  0.430453  0.565883  0.382483     1.000000  \n"
     ]
    }
   ],
   "source": [
    "# Correlation matrix\n",
    "diab_corr = diabetes.corr()\n",
    "\n",
    "# Generate correlation heatmap\n",
    "ax = sns.heatmap(diab_corr, center=0, cmap=sns.diverging_palette(20,220, n=256), square=True)\n",
    "ax.set_xticklabels(ax.get_xticklabels(), rotation=45, horizontalalignment='right')\n",
    "plt.show()\n",
    "\n",
    "# Print correlations\n",
    "print(diab_corr)"
   ]
  },
  {
   "cell_type": "code",
   "execution_count": 68,
   "metadata": {},
   "outputs": [
    {
     "name": "stdout",
     "output_type": "stream",
     "text": [
      "Index(['age', 'sex', 'bmi', 'bp', 's3', 's4', 's5', 's6', 'progression',\n",
      "       's1_s2'],\n",
      "      dtype='object')\n"
     ]
    }
   ],
   "source": [
    "# Feature engineering\n",
    "diabetes['s1_s2'] = diabetes['s1']*diabetes['s2']\n",
    "diabetes = diabetes.drop(['s1','s2'], axis=1)\n",
    "\n",
    "# Print variable names\n",
    "print(diabetes.columns)\n",
    "\n",
    "# Train/test split\n",
    "X2 = diabetes.drop('progression', axis=1)\n",
    "y2 = diabetes['progression']\n",
    "X_train2, X_test2, y_train2, y_test2 = train_test_split(X2, y2, test_size=0.3, random_state=123)"
   ]
  },
  {
   "cell_type": "code",
   "execution_count": 69,
   "metadata": {},
   "outputs": [
    {
     "name": "stdout",
     "output_type": "stream",
     "text": [
      "Coefficients: \n",
      " [  -2.33325625 -250.45569362  541.16674251  260.86592129 -338.13983816\n",
      "  -47.01999461  430.98561453   94.21041896 -283.69973876]\n",
      "Mean squared error: 2910.42\n",
      "R_squared score: 0.51\n"
     ]
    }
   ],
   "source": [
    "# Instantiate, fit, predict\n",
    "lin_mod2 = LinearRegression()\n",
    "lin_mod2.fit(X_train2, y_train2)\n",
    "y_pred2 = lin_mod2.predict(X_test2)\n",
    "\n",
    "# Coefficient estimates\n",
    "print('Coefficients: \\n', lin_mod2.coef_)\n",
    "\n",
    "# Mean squared error\n",
    "print(\"Mean squared error: %.2f\"\n",
    "      % mean_squared_error(y_test2, y_pred2))\n",
    "\n",
    "# Explained variance score\n",
    "print('R_squared score: %.2f' % r2_score(y_test2, y_pred2))"
   ]
  },
  {
   "cell_type": "markdown",
   "metadata": {},
   "source": [
    "### Multicollinearity techniques - PCA"
   ]
  },
  {
   "cell_type": "code",
   "execution_count": 70,
   "metadata": {},
   "outputs": [],
   "source": [
    "# Import\n",
    "from sklearn.decomposition import PCA\n",
    "\n",
    "# Instantiate\n",
    "pca = PCA()\n",
    "\n",
    "# Fit on train\n",
    "pca.fit(X_train)\n",
    "\n",
    "# Transform train and test\n",
    "X_trainPCA = pca.transform(X_train)\n",
    "X_testPCA = pca.transform(X_test)"
   ]
  },
  {
   "cell_type": "code",
   "execution_count": 71,
   "metadata": {},
   "outputs": [
    {
     "name": "stdout",
     "output_type": "stream",
     "text": [
      "Coefficients: \n",
      " [  431.83041038  -293.77173602   253.57573406   568.70922969\n",
      "   -67.51943277  -186.26488336    71.89012557    47.21891689\n",
      "    93.98511769 -1130.48023791]\n",
      "Mean squared error: 2926.80\n",
      "Variance score: 0.51\n"
     ]
    }
   ],
   "source": [
    "# Instantiate, fit, predict\n",
    "LinRegr = LinearRegression()\n",
    "LinRegr.fit(X_trainPCA, y_train)\n",
    "predictions = LinRegr.predict(X_testPCA)\n",
    "\n",
    "# The coefficients\n",
    "print('Coefficients: \\n', LinRegr.coef_)\n",
    "\n",
    "# The mean squared error\n",
    "print(\"Mean squared error: %.2f\" % mean_squared_error(y_test, predictions))\n",
    "\n",
    "# Explained variance score: 1 is perfect prediction\n",
    "print('Variance score: %.2f' % r2_score(y_test, predictions))"
   ]
  },
  {
   "cell_type": "code",
   "execution_count": 72,
   "metadata": {},
   "outputs": [
    {
     "data": {
      "image/png": "[encoded data removed]",
      "text/plain": [
       "<Figure size 432x288 with 2 Axes>"
      ]
     },
     "metadata": {
      "needs_background": "light"
     },
     "output_type": "display_data"
    },
    {
     "name": "stdout",
     "output_type": "stream",
     "text": [
      "              0             1             2             3             4  \\\n",
      "0  1.000000e+00 -3.017855e-16  6.063410e-17 -9.623671e-17  9.617392e-16   \n",
      "1 -3.017855e-16  1.000000e+00 -2.236114e-16 -3.476124e-16  1.943732e-16   \n",
      "2  6.063410e-17 -2.236114e-16  1.000000e+00 -9.793741e-17  4.701620e-17   \n",
      "3 -9.623671e-17 -3.476124e-16 -9.793741e-17  1.000000e+00 -1.080915e-16   \n",
      "4  9.617392e-16  1.943732e-16  4.701620e-17 -1.080915e-16  1.000000e+00   \n",
      "5  3.020790e-16 -6.414429e-17 -8.451099e-17 -1.554285e-16 -2.336328e-16   \n",
      "6 -4.308509e-17 -3.571030e-16 -1.545062e-18 -2.945942e-16  8.637883e-17   \n",
      "7  1.715343e-16  9.823794e-17  2.552183e-17 -2.233830e-16  3.108671e-16   \n",
      "8  5.637363e-16 -9.936824e-16  4.103661e-16  9.836595e-16  3.235043e-17   \n",
      "9 -9.709772e-16  1.366355e-15  5.684313e-16  1.157833e-15  1.475857e-16   \n",
      "\n",
      "              5             6             7             8             9  \n",
      "0  3.020790e-16 -4.308509e-17  1.715343e-16  5.637363e-16 -9.709772e-16  \n",
      "1 -6.414429e-17 -3.571030e-16  9.823794e-17 -9.936824e-16  1.366355e-15  \n",
      "2 -8.451099e-17 -1.545062e-18  2.552183e-17  4.103661e-16  5.684313e-16  \n",
      "3 -1.554285e-16 -2.945942e-16 -2.233830e-16  9.836595e-16  1.157833e-15  \n",
      "4 -2.336328e-16  8.637883e-17  3.108671e-16  3.235043e-17  1.475857e-16  \n",
      "5  1.000000e+00 -5.536686e-16 -3.290812e-16 -5.258196e-16 -1.348420e-15  \n",
      "6 -5.536686e-16  1.000000e+00  8.487897e-16 -4.120217e-17 -3.709510e-16  \n",
      "7 -3.290812e-16  8.487897e-16  1.000000e+00 -4.196271e-16 -1.113766e-16  \n",
      "8 -5.258196e-16 -4.120217e-17 -4.196271e-16  1.000000e+00 -1.184223e-15  \n",
      "9 -1.348420e-15 -3.709510e-16 -1.113766e-16 -1.184223e-15  1.000000e+00  \n"
     ]
    }
   ],
   "source": [
    "# Correlation matrix\n",
    "X_trainPCA = pd.DataFrame(X_trainPCA)\n",
    "diab_corrPCA = X_trainPCA.corr()\n",
    "\n",
    "# Generate correlation heatmap\n",
    "ax = sns.heatmap(diab_corrPCA, center=0, cmap=sns.diverging_palette(20,220, n=256), square=True)\n",
    "ax.set_xticklabels(ax.get_xticklabels(), rotation=45, horizontalalignment='right')\n",
    "plt.show()\n",
    "\n",
    "# Print correlations\n",
    "print(diab_corrPCA)"
   ]
  },
  {
   "cell_type": "markdown",
   "metadata": {},
   "source": [
    "### Random forest ensemble"
   ]
  },
  {
   "cell_type": "code",
   "execution_count": 74,
   "metadata": {},
   "outputs": [
    {
     "name": "stdout",
     "output_type": "stream",
     "text": [
      "Random Forest Accuracy: 0.7023956810257563\n",
      "Confusion matrix:\n",
      " [[  117  7653]\n",
      " [  285 18618]]\n",
      "Precision: 0.7086901907045792\n",
      "Recall: 0.9849230280907793\n",
      "F1: 0.8242794527825741\n"
     ]
    }
   ],
   "source": [
    "# Create X matrix and y array\n",
    "X = loan_data.drop(\"Loan Status\", axis=1)\n",
    "y = loan_data[\"Loan Status\"]\n",
    "\n",
    "# Train/test split\n",
    "X_train, X_test, y_train, y_test = train_test_split(X, y, test_size=0.30, random_state=123)\n",
    "\n",
    "# Instantiate, fit, predict\n",
    "rf_model = RandomForestClassifier(n_estimators=50, random_state=123, oob_score = True)\n",
    "rf_fit = rf_model.fit(X_train, y_train)\n",
    "rf_pred = rf_model.predict(X_test)\n",
    "\n",
    "# Print evaluation metrics\n",
    "print(\"Random Forest Accuracy: {}\".format(accuracy_score(y_test, rf_pred)))\n",
    "print(\"Confusion matrix:\\n {}\".format(confusion_matrix(y_test, rf_pred)))\n",
    "print(\"Precision: {}\".format(precision_score(y_test, rf_pred)))\n",
    "print(\"Recall: {}\".format(recall_score(y_test, rf_pred)))\n",
    "print(\"F1: {}\".format(f1_score(y_test, rf_pred)))"
   ]
  },
  {
   "cell_type": "code",
   "execution_count": 75,
   "metadata": {},
   "outputs": [
    {
     "name": "stdout",
     "output_type": "stream",
     "text": [
      "Gradient Boosting Accuracy: 0.7086941851310313\n",
      "Confusion matrix:\n",
      " [[    0  7770]\n",
      " [    0 18903]]\n",
      "Precision: 0.7086941851310313\n",
      "Recall: 1.0\n",
      "F1: 0.8295155344918378\n"
     ]
    }
   ],
   "source": [
    "# Import\n",
    "from sklearn.ensemble import GradientBoostingClassifier\n",
    "from sklearn.metrics import confusion_matrix, accuracy_score, precision_score, recall_score, f1_score\n",
    "\n",
    "# Instantiate, fit, predict\n",
    "gb_model = GradientBoostingClassifier(n_estimators=50, learning_rate=0.01,random_state=123)\n",
    "gb_fit = gb_model.fit(X_train, y_train)\n",
    "gb_pred = gb_model.predict(X_test)\n",
    "\n",
    "# Print evaluation metrics\n",
    "print(\"Gradient Boosting Accuracy: {}\".format(accuracy_score(y_test, gb_pred)))\n",
    "print(\"Confusion matrix:\\n {}\".format(confusion_matrix(y_test, gb_pred)))\n",
    "print(\"Precision: {}\".format(precision_score(y_test, gb_pred)))\n",
    "print(\"Recall: {}\".format(recall_score(y_test, gb_pred)))\n",
    "print(\"F1: {}\".format(f1_score(y_test, gb_pred)))"
   ]
  },
  {
   "cell_type": "code",
   "execution_count": null,
   "metadata": {},
   "outputs": [],
   "source": []
  }
 ],
 "metadata": {
  "kernelspec": {
   "display_name": "Python 3",
   "language": "python",
   "name": "python3"
  },
  "language_info": {
   "codemirror_mode": {
    "name": "ipython",
    "version": 3
   },
   "file_extension": ".py",
   "mimetype": "text/x-python",
   "name": "python",
   "nbconvert_exporter": "python",
   "pygments_lexer": "ipython3",
   "version": "3.7.3"
  }
 },
 "nbformat": 4,
 "nbformat_minor": 2
}
