{
 "cells": [
  {
   "cell_type": "markdown",
   "metadata": {},
   "source": [
    "## Income statements"
   ]
  },
  {
   "cell_type": "markdown",
   "metadata": {},
   "source": [
    "### Calculating gross profit\n",
    "#### Lucro bruto = venda - custos"
   ]
  },
  {
   "cell_type": "code",
   "execution_count": 1,
   "metadata": {},
   "outputs": [
    {
     "name": "stdout",
     "output_type": "stream",
     "text": [
      "The gross profit is 2600.\n",
      "The gross profit margin is 0.325.\n"
     ]
    }
   ],
   "source": [
    "# Set the sales variable and cost of goods sold (cogs) variables\n",
    "sales = 8000\n",
    "cogs = 5400\n",
    "\n",
    "# Calculate the lucro bruto (gross_profit)\n",
    "gross_profit = sales - cogs\n",
    "\n",
    "# Print the gross profit\n",
    "print(\"The gross profit is {}.\".format(gross_profit))\n",
    "\n",
    "# Calculate the gross profit margin margem = lucro / vendas = (vendas-custos) / vendas\n",
    "gross_profit_margin = gross_profit / sales\n",
    "\n",
    "# Print the gross profit margin\n",
    "print(\"The gross profit margin is {}.\".format(gross_profit_margin))"
   ]
  },
  {
   "cell_type": "markdown",
   "metadata": {},
   "source": [
    "### Calculating net profit"
   ]
  },
  {
   "cell_type": "code",
   "execution_count": 2,
   "metadata": {},
   "outputs": [
    {
     "name": "stdout",
     "output_type": "stream",
     "text": [
      "[700, 250, 130, 280, 150]\n",
      "The net profit is 1090.\n"
     ]
    }
   ],
   "source": [
    "admin, travel, training, marketing, insurance = 700, 250, 130, 280, 150\n",
    "# Create and print the opex list\n",
    "opex = [admin, travel, training, marketing, insurance]\n",
    "print(opex)\n",
    "\n",
    "# Calculate and print net profit\n",
    "net_profit = gross_profit - sum(opex)\n",
    "print(\"The net profit is {}.\".format(net_profit))"
   ]
  },
  {
   "cell_type": "markdown",
   "metadata": {},
   "source": [
    "### Calculating sales"
   ]
  },
  {
   "cell_type": "code",
   "execution_count": 3,
   "metadata": {},
   "outputs": [
    {
     "name": "stdout",
     "output_type": "stream",
     "text": [
      "Next month's forecast sales figure is 9500.00 USD.\n"
     ]
    }
   ],
   "source": [
    "forecast_units = 500\n",
    "\n",
    "# Set variables units sold and sales price of the T-shirts (basic and extensive)\n",
    "salesprice_basic = 15\n",
    "salesprice_custom = 25\n",
    "\n",
    "# Calculate the combined sales price taking into account the sales mix\n",
    "average_sales_price = (salesprice_basic * 0.6) + (salesprice_custom  * 0.4)\n",
    "\n",
    "# Calculate the total sales for next month\n",
    "sales_USD = average_sales_price * forecast_units\n",
    "\n",
    "# Print the total sales\n",
    "print(\"Next month's forecast sales figure is {:.2f} USD.\".format(sales_USD))"
   ]
  },
  {
   "cell_type": "markdown",
   "metadata": {},
   "source": [
    "### Forecasting sales with a discount"
   ]
  },
  {
   "cell_type": "code",
   "execution_count": 4,
   "metadata": {},
   "outputs": [
    {
     "name": "stdout",
     "output_type": "stream",
     "text": [
      "The forecast sales for January and February are 20000 and 22960.0 USD respectively.\n"
     ]
    }
   ],
   "source": [
    "sales_price = 40\n",
    "\n",
    "units_january = 500\n",
    "\n",
    "units_february = 700\n",
    "\n",
    "# Forecast the sales of January\n",
    "sales_january = sales_price * units_january\n",
    "\n",
    "# Forecast the discounted price\n",
    "dsales_price = sales_price * 0.6\n",
    "\n",
    "# Forecast the sales of February\n",
    "sales_february = (sales_price * units_february * 0.55) + (dsales_price * units_february * 0.45)\n",
    "\n",
    "# Print the forecast sales for January and February\n",
    "print(\"The forecast sales for January and February are {} and {} USD respectively.\".format(sales_january, sales_february))"
   ]
  },
  {
   "cell_type": "markdown",
   "metadata": {},
   "source": [
    "### Calculating COGS"
   ]
  },
  {
   "cell_type": "code",
   "execution_count": 5,
   "metadata": {},
   "outputs": [
    {
     "name": "stdout",
     "output_type": "stream",
     "text": [
      "The cost per unit for January and February are 16.5 and 15.2 USD respectively.\n"
     ]
    }
   ],
   "source": [
    "machine_rental  = 1300\n",
    "material_costs_per_unit = 8\n",
    "labour_costs_per_unit = 2\n",
    "units_jan = 200\n",
    "units_feb = 250\n",
    "# From previous step\n",
    "fixed_costs = machine_rental \n",
    "variable_costs_per_unit = material_costs_per_unit + labour_costs_per_unit\n",
    "cogs_jan = (units_jan * variable_costs_per_unit) + fixed_costs\n",
    "cogs_feb = (units_feb * variable_costs_per_unit) + fixed_costs\n",
    "\n",
    "# Calculate the unit cost for January and February\n",
    "unit_cost_jan = cogs_jan/ units_jan\n",
    "unit_cost_feb = cogs_feb/ units_feb\n",
    "\n",
    "# Print the January and February cost per unit\n",
    "print(\"The cost per unit for January and February are {} and {} USD respectively.\".format(unit_cost_jan, unit_cost_feb))"
   ]
  },
  {
   "cell_type": "markdown",
   "metadata": {},
   "source": [
    "### Calculating the break-even point"
   ]
  },
  {
   "cell_type": "code",
   "execution_count": 6,
   "metadata": {},
   "outputs": [
    {
     "name": "stdout",
     "output_type": "stream",
     "text": [
      "The break even point is 216.66666666666666 units.\n",
      "The gross profit for January and February are -100 and 200 USD respectively.\n"
     ]
    }
   ],
   "source": [
    "fixed_costs = 1300\n",
    "variable_costs_per_unit = 10\n",
    "units_jan = 200\n",
    "units_feb = 250\n",
    "sales_price = 16\n",
    "# Calculate the break-even point (in units) for Wizit\n",
    "break_even = fixed_costs/(sales_price - variable_costs_per_unit)\n",
    "# Print the break even point in units\n",
    "print(\"The break even point is {} units.\".format(break_even))\n",
    "\n",
    "# Forecast the gross profit for January and February\n",
    "gross_profit_jan = (sales_price * units_jan) - cogs_jan\n",
    "gross_profit_feb = (sales_price * units_feb) - cogs_feb\n",
    "\n",
    "# Print the gross profit for January and February\n",
    "print(\"The gross profit for January and February are {} and {} USD respectively.\".format(gross_profit_jan, gross_profit_feb))"
   ]
  },
  {
   "cell_type": "markdown",
   "metadata": {},
   "source": [
    "### Tesla income statement"
   ]
  },
  {
   "cell_type": "code",
   "execution_count": 7,
   "metadata": {},
   "outputs": [],
   "source": [
    "import numpy as np\n",
    "import pandas as pd"
   ]
  },
  {
   "cell_type": "code",
   "execution_count": 8,
   "metadata": {},
   "outputs": [],
   "source": [
    "income_statement = pd.DataFrame([['Revenue', 413.0, 2013.0, 3198.0, 4046.0, 7000.0, 10755.0], ['Cost of revenue', 383.0, 1557.0, 2317.0, 3123.0, 5401.0, 8536.0], ['Gross profit', 30.0, 456.0, 882.0, 924.0, 1599.0, 2219.0], ['Operating expenses', np.nan, np.nan, np.nan, np.nan, np.nan, np.nan], ['Research and development', 274.0, 232.0, 465.0, 718.0, 834.0, 1269.0], ['Sales, General and administrative', 150.0, 286.0, 604.0, 922.0, 1432.0, 2250.0], ['Total operating expenses', 424.0, 518.0, 1068.0, 1640.0, 2267.0, 3520.0], ['Operating income', -394.0, -61.0, -187.0, -717.0, -667.0, -1301.0], ['Interest Expense', 0.0, 33.0, 101.0, 119.0, 199.0, 390.0], ['Other income (expense)', -2.0, 23.0, 3.0, -40.0, 120.0, 53.0], ['Income before taxes', -396.0, -71.0, -285.0, -876.0, -746.0, -1638.0], ['Provision for income taxes', 0.0, 3.0, 9.0, 13.0, 27.0, 52.0], ['Net income from continuing operations', -396.0, -74.0, -294.0, -889.0, -773.0, -1689.0], ['Other', np.nan, np.nan, np.nan, np.nan, 98.0, 282.0], ['Net income', -396.0, -74.0, -294.0, -889.0, -675.0, -1407.0], ['Net income available to common shareholders', -396.0, -74.0, -294.0, -889.0, -675.0, -1407.0], ['Earnings per share', np.nan, np.nan, np.nan, np.nan, np.nan, np.nan], ['Basic', -3.69, -0.62, -2.36, -6.93, -4.68, -8.54], ['Diluted', -3.69, -0.62, -2.36, -6.93, -4.68, -8.54], ['Weighted average shares outstanding', np.nan, np.nan, np.nan, np.nan, np.nan, np.nan], ['Basic', 107.0, 119.0, 125.0, 128.0, 144.0, 162.0], ['Diluted', 107.0, 119.0, 125.0, 128.0, 144.0, 162.0], ['EBITDA', -367.0, 68.0, 48.0, -334.0, 400.0, 246.0]])"
   ]
  },
  {
   "cell_type": "code",
   "execution_count": 9,
   "metadata": {},
   "outputs": [],
   "source": [
    "income_statement.columns = ['metric', '2012-12', '2013-12', '2014-12', '2015-12', '2016-12', 'TTM']"
   ]
  },
  {
   "cell_type": "code",
   "execution_count": 10,
   "metadata": {},
   "outputs": [
    {
     "name": "stdout",
     "output_type": "stream",
     "text": [
      "                      metric  2012-12  2013-12  2014-12  2015-12  2016-12  \\\n",
      "0                    Revenue    413.0   2013.0   3198.0   4046.0   7000.0   \n",
      "2               Gross profit     30.0    456.0    882.0    924.0   1599.0   \n",
      "6   Total operating expenses    424.0    518.0   1068.0   1640.0   2267.0   \n",
      "14                Net income   -396.0    -74.0   -294.0   -889.0   -675.0   \n",
      "\n",
      "        TTM  \n",
      "0   10755.0  \n",
      "2    2219.0  \n",
      "6    3520.0  \n",
      "14  -1407.0  \n"
     ]
    }
   ],
   "source": [
    "# Choose some interesting metrics\n",
    "interesting_metrics = ['Revenue', 'Gross profit', 'Total operating expenses', 'Net income']\n",
    "\n",
    "# Filter for rows containing these metrics\n",
    "filtered_income_statement = income_statement[income_statement.metric.isin(interesting_metrics)]\n",
    "\n",
    "# See the result\n",
    "print(filtered_income_statement)"
   ]
  },
  {
   "cell_type": "markdown",
   "metadata": {},
   "source": [
    "### Forecasting profit for Tesla"
   ]
  },
  {
   "cell_type": "code",
   "execution_count": 11,
   "metadata": {},
   "outputs": [
    {
     "name": "stdout",
     "output_type": "stream",
     "text": [
      "    metric  2012-12  2013-12  2014-12  2015-12  2016-12      TTM  Forecast\n",
      "0  Revenue    413.0   2013.0   3198.0   4046.0   7000.0  10755.0     13000\n"
     ]
    }
   ],
   "source": [
    "revenue_metric = ['Revenue']\n",
    "\n",
    "# Filter for rows containing the revenue metric\n",
    "filtered_income_statement = income_statement[income_statement.metric.isin(revenue_metric)]\n",
    "\n",
    "# Get the number of columns in filtered_income_statement\n",
    "n_cols = len(filtered_income_statement.columns)\n",
    "\n",
    "# Insert a column in the correct position containing the column 'Forecast'\n",
    "filtered_income_statement.insert(n_cols, 'Forecast', 13000) \n",
    "\n",
    "# See the result\n",
    "print(filtered_income_statement)"
   ]
  },
  {
   "cell_type": "markdown",
   "metadata": {},
   "source": [
    "## Balance sheet and forecast ratios\n"
   ]
  },
  {
   "cell_type": "markdown",
   "metadata": {},
   "source": [
    "### Calculating accounts receivable (debtors)"
   ]
  },
  {
   "cell_type": "code",
   "execution_count": 12,
   "metadata": {},
   "outputs": [
    {
     "name": "stdout",
     "output_type": "stream",
     "text": [
      "The ‘Debtors’ are [300.0, 510.0, 630.0].\n"
     ]
    }
   ],
   "source": [
    "month = 0\n",
    "# Create the list for sales, and empty lists for debtors and credits\n",
    "sales = [500, 350, 700]\n",
    "credits = [] \n",
    "debtors = []\n",
    "\n",
    "# Create the statement to append the calculated figures to the debtors and credits lists\n",
    "for mvalue in sales: \n",
    "    credits.append(mvalue * 0.6)\n",
    "    if month > 0:\n",
    "        debtors.append(credits[month] + credits[month-1])\n",
    "    else:\n",
    "        debtors.append(credits[month]) \n",
    "    month += 1\n",
    "# Print the result\n",
    "print(\"The ‘Debtors’ are {}.\".format(debtors))"
   ]
  },
  {
   "cell_type": "markdown",
   "metadata": {},
   "source": [
    "### Bad debts"
   ]
  },
  {
   "cell_type": "code",
   "execution_count": 13,
   "metadata": {},
   "outputs": [
    {
     "name": "stdout",
     "output_type": "stream",
     "text": [
      "The debtors are 1500 in January, 1350.0 in February. February's bad debts are 150.0 USD.\n"
     ]
    }
   ],
   "source": [
    "debtors_jan = 1500\n",
    "# Calculate the bad debts for February\n",
    "bad_debts_feb = 500 * 0.3\n",
    "\n",
    "# Calculate the feb debtors amount\n",
    "debtors_feb = (debtors_jan - bad_debts_feb)\n",
    "\n",
    "# Print the debtors for January and the bad debts and the debtors for February\n",
    "print(\"The debtors are {} in January, {} in February. February's bad debts are {} USD.\".format(debtors_jan, debtors_feb, bad_debts_feb))"
   ]
  },
  {
   "cell_type": "markdown",
   "metadata": {},
   "source": [
    "### Calculating accounts payable (creditors)"
   ]
  },
  {
   "cell_type": "code",
   "execution_count": 14,
   "metadata": {},
   "outputs": [
    {
     "name": "stdout",
     "output_type": "stream",
     "text": [
      "The creditors balance for January and February are 125.0 and 150.0 USD.\n"
     ]
    }
   ],
   "source": [
    "# Set the cost per unit\n",
    "unit_cost = 0.25\n",
    "\n",
    "# Create the list for production units and empty list for creditors\n",
    "production = [1000,1200]\n",
    "creditors = []\n",
    "# Calculate the accounts payable for January and February\n",
    "for mvalue in production: \n",
    "    creditors.append(mvalue * unit_cost * 0.5)\n",
    "    \n",
    "# Print the creditors balance for January and February\n",
    "print(\"The creditors balance for January and February are {} and {} USD.\".format(creditors[0], creditors[1]))"
   ]
  },
  {
   "cell_type": "markdown",
   "metadata": {},
   "source": [
    "### Debtor days ratio"
   ]
  },
  {
   "cell_type": "code",
   "execution_count": 15,
   "metadata": {},
   "outputs": [
    {
     "name": "stdout",
     "output_type": "stream",
     "text": [
      "The debtor days ratio is 18.98.\n"
     ]
    }
   ],
   "source": [
    "# Create the variables\n",
    "debtors_end = 650\n",
    "sales_tot = 12500\n",
    "\n",
    "# Calculate the debtor days variable\n",
    "ddays_ratio = (debtors_end/sales_tot) * 365\n",
    "\n",
    "# Print the result\n",
    "print(\"The debtor days ratio is {}.\".format(ddays_ratio))"
   ]
  },
  {
   "cell_type": "markdown",
   "metadata": {},
   "source": [
    "### Days payable outstanding"
   ]
  },
  {
   "cell_type": "code",
   "execution_count": 16,
   "metadata": {},
   "outputs": [
    {
     "name": "stdout",
     "output_type": "stream",
     "text": [
      "The days payable outstanding is 59.3125.\n"
     ]
    }
   ],
   "source": [
    "# Get the variables\n",
    "cogs_tot = 4000\n",
    "creditors_end = 650\n",
    "\n",
    "# Calculate the days payable outstanding\n",
    "dpo = (creditors_end/cogs_tot)*365\n",
    "\n",
    "# Print the days payable outstanding\n",
    "print(\"The days payable outstanding is {}.\".format(dpo))"
   ]
  },
  {
   "cell_type": "markdown",
   "metadata": {},
   "source": [
    "### Days in inventory and asset turnover ratio"
   ]
  },
  {
   "cell_type": "code",
   "execution_count": 17,
   "metadata": {},
   "outputs": [
    {
     "name": "stdout",
     "output_type": "stream",
     "text": [
      "The DII ratio is 173.375.\n",
      "The asset turnover ratio is 2.2222222222222223.\n"
     ]
    }
   ],
   "source": [
    "cogs_tot, av_inv, sales_tot, ob_assets, cb_assets = 4000, 1900, 10000, 2000, 7000\n",
    "\n",
    "# Calculate the days in inventory ratio \n",
    "dii_ratio = (av_inv/cogs_tot)*365\n",
    "\n",
    "# Print the result\n",
    "print(\"The DII ratio is {}.\".format(dii_ratio))\n",
    "\n",
    "# Calculate the Average Assets\n",
    "av_assets = (ob_assets + cb_assets)/2\n",
    "\n",
    "# Calculate the Asset Turnover Ratio\n",
    "at_ratio = sales_tot/av_assets\n",
    "\n",
    "# Print the Asset Turnover Ratio\n",
    "print(\"The asset turnover ratio is {}.\".format(at_ratio))"
   ]
  },
  {
   "cell_type": "markdown",
   "metadata": {},
   "source": [
    "### Calculating balance sheet ratios for Ford"
   ]
  },
  {
   "cell_type": "code",
   "execution_count": 18,
   "metadata": {},
   "outputs": [],
   "source": [
    "import numpy as np\n",
    "import pandas as pd"
   ]
  },
  {
   "cell_type": "code",
   "execution_count": 19,
   "metadata": {},
   "outputs": [],
   "source": [
    "balance_sheet = pd.DataFrame([['Assets', np.nan, np.nan, np.nan, np.nan, np.nan], ['Current assets', np.nan, np.nan, np.nan, np.nan, np.nan], ['Cash', np.nan, np.nan, np.nan, np.nan, np.nan], ['Cash and cash equivalents', 14468.0, 10757.0, 14272.0, 15905.0, 18492.0], ['Short-term investments', 22100.0, 20393.0, 20904.0, 22922.0, 20435.0], ['Total cash', 36568.0, 31150.0, 35176.0, 38827.0, 38927.0], ['Receivables', 87309.0, 92819.0, 101975.0, 57368.0, 62809.0], ['Inventories', 7708.0, 7866.0, 8319.0, 8898.0, 10277.0], ['Other current assets', np.nan, np.nan, np.nan, 3368.0, 3889.0], ['Total current assets', 131585.0, 131835.0, 145470.0, 108461.0, 115902.0], ['Non-current assets', np.nan, np.nan, np.nan, np.nan, np.nan], ['Property, plant and equipment', np.nan, np.nan, np.nan, np.nan, np.nan], ['Gross property, plant and equipment', 59092.0, 59260.0, 57629.0, 59876.0, 65189.0], ['Accumulated Depreciation', -31476.0, -29134.0, -27466.0, -27804.0, -29862.0], ['Net property, plant and equipment', 27616.0, 30126.0, 30163.0, 32072.0, 35327.0], ['Equity and other investments', 23663.0, 26574.0, 30317.0, 32133.0, 31320.0], ['Deferred income taxes', 13315.0, 13639.0, 11509.0, 9705.0, 10973.0], ['Other long-term assets', 5847.0, 6353.0, 7466.0, 55580.0, 64286.0], ['Total non-current assets', 70441.0, 76692.0, 79455.0, 129490.0, 141906.0], ['Total assets', 202026.0, 208527.0, 224925.0, 237951.0, 257808.0], [\"Liabilities and stockholders' equity\", np.nan, np.nan, np.nan, np.nan, np.nan], ['Liabilities', np.nan, np.nan, np.nan, np.nan, np.nan], ['Current liabilities', np.nan, np.nan, np.nan, np.nan, np.nan], ['Short-term debt', 38063.0, 39172.0, 42998.0, 49669.0, 51621.0], ['Accrued liabilities', 2682.0, 2987.0, 2385.0, np.nan, 13849.0], ['Deferred revenues', 2817.0, 3923.0, 4559.0, 19316.0, 2107.0], ['Other current liabilities', 30569.0, 31059.0, 31320.0, 21296.0, 27023.0], ['Total current liabilities', 74131.0, 77141.0, 81262.0, 90281.0, 94600.0], ['Non-current liabilities', np.nan, np.nan, np.nan, np.nan, np.nan], ['Long-term debt', 76625.0, 79999.0, 89856.0, 93301.0, 102666.0], ['Deferred taxes liabilities', 598.0, 570.0, 502.0, 691.0, 815.0], ['Accrued liabilities', 2260.0, np.nan, np.nan, np.nan, np.nan], ['Deferred revenues', 2534.0, 2686.0, 2833.0, 24395.0, 24711.0], ['Pensions and other benefits', 14790.0, 15712.0, 9541.0, np.nan, np.nan], ['Minority interest', 33.0, 27.0, 15.0, 17.0, 28.0], ['Other long-term liabilities', 4672.0, 7587.0, 12274.0, 96.0, 98.0], ['Total non-current liabilities', 101512.0, 106581.0, 115021.0, 118500.0, 128318.0], ['Total liabilities', 175643.0, 183722.0, 196283.0, 208781.0, 222918.0], [\"Stockholders' equity\", np.nan, np.nan, np.nan, np.nan, np.nan], ['Common stock', 40.0, 40.0, 41.0, 41.0, 41.0], ['Additional paid-in capital', 21422.0, 21089.0, 21421.0, 21630.0, 21843.0], ['Retained earnings', 23658.0, 24556.0, 14414.0, 15634.0, 21218.0], ['Treasury stock', -506.0, -848.0, -977.0, -1122.0, -1253.0], ['Accumulated other comprehensive income', -18231.0, -20032.0, -6257.0, -7013.0, -6959.0], [\"Total stockholders' equity\", 26383.0, 24805.0, 28642.0, 29170.0, 34890.0], [\"Total liabilities and stockholders' equity\", 202026.0, 208527.0, 224925.0, 237951.0, 257808.0]])"
   ]
  },
  {
   "cell_type": "code",
   "execution_count": 20,
   "metadata": {},
   "outputs": [],
   "source": [
    "balance_sheet.columns = ['metric', '2013-12', '2014-12', '2015-12', '2016-12', '2017-12']"
   ]
  },
  {
   "cell_type": "code",
   "execution_count": 21,
   "metadata": {},
   "outputs": [
    {
     "name": "stdout",
     "output_type": "stream",
     "text": [
      "The debtor day ratio is 146. A higher debtors days ratio means it takes longer to collect cash from debtors.\n"
     ]
    }
   ],
   "source": [
    "sales = 156776\n",
    "# From previous step\n",
    "receivables_metric = ['Receivables']\n",
    "filtered_balance_sheet = balance_sheet[balance_sheet.metric.isin(receivables_metric)]\n",
    "\n",
    "# Extract the zeroth value from the last time period (2017-12)\n",
    "debtors_end = filtered_balance_sheet['2017-12'].iloc[0]\n",
    "\n",
    "# Calculate the debtor days ratio\n",
    "ddays = (debtors_end / sales) * 365\n",
    "\n",
    "# Print the debtor days ratio\n",
    "print(\"The debtor day ratio is {:.0f}. A higher debtors days ratio means it takes longer to collect cash from debtors.\".format(ddays))"
   ]
  },
  {
   "cell_type": "markdown",
   "metadata": {},
   "source": [
    "### Forecasting the balance sheet for Ford"
   ]
  },
  {
   "cell_type": "code",
   "execution_count": 22,
   "metadata": {},
   "outputs": [
    {
     "data": {
      "text/html": [
       "<div>\n",
       "<style scoped>\n",
       "    .dataframe tbody tr th:only-of-type {\n",
       "        vertical-align: middle;\n",
       "    }\n",
       "\n",
       "    .dataframe tbody tr th {\n",
       "        vertical-align: top;\n",
       "    }\n",
       "\n",
       "    .dataframe thead th {\n",
       "        text-align: right;\n",
       "    }\n",
       "</style>\n",
       "<table border=\"1\" class=\"dataframe\">\n",
       "  <thead>\n",
       "    <tr style=\"text-align: right;\">\n",
       "      <th></th>\n",
       "      <th>metric</th>\n",
       "      <th>2013-12</th>\n",
       "      <th>2014-12</th>\n",
       "      <th>2015-12</th>\n",
       "      <th>2016-12</th>\n",
       "      <th>2017-12</th>\n",
       "      <th>Forecast</th>\n",
       "    </tr>\n",
       "  </thead>\n",
       "  <tbody>\n",
       "    <tr>\n",
       "      <th>6</th>\n",
       "      <td>Receivables</td>\n",
       "      <td>87309.0</td>\n",
       "      <td>92819.0</td>\n",
       "      <td>101975.0</td>\n",
       "      <td>57368.0</td>\n",
       "      <td>62809.0</td>\n",
       "      <td>46775.086027</td>\n",
       "    </tr>\n",
       "  </tbody>\n",
       "</table>\n",
       "</div>"
      ],
      "text/plain": [
       "        metric  2013-12  2014-12   2015-12  2016-12  2017-12      Forecast\n",
       "6  Receivables  87309.0  92819.0  101975.0  57368.0  62809.0  46775.086027"
      ]
     },
     "execution_count": 22,
     "metadata": {},
     "output_type": "execute_result"
    }
   ],
   "source": [
    "ddays = 99 \n",
    "sales = 156776\n",
    "# From previous step\n",
    "f_sales = sales * 1.10\n",
    "f_debtors_end = ddays * f_sales / 365\n",
    "\n",
    "# Get the number of columns in the filtered balance sheet\n",
    "n_cols = len(filtered_balance_sheet.columns)\n",
    "\n",
    "# Append a Forecast column of the forecasted debtors' end balance\n",
    "filtered_balance_sheet.insert(n_cols, 'Forecast', f_debtors_end)\n",
    "\n",
    "# See the result\n",
    "filtered_balance_sheet"
   ]
  },
  {
   "cell_type": "markdown",
   "metadata": {},
   "source": [
    "## Formatting raw data, managing dates and financial periods"
   ]
  },
  {
   "cell_type": "markdown",
   "metadata": {},
   "source": [
    "### Converting quarters into months"
   ]
  },
  {
   "cell_type": "code",
   "execution_count": 23,
   "metadata": {},
   "outputs": [
    {
     "name": "stdout",
     "output_type": "stream",
     "text": [
      "The quarter list per month is [216.66666666666666, 216.66666666666666, 216.66666666666666].\n"
     ]
    }
   ],
   "source": [
    "# Create a list for quarters\n",
    "quarters = [700, 650]\n",
    "\n",
    "# Create a for loop to split the quarters into months into the new qrtlist\n",
    "for qrt in quarters:\n",
    "    month = qrt / 3\n",
    "    qrtlist = [month,month, month]\n",
    " \n",
    "# Print the result\n",
    "print(\"The quarter list per month is {}.\".format(qrtlist))"
   ]
  },
  {
   "cell_type": "markdown",
   "metadata": {},
   "source": [
    "### Merging months into quarters"
   ]
  },
  {
   "cell_type": "code",
   "execution_count": 24,
   "metadata": {},
   "outputs": [
    {
     "name": "stdout",
     "output_type": "stream",
     "text": [
      "The quarter totals are:\n",
      "350\n",
      "550\n",
      "30\n"
     ]
    }
   ],
   "source": [
    "# Create a months list, as well as an index, and set the quarter to 0\n",
    "months = [100, 100, 150, 250, 300, 10, 20]\n",
    "quarter =0\n",
    "index =1\n",
    "\n",
    "# Create for loop for quarter, print result, and increment the index\n",
    "print(\"The quarter totals are:\")\n",
    "\n",
    "for m in months:\n",
    "    quarter = quarter + m\n",
    "    if m % 3 == 0 or index == len(months):\n",
    "        print(quarter)\n",
    "        quarter = 0\n",
    "    index = index + 1"
   ]
  },
  {
   "cell_type": "markdown",
   "metadata": {},
   "source": [
    "### Converting date formats - simple"
   ]
  },
  {
   "cell_type": "code",
   "execution_count": 25,
   "metadata": {},
   "outputs": [
    {
     "name": "stdout",
     "output_type": "stream",
     "text": [
      "2\n",
      "3\n"
     ]
    }
   ],
   "source": [
    "# Import the datetime python library\n",
    "from datetime import datetime\n",
    "\n",
    "# Create a dt_object to convert the first date and print the month result\n",
    "dt_object = datetime.strptime('14/02/2018', '%d/%m/%Y')\n",
    "print(dt_object.month)\n",
    "\n",
    "# Create a dt_object to convert the second date and print the month result\n",
    "dt_object = datetime.strptime('2 March 2018', '%d %B %Y')\n",
    "print(dt_object.month)"
   ]
  },
  {
   "cell_type": "markdown",
   "metadata": {},
   "source": [
    "### Converting date formats - explicit"
   ]
  },
  {
   "cell_type": "code",
   "execution_count": 26,
   "metadata": {},
   "outputs": [
    {
     "name": "stdout",
     "output_type": "stream",
     "text": [
      "14 February 2018\n"
     ]
    }
   ],
   "source": [
    "# Set the variable for the datetime to convert\n",
    "dt = '14/02/2018'\n",
    "\n",
    "# Create the dictionary for the month values\n",
    "mm = {'01': 'January', '02': 'February', '03': 'March'}\n",
    "\n",
    "# Split the dt string into the different parts\n",
    "day, month, year = dt.split('/')\n",
    "\n",
    "# Print the concatenated date string\n",
    "print(day + ' ' + mm[month] + ' ' + year)"
   ]
  },
  {
   "cell_type": "markdown",
   "metadata": {},
   "source": [
    "### Working with datasets - month totals"
   ]
  },
  {
   "cell_type": "code",
   "execution_count": 27,
   "metadata": {},
   "outputs": [
    {
     "name": "stdout",
     "output_type": "stream",
     "text": [
      "{'Jan': 0, 'Feb': 3000.0, 'Mar': 2700.0}\n"
     ]
    }
   ],
   "source": [
    "import pandas as pd\n",
    "df = pd.DataFrame([['Sales', 3000, 1200, 1500]])\n",
    "df.columns = ['Description', '14-Feb', '19-Mar', '22-Mar']\n",
    "# Set the index to start at 0\n",
    "index = 0 \n",
    "\n",
    "# Create the dictionary for the months\n",
    "tt = {'Jan': 0, 'Feb': 0, 'Mar': 0}\n",
    "\n",
    "# Create a for loop that will iterate the date and amount values in the dataset\n",
    "for date, amount in df.iteritems():\n",
    "    # Create the if statement to split the day and month, then add it to the new tt variable\n",
    "    if index > 0: \n",
    "        day, month = date.split('-')\n",
    "        tt[month] +=float(amount[0])\n",
    "    index += 1\n",
    "\n",
    "print(tt)"
   ]
  },
  {
   "cell_type": "markdown",
   "metadata": {},
   "source": [
    "### Working with datasets - combining dataset"
   ]
  },
  {
   "cell_type": "code",
   "execution_count": 28,
   "metadata": {},
   "outputs": [],
   "source": [
    "df1 = pd.DataFrame([['Sales', 3000, 1200]])\n",
    "df1.columns = ['Description', '02-Feb-18', '15-Mar-18']\n",
    "df1.set_index('Description', inplace = True)"
   ]
  },
  {
   "cell_type": "code",
   "execution_count": 29,
   "metadata": {},
   "outputs": [],
   "source": [
    "df2 = pd.DataFrame([['Sales', 1000, 1200]])\n",
    "df2.columns = ['Description', '06/01/2018', '14/02/2018']\n",
    "df2.set_index('Description', inplace = True)"
   ]
  },
  {
   "cell_type": "code",
   "execution_count": 30,
   "metadata": {},
   "outputs": [
    {
     "name": "stdout",
     "output_type": "stream",
     "text": [
      "{'Jan': 0, 'Feb': 4200.0, 'Mar': 1200.0}\n"
     ]
    }
   ],
   "source": [
    "tt = {'Jan': 0, 'Feb': 0, 'Mar': 0}\n",
    "mm = {'01': 'Jan', '02': 'Feb', '03': 'Mar'}\n",
    "\n",
    "for date, amount in df1.iteritems():\n",
    "    if index > 0: \n",
    "        day, month, year = date.split('-')\n",
    "        tt[month] +=float(amount[0]) \n",
    "    index += 1 \n",
    "\n",
    "index = 0 \n",
    "for date, amount in df2.iteritems():\n",
    "    if index > 0: \n",
    "        day, month, year = date.split('/')\n",
    "        tt[mm[month]] += float(amount[0])\n",
    "    index += 1\n",
    "\n",
    "print(tt)"
   ]
  },
  {
   "cell_type": "markdown",
   "metadata": {},
   "source": [
    "## Assumptions and variances in forecasts\n"
   ]
  },
  {
   "cell_type": "markdown",
   "metadata": {},
   "source": [
    "### Weighted probability"
   ]
  },
  {
   "cell_type": "code",
   "execution_count": 31,
   "metadata": {},
   "outputs": [
    {
     "name": "stdout",
     "output_type": "stream",
     "text": [
      "The weighted probability is 440.0.\n"
     ]
    }
   ],
   "source": [
    "# Create the combined list for sales and probability\n",
    "sales_probability = ['0|0.05', '200|0.1', '300|0.4', '500|0.2', '800|0.25'] \n",
    "weighted_probability = 0\n",
    "\n",
    "# Create a for loop to calculate the weighted probability\n",
    "for pair in sales_probability:\n",
    "    parts = pair.split('|')\n",
    "    weighted_probability += float(parts[0]) * float(parts[1])\n",
    "\n",
    "# Print the weighted probability result\n",
    "print(\"The weighted probability is {}.\".format(weighted_probability))"
   ]
  },
  {
   "cell_type": "markdown",
   "metadata": {},
   "source": [
    "### Market sentiment"
   ]
  },
  {
   "cell_type": "code",
   "execution_count": 32,
   "metadata": {},
   "outputs": [
    {
     "name": "stdout",
     "output_type": "stream",
     "text": [
      "The forecast sales considering variance due to market sentiment is 510.0 for Jan, 525.0 for Feb, and 535.0 for Mar.\n"
     ]
    }
   ],
   "source": [
    "# Create the computevariance function\n",
    "def computevariance(amount, sentiment):\n",
    "    if (sentiment < 0.6):\n",
    "        res = amount + (amount * 0.02)\n",
    "    elif (sentiment > 0.8):\n",
    "        res = amount + (amount * 0.07)\n",
    "    else:\n",
    "        res = amount + (amount * 0.05)\n",
    "    return res\n",
    "\n",
    "# Compute the variance for jan, feb and mar\n",
    "jan = computevariance(500, 0.5)\n",
    "feb = computevariance(500, 0.65)\n",
    "mar = computevariance(500, 0.85)\n",
    "\n",
    "print(\"The forecast sales considering variance due to market sentiment is {} for Jan, {} for Feb, and {} for Mar.\".format(jan, feb, mar))"
   ]
  },
  {
   "cell_type": "markdown",
   "metadata": {},
   "source": [
    "### Assigning dependencies for sales and COGS"
   ]
  },
  {
   "cell_type": "code",
   "execution_count": 33,
   "metadata": {},
   "outputs": [
    {
     "name": "stdout",
     "output_type": "stream",
     "text": [
      "The sales dependency is 2195214 USD.\n"
     ]
    }
   ],
   "source": [
    "base_sales_price = 15\n",
    "# Set the Sales Dependency\n",
    "if sales >= 350:\n",
    "    sales_dep = (350 * base_sales_price) + ((sales - 350) * (base_sales_price - 1))\n",
    "else:\n",
    "    sales_dep = sales * base_sales_price\n",
    "\n",
    "# Print the results\n",
    "print(\"The sales dependency is {} USD.\".format(sales_dep))"
   ]
  },
  {
   "cell_type": "code",
   "execution_count": 34,
   "metadata": {},
   "outputs": [
    {
     "name": "stdout",
     "output_type": "stream",
     "text": [
      "The cost dependency is 1409984 USD.\n"
     ]
    }
   ],
   "source": [
    "base_cost_price = 7\n",
    "# Set the Cost Dependency\n",
    "if sales >= 500:\n",
    "    cost_dep = (500 * base_cost_price) + ((sales - 500) * (base_cost_price + 2))\n",
    "else:\n",
    "    cost_dep = sales * base_cost_price\n",
    "\n",
    "# Print the results\n",
    "print(\"The cost dependency is {} USD.\".format(cost_dep))"
   ]
  },
  {
   "cell_type": "markdown",
   "metadata": {},
   "source": [
    "### Building a sensitivity analysis for gross profit"
   ]
  },
  {
   "cell_type": "code",
   "execution_count": 35,
   "metadata": {},
   "outputs": [
    {
     "name": "stdout",
     "output_type": "stream",
     "text": [
      "The gross profit forecast for a sale unit value of 700 is 4850 USD.\n",
      "The gross profit forecast for a sale unit value of 350 is 2800 USD.\n",
      "The gross profit forecast for a sale unit value of 650 is 4600 USD.\n"
     ]
    }
   ],
   "source": [
    "# Create the sales_usd list\n",
    "sales_usd = [700, 350, 650]\n",
    "\n",
    "# Create the if statement to calculate the forecast_gross_profit\n",
    "for sales in sales_usd:\n",
    "    if sales > 350:\n",
    "        sales_dep = (350 * base_sales_price) + ((sales - 350) * (base_sales_price - 1))\n",
    "    else:\n",
    "        sales_dep = sales * base_sales_price\n",
    "    if sales > 500:\n",
    "        cost_dep = (500 * base_cost_price) + ((sales - 500) * (base_cost_price + 2))\n",
    "    else:\n",
    "        cost_dep = sales * base_cost_price\n",
    "    forecast_gross_profit = sales_dep - cost_dep\n",
    "\n",
    "    # Print the result\n",
    "    print(\"The gross profit forecast for a sale unit value of {} is {} USD.\".format(sales, forecast_gross_profit))"
   ]
  },
  {
   "cell_type": "markdown",
   "metadata": {},
   "source": [
    "### Assigning dependencies for expenses"
   ]
  },
  {
   "cell_type": "code",
   "execution_count": 36,
   "metadata": {},
   "outputs": [
    {
     "name": "stdout",
     "output_type": "stream",
     "text": [
      "The admin dependency for August is 560 USD.\n"
     ]
    }
   ],
   "source": [
    "emp_leave = 7\n",
    "# Set the admin dependency\n",
    "if emp_leave > 0:\n",
    "    admin_dep = emp_leave * 80\n",
    "\n",
    "# Print the results\n",
    "print(\"The admin dependency for August is {} USD.\".format(admin_dep))"
   ]
  },
  {
   "cell_type": "markdown",
   "metadata": {},
   "source": [
    "### Build a sensitivity analysis for the net profit"
   ]
  },
  {
   "cell_type": "code",
   "execution_count": 37,
   "metadata": {},
   "outputs": [
    {
     "name": "stdout",
     "output_type": "stream",
     "text": [
      "The forecast net profit is:\n",
      "2870\n",
      "820\n",
      "3100\n"
     ]
    }
   ],
   "source": [
    "forecast_gross_profit = [4850, 2800, 4600]\n",
    "emp_leave = [6, 6, 0]\n",
    "admin_usd = [1500, 1500, 1500]\n",
    "index = 0\n",
    "\n",
    "print(\"The forecast net profit is:\")\n",
    "for admin in admin_usd:\n",
    "    employee = emp_leave[index]\n",
    "    if employee > 0:\n",
    "        admin_dep = emp_leave[index] * 80 + admin\n",
    "    else: \n",
    "        admin_dep = admin \n",
    "    forecast_net_profit = forecast_gross_profit[index] - admin_dep\n",
    "    print(forecast_net_profit)\n",
    "    index += 1"
   ]
  },
  {
   "cell_type": "markdown",
   "metadata": {},
   "source": [
    "### Building an alternate forecast"
   ]
  },
  {
   "cell_type": "code",
   "execution_count": 38,
   "metadata": {},
   "outputs": [
    {
     "name": "stdout",
     "output_type": "stream",
     "text": [
      "The original forecast scenario is [4850, 2800, 4600]:\n",
      "The alternative forecast scenario is [4850, 1760, 3950]:\n"
     ]
    }
   ],
   "source": [
    "def dependencies(base_cost_price, base_sales_price, sales_usd):\n",
    "    res = []\n",
    "    for sales in sales_usd:\n",
    "        if sales >= 350:\n",
    "            sales_dep = (350 * base_sales_price) + ((sales - 350) * (base_sales_price - 1))\n",
    "        else:\n",
    "            sales_dep = sales * base_sales_price\n",
    "        if sales >= 500:\n",
    "            cost_dep = (500 * base_cost_price) + ((sales - 500) * (base_cost_price + 2))\n",
    "        else:\n",
    "            cost_dep = sales * base_cost_price\n",
    "        res.append(sales_dep - cost_dep)\n",
    "    return res\n",
    "\n",
    "forecast1 = dependencies(7, 15, [700, 350, 650])\n",
    "forecast2 = dependencies(7, 15, [700, 220, 520])\n",
    "\n",
    "print(\"The original forecast scenario is {}:\".format(forecast1))\n",
    "print(\"The alternative forecast scenario is {}:\".format(forecast2))"
   ]
  },
  {
   "cell_type": "markdown",
   "metadata": {},
   "source": [
    "### Building a gap analysis between forecasts"
   ]
  },
  {
   "cell_type": "code",
   "execution_count": 39,
   "metadata": {},
   "outputs": [
    {
     "name": "stdout",
     "output_type": "stream",
     "text": [
      "The gap between forecasts is 0\n",
      "The gap between forecasts is -1040\n",
      "The gap between forecasts is -650\n"
     ]
    }
   ],
   "source": [
    "# Set the two results\n",
    "forecast1 = dependencies(7, 15, [700, 350, 650])\n",
    "forecast2 = dependencies(7, 15, [700, 220, 520])\n",
    "\n",
    "# Create an index and the gap analysis for the forecast\n",
    "index = 0\n",
    "for value in forecast2:\n",
    "    print(\"The gap between forecasts is {}\".format(value - forecast1[index]))\n",
    "    index += 1"
   ]
  },
  {
   "cell_type": "markdown",
   "metadata": {},
   "source": [
    "### Setting dependencies for Netflix"
   ]
  },
  {
   "cell_type": "code",
   "execution_count": 40,
   "metadata": {},
   "outputs": [],
   "source": [
    "netflix_f_is = pd.DataFrame([['Sales', 5505, 6780, 8831, 11688, 14979, 17994], ['EBITDA', 528, 493, 611, 1088, 1899, 2943], ['Operating profit\\xa0(EBIT)', 403, 306, 380, 837, 1660, 2702], ['Net income', 267, 123, 187, 559, 1024, 1721]])"
   ]
  },
  {
   "cell_type": "code",
   "execution_count": 41,
   "metadata": {},
   "outputs": [],
   "source": [
    "netflix_f_is.columns = ['metric', '2014 act', '2015 act', '2016 act', '2017 fc', '2018 fc', '2019 fc']"
   ]
  },
  {
   "cell_type": "code",
   "execution_count": 42,
   "metadata": {},
   "outputs": [
    {
     "data": {
      "text/html": [
       "<div>\n",
       "<style scoped>\n",
       "    .dataframe tbody tr th:only-of-type {\n",
       "        vertical-align: middle;\n",
       "    }\n",
       "\n",
       "    .dataframe tbody tr th {\n",
       "        vertical-align: top;\n",
       "    }\n",
       "\n",
       "    .dataframe thead th {\n",
       "        text-align: right;\n",
       "    }\n",
       "</style>\n",
       "<table border=\"1\" class=\"dataframe\">\n",
       "  <thead>\n",
       "    <tr style=\"text-align: right;\">\n",
       "      <th></th>\n",
       "      <th>metric</th>\n",
       "      <th>2014 act</th>\n",
       "      <th>2015 act</th>\n",
       "      <th>2016 act</th>\n",
       "      <th>2017 fc</th>\n",
       "      <th>2018 fc</th>\n",
       "      <th>2019 fc</th>\n",
       "    </tr>\n",
       "  </thead>\n",
       "  <tbody>\n",
       "    <tr>\n",
       "      <th>0</th>\n",
       "      <td>Sales</td>\n",
       "      <td>5505</td>\n",
       "      <td>6780</td>\n",
       "      <td>8831</td>\n",
       "      <td>11688</td>\n",
       "      <td>14979</td>\n",
       "      <td>17994</td>\n",
       "    </tr>\n",
       "    <tr>\n",
       "      <th>1</th>\n",
       "      <td>EBITDA</td>\n",
       "      <td>528</td>\n",
       "      <td>493</td>\n",
       "      <td>611</td>\n",
       "      <td>1088</td>\n",
       "      <td>1899</td>\n",
       "      <td>2943</td>\n",
       "    </tr>\n",
       "    <tr>\n",
       "      <th>2</th>\n",
       "      <td>Operating profit (EBIT)</td>\n",
       "      <td>403</td>\n",
       "      <td>306</td>\n",
       "      <td>380</td>\n",
       "      <td>837</td>\n",
       "      <td>1660</td>\n",
       "      <td>2702</td>\n",
       "    </tr>\n",
       "    <tr>\n",
       "      <th>3</th>\n",
       "      <td>Net income</td>\n",
       "      <td>267</td>\n",
       "      <td>123</td>\n",
       "      <td>187</td>\n",
       "      <td>559</td>\n",
       "      <td>1024</td>\n",
       "      <td>1721</td>\n",
       "    </tr>\n",
       "  </tbody>\n",
       "</table>\n",
       "</div>"
      ],
      "text/plain": [
       "                    metric  2014 act  2015 act  2016 act  2017 fc  2018 fc  \\\n",
       "0                    Sales      5505      6780      8831    11688    14979   \n",
       "1                   EBITDA       528       493       611     1088     1899   \n",
       "2  Operating profit (EBIT)       403       306       380      837     1660   \n",
       "3               Net income       267       123       187      559     1024   \n",
       "\n",
       "   2019 fc  \n",
       "0    17994  \n",
       "1     2943  \n",
       "2     2702  \n",
       "3     1721  "
      ]
     },
     "execution_count": 42,
     "metadata": {},
     "output_type": "execute_result"
    }
   ],
   "source": [
    "netflix_f_is"
   ]
  },
  {
   "cell_type": "code",
   "execution_count": 43,
   "metadata": {},
   "outputs": [
    {
     "name": "stdout",
     "output_type": "stream",
     "text": [
      "The ratio between subscribers and sales is 1 subscriber equals $0.46.\n"
     ]
    }
   ],
   "source": [
    "n_subscribers_per_pp = 500\n",
    "# From previous steps\n",
    "sales_metric = ['Sales']\n",
    "filtered_netflix_f_is = netflix_f_is[netflix_f_is.metric.isin(sales_metric)]\n",
    "forecast1 = filtered_netflix_f_is[\"2019 fc\"].iloc[0]\n",
    "pct_success = 78\n",
    "n_subscribers = n_subscribers_per_pp * pct_success\n",
    "\n",
    "# Calculate the ratio between forecast sales and subscribers\n",
    "sales_subs_ratio = forecast1 / n_subscribers\n",
    "\n",
    "# See the result\n",
    "print(\"The ratio between subscribers and sales is 1 subscriber equals ${:.2f}.\".format(sales_subs_ratio))"
   ]
  },
  {
   "cell_type": "markdown",
   "metadata": {},
   "source": [
    "### Calculating an alternative forecast for Netflix"
   ]
  },
  {
   "cell_type": "code",
   "execution_count": 44,
   "metadata": {},
   "outputs": [
    {
     "data": {
      "text/html": [
       "<div>\n",
       "<style scoped>\n",
       "    .dataframe tbody tr th:only-of-type {\n",
       "        vertical-align: middle;\n",
       "    }\n",
       "\n",
       "    .dataframe tbody tr th {\n",
       "        vertical-align: top;\n",
       "    }\n",
       "\n",
       "    .dataframe thead th {\n",
       "        text-align: right;\n",
       "    }\n",
       "</style>\n",
       "<table border=\"1\" class=\"dataframe\">\n",
       "  <thead>\n",
       "    <tr style=\"text-align: right;\">\n",
       "      <th></th>\n",
       "      <th>metric</th>\n",
       "      <th>2014 act</th>\n",
       "      <th>2015 act</th>\n",
       "      <th>2016 act</th>\n",
       "      <th>2017 fc</th>\n",
       "      <th>2018 fc</th>\n",
       "      <th>2019 fc</th>\n",
       "      <th>Forecast2</th>\n",
       "      <th>Gap</th>\n",
       "    </tr>\n",
       "  </thead>\n",
       "  <tbody>\n",
       "    <tr>\n",
       "      <th>0</th>\n",
       "      <td>Sales</td>\n",
       "      <td>5505</td>\n",
       "      <td>6780</td>\n",
       "      <td>8831</td>\n",
       "      <td>11688</td>\n",
       "      <td>14979</td>\n",
       "      <td>17994</td>\n",
       "      <td>14995.0</td>\n",
       "      <td>2999.0</td>\n",
       "    </tr>\n",
       "  </tbody>\n",
       "</table>\n",
       "</div>"
      ],
      "text/plain": [
       "  metric  2014 act  2015 act  2016 act  2017 fc  2018 fc  2019 fc  Forecast2  \\\n",
       "0  Sales      5505      6780      8831    11688    14979    17994    14995.0   \n",
       "\n",
       "      Gap  \n",
       "0  2999.0  "
      ]
     },
     "execution_count": 44,
     "metadata": {},
     "output_type": "execute_result"
    }
   ],
   "source": [
    "# From previous step\n",
    "pct_success2 = 65\n",
    "n_subscribers2 = n_subscribers_per_pp * pct_success2\n",
    "forecast2 = n_subscribers2 * sales_subs_ratio\n",
    "\n",
    "# Append a column named Forecast2, containing forecast2\n",
    "filtered_netflix_f_is.insert(len(filtered_netflix_f_is.columns), 'Forecast2', forecast2)\n",
    "\n",
    "# Append a column named Gap, containing the difference\n",
    "filtered_netflix_f_is.insert(len(filtered_netflix_f_is.columns), 'Gap', forecast1 - forecast2)\n",
    "\n",
    "# See the result\n",
    "filtered_netflix_f_is"
   ]
  },
  {
   "cell_type": "code",
   "execution_count": null,
   "metadata": {},
   "outputs": [],
   "source": []
  }
 ],
 "metadata": {
  "kernelspec": {
   "display_name": "Python 3 (ipykernel)",
   "language": "python",
   "name": "python3"
  },
  "language_info": {
   "codemirror_mode": {
    "name": "ipython",
    "version": 3
   },
   "file_extension": ".py",
   "mimetype": "text/x-python",
   "name": "python",
   "nbconvert_exporter": "python",
   "pygments_lexer": "ipython3",
   "version": "3.9.7"
  }
 },
 "nbformat": 4,
 "nbformat_minor": 4
}
