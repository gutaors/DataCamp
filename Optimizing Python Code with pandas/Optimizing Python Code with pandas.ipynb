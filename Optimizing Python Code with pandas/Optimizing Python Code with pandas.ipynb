{
 "cells": [
  {
   "cell_type": "code",
   "execution_count": null,
   "metadata": {},
   "outputs": [],
   "source": [
    "#### MODULE 1"
   ]
  },
  {
   "cell_type": "code",
   "execution_count": null,
   "metadata": {},
   "outputs": [],
   "source": [
    "## Measuring time using time I\n",
    "\n",
    "pd_start_time = time.time()\n",
    "\n",
    "# Calculate the variance using pandas\n",
    "print(poker_hands['R2'].var())\n",
    "\n",
    "# Print the CPU time required to complete the operation \n",
    "print(\"Results from the pandas method calculated in %s seconds\" % (time.time() - pd_start_time))\n",
    "\n",
    "np_start_time = time.time()\n",
    "\n",
    "# Calculate the variance using NumPy\n",
    "print(np.var(poker_hands['R2']))\n",
    "\n",
    "# Print the CPU time required to complete the operation \n",
    "print(\"Results from the NumPy method calculated in %s seconds\" % (time.time() - np_start_time))"
   ]
  },
  {
   "cell_type": "code",
   "execution_count": null,
   "metadata": {},
   "outputs": [],
   "source": []
  },
  {
   "cell_type": "code",
   "execution_count": null,
   "metadata": {},
   "outputs": [],
   "source": [
    "#### Measuring time using time II\n",
    "\n",
    "# Calculate the result of the problem using method_1()\n",
    "fm_start_time = time.time()\n",
    "first_method = method_1()\n",
    "\n",
    "# Print the time required\n",
    "print(\"Results from the first method calculated in %s seconds\" % (time.time() - fm_start_time))\n",
    "\n",
    "# Calculate the result of the problem using method_2()\n",
    "sm_start_time = time.time()\n",
    "second_method = method_2()\n",
    "\n",
    "# Print the time required\n",
    "print(\"Results from the second method calculated in %s seconds\" % (time.time() - sm_start_time))"
   ]
  },
  {
   "cell_type": "code",
   "execution_count": null,
   "metadata": {},
   "outputs": [],
   "source": []
  },
  {
   "cell_type": "code",
   "execution_count": null,
   "metadata": {},
   "outputs": [],
   "source": [
    "#### Loc vs simple selection for targeting rows I\n",
    "\n",
    "# Define the variable that keeps the targeted indices\n",
    "rows = range(0,1000)\n",
    "\n",
    "# Select the rows using the targeted indices and calculate the CPU time\n",
    "loc_start_time = time.time()\n",
    "print(poker_hands.loc[rows])\n",
    "\n",
    "print(\"Results from the .loc method calculated in %s seconds\" % (time.time() - loc_start_time))\n",
    "\n",
    "# Select the rows using the targeted column names and calculate the CPU time\n",
    "iloc_start_time = time.time()\n",
    "print(poker_hands.iloc[rows])\n",
    "\n",
    "print(\"Results from the .iloc method calculatedin %s seconds\" % (time.time() - iloc_start_time))"
   ]
  },
  {
   "cell_type": "code",
   "execution_count": null,
   "metadata": {},
   "outputs": [],
   "source": []
  },
  {
   "cell_type": "code",
   "execution_count": null,
   "metadata": {},
   "outputs": [],
   "source": [
    "##### Iloc vs simple selection for targeting rows II\n",
    "\n",
    "# Use .iloc to select the first 3 columns \n",
    "ind_start_time = time.time()\n",
    "print(poker_hands.iloc[:,0:3])\n",
    "print(\"Results from the first method calculated in %s seconds\" % (time.time() - ind_start_time))\n",
    "\n",
    "# Use simple column selection to select the first 3 columns \n",
    "name_start_time = time.time()\n",
    "print(poker_hands[['S1','R1','S2']])\n",
    "print(\"Results from the second method calculated in %s seconds\" % (time.time() - name_start_time))\n",
    "\n",
    "\n",
    "# Results from the first method calculated in 0.062470436096191406 seconds\n",
    "# Results from the second method calculated in 0.06198239326477051 seconds"
   ]
  },
  {
   "cell_type": "code",
   "execution_count": null,
   "metadata": {},
   "outputs": [],
   "source": []
  },
  {
   "cell_type": "code",
   "execution_count": null,
   "metadata": {},
   "outputs": [],
   "source": [
    "### Comparing methods for random row selection\n",
    "\n",
    "N=poker_hands.shape[0]\n",
    "\n",
    "# Select and time the selection of the 75% of the dataset's rows\n",
    "rand_start_time = time.time()\n",
    "poker_hands.iloc[np.random.randint(low=0, high=N, size=int(75./100*N))]\n",
    "print(\"Results from the first method calculated in %s seconds\" % (time.time() - rand_start_time))\n",
    "\n",
    "# Select and time the selection of the 75% of the dataset's rows using sample()\n",
    "samp_start_time = time.time()\n",
    "poker_hands.sample(int(75./100*N), axis=0)\n",
    "print(\"Results from the second method calculated in %s seconds\" % (time.time() - samp_start_time))\n",
    "\n",
    "\n",
    "# <script.py> output:\n",
    "#     Results from the first method calculated in 0.004052877426147461 seconds\n",
    "#     Results from the second method calculated in 0.003406047821044922 seconds"
   ]
  },
  {
   "cell_type": "code",
   "execution_count": null,
   "metadata": {},
   "outputs": [],
   "source": []
  },
  {
   "cell_type": "code",
   "execution_count": null,
   "metadata": {},
   "outputs": [],
   "source": [
    "#### Comparing methods for random column selection\n",
    "\n",
    "D=poker_hands.shape[1]\n",
    "\n",
    "# Select and time the selection of 4 of the dataset's columns using NumPy\n",
    "np_start_time = time.time()\n",
    "poker_hands.iloc[:,np.random.randint(low=0, high=D, size=4)]\n",
    "print(\"Results from the first method calculated in %s seconds\" % (time.time() - np_start_time))\n",
    "\n",
    "# Select and time the selection of 4 of the dataset's columns using pandas\n",
    "pd_start_time = time.time()\n",
    "poker_hands.sample(4, axis=1)\n",
    "print(\"Results from the second method calculated in %s seconds\" % (time.time() - pd_start_time))\n",
    "\n",
    "\n",
    "# <script.py> output:\n",
    "#     Results from the first method calculated in 0.0025391578674316406 seconds\n",
    "#     Results from the second method calculated in 0.001804351806640625 seconds"
   ]
  },
  {
   "cell_type": "code",
   "execution_count": null,
   "metadata": {},
   "outputs": [],
   "source": []
  },
  {
   "cell_type": "code",
   "execution_count": null,
   "metadata": {},
   "outputs": [],
   "source": [
    "### Replace scalar values I\n",
    "\n",
    "# Replace Class 1 to -2 and Class 2 to -3\n",
    "poker_hands['Class'].replace([1,2], [-2,-3], inplace=True)\n",
    "print(poker_hands[['Class', 'Explanation']])"
   ]
  },
  {
   "cell_type": "code",
   "execution_count": null,
   "metadata": {},
   "outputs": [],
   "source": []
  },
  {
   "cell_type": "code",
   "execution_count": null,
   "metadata": {},
   "outputs": [],
   "source": [
    "### Replace scalar values II\n",
    "\n",
    "start_time = time.time()\n",
    "\n",
    "# Replace all the entries that has 'FEMALE' as a gender with 'GIRL'\n",
    "names['Gender'].loc[names.Gender == 'FEMALE'] = 'GIRL'\n",
    "\n",
    "print(\"Results from the first method calculated in %s seconds\" % (time.time() - start_time))\n",
    "\n",
    "\n",
    "start_time = time.time()\n",
    "\n",
    "# Replace all the entries that has 'FEMALE' as a gender with 'GIRL'\n",
    "names['Gender'].replace('FEMALE', 'GIRL', inplace=True)\n",
    "\n",
    "print(\"Results from the first method calculated in %s seconds\" % (time.time() - start_time))\n",
    "\n",
    "\n",
    "## <script.py> output:\n",
    "##     Results from the first method calculated in 0.0455927848815918 seconds\n",
    "##     Results from the first method calculated in 0.003141164779663086 seconds"
   ]
  },
  {
   "cell_type": "code",
   "execution_count": null,
   "metadata": {},
   "outputs": [],
   "source": []
  },
  {
   "cell_type": "code",
   "execution_count": null,
   "metadata": {},
   "outputs": [],
   "source": [
    "#### Replace multiple values with one value\n",
    "\n",
    "start_time = time.time()\n",
    "\n",
    "# Replace all non-Hispanic ethnicities with 'NON HISPANIC'\n",
    "names['Ethnicity'].loc[(names[\"Ethnicity\"] == 'BLACK NON HISP') | \n",
    "                       (names[\"Ethnicity\"] == 'BLACK NON HISPANIC') | \n",
    "                       (names[\"Ethnicity\"] == 'WHITE NON HISP') | \n",
    "                       (names[\"Ethnicity\"] == 'WHITE NON HISPANIC')] = 'NON HISPANIC'\n",
    "\n",
    "print(\"Results from the above operation calculated in %s seconds\" % (time.time() - start_time))\n",
    "\n",
    "\n",
    "start_time = time.time()\n",
    "\n",
    "# Replace all non-Hispanic ethnicities with 'NON HISPANIC'\n",
    "names['Ethnicity'].replace(['BLACK NON HISP', \n",
    "                            'BLACK NON HISPANIC', \n",
    "                            'WHITE NON HISP',\n",
    "                            'WHITE NON HISPANIC'], 'NON HISPANIC' )\n",
    "\n",
    "\n",
    "print(\"Results from the above operation calculated in %s seconds\" % (time.time() - start_time))\n",
    "\n",
    "## <script.py> output:\n",
    "##     Results from the above operation calculated in 0.0964498519897461 seconds\n",
    "##     Results from the above operation calculated in 0.0034012794494628906 seconds"
   ]
  },
  {
   "cell_type": "code",
   "execution_count": null,
   "metadata": {},
   "outputs": [],
   "source": []
  },
  {
   "cell_type": "code",
   "execution_count": null,
   "metadata": {},
   "outputs": [],
   "source": [
    "### Replace multiple values with multiple values\n",
    "\n",
    "start_time = time.time()\n",
    "\n",
    "# Replace ehtnicities as instructed\n",
    "names['Ethnicity'].replace(['ASIAN AND PACI',\n",
    "                            'BLACK NON HISP', \n",
    "                            'WHITE NON HISP'], \n",
    "                           \n",
    "                           ['ASIAN AND PACIFIC ISLANDER',\n",
    "                            'BLACK NON HISPANIC', \n",
    "                            'WHITE NON HISPANIC'], inplace=True)\n",
    "\n",
    "print(\"Results from the above operation calculated in %s seconds\" % (time.time() - start_time))\n",
    "\n"
   ]
  },
  {
   "cell_type": "code",
   "execution_count": null,
   "metadata": {},
   "outputs": [],
   "source": []
  },
  {
   "cell_type": "code",
   "execution_count": null,
   "metadata": {},
   "outputs": [],
   "source": [
    "## Replace single values using dictionaries I\n",
    "\n",
    "# Replace Royal Flush or Straight Flush to Flush\n",
    "poker_hands.replace({'Explanation': {'Royal flush':'Flush', 'Straight flush':'Flush'}}, inplace=True)\n",
    "print(poker_hands['Explanation'].head())"
   ]
  },
  {
   "cell_type": "code",
   "execution_count": null,
   "metadata": {},
   "outputs": [],
   "source": [
    "### Replace single values using dictionaries II\n",
    "\n",
    "# Replace the number rank by a string\n",
    "names['Rank'].replace({1:'FIRST', 2:'SECOND', 3:'THIRD'}, inplace=True)\n",
    "print(names.head())"
   ]
  },
  {
   "cell_type": "code",
   "execution_count": null,
   "metadata": {},
   "outputs": [],
   "source": [
    "## Replace multiple values using dictionaries\n",
    "\n",
    "# Replace the rank of the first three ranked names to 'MEDAL'\n",
    "names.replace({'Rank': {1:'MEDAL', 2:'MEDAL',3:'MEDAL',}}, inplace=True)\n",
    "\n",
    "# Replace the rank of the 4th and 5th ranked names to 'ALMOST MEDAL'\n",
    "names.replace({'Rank': {4:'ALMOST MEDAL', 5:'ALMOST MEDAL'}}, inplace=True)\n",
    "print(names.head())"
   ]
  },
  {
   "cell_type": "code",
   "execution_count": null,
   "metadata": {},
   "outputs": [],
   "source": []
  },
  {
   "cell_type": "code",
   "execution_count": null,
   "metadata": {},
   "outputs": [],
   "source": [
    "### MODULE 3"
   ]
  },
  {
   "cell_type": "code",
   "execution_count": null,
   "metadata": {},
   "outputs": [],
   "source": [
    "### Create a generator for a pandas DataFrame\n",
    "\n",
    "# Create a generator over the rows\n",
    "generator = poker_hands.iterrows()\n",
    "\n",
    "# Access the elements of the 2nd row\n",
    "first_element = next(generator)\n",
    "second_element = next(generator)\n",
    "print(first_element, second_element)"
   ]
  },
  {
   "cell_type": "code",
   "execution_count": null,
   "metadata": {},
   "outputs": [],
   "source": []
  },
  {
   "cell_type": "code",
   "execution_count": null,
   "metadata": {},
   "outputs": [],
   "source": [
    "### The iterrows() function for looping a DataFrame\n",
    "\n",
    "data_generator = poker_hands.iterrows()\n",
    "\n",
    "for index, values in data_generator:\n",
    "  \t# Check if index is odd\n",
    "    if index % 2 != 0:\n",
    "      \t# Sum the ranks of all the cards\n",
    "        hand_sum = sum([values[1], values[3], values[5], values[7]])"
   ]
  },
  {
   "cell_type": "code",
   "execution_count": null,
   "metadata": {},
   "outputs": [],
   "source": []
  },
  {
   "cell_type": "code",
   "execution_count": null,
   "metadata": {},
   "outputs": [],
   "source": [
    "### Use of .apply() function in every cell\n",
    "\n",
    "# Define the lambda transformation\n",
    "get_square = (lambda x: x**2)\n",
    "\n",
    "# Apply the transformation\n",
    "data_sum = poker_hands.apply(get_square)\n",
    "print(data_sum.head())"
   ]
  },
  {
   "cell_type": "code",
   "execution_count": null,
   "metadata": {},
   "outputs": [],
   "source": []
  },
  {
   "cell_type": "code",
   "execution_count": null,
   "metadata": {},
   "outputs": [],
   "source": [
    "### Iterate over rows using .apply()\n",
    "\n",
    "get_variance = lambda x: np.var(x)\n",
    "\n",
    "# Apply the transformation for each row\n",
    "data_tr = poker_hands[['R1', 'R2', 'R3', 'R4', 'R5']].apply(get_variance, axis=1)\n",
    "print(data_tr.head())\n",
    "\n",
    "\n",
    "# Apply the transformation for every rank\n",
    "get_variance = lambda x: np.var(x)\n",
    "\n",
    "# Apply the transformation\n",
    "data_tr = poker_hands[['R1', 'R2', 'R3', 'R4', 'R5']].apply(get_variance, axis=0)\n",
    "print(data_tr.head())"
   ]
  },
  {
   "cell_type": "code",
   "execution_count": null,
   "metadata": {},
   "outputs": [],
   "source": []
  },
  {
   "cell_type": "code",
   "execution_count": null,
   "metadata": {},
   "outputs": [],
   "source": [
    "## pandas vectorization in action\n",
    "\n",
    "# Calculate the mean rank in each hand\n",
    "start_time = time.time()\n",
    "mean_r = poker_hands[['R1', 'R2', 'R3', 'R4', 'R5']].mean(axis=1)\n",
    "print(\"Results from the above operation calculated in %s seconds\" % (time.time() - start_time))\n",
    "print(mean_r.head())\n",
    "\n",
    "# Calculate the mean rank of each of the 5 card in all hands\n",
    "start_time = time.time()\n",
    "mean_c = poker_hands[['R1', 'R2', 'R3', 'R4', 'R5']].mean(axis=0)\n",
    "print(\"Results from the above operation calculated in %s seconds\" % (time.time() - start_time))\n",
    "print(mean_c.head())\n",
    "\n",
    "## <script.py> output:\n",
    "##     Results from the above operation calculated in 0.008963823318481445 seconds\n",
    "##     Results from the above operation calculated in 0.007593870162963867 seconds    "
   ]
  },
  {
   "cell_type": "code",
   "execution_count": null,
   "metadata": {},
   "outputs": [],
   "source": []
  },
  {
   "cell_type": "code",
   "execution_count": null,
   "metadata": {},
   "outputs": [],
   "source": [
    "### Vectorization methods for looping a DataFrame\n",
    "\n",
    "# Calculate the variance in each hand\n",
    "start_time = time.time()\n",
    "poker_var = poker_hands[['R1', 'R2', 'R3', 'R4', 'R5']].var(axis=1)\n",
    "print(\"Results from the above operation calculated in %s seconds\" % (time.time() - start_time))\n",
    "poker_var.head()\n",
    "\n"
   ]
  },
  {
   "cell_type": "code",
   "execution_count": null,
   "metadata": {},
   "outputs": [],
   "source": []
  },
  {
   "cell_type": "code",
   "execution_count": null,
   "metadata": {},
   "outputs": [],
   "source": [
    "### MODULE 4"
   ]
  },
  {
   "cell_type": "code",
   "execution_count": null,
   "metadata": {},
   "outputs": [],
   "source": []
  },
  {
   "cell_type": "code",
   "execution_count": null,
   "metadata": {},
   "outputs": [],
   "source": [
    "### The min-max normalization using .transform()\n",
    "\n",
    "# Define the min-max transformation\n",
    "min_max_tr = lambda x: (x - x.min()) / (x.max() - x.min())\n",
    "\n",
    "# Group the data according to the time\n",
    "restaurant_grouped = restaurant_data.groupby('time')\n",
    "\n",
    "# Apply the transformation\n",
    "restaurant_min_max_group = restaurant_grouped.transform(min_max_tr)\n",
    "print(restaurant_min_max_group.head())"
   ]
  },
  {
   "cell_type": "code",
   "execution_count": null,
   "metadata": {},
   "outputs": [],
   "source": []
  },
  {
   "cell_type": "code",
   "execution_count": null,
   "metadata": {},
   "outputs": [],
   "source": [
    "### Transforming values to probabilities\n",
    "\n",
    "# Define the min-max transformation\n",
    "pois_tr = lambda x: np.exp(-x.mean()*x) * x.mean() \n",
    "\n",
    "# Group the data according to the time\n",
    "restaurant_grouped = restaurant_data.groupby('time')\n",
    "\n",
    "# Apply the transformation\n",
    "restaurant_pois_group = restaurant_grouped['tip'].transform(pois_tr)\n",
    "print(restaurant_pois_group.head())\n",
    "\n"
   ]
  },
  {
   "cell_type": "code",
   "execution_count": null,
   "metadata": {},
   "outputs": [],
   "source": []
  },
  {
   "cell_type": "code",
   "execution_count": null,
   "metadata": {},
   "outputs": [],
   "source": [
    "### Validation of normalization transformation\n",
    "\n",
    "zscore = lambda x: (x - x.mean()) / x.std()\n",
    "\n",
    "# Apply the transformation\n",
    "poker_trans = poker_grouped.transform(zscore)\n",
    "print(poker_trans.head())"
   ]
  },
  {
   "cell_type": "code",
   "execution_count": null,
   "metadata": {},
   "outputs": [],
   "source": []
  },
  {
   "cell_type": "code",
   "execution_count": null,
   "metadata": {},
   "outputs": [],
   "source": [
    "### Identifying missing values\n",
    "\n",
    "# Group both objects according to smoke condition\n",
    "restaurant_nan_grouped = restaurant_nan.groupby('smoker')\n",
    "\n",
    "# Store the number of present values\n",
    "restaurant_nan_nval = restaurant_nan_grouped['tip'].count()\n",
    "\n",
    "# Print the group-wise missing entries\n",
    "print(restaurant_nan_grouped['total_bill'].count() - restaurant_nan_nval)"
   ]
  },
  {
   "cell_type": "code",
   "execution_count": null,
   "metadata": {},
   "outputs": [],
   "source": []
  },
  {
   "cell_type": "code",
   "execution_count": null,
   "metadata": {},
   "outputs": [],
   "source": [
    "### Missing value imputation\n",
    "\n",
    "# Define the lambda function\n",
    "missing_trans = lambda x: x.fillna(x.median())\n",
    "\n",
    "# Group the data according to time\n",
    "restaurant_grouped = restaurant_data.groupby('time')\n",
    "\n",
    "# Apply the transformation\n",
    "restaurant_inpute = restaurant_grouped.transform(missing_trans)\n",
    "print(restaurant_inpute.head())"
   ]
  },
  {
   "cell_type": "code",
   "execution_count": null,
   "metadata": {},
   "outputs": [],
   "source": []
  },
  {
   "cell_type": "code",
   "execution_count": null,
   "metadata": {},
   "outputs": [],
   "source": [
    "### Data filtration\n",
    "\n",
    "# Filter the days where total_bill is greater than 40\n",
    "total_bill_40 = restaurant_data.groupby('day').filter(lambda x: x['total_bill'].count() > 40)\n",
    "print(total_bill_40.shape[0])\n",
    "\n",
    "# Select only the entries that have a mean total_bill greater than $20\n",
    "total_bill_20 = total_bill_40.groupby('day').filter(lambda x : x['total_bill'].mean() > 20)\n",
    "print(total_bill_20.shape[0])"
   ]
  },
  {
   "cell_type": "code",
   "execution_count": null,
   "metadata": {},
   "outputs": [],
   "source": []
  },
  {
   "cell_type": "code",
   "execution_count": null,
   "metadata": {},
   "outputs": [],
   "source": []
  },
  {
   "cell_type": "code",
   "execution_count": null,
   "metadata": {},
   "outputs": [],
   "source": []
  },
  {
   "cell_type": "code",
   "execution_count": null,
   "metadata": {},
   "outputs": [],
   "source": []
  },
  {
   "cell_type": "code",
   "execution_count": null,
   "metadata": {},
   "outputs": [],
   "source": []
  },
  {
   "cell_type": "code",
   "execution_count": null,
   "metadata": {},
   "outputs": [],
   "source": []
  }
 ],
 "metadata": {
  "kernelspec": {
   "display_name": "Python [default]",
   "language": "python",
   "name": "python3"
  },
  "language_info": {
   "codemirror_mode": {
    "name": "ipython",
    "version": 3
   },
   "file_extension": ".py",
   "mimetype": "text/x-python",
   "name": "python",
   "nbconvert_exporter": "python",
   "pygments_lexer": "ipython3",
   "version": "3.6.8"
  }
 },
 "nbformat": 4,
 "nbformat_minor": 2
}
