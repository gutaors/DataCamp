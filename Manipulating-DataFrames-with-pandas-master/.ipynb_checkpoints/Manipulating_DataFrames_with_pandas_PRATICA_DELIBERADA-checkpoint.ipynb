{
 "cells": [
  {
   "cell_type": "code",
   "execution_count": 3,
   "metadata": {},
   "outputs": [],
   "source": [
    "import pandas as pd\n",
    "import numpy as np\n",
    "import matplotlib.pyplot as plt\n",
    "%matplotlib inline"
   ]
  },
  {
   "cell_type": "markdown",
   "metadata": {},
   "source": [
    "## 1. Extracting and transforming data"
   ]
  },
  {
   "cell_type": "markdown",
   "metadata": {},
   "source": [
    "### como ler o csv já definindo quem será a coluna index?\n",
    "leia o csv pennsylvania2012_turnout.csv já dizendo que a index é county, jogue tudo no dataframe chamado election\n"
   ]
  },
  {
   "cell_type": "code",
   "execution_count": 4,
   "metadata": {},
   "outputs": [],
   "source": [
    "election = pd.read_csv('pennsylvania2012_turnout.csv', index_col = 'county')"
   ]
  },
  {
   "cell_type": "markdown",
   "metadata": {},
   "source": [
    "### Slicing rows\n",
    "fatie linhas,\n",
    "dica o comando é loc"
   ]
  },
  {
   "cell_type": "code",
   "execution_count": 5,
   "metadata": {},
   "outputs": [
    {
     "data": {
      "text/html": [
       "<div>\n",
       "<style scoped>\n",
       "    .dataframe tbody tr th:only-of-type {\n",
       "        vertical-align: middle;\n",
       "    }\n",
       "\n",
       "    .dataframe tbody tr th {\n",
       "        vertical-align: top;\n",
       "    }\n",
       "\n",
       "    .dataframe thead th {\n",
       "        text-align: right;\n",
       "    }\n",
       "</style>\n",
       "<table border=\"1\" class=\"dataframe\">\n",
       "  <thead>\n",
       "    <tr style=\"text-align: right;\">\n",
       "      <th></th>\n",
       "      <th>state</th>\n",
       "      <th>total</th>\n",
       "      <th>Obama</th>\n",
       "      <th>Romney</th>\n",
       "      <th>winner</th>\n",
       "      <th>voters</th>\n",
       "      <th>turnout</th>\n",
       "      <th>margin</th>\n",
       "    </tr>\n",
       "    <tr>\n",
       "      <th>county</th>\n",
       "      <th></th>\n",
       "      <th></th>\n",
       "      <th></th>\n",
       "      <th></th>\n",
       "      <th></th>\n",
       "      <th></th>\n",
       "      <th></th>\n",
       "      <th></th>\n",
       "    </tr>\n",
       "  </thead>\n",
       "  <tbody>\n",
       "    <tr>\n",
       "      <th>Adams</th>\n",
       "      <td>PA</td>\n",
       "      <td>41973</td>\n",
       "      <td>35.482334</td>\n",
       "      <td>63.112001</td>\n",
       "      <td>Romney</td>\n",
       "      <td>61156</td>\n",
       "      <td>68.632677</td>\n",
       "      <td>27.629667</td>\n",
       "    </tr>\n",
       "    <tr>\n",
       "      <th>Allegheny</th>\n",
       "      <td>PA</td>\n",
       "      <td>614671</td>\n",
       "      <td>56.640219</td>\n",
       "      <td>42.185820</td>\n",
       "      <td>Obama</td>\n",
       "      <td>924351</td>\n",
       "      <td>66.497575</td>\n",
       "      <td>14.454399</td>\n",
       "    </tr>\n",
       "    <tr>\n",
       "      <th>Armstrong</th>\n",
       "      <td>PA</td>\n",
       "      <td>28322</td>\n",
       "      <td>30.696985</td>\n",
       "      <td>67.901278</td>\n",
       "      <td>Romney</td>\n",
       "      <td>42147</td>\n",
       "      <td>67.198140</td>\n",
       "      <td>37.204293</td>\n",
       "    </tr>\n",
       "    <tr>\n",
       "      <th>Beaver</th>\n",
       "      <td>PA</td>\n",
       "      <td>80015</td>\n",
       "      <td>46.032619</td>\n",
       "      <td>52.637630</td>\n",
       "      <td>Romney</td>\n",
       "      <td>115157</td>\n",
       "      <td>69.483401</td>\n",
       "      <td>6.605012</td>\n",
       "    </tr>\n",
       "    <tr>\n",
       "      <th>Bedford</th>\n",
       "      <td>PA</td>\n",
       "      <td>21444</td>\n",
       "      <td>22.057452</td>\n",
       "      <td>76.986570</td>\n",
       "      <td>Romney</td>\n",
       "      <td>32189</td>\n",
       "      <td>66.619031</td>\n",
       "      <td>54.929118</td>\n",
       "    </tr>\n",
       "  </tbody>\n",
       "</table>\n",
       "</div>"
      ],
      "text/plain": [
       "          state   total      Obama     Romney  winner  voters    turnout  \\\n",
       "county                                                                     \n",
       "Adams        PA   41973  35.482334  63.112001  Romney   61156  68.632677   \n",
       "Allegheny    PA  614671  56.640219  42.185820   Obama  924351  66.497575   \n",
       "Armstrong    PA   28322  30.696985  67.901278  Romney   42147  67.198140   \n",
       "Beaver       PA   80015  46.032619  52.637630  Romney  115157  69.483401   \n",
       "Bedford      PA   21444  22.057452  76.986570  Romney   32189  66.619031   \n",
       "\n",
       "              margin  \n",
       "county                \n",
       "Adams      27.629667  \n",
       "Allegheny  14.454399  \n",
       "Armstrong  37.204293  \n",
       "Beaver      6.605012  \n",
       "Bedford    54.929118  "
      ]
     },
     "execution_count": 5,
     "metadata": {},
     "output_type": "execute_result"
    }
   ],
   "source": [
    "election.head()"
   ]
  },
  {
   "cell_type": "code",
   "execution_count": 6,
   "metadata": {},
   "outputs": [],
   "source": [
    "#ache quem é winner(coluna) em bedford(index) \n",
    "#como é index, posso usar loc, na sequencia index, coluna\n"
   ]
  },
  {
   "cell_type": "code",
   "execution_count": 7,
   "metadata": {},
   "outputs": [
    {
     "name": "stdout",
     "output_type": "stream",
     "text": [
      "Romney\n",
      "             state   total      Obama     Romney  winner   voters    turnout  \\\n",
      "county                                                                         \n",
      "Perry           PA   18240  29.769737  68.591009  Romney    27245  66.948064   \n",
      "Philadelphia    PA  653598  85.224251  14.051451   Obama  1099197  59.461407   \n",
      "Pike            PA   23164  43.904334  54.882576  Romney    41840  55.363289   \n",
      "Potter          PA    7205  26.259542  72.158223  Romney    10913  66.022175   \n",
      "\n",
      "                 margin  \n",
      "county                   \n",
      "Perry         38.821272  \n",
      "Philadelphia  71.172800  \n",
      "Pike          10.978242  \n",
      "Potter        45.898681  \n"
     ]
    }
   ],
   "source": [
    "teste = election.loc['Bedford','winner']\n",
    "print(teste)\n",
    "teste2=election.loc['Perry':'Potter',:]\n",
    "print(teste2)"
   ]
  },
  {
   "cell_type": "code",
   "execution_count": 8,
   "metadata": {
    "scrolled": true,
    "tags": []
   },
   "outputs": [
    {
     "name": "stdout",
     "output_type": "stream",
     "text": [
      "             state   total      Obama     Romney  winner   voters    turnout  \\\n",
      "county                                                                         \n",
      "Perry           PA   18240  29.769737  68.591009  Romney    27245  66.948064   \n",
      "Philadelphia    PA  653598  85.224251  14.051451   Obama  1099197  59.461407   \n",
      "Pike            PA   23164  43.904334  54.882576  Romney    41840  55.363289   \n",
      "Potter          PA    7205  26.259542  72.158223  Romney    10913  66.022175   \n",
      "\n",
      "                 margin  \n",
      "county                   \n",
      "Perry         38.821272  \n",
      "Philadelphia  71.172800  \n",
      "Pike          10.978242  \n",
      "Potter        45.898681  \n",
      "             state   total      Obama     Romney  winner   voters    turnout  \\\n",
      "county                                                                         \n",
      "Potter          PA    7205  26.259542  72.158223  Romney    10913  66.022175   \n",
      "Pike            PA   23164  43.904334  54.882576  Romney    41840  55.363289   \n",
      "Philadelphia    PA  653598  85.224251  14.051451   Obama  1099197  59.461407   \n",
      "Perry           PA   18240  29.769737  68.591009  Romney    27245  66.948064   \n",
      "\n",
      "                 margin  \n",
      "county                   \n",
      "Potter        45.898681  \n",
      "Pike          10.978242  \n",
      "Philadelphia  71.172800  \n",
      "Perry         38.821272  \n",
      "             state   total      Obama     Romney  winner   voters    turnout  \\\n",
      "county                                                                         \n",
      "Potter          PA    7205  26.259542  72.158223  Romney    10913  66.022175   \n",
      "Pike            PA   23164  43.904334  54.882576  Romney    41840  55.363289   \n",
      "Philadelphia    PA  653598  85.224251  14.051451   Obama  1099197  59.461407   \n",
      "Perry           PA   18240  29.769737  68.591009  Romney    27245  66.948064   \n",
      "\n",
      "                 margin  \n",
      "county                   \n",
      "Potter        45.898681  \n",
      "Pike          10.978242  \n",
      "Philadelphia  71.172800  \n",
      "Perry         38.821272  \n"
     ]
    }
   ],
   "source": [
    "# Fatie os condados (são linhas) de Perry até Potter, CONDADOS SÃO INDEX\n",
    "#faz logo aqui, depois confere la embaixo, o nome dado ao resultado será \n",
    "#p_counties =\n",
    "p_counties= election.loc['perry':'potter', :]\n",
    "# Slice the row labels 'Perry' to 'Potter': p_counties\n",
    "\n",
    "# Parte as linhas de Perry até Potter: p_counties ( como é linha, a cláusula é antes da vírgula, lembre da ordem linha, coluna\n",
    "# e as palavras do filtro separadas por :)\n",
    "# veja na linha acima que o indice é a coluna county, logo ela será nossa coluna a filtrar\n",
    "p_counties = election.loc['Perry':'Potter', :]\n",
    "\n",
    "# Print the p_counties DataFrame\n",
    "print(p_counties)\n",
    "\n",
    "#agora faz a mesma coisa só que em ordem reversa, de potter até perry\n",
    "condados_reverso = election.loc['Potter':'Perry':-1, :]\n",
    "# Slice the row labels 'Potter' to 'Perry' in reverse order: p_counties_rev\n",
    "p_counties_rev = election.loc['Potter':'Perry':-1, :]\n",
    "\n",
    "# Print the p_counties_rev DataFrame\n",
    "print(p_counties_rev)\n",
    "print(condados_reverso)"
   ]
  },
  {
   "cell_type": "code",
   "execution_count": 9,
   "metadata": {
    "tags": []
   },
   "outputs": [
    {
     "name": "stdout",
     "output_type": "stream",
     "text": [
      "             state   total      Obama     Romney  winner   voters    turnout  \\\n",
      "county                                                                         \n",
      "Potter          PA    7205  26.259542  72.158223  Romney    10913  66.022175   \n",
      "Pike            PA   23164  43.904334  54.882576  Romney    41840  55.363289   \n",
      "Philadelphia    PA  653598  85.224251  14.051451   Obama  1099197  59.461407   \n",
      "Perry           PA   18240  29.769737  68.591009  Romney    27245  66.948064   \n",
      "\n",
      "                 margin  \n",
      "county                   \n",
      "Potter        45.898681  \n",
      "Pike          10.978242  \n",
      "Philadelphia  71.172800  \n",
      "Perry         38.821272  \n"
     ]
    }
   ],
   "source": [
    "print(p_counties_rev)\n"
   ]
  },
  {
   "cell_type": "markdown",
   "metadata": {},
   "source": [
    "### Slicing columns"
   ]
  },
  {
   "cell_type": "code",
   "execution_count": null,
   "metadata": {},
   "outputs": [],
   "source": []
  },
  {
   "cell_type": "code",
   "execution_count": 10,
   "metadata": {
    "scrolled": true,
    "tags": []
   },
   "outputs": [
    {
     "name": "stdout",
     "output_type": "stream",
     "text": [
      "          state   total      Obama\n",
      "county                            \n",
      "Adams        PA   41973  35.482334\n",
      "Allegheny    PA  614671  56.640219\n",
      "Armstrong    PA   28322  30.696985\n",
      "Beaver       PA   80015  46.032619\n",
      "Bedford      PA   21444  22.057452\n",
      "               Obama     Romney  winner\n",
      "county                                 \n",
      "Adams      35.482334  63.112001  Romney\n",
      "Allegheny  56.640219  42.185820   Obama\n",
      "Armstrong  30.696985  67.901278  Romney\n",
      "Beaver     46.032619  52.637630  Romney\n",
      "Bedford    22.057452  76.986570  Romney\n"
     ]
    },
    {
     "data": {
      "text/html": [
       "<div>\n",
       "<style scoped>\n",
       "    .dataframe tbody tr th:only-of-type {\n",
       "        vertical-align: middle;\n",
       "    }\n",
       "\n",
       "    .dataframe tbody tr th {\n",
       "        vertical-align: top;\n",
       "    }\n",
       "\n",
       "    .dataframe thead th {\n",
       "        text-align: right;\n",
       "    }\n",
       "</style>\n",
       "<table border=\"1\" class=\"dataframe\">\n",
       "  <thead>\n",
       "    <tr style=\"text-align: right;\">\n",
       "      <th></th>\n",
       "      <th>Romney</th>\n",
       "      <th>winner</th>\n",
       "      <th>voters</th>\n",
       "      <th>turnout</th>\n",
       "      <th>margin</th>\n",
       "    </tr>\n",
       "    <tr>\n",
       "      <th>county</th>\n",
       "      <th></th>\n",
       "      <th></th>\n",
       "      <th></th>\n",
       "      <th></th>\n",
       "      <th></th>\n",
       "    </tr>\n",
       "  </thead>\n",
       "  <tbody>\n",
       "    <tr>\n",
       "      <th>Adams</th>\n",
       "      <td>63.112001</td>\n",
       "      <td>Romney</td>\n",
       "      <td>61156</td>\n",
       "      <td>68.632677</td>\n",
       "      <td>27.629667</td>\n",
       "    </tr>\n",
       "    <tr>\n",
       "      <th>Allegheny</th>\n",
       "      <td>42.185820</td>\n",
       "      <td>Obama</td>\n",
       "      <td>924351</td>\n",
       "      <td>66.497575</td>\n",
       "      <td>14.454399</td>\n",
       "    </tr>\n",
       "    <tr>\n",
       "      <th>Armstrong</th>\n",
       "      <td>67.901278</td>\n",
       "      <td>Romney</td>\n",
       "      <td>42147</td>\n",
       "      <td>67.198140</td>\n",
       "      <td>37.204293</td>\n",
       "    </tr>\n",
       "    <tr>\n",
       "      <th>Beaver</th>\n",
       "      <td>52.637630</td>\n",
       "      <td>Romney</td>\n",
       "      <td>115157</td>\n",
       "      <td>69.483401</td>\n",
       "      <td>6.605012</td>\n",
       "    </tr>\n",
       "    <tr>\n",
       "      <th>Bedford</th>\n",
       "      <td>76.986570</td>\n",
       "      <td>Romney</td>\n",
       "      <td>32189</td>\n",
       "      <td>66.619031</td>\n",
       "      <td>54.929118</td>\n",
       "    </tr>\n",
       "  </tbody>\n",
       "</table>\n",
       "</div>"
      ],
      "text/plain": [
       "              Romney  winner  voters    turnout     margin\n",
       "county                                                    \n",
       "Adams      63.112001  Romney   61156  68.632677  27.629667\n",
       "Allegheny  42.185820   Obama  924351  66.497575  14.454399\n",
       "Armstrong  67.901278  Romney   42147  67.198140  37.204293\n",
       "Beaver     52.637630  Romney  115157  69.483401   6.605012\n",
       "Bedford    76.986570  Romney   32189  66.619031  54.929118"
      ]
     },
     "execution_count": 10,
     "metadata": {},
     "output_type": "execute_result"
    }
   ],
   "source": [
    "#fatia as colunas da esquerda pra direita do inicio ate obama\n",
    "\n",
    "esquerda = election.loc[:,:'Obama']\n",
    "# # Slice the columns from the starting column to 'Obama': left_columns\n",
    "left_columns = election.loc[:, :'Obama']\n",
    "\n",
    "# Print the output of left_columns.head()\n",
    "print(left_columns.head())\n",
    "\n",
    "# Slice the columns from 'Obama' to 'winner': middle_columns\n",
    "middle_columns = election.loc[:, 'Obama':'winner']\n",
    "\n",
    "# Print the output of middle_columns.head()\n",
    "print(middle_columns.head())\n",
    "\n",
    "# Slice the columns from 'Romney' to the end: 'right_columns'\n",
    "right_columns = election.loc[:, 'Romney':]\n",
    "\n",
    "# Print the output of right_columns.head()\n",
    "#print(right_columns.head())\n",
    "right_columns.head()"
   ]
  },
  {
   "cell_type": "code",
   "execution_count": null,
   "metadata": {},
   "outputs": [],
   "source": [
    "\n",
    "\n"
   ]
  },
  {
   "cell_type": "markdown",
   "metadata": {},
   "source": [
    "### Subselecting DataFrames with lists"
   ]
  },
  {
   "cell_type": "code",
   "execution_count": 11,
   "metadata": {},
   "outputs": [
    {
     "data": {
      "text/html": [
       "<div>\n",
       "<style scoped>\n",
       "    .dataframe tbody tr th:only-of-type {\n",
       "        vertical-align: middle;\n",
       "    }\n",
       "\n",
       "    .dataframe tbody tr th {\n",
       "        vertical-align: top;\n",
       "    }\n",
       "\n",
       "    .dataframe thead th {\n",
       "        text-align: right;\n",
       "    }\n",
       "</style>\n",
       "<table border=\"1\" class=\"dataframe\">\n",
       "  <thead>\n",
       "    <tr style=\"text-align: right;\">\n",
       "      <th></th>\n",
       "      <th>state</th>\n",
       "      <th>total</th>\n",
       "      <th>Obama</th>\n",
       "      <th>Romney</th>\n",
       "      <th>winner</th>\n",
       "      <th>voters</th>\n",
       "      <th>turnout</th>\n",
       "      <th>margin</th>\n",
       "    </tr>\n",
       "    <tr>\n",
       "      <th>county</th>\n",
       "      <th></th>\n",
       "      <th></th>\n",
       "      <th></th>\n",
       "      <th></th>\n",
       "      <th></th>\n",
       "      <th></th>\n",
       "      <th></th>\n",
       "      <th></th>\n",
       "    </tr>\n",
       "  </thead>\n",
       "  <tbody>\n",
       "    <tr>\n",
       "      <th>Adams</th>\n",
       "      <td>PA</td>\n",
       "      <td>41973</td>\n",
       "      <td>35.482334</td>\n",
       "      <td>63.112001</td>\n",
       "      <td>Romney</td>\n",
       "      <td>61156</td>\n",
       "      <td>68.632677</td>\n",
       "      <td>27.629667</td>\n",
       "    </tr>\n",
       "    <tr>\n",
       "      <th>Allegheny</th>\n",
       "      <td>PA</td>\n",
       "      <td>614671</td>\n",
       "      <td>56.640219</td>\n",
       "      <td>42.185820</td>\n",
       "      <td>Obama</td>\n",
       "      <td>924351</td>\n",
       "      <td>66.497575</td>\n",
       "      <td>14.454399</td>\n",
       "    </tr>\n",
       "    <tr>\n",
       "      <th>Armstrong</th>\n",
       "      <td>PA</td>\n",
       "      <td>28322</td>\n",
       "      <td>30.696985</td>\n",
       "      <td>67.901278</td>\n",
       "      <td>Romney</td>\n",
       "      <td>42147</td>\n",
       "      <td>67.198140</td>\n",
       "      <td>37.204293</td>\n",
       "    </tr>\n",
       "    <tr>\n",
       "      <th>Beaver</th>\n",
       "      <td>PA</td>\n",
       "      <td>80015</td>\n",
       "      <td>46.032619</td>\n",
       "      <td>52.637630</td>\n",
       "      <td>Romney</td>\n",
       "      <td>115157</td>\n",
       "      <td>69.483401</td>\n",
       "      <td>6.605012</td>\n",
       "    </tr>\n",
       "    <tr>\n",
       "      <th>Bedford</th>\n",
       "      <td>PA</td>\n",
       "      <td>21444</td>\n",
       "      <td>22.057452</td>\n",
       "      <td>76.986570</td>\n",
       "      <td>Romney</td>\n",
       "      <td>32189</td>\n",
       "      <td>66.619031</td>\n",
       "      <td>54.929118</td>\n",
       "    </tr>\n",
       "  </tbody>\n",
       "</table>\n",
       "</div>"
      ],
      "text/plain": [
       "          state   total      Obama     Romney  winner  voters    turnout  \\\n",
       "county                                                                     \n",
       "Adams        PA   41973  35.482334  63.112001  Romney   61156  68.632677   \n",
       "Allegheny    PA  614671  56.640219  42.185820   Obama  924351  66.497575   \n",
       "Armstrong    PA   28322  30.696985  67.901278  Romney   42147  67.198140   \n",
       "Beaver       PA   80015  46.032619  52.637630  Romney  115157  69.483401   \n",
       "Bedford      PA   21444  22.057452  76.986570  Romney   32189  66.619031   \n",
       "\n",
       "              margin  \n",
       "county                \n",
       "Adams      27.629667  \n",
       "Allegheny  14.454399  \n",
       "Armstrong  37.204293  \n",
       "Beaver      6.605012  \n",
       "Bedford    54.929118  "
      ]
     },
     "execution_count": 11,
     "metadata": {},
     "output_type": "execute_result"
    }
   ],
   "source": [
    "#three_counties.head()\n",
    "election.head()"
   ]
  },
  {
   "cell_type": "code",
   "execution_count": 12,
   "metadata": {
    "tags": []
   },
   "outputs": [
    {
     "name": "stdout",
     "output_type": "stream",
     "text": [
      "              winner      Obama     Romney\n",
      "county                                    \n",
      "Philadelphia   Obama  85.224251  14.051451\n",
      "Centre        Romney  48.948416  48.977486\n",
      "Fulton        Romney  21.096291  77.748861\n"
     ]
    }
   ],
   "source": [
    "# Create the list of row labels: rows\n",
    "rows = ['Philadelphia', 'Centre', 'Fulton']\n",
    "\n",
    "# Create the list of column labels: cols\n",
    "cols = ['winner', 'Obama', 'Romney']\n",
    "\n",
    "# Create the new DataFrame: three_counties\n",
    "three_counties = election.loc[rows, cols]\n",
    "\n",
    "# Print the three_counties DataFrame\n",
    "print(three_counties)"
   ]
  },
  {
   "cell_type": "markdown",
   "metadata": {},
   "source": [
    "### Thresholding data (dados no limiar)"
   ]
  },
  {
   "cell_type": "code",
   "execution_count": 13,
   "metadata": {},
   "outputs": [],
   "source": [
    "# cria um array com uma faixa de valores baseado em um campo do dataset\n",
    "# filtra o dataframe baseado neste array e joga em um novo dataframe chamado high_turnout_df\n",
    "# imprime o novo dataframe"
   ]
  },
  {
   "cell_type": "code",
   "execution_count": 14,
   "metadata": {
    "scrolled": true,
    "tags": []
   },
   "outputs": [
    {
     "name": "stdout",
     "output_type": "stream",
     "text": [
      "             state   total      Obama     Romney  winner  voters    turnout  \\\n",
      "county                                                                        \n",
      "Bucks           PA  319407  49.966970  48.801686   Obama  435606  73.324748   \n",
      "Butler          PA   88924  31.920516  66.816607  Romney  122762  72.436096   \n",
      "Chester         PA  248295  49.228539  49.650617  Romney  337822  73.498766   \n",
      "Forest          PA    2308  38.734835  59.835355  Romney    3232  71.410891   \n",
      "Franklin        PA   62802  30.110506  68.583803  Romney   87406  71.850903   \n",
      "Montgomery      PA  401787  56.637223  42.286834   Obama  551105  72.905708   \n",
      "Westmoreland    PA  168709  37.567646  61.306154  Romney  238006  70.884347   \n",
      "\n",
      "                 margin  \n",
      "county                   \n",
      "Bucks          1.165284  \n",
      "Butler        34.896091  \n",
      "Chester        0.422079  \n",
      "Forest        21.100520  \n",
      "Franklin      38.473297  \n",
      "Montgomery    14.350390  \n",
      "Westmoreland  23.738508  \n"
     ]
    }
   ],
   "source": [
    "# Create the boolean array: high_turnout\n",
    "high_turnout = election.turnout > 70\n",
    "high_turnout = election['turnout'] > 70\n",
    "\n",
    "# Filter the election DataFrame with the high_turnout array: high_turnout_df\n",
    "high_turnout_df = election[high_turnout]\n",
    "\n",
    "# Print the high_turnout_results DataFrame\n",
    "print(high_turnout_df)"
   ]
  },
  {
   "cell_type": "code",
   "execution_count": 15,
   "metadata": {},
   "outputs": [
    {
     "data": {
      "text/html": [
       "<div>\n",
       "<style scoped>\n",
       "    .dataframe tbody tr th:only-of-type {\n",
       "        vertical-align: middle;\n",
       "    }\n",
       "\n",
       "    .dataframe tbody tr th {\n",
       "        vertical-align: top;\n",
       "    }\n",
       "\n",
       "    .dataframe thead th {\n",
       "        text-align: right;\n",
       "    }\n",
       "</style>\n",
       "<table border=\"1\" class=\"dataframe\">\n",
       "  <thead>\n",
       "    <tr style=\"text-align: right;\">\n",
       "      <th></th>\n",
       "      <th>state</th>\n",
       "      <th>total</th>\n",
       "      <th>Obama</th>\n",
       "      <th>Romney</th>\n",
       "      <th>winner</th>\n",
       "      <th>voters</th>\n",
       "      <th>turnout</th>\n",
       "      <th>margin</th>\n",
       "    </tr>\n",
       "    <tr>\n",
       "      <th>county</th>\n",
       "      <th></th>\n",
       "      <th></th>\n",
       "      <th></th>\n",
       "      <th></th>\n",
       "      <th></th>\n",
       "      <th></th>\n",
       "      <th></th>\n",
       "      <th></th>\n",
       "    </tr>\n",
       "  </thead>\n",
       "  <tbody>\n",
       "    <tr>\n",
       "      <th>Bucks</th>\n",
       "      <td>PA</td>\n",
       "      <td>319407</td>\n",
       "      <td>49.966970</td>\n",
       "      <td>48.801686</td>\n",
       "      <td>Obama</td>\n",
       "      <td>435606</td>\n",
       "      <td>73.324748</td>\n",
       "      <td>1.165284</td>\n",
       "    </tr>\n",
       "    <tr>\n",
       "      <th>Butler</th>\n",
       "      <td>PA</td>\n",
       "      <td>88924</td>\n",
       "      <td>31.920516</td>\n",
       "      <td>66.816607</td>\n",
       "      <td>Romney</td>\n",
       "      <td>122762</td>\n",
       "      <td>72.436096</td>\n",
       "      <td>34.896091</td>\n",
       "    </tr>\n",
       "    <tr>\n",
       "      <th>Chester</th>\n",
       "      <td>PA</td>\n",
       "      <td>248295</td>\n",
       "      <td>49.228539</td>\n",
       "      <td>49.650617</td>\n",
       "      <td>Romney</td>\n",
       "      <td>337822</td>\n",
       "      <td>73.498766</td>\n",
       "      <td>0.422079</td>\n",
       "    </tr>\n",
       "    <tr>\n",
       "      <th>Forest</th>\n",
       "      <td>PA</td>\n",
       "      <td>2308</td>\n",
       "      <td>38.734835</td>\n",
       "      <td>59.835355</td>\n",
       "      <td>Romney</td>\n",
       "      <td>3232</td>\n",
       "      <td>71.410891</td>\n",
       "      <td>21.100520</td>\n",
       "    </tr>\n",
       "    <tr>\n",
       "      <th>Franklin</th>\n",
       "      <td>PA</td>\n",
       "      <td>62802</td>\n",
       "      <td>30.110506</td>\n",
       "      <td>68.583803</td>\n",
       "      <td>Romney</td>\n",
       "      <td>87406</td>\n",
       "      <td>71.850903</td>\n",
       "      <td>38.473297</td>\n",
       "    </tr>\n",
       "  </tbody>\n",
       "</table>\n",
       "</div>"
      ],
      "text/plain": [
       "         state   total      Obama     Romney  winner  voters    turnout  \\\n",
       "county                                                                    \n",
       "Bucks       PA  319407  49.966970  48.801686   Obama  435606  73.324748   \n",
       "Butler      PA   88924  31.920516  66.816607  Romney  122762  72.436096   \n",
       "Chester     PA  248295  49.228539  49.650617  Romney  337822  73.498766   \n",
       "Forest      PA    2308  38.734835  59.835355  Romney    3232  71.410891   \n",
       "Franklin    PA   62802  30.110506  68.583803  Romney   87406  71.850903   \n",
       "\n",
       "             margin  \n",
       "county               \n",
       "Bucks      1.165284  \n",
       "Butler    34.896091  \n",
       "Chester    0.422079  \n",
       "Forest    21.100520  \n",
       "Franklin  38.473297  "
      ]
     },
     "execution_count": 15,
     "metadata": {},
     "output_type": "execute_result"
    }
   ],
   "source": [
    "high_turnout_df.head()"
   ]
  },
  {
   "cell_type": "markdown",
   "metadata": {},
   "source": [
    "### Filtrar colunas usando outras colunas\n",
    "### Filtering columns using other columns\n",
    "### vamos fazer a coluna winner exibir NaN quando a coluna margin <1"
   ]
  },
  {
   "cell_type": "code",
   "execution_count": 16,
   "metadata": {},
   "outputs": [
    {
     "data": {
      "text/html": [
       "<div>\n",
       "<style scoped>\n",
       "    .dataframe tbody tr th:only-of-type {\n",
       "        vertical-align: middle;\n",
       "    }\n",
       "\n",
       "    .dataframe tbody tr th {\n",
       "        vertical-align: top;\n",
       "    }\n",
       "\n",
       "    .dataframe thead th {\n",
       "        text-align: right;\n",
       "    }\n",
       "</style>\n",
       "<table border=\"1\" class=\"dataframe\">\n",
       "  <thead>\n",
       "    <tr style=\"text-align: right;\">\n",
       "      <th></th>\n",
       "      <th>state</th>\n",
       "      <th>total</th>\n",
       "      <th>Obama</th>\n",
       "      <th>Romney</th>\n",
       "      <th>winner</th>\n",
       "      <th>voters</th>\n",
       "      <th>turnout</th>\n",
       "      <th>margin</th>\n",
       "    </tr>\n",
       "    <tr>\n",
       "      <th>county</th>\n",
       "      <th></th>\n",
       "      <th></th>\n",
       "      <th></th>\n",
       "      <th></th>\n",
       "      <th></th>\n",
       "      <th></th>\n",
       "      <th></th>\n",
       "      <th></th>\n",
       "    </tr>\n",
       "  </thead>\n",
       "  <tbody>\n",
       "    <tr>\n",
       "      <th>Adams</th>\n",
       "      <td>PA</td>\n",
       "      <td>41973</td>\n",
       "      <td>35.482334</td>\n",
       "      <td>63.112001</td>\n",
       "      <td>Romney</td>\n",
       "      <td>61156</td>\n",
       "      <td>68.632677</td>\n",
       "      <td>27.629667</td>\n",
       "    </tr>\n",
       "    <tr>\n",
       "      <th>Allegheny</th>\n",
       "      <td>PA</td>\n",
       "      <td>614671</td>\n",
       "      <td>56.640219</td>\n",
       "      <td>42.185820</td>\n",
       "      <td>Obama</td>\n",
       "      <td>924351</td>\n",
       "      <td>66.497575</td>\n",
       "      <td>14.454399</td>\n",
       "    </tr>\n",
       "    <tr>\n",
       "      <th>Armstrong</th>\n",
       "      <td>PA</td>\n",
       "      <td>28322</td>\n",
       "      <td>30.696985</td>\n",
       "      <td>67.901278</td>\n",
       "      <td>Romney</td>\n",
       "      <td>42147</td>\n",
       "      <td>67.198140</td>\n",
       "      <td>37.204293</td>\n",
       "    </tr>\n",
       "    <tr>\n",
       "      <th>Beaver</th>\n",
       "      <td>PA</td>\n",
       "      <td>80015</td>\n",
       "      <td>46.032619</td>\n",
       "      <td>52.637630</td>\n",
       "      <td>Romney</td>\n",
       "      <td>115157</td>\n",
       "      <td>69.483401</td>\n",
       "      <td>6.605012</td>\n",
       "    </tr>\n",
       "    <tr>\n",
       "      <th>Bedford</th>\n",
       "      <td>PA</td>\n",
       "      <td>21444</td>\n",
       "      <td>22.057452</td>\n",
       "      <td>76.986570</td>\n",
       "      <td>Romney</td>\n",
       "      <td>32189</td>\n",
       "      <td>66.619031</td>\n",
       "      <td>54.929118</td>\n",
       "    </tr>\n",
       "  </tbody>\n",
       "</table>\n",
       "</div>"
      ],
      "text/plain": [
       "          state   total      Obama     Romney  winner  voters    turnout  \\\n",
       "county                                                                     \n",
       "Adams        PA   41973  35.482334  63.112001  Romney   61156  68.632677   \n",
       "Allegheny    PA  614671  56.640219  42.185820   Obama  924351  66.497575   \n",
       "Armstrong    PA   28322  30.696985  67.901278  Romney   42147  67.198140   \n",
       "Beaver       PA   80015  46.032619  52.637630  Romney  115157  69.483401   \n",
       "Bedford      PA   21444  22.057452  76.986570  Romney   32189  66.619031   \n",
       "\n",
       "              margin  \n",
       "county                \n",
       "Adams      27.629667  \n",
       "Allegheny  14.454399  \n",
       "Armstrong  37.204293  \n",
       "Beaver      6.605012  \n",
       "Bedford    54.929118  "
      ]
     },
     "execution_count": 16,
     "metadata": {},
     "output_type": "execute_result"
    }
   ],
   "source": [
    "election.head()"
   ]
  },
  {
   "cell_type": "code",
   "execution_count": 17,
   "metadata": {},
   "outputs": [],
   "source": [
    "# Import numpy\n",
    "import numpy as np\n",
    "\n",
    "# Create the boolean array: too_close\n",
    "too_close = election.margin < 1"
   ]
  },
  {
   "cell_type": "code",
   "execution_count": 18,
   "metadata": {},
   "outputs": [
    {
     "name": "stdout",
     "output_type": "stream",
     "text": [
      "county\n",
      "Adams        False\n",
      "Allegheny    False\n",
      "Armstrong    False\n",
      "Beaver       False\n",
      "Bedford      False\n",
      "Berks         True\n",
      "Blair        False\n",
      "Bradford     False\n",
      "Bucks        False\n",
      "Butler       False\n",
      "Name: margin, dtype: bool\n"
     ]
    }
   ],
   "source": [
    "# too_close POSSUI COLUNA COM NOME DE CONDADOS COM FALSE (qdo margem >=1) OU TRUE (margem <1)\n",
    "print(too_close.head(10))\n",
    "#print(election.head(10))"
   ]
  },
  {
   "cell_type": "code",
   "execution_count": 19,
   "metadata": {
    "tags": []
   },
   "outputs": [
    {
     "name": "stdout",
     "output_type": "stream",
     "text": [
      "<class 'pandas.core.frame.DataFrame'>\n",
      "Index: 67 entries, Adams to York\n",
      "Data columns (total 8 columns):\n",
      " #   Column   Non-Null Count  Dtype  \n",
      "---  ------   --------------  -----  \n",
      " 0   state    67 non-null     object \n",
      " 1   total    67 non-null     int64  \n",
      " 2   Obama    67 non-null     float64\n",
      " 3   Romney   67 non-null     float64\n",
      " 4   winner   64 non-null     object \n",
      " 5   voters   67 non-null     int64  \n",
      " 6   turnout  67 non-null     float64\n",
      " 7   margin   67 non-null     float64\n",
      "dtypes: float64(4), int64(2), object(2)\n",
      "memory usage: 7.2+ KB\n",
      "None\n"
     ]
    }
   ],
   "source": [
    "# Import numpy\n",
    "import numpy as np\n",
    "\n",
    "# Create the boolean array: too_close\n",
    "too_close = election.margin < 1\n",
    "\n",
    "# Assign np.nan to the 'winner' column where the results were too close to call\n",
    "# Atribua np.nan à coluna 'winner', onde os resultados foram muito próximos para serem chamados\n",
    "election.loc[too_close, 'winner'] = np.nan\n",
    "\n",
    "# Print the output of election.info()\n",
    "print(election.info())\n",
    " #veja que abaixo de romney tem a coluna winner"
   ]
  },
  {
   "cell_type": "code",
   "execution_count": 20,
   "metadata": {},
   "outputs": [
    {
     "data": {
      "text/html": [
       "<div>\n",
       "<style scoped>\n",
       "    .dataframe tbody tr th:only-of-type {\n",
       "        vertical-align: middle;\n",
       "    }\n",
       "\n",
       "    .dataframe tbody tr th {\n",
       "        vertical-align: top;\n",
       "    }\n",
       "\n",
       "    .dataframe thead th {\n",
       "        text-align: right;\n",
       "    }\n",
       "</style>\n",
       "<table border=\"1\" class=\"dataframe\">\n",
       "  <thead>\n",
       "    <tr style=\"text-align: right;\">\n",
       "      <th></th>\n",
       "      <th>state</th>\n",
       "      <th>total</th>\n",
       "      <th>Obama</th>\n",
       "      <th>Romney</th>\n",
       "      <th>winner</th>\n",
       "      <th>voters</th>\n",
       "      <th>turnout</th>\n",
       "      <th>margin</th>\n",
       "    </tr>\n",
       "    <tr>\n",
       "      <th>county</th>\n",
       "      <th></th>\n",
       "      <th></th>\n",
       "      <th></th>\n",
       "      <th></th>\n",
       "      <th></th>\n",
       "      <th></th>\n",
       "      <th></th>\n",
       "      <th></th>\n",
       "    </tr>\n",
       "  </thead>\n",
       "  <tbody>\n",
       "    <tr>\n",
       "      <th>Adams</th>\n",
       "      <td>PA</td>\n",
       "      <td>41973</td>\n",
       "      <td>35.482334</td>\n",
       "      <td>63.112001</td>\n",
       "      <td>Romney</td>\n",
       "      <td>61156</td>\n",
       "      <td>68.632677</td>\n",
       "      <td>27.629667</td>\n",
       "    </tr>\n",
       "    <tr>\n",
       "      <th>Allegheny</th>\n",
       "      <td>PA</td>\n",
       "      <td>614671</td>\n",
       "      <td>56.640219</td>\n",
       "      <td>42.185820</td>\n",
       "      <td>Obama</td>\n",
       "      <td>924351</td>\n",
       "      <td>66.497575</td>\n",
       "      <td>14.454399</td>\n",
       "    </tr>\n",
       "    <tr>\n",
       "      <th>Armstrong</th>\n",
       "      <td>PA</td>\n",
       "      <td>28322</td>\n",
       "      <td>30.696985</td>\n",
       "      <td>67.901278</td>\n",
       "      <td>Romney</td>\n",
       "      <td>42147</td>\n",
       "      <td>67.198140</td>\n",
       "      <td>37.204293</td>\n",
       "    </tr>\n",
       "    <tr>\n",
       "      <th>Beaver</th>\n",
       "      <td>PA</td>\n",
       "      <td>80015</td>\n",
       "      <td>46.032619</td>\n",
       "      <td>52.637630</td>\n",
       "      <td>Romney</td>\n",
       "      <td>115157</td>\n",
       "      <td>69.483401</td>\n",
       "      <td>6.605012</td>\n",
       "    </tr>\n",
       "    <tr>\n",
       "      <th>Bedford</th>\n",
       "      <td>PA</td>\n",
       "      <td>21444</td>\n",
       "      <td>22.057452</td>\n",
       "      <td>76.986570</td>\n",
       "      <td>Romney</td>\n",
       "      <td>32189</td>\n",
       "      <td>66.619031</td>\n",
       "      <td>54.929118</td>\n",
       "    </tr>\n",
       "    <tr>\n",
       "      <th>Berks</th>\n",
       "      <td>PA</td>\n",
       "      <td>163253</td>\n",
       "      <td>48.939376</td>\n",
       "      <td>49.528646</td>\n",
       "      <td>NaN</td>\n",
       "      <td>250356</td>\n",
       "      <td>65.208343</td>\n",
       "      <td>0.589269</td>\n",
       "    </tr>\n",
       "    <tr>\n",
       "      <th>Blair</th>\n",
       "      <td>PA</td>\n",
       "      <td>47631</td>\n",
       "      <td>32.575424</td>\n",
       "      <td>66.133401</td>\n",
       "      <td>Romney</td>\n",
       "      <td>85328</td>\n",
       "      <td>55.821067</td>\n",
       "      <td>33.557977</td>\n",
       "    </tr>\n",
       "    <tr>\n",
       "      <th>Bradford</th>\n",
       "      <td>PA</td>\n",
       "      <td>22501</td>\n",
       "      <td>36.847251</td>\n",
       "      <td>61.450602</td>\n",
       "      <td>Romney</td>\n",
       "      <td>40490</td>\n",
       "      <td>55.571746</td>\n",
       "      <td>24.603351</td>\n",
       "    </tr>\n",
       "    <tr>\n",
       "      <th>Bucks</th>\n",
       "      <td>PA</td>\n",
       "      <td>319407</td>\n",
       "      <td>49.966970</td>\n",
       "      <td>48.801686</td>\n",
       "      <td>Obama</td>\n",
       "      <td>435606</td>\n",
       "      <td>73.324748</td>\n",
       "      <td>1.165284</td>\n",
       "    </tr>\n",
       "    <tr>\n",
       "      <th>Butler</th>\n",
       "      <td>PA</td>\n",
       "      <td>88924</td>\n",
       "      <td>31.920516</td>\n",
       "      <td>66.816607</td>\n",
       "      <td>Romney</td>\n",
       "      <td>122762</td>\n",
       "      <td>72.436096</td>\n",
       "      <td>34.896091</td>\n",
       "    </tr>\n",
       "  </tbody>\n",
       "</table>\n",
       "</div>"
      ],
      "text/plain": [
       "          state   total      Obama     Romney  winner  voters    turnout  \\\n",
       "county                                                                     \n",
       "Adams        PA   41973  35.482334  63.112001  Romney   61156  68.632677   \n",
       "Allegheny    PA  614671  56.640219  42.185820   Obama  924351  66.497575   \n",
       "Armstrong    PA   28322  30.696985  67.901278  Romney   42147  67.198140   \n",
       "Beaver       PA   80015  46.032619  52.637630  Romney  115157  69.483401   \n",
       "Bedford      PA   21444  22.057452  76.986570  Romney   32189  66.619031   \n",
       "Berks        PA  163253  48.939376  49.528646     NaN  250356  65.208343   \n",
       "Blair        PA   47631  32.575424  66.133401  Romney   85328  55.821067   \n",
       "Bradford     PA   22501  36.847251  61.450602  Romney   40490  55.571746   \n",
       "Bucks        PA  319407  49.966970  48.801686   Obama  435606  73.324748   \n",
       "Butler       PA   88924  31.920516  66.816607  Romney  122762  72.436096   \n",
       "\n",
       "              margin  \n",
       "county                \n",
       "Adams      27.629667  \n",
       "Allegheny  14.454399  \n",
       "Armstrong  37.204293  \n",
       "Beaver      6.605012  \n",
       "Bedford    54.929118  \n",
       "Berks       0.589269  \n",
       "Blair      33.557977  \n",
       "Bradford   24.603351  \n",
       "Bucks       1.165284  \n",
       "Butler     34.896091  "
      ]
     },
     "execution_count": 20,
     "metadata": {},
     "output_type": "execute_result"
    }
   ],
   "source": [
    "# O Resultado quando a margem está menor que 1 ele emte NaN no winner\n",
    "election.head(10)\n",
    "#x= election[['state','total']]\n",
    "#print(x)"
   ]
  },
  {
   "cell_type": "markdown",
   "metadata": {},
   "source": [
    "### Filtering using NaNs ( removendo NaN e removendo aqueles que tem menos que 1000 preenchidos)\n"
   ]
  },
  {
   "cell_type": "code",
   "execution_count": null,
   "metadata": {},
   "outputs": [],
   "source": []
  },
  {
   "cell_type": "code",
   "execution_count": 21,
   "metadata": {
    "tags": []
   },
   "outputs": [
    {
     "name": "stdout",
     "output_type": "stream",
     "text": [
      "(1309, 2)\n",
      "(1309, 14)\n"
     ]
    }
   ],
   "source": [
    "titanic = pd.read_csv('titanic.csv')\n",
    "\n",
    "# Select the 'age' and 'cabin' columns: df\n",
    "df = titanic[['age','cabin']]\n",
    "\n",
    "# Print the shape of df\n",
    "print(df.shape)\n",
    "print (titanic.shape)\n",
    "#df.head(3)"
   ]
  },
  {
   "cell_type": "code",
   "execution_count": 22,
   "metadata": {},
   "outputs": [
    {
     "name": "stdout",
     "output_type": "stream",
     "text": [
      "<class 'pandas.core.frame.DataFrame'>\n",
      "RangeIndex: 1309 entries, 0 to 1308\n",
      "Data columns (total 10 columns):\n",
      " #   Column    Non-Null Count  Dtype  \n",
      "---  ------    --------------  -----  \n",
      " 0   pclass    1309 non-null   int64  \n",
      " 1   survived  1309 non-null   int64  \n",
      " 2   name      1309 non-null   object \n",
      " 3   sex       1309 non-null   object \n",
      " 4   age       1046 non-null   float64\n",
      " 5   sibsp     1309 non-null   int64  \n",
      " 6   parch     1309 non-null   int64  \n",
      " 7   ticket    1309 non-null   object \n",
      " 8   fare      1308 non-null   float64\n",
      " 9   embarked  1307 non-null   object \n",
      "dtypes: float64(2), int64(4), object(4)\n",
      "memory usage: 102.4+ KB\n",
      "None\n"
     ]
    },
    {
     "data": {
      "text/plain": [
       "pclass        0\n",
       "survived      0\n",
       "name          0\n",
       "sex           0\n",
       "age         263\n",
       "sibsp         0\n",
       "parch         0\n",
       "ticket        0\n",
       "fare          1\n",
       "embarked      2\n",
       "dtype: int64"
      ]
     },
     "execution_count": 22,
     "metadata": {},
     "output_type": "execute_result"
    }
   ],
   "source": [
    "# Drop columns in titanic with less than 1000 non-missing values\n",
    "# dropa colunas com menos de 1000 valores não ausentes (menos de 1000 preenchidos -> dropa; mais de 1000 -> mantém)\n",
    "# ou seja, menos de 1000 preenchidos é que está muita coisa vazia, vamos dropar pois são dados esparsos\n",
    "print(titanic.dropna(thresh=1000, axis='columns').info())\n",
    "titanic.dropna(thresh=1000, axis='columns').isnull().sum()\n",
    "\n",
    "\n",
    "#Para descartar colunas nas quais mais de 10% dos valores estão ausentes:\n",
    "#df.dropna(thresh=len(df)*0.9, axis=1)\n",
    "#https://insightlab.ufc.br/6-truques-do-pandas-para-impulsionar-sua-analise-de-dados"
   ]
  },
  {
   "cell_type": "code",
   "execution_count": 23,
   "metadata": {
    "tags": []
   },
   "outputs": [
    {
     "name": "stdout",
     "output_type": "stream",
     "text": [
      "(272, 2)\n",
      "(1069, 2)\n"
     ]
    }
   ],
   "source": [
    "# Drop rows in df with how='any' and print the shape\n",
    "print(df.dropna(how = 'any').shape)\n",
    "\n",
    "# Drop rows in df with how='all' and print the shape\n",
    "print(df.dropna(how = 'all').shape)"
   ]
  },
  {
   "cell_type": "markdown",
   "metadata": {},
   "source": [
    "### Using apply() to transform a column (apply pega o dataframe e aplica uma função def direto a uma coluna)\n"
   ]
  },
  {
   "cell_type": "code",
   "execution_count": 24,
   "metadata": {},
   "outputs": [],
   "source": [
    "weather = pd.read_csv('pittsburgh2013.csv')"
   ]
  },
  {
   "cell_type": "code",
   "execution_count": 25,
   "metadata": {
    "tags": []
   },
   "outputs": [
    {
     "name": "stdout",
     "output_type": "stream",
     "text": [
      "   Mean TemperatureC  Mean Dew PointC\n",
      "0          -2.222222        -2.777778\n",
      "1          -6.111111       -11.111111\n",
      "2          -4.444444        -9.444444\n",
      "3          -2.222222        -7.222222\n",
      "4          -1.111111        -6.666667\n"
     ]
    }
   ],
   "source": [
    "# Write a function to convert degrees Fahrenheit to degrees Celsius: to_celsius\n",
    "def to_celsius(F):\n",
    "    return 5/9*(F - 32)\n",
    "\n",
    "# Apply the function over 'Mean TemperatureF' and 'Mean Dew PointF': df_celsius\n",
    "df_celsius = weather[['Mean TemperatureF','Mean Dew PointF']].apply(to_celsius)\n",
    "\n",
    "# Reassign the columns df_celsius\n",
    "df_celsius.columns = ['Mean TemperatureC', 'Mean Dew PointC']\n",
    "\n",
    "# Print the output of df_celsius.head()\n",
    "print(df_celsius.head())"
   ]
  },
  {
   "cell_type": "markdown",
   "metadata": {},
   "source": [
    "### Using .map() with a dictionary (map() pega um dicionário e usa como critério para criar nova coluna com um if baseado no dicionário: se obama preenche com a palavra blue, se Romney preenche com a palavra red)\n"
   ]
  },
  {
   "cell_type": "code",
   "execution_count": 26,
   "metadata": {
    "tags": []
   },
   "outputs": [
    {
     "name": "stdout",
     "output_type": "stream",
     "text": [
      "          state   total      Obama     Romney  winner  voters    turnout  \\\n",
      "county                                                                     \n",
      "Adams        PA   41973  35.482334  63.112001  Romney   61156  68.632677   \n",
      "Allegheny    PA  614671  56.640219  42.185820   Obama  924351  66.497575   \n",
      "Armstrong    PA   28322  30.696985  67.901278  Romney   42147  67.198140   \n",
      "Beaver       PA   80015  46.032619  52.637630  Romney  115157  69.483401   \n",
      "Bedford      PA   21444  22.057452  76.986570  Romney   32189  66.619031   \n",
      "\n",
      "              margin color  \n",
      "county                      \n",
      "Adams      27.629667   red  \n",
      "Allegheny  14.454399  blue  \n",
      "Armstrong  37.204293   red  \n",
      "Beaver      6.605012   red  \n",
      "Bedford    54.929118   red  \n"
     ]
    }
   ],
   "source": [
    "# Create the dictionary: red_vs_blue\n",
    "red_vs_blue = {'Obama':'blue', 'Romney':'red'}\n",
    "\n",
    "# Use the dictionary to map the 'winner' column to the new column: election['color']\n",
    "election['color'] = election['winner'].map(red_vs_blue)\n",
    "\n",
    "# Print the output of election.head()\n",
    "print(election.head())"
   ]
  },
  {
   "cell_type": "markdown",
   "metadata": {},
   "source": [
    "### Using vectorized functions - "
   ]
  },
  {
   "cell_type": "code",
   "execution_count": null,
   "metadata": {
    "tags": []
   },
   "outputs": [],
   "source": [
    "# Import zscore from scipy.stats\n",
    "from scipy.stats import zscore\n",
    "\n",
    "# Call zscore with election['turnout'] as input: turnout_zscore\n",
    "turnout_zscore = zscore(election['turnout'])\n",
    "\n",
    "# Print the type of turnout_zscore\n",
    "print(type(turnout_zscore))\n",
    "\n",
    "# Assign turnout_zscore to a new column: election['turnout_zscore']\n",
    "election['turnout_zscore'] = turnout_zscore\n",
    "\n",
    "# Print the output of election.head()\n",
    "print(election.head())"
   ]
  },
  {
   "cell_type": "markdown",
   "metadata": {},
   "source": [
    "#### Select columns with all nonzeros\n",
    "df2.loc[: , df2.all( )]\n",
    "#### Select columns with any nonzeros\n",
    "df2.loc[: , df2.any( )]\n",
    "#### Select columns without NaNs\n",
    "df.loc[: , df.notnull( ).all( )]\n",
    "#### Select columns with any NaNs\n",
    "df.loc[: , df.isnull( ).any( )]\n",
    "#### Drop rows with any NaNs\n",
    "df.dropna(how='any')\n",
    "\n",
    "#### Work with string values\n",
    "df.index.str.upper( )\n",
    "\n",
    "df.index.map(str.lower)"
   ]
  },
  {
   "cell_type": "markdown",
   "metadata": {},
   "source": [
    "## 2. Advanced indexing"
   ]
  },
  {
   "cell_type": "code",
   "execution_count": null,
   "metadata": {},
   "outputs": [],
   "source": [
    "sales = pd.read_csv('sales.csv', index_col = 'month')\n",
    "sales"
   ]
  },
  {
   "cell_type": "markdown",
   "metadata": {},
   "source": [
    "### Changing index of a DataFrame"
   ]
  },
  {
   "cell_type": "code",
   "execution_count": null,
   "metadata": {
    "tags": []
   },
   "outputs": [],
   "source": [
    "# Create the list of new indexes: new_idx \n",
    "# criamos uma lista de novos indices que são a versão maiúscula do atual UCASE\n",
    "new_idx = [idx.upper() for idx in sales.index]\n",
    "\n",
    "# Assign new_idx to sales.index\n",
    "sales.index = new_idx\n",
    "\n",
    "# Print the sales DataFrame\n",
    "print(sales)"
   ]
  },
  {
   "cell_type": "markdown",
   "metadata": {},
   "source": [
    "### Changing index name labels"
   ]
  },
  {
   "cell_type": "code",
   "execution_count": null,
   "metadata": {
    "tags": []
   },
   "outputs": [],
   "source": [
    "# Assign the string 'MONTHS' to sales.index.name\n",
    "sales.index.name = 'MONTHS'\n",
    "\n",
    "# Print the sales DataFrame\n",
    "print(sales)\n",
    "\n",
    "#Assign the string 'PRODUCTS' to sales.columns.name \n",
    "sales.columns.name = 'PRODUCTS'\n",
    "\n",
    "#Print the sales dataframe again\n",
    "print(sales)"
   ]
  },
  {
   "cell_type": "code",
   "execution_count": null,
   "metadata": {},
   "outputs": [],
   "source": [
    "#print(sales)\n",
    "sales.head(6)"
   ]
  },
  {
   "cell_type": "markdown",
   "metadata": {},
   "source": [
    "### Building an index, then a DataFrame"
   ]
  },
  {
   "cell_type": "code",
   "execution_count": null,
   "metadata": {
    "tags": []
   },
   "outputs": [],
   "source": [
    "# Generate the list of months: months\n",
    "months = ['Jan', 'Feb', 'Mar', 'Apr', 'May', 'Jun']\n",
    "\n",
    "# Assign months to sales.index\n",
    "sales.index = months\n",
    "# Print the modified sales DataFrame\n",
    "print(sales)"
   ]
  },
  {
   "cell_type": "code",
   "execution_count": null,
   "metadata": {},
   "outputs": [],
   "source": [
    "sales['state'] = ['CA','CA', 'NY', 'NY','TX','TX']\n",
    "sales['month'] = sales.index\n",
    "sales.set_index('state', inplace = True)"
   ]
  },
  {
   "cell_type": "markdown",
   "metadata": {},
   "source": [
    "### Extracting data with a MultiIndex"
   ]
  },
  {
   "cell_type": "code",
   "execution_count": null,
   "metadata": {
    "tags": []
   },
   "outputs": [],
   "source": [
    "# Print sales.loc[['CA', 'TX']]\n",
    "print(sales.loc[['CA', 'TX']])\n",
    "\n",
    "# Print sales['CA':'TX']\n",
    "print(sales['CA':'TX'])"
   ]
  },
  {
   "cell_type": "code",
   "execution_count": null,
   "metadata": {},
   "outputs": [],
   "source": []
  },
  {
   "cell_type": "markdown",
   "metadata": {},
   "source": [
    "### Setting & sorting a MultiIndex"
   ]
  },
  {
   "cell_type": "code",
   "execution_count": null,
   "metadata": {
    "tags": []
   },
   "outputs": [],
   "source": [
    "sales.reset_index(inplace = True)\n",
    "# Set the index to be the columns ['state', 'month']: sales\n",
    "sales = sales.set_index(['state', 'month'])\n",
    "\n",
    "# Sort the MultiIndex: sales\n",
    "sales = sales.sort_index()\n",
    "\n",
    "# Print the sales DataFrame\n",
    "print(sales)"
   ]
  },
  {
   "cell_type": "markdown",
   "metadata": {},
   "source": [
    "### Indexing multiple levels of a MultiIndex"
   ]
  },
  {
   "cell_type": "code",
   "execution_count": null,
   "metadata": {},
   "outputs": [],
   "source": [
    "# Look up data for NY in month 1: NY_month1\n",
    "NY_month1 = sales.loc[('NY', 'Apr'), :]\n",
    "\n",
    "# Look up data for CA and TX in month 2: CA_TX_month2\n",
    "CA_TX_month2 = sales.loc[(['CA', 'TX'], 'Jun'), :]\n",
    "\n",
    "# Look up data for all states in month 2: all_month2\n",
    "all_month2 = sales.loc[(slice(None), 'Mar'), :]\n",
    "\n",
    "NY_month1"
   ]
  },
  {
   "cell_type": "code",
   "execution_count": null,
   "metadata": {},
   "outputs": [],
   "source": [
    "all_month2"
   ]
  },
  {
   "cell_type": "markdown",
   "metadata": {},
   "source": [
    "### Using .loc[ ] with nonunique indexes"
   ]
  },
  {
   "cell_type": "code",
   "execution_count": null,
   "metadata": {
    "tags": []
   },
   "outputs": [],
   "source": [
    "sales.reset_index(inplace = True)\n",
    "# Set the index to the column 'state': sales\n",
    "sales = sales.set_index('state')\n",
    "\n",
    "# Print the sales DataFrame\n",
    "print(sales)\n",
    "\n",
    "# Access the data from 'NY'\n",
    "print(sales.loc['NY', :])"
   ]
  },
  {
   "cell_type": "code",
   "execution_count": null,
   "metadata": {},
   "outputs": [],
   "source": [
    "\n",
    "# Access the data from 'NY'\n",
    "#print(sales.loc['NY', :])"
   ]
  },
  {
   "cell_type": "markdown",
   "metadata": {},
   "source": [
    "## 3. Rearranging and reshaping data"
   ]
  },
  {
   "cell_type": "code",
   "execution_count": null,
   "metadata": {},
   "outputs": [],
   "source": [
    "users = pd.read_csv('users.csv', index_col = 0)\n",
    "users"
   ]
  },
  {
   "cell_type": "markdown",
   "metadata": {},
   "source": [
    "### Pivoting a single variable"
   ]
  },
  {
   "cell_type": "code",
   "execution_count": null,
   "metadata": {
    "tags": []
   },
   "outputs": [],
   "source": [
    "# Pivot the users DataFrame: visitors_pivot\n",
    "visitors_pivot = users.pivot_table(index = 'weekday', columns = 'city', values = 'visitors')\n",
    "\n",
    "# Print the pivoted DataFrame\n",
    "print(visitors_pivot)\n"
   ]
  },
  {
   "cell_type": "markdown",
   "metadata": {},
   "source": [
    "### Pivoting all variables"
   ]
  },
  {
   "cell_type": "code",
   "execution_count": null,
   "metadata": {
    "tags": []
   },
   "outputs": [],
   "source": [
    "# Pivot users with signups indexed by weekday and city: signups_pivot\n",
    "signups_pivot =users.pivot(index = 'weekday', columns = 'city', values = 'signups')\n",
    "\n",
    "# Print signups_pivot\n",
    "print(signups_pivot)\n",
    "\n",
    "# Pivot users pivoted by both signups and visitors: pivot\n",
    "pivot = users.pivot(index = 'weekday', columns = 'city')\n",
    "\n",
    "# Print the pivoted DataFrame\n",
    "print(pivot)"
   ]
  },
  {
   "cell_type": "markdown",
   "metadata": {},
   "source": [
    "### Stacking & unstacking"
   ]
  },
  {
   "cell_type": "code",
   "execution_count": null,
   "metadata": {},
   "outputs": [],
   "source": [
    "# Unstack users by 'weekday': byweekday\n",
    "byweekday = pivot.unstack(level = 'weekday')\n",
    "\n",
    "# Print the byweekday DataFrame\n",
    "print(byweekday)"
   ]
  },
  {
   "cell_type": "markdown",
   "metadata": {},
   "source": [
    "### Restoring the index order"
   ]
  },
  {
   "cell_type": "code",
   "execution_count": null,
   "metadata": {
    "tags": []
   },
   "outputs": [],
   "source": [
    "# Stack 'city' back into the index of bycity: newusers\n",
    "\n",
    "newusers = users.set_index(['city', 'weekday'])\n",
    "print(newusers)\n",
    "\n",
    "# Swap the levels of the index of newusers: newusers\n",
    "newusers = newusers.swaplevel(0,1)\n",
    "\n",
    "# Print newusers and verify that the index is not sorted\n",
    "print(newusers)\n",
    "\n",
    "# Sort the index of newusers: newusers\n",
    "newusers = newusers.sort_index()\n",
    "\n",
    "# Print newusers and verify that the index is now sorted\n",
    "print(newusers)\n",
    "\n",
    "# Verify that the new DataFrame is equal to the original\n",
    "print(newusers.equals(users))"
   ]
  },
  {
   "cell_type": "markdown",
   "metadata": {},
   "source": [
    "### Adding names for readability"
   ]
  },
  {
   "cell_type": "code",
   "execution_count": null,
   "metadata": {},
   "outputs": [],
   "source": [
    "# Reset the index: visitors_by_city_weekday\n",
    "visitors_by_city_weekday = users\n",
    "\n",
    "# Print visitors_by_city_weekday\n",
    "print(visitors_by_city_weekday)\n",
    "\n",
    "# Melt visitors_by_city_weekday: visitors\n",
    "visitors = pd.melt(visitors_by_city_weekday, id_vars=['weekday', 'city'], value_vars = ['visitors', 'signups'], var_name = 'activity', value_name= 'count')\n",
    "\n",
    "# Print visitors\n",
    "print(visitors)"
   ]
  },
  {
   "cell_type": "code",
   "execution_count": null,
   "metadata": {},
   "outputs": [],
   "source": []
  },
  {
   "cell_type": "code",
   "execution_count": null,
   "metadata": {},
   "outputs": [],
   "source": []
  },
  {
   "cell_type": "markdown",
   "metadata": {},
   "source": [
    "### Going from wide to long: obtaining key-value pairs with melt( )"
   ]
  },
  {
   "cell_type": "code",
   "execution_count": null,
   "metadata": {
    "tags": []
   },
   "outputs": [],
   "source": [
    "# Set the new index: users_idx\n",
    "users_idx = users.set_index(['city', 'weekday'])\n",
    "\n",
    "# Print the users_idx DataFrame\n",
    "print(users_idx)\n",
    "\n",
    "# Obtain the key-value pairs: kv_pairs\n",
    "kv_pairs = pd.melt(users_idx, col_level=0)\n",
    "\n",
    "# Print the key-value pairs\n",
    "print(kv_pairs)"
   ]
  },
  {
   "cell_type": "markdown",
   "metadata": {},
   "source": [
    "### Setting up a pivot table"
   ]
  },
  {
   "cell_type": "code",
   "execution_count": null,
   "metadata": {
    "tags": []
   },
   "outputs": [],
   "source": [
    "# Create the DataFrame with the appropriate pivot table: by_city_day\n",
    "by_city_day = users.pivot_table(index = 'weekday', columns = 'city')\n",
    "\n",
    "# Print by_city_day\n",
    "print(by_city_day)"
   ]
  },
  {
   "cell_type": "markdown",
   "metadata": {},
   "source": [
    "### Using other aggregations in pivot tables"
   ]
  },
  {
   "cell_type": "code",
   "execution_count": null,
   "metadata": {
    "tags": []
   },
   "outputs": [],
   "source": [
    "# Use a pivot table to display the count of each column: count_by_weekday1\n",
    "count_by_weekday1 = users.pivot_table(index='weekday', aggfunc='count')\n",
    "\n",
    "# Print count_by_weekday\n",
    "print(count_by_weekday1)\n",
    "\n",
    "# Replace 'aggfunc='count'' with 'aggfunc=len': count_by_weekday2\n",
    "count_by_weekday2 = users.pivot_table(index='weekday', aggfunc=len)\n",
    "\n",
    "# Verify that the same result is obtained\n",
    "print('==========================================')\n",
    "print(count_by_weekday1.equals(count_by_weekday2))"
   ]
  },
  {
   "cell_type": "markdown",
   "metadata": {},
   "source": [
    "### Using margins in pivot tables"
   ]
  },
  {
   "cell_type": "code",
   "execution_count": null,
   "metadata": {
    "tags": []
   },
   "outputs": [],
   "source": [
    "# Create the DataFrame with the appropriate pivot table: signups_and_visitors\n",
    "signups_and_visitors = users.pivot_table(index = 'weekday', aggfunc = 'sum' )\n",
    "\n",
    "# Print signups_and_visitors\n",
    "print(signups_and_visitors)\n",
    "\n",
    "# Add in the margins: signups_and_visitors_total \n",
    "signups_and_visitors_total = users.pivot_table(index = 'weekday', aggfunc = 'sum', margins = True)\n",
    "\n",
    "# Print signups_and_visitors_total\n",
    "print(signups_and_visitors_total)"
   ]
  },
  {
   "cell_type": "markdown",
   "metadata": {},
   "source": [
    "## 4. Grouping data"
   ]
  },
  {
   "cell_type": "markdown",
   "metadata": {},
   "source": [
    "### Grouping by multiple columns"
   ]
  },
  {
   "cell_type": "code",
   "execution_count": null,
   "metadata": {
    "tags": []
   },
   "outputs": [],
   "source": [
    "# Group titanic by 'pclass'\n",
    "by_class = titanic.groupby('pclass')\n",
    "\n",
    "# Aggregate 'survived' column of by_class by count\n",
    "count_by_class = by_class['survived'].count()\n",
    "\n",
    "# Print count_by_class\n",
    "print(count_by_class)\n",
    "\n",
    "# Group titanic by 'embarked' and 'pclass'\n",
    "by_mult = titanic.groupby(['embarked', 'pclass'])\n",
    "\n",
    "# Aggregate 'survived' column of by_mult by count\n",
    "count_mult = by_mult['survived'].count()\n",
    "\n",
    "# Print count_mult\n",
    "print(count_mult)"
   ]
  },
  {
   "cell_type": "markdown",
   "metadata": {},
   "source": [
    "### Computing multiple aggregates of multiple columns"
   ]
  },
  {
   "cell_type": "code",
   "execution_count": null,
   "metadata": {
    "tags": []
   },
   "outputs": [],
   "source": [
    "# Group titanic by 'pclass': by_class\n",
    "by_class = titanic.groupby('pclass')\n",
    "\n",
    "# Select 'age' and 'fare'\n",
    "by_class_sub = by_class[['age','fare']]\n",
    "\n",
    "# Aggregate by_class_sub by 'max' and 'median': aggregated\n",
    "aggregated = by_class_sub.agg(['max', 'median'])\n",
    "\n",
    "# Print the maximum age in each class\n",
    "print(aggregated.loc[:, ('age','max')])\n",
    "\n",
    "# Print the median fare in each class\n",
    "print(aggregated.loc[:, ('fare', 'median')])"
   ]
  },
  {
   "cell_type": "code",
   "execution_count": null,
   "metadata": {},
   "outputs": [],
   "source": [
    "aggregated"
   ]
  },
  {
   "cell_type": "markdown",
   "metadata": {},
   "source": [
    "### Filling missing data (imputation) by group"
   ]
  },
  {
   "cell_type": "code",
   "execution_count": null,
   "metadata": {},
   "outputs": [],
   "source": [
    "# Create a groupby object: by_sex_class\n",
    "by_sex_class = titanic.groupby(['sex', 'pclass'])\n",
    "\n",
    "# Write a function that imputes median\n",
    "def impute_median(series):\n",
    "    return series.fillna(series.median())\n",
    "\n",
    "# Impute age and assign to titanic['age']\n",
    "titanic.age = titanic.age.transform(impute_median)\n",
    "\n",
    "# Print the output of titanic.tail(10)\n",
    "titanic.tail(10)"
   ]
  },
  {
   "cell_type": "markdown",
   "metadata": {},
   "source": [
    "### Grouping and filtering with .apply()"
   ]
  },
  {
   "cell_type": "code",
   "execution_count": null,
   "metadata": {},
   "outputs": [],
   "source": [
    "titanic['cabin'].unique()"
   ]
  },
  {
   "cell_type": "code",
   "execution_count": null,
   "metadata": {},
   "outputs": [],
   "source": [
    "def c_deck_survival(gr):\n",
    "\n",
    "    c_passengers = gr['cabin'].str.startswith('C').fillna(False)\n",
    "    return gr.loc[c_passengers, 'survived'].mean()"
   ]
  },
  {
   "cell_type": "code",
   "execution_count": null,
   "metadata": {},
   "outputs": [],
   "source": [
    "# Create a groupby object using titanic over the 'sex' column: by_sex\n",
    "by_sex = titanic.groupby('sex')\n",
    "\n",
    "# Call by_sex.apply with the function c_deck_survival\n",
    "c_surv_by_sex = by_sex.apply(c_deck_survival)\n",
    "\n",
    "# Print the survival rates\n",
    "c_surv_by_sex"
   ]
  },
  {
   "cell_type": "markdown",
   "metadata": {},
   "source": [
    "### Filtering and grouping with .map( )"
   ]
  },
  {
   "cell_type": "code",
   "execution_count": null,
   "metadata": {
    "tags": []
   },
   "outputs": [],
   "source": [
    "# Create the Boolean Series: under10\n",
    "under10 = (titanic['age'] < 10).map({True:'under 10', False:'over 10'})\n",
    "\n",
    "# Group by under10 and compute the survival rate\n",
    "survived_mean_1 = titanic.groupby(under10)['survived'].mean()\n",
    "print(survived_mean_1)\n",
    "\n",
    "# Group by under10 and pclass and compute the survival rate\n",
    "survived_mean_2 = titanic.groupby([under10, 'pclass'])['survived'].mean()\n",
    "print(survived_mean_2)"
   ]
  },
  {
   "cell_type": "code",
   "execution_count": null,
   "metadata": {},
   "outputs": [],
   "source": [
    "under10.head()"
   ]
  },
  {
   "cell_type": "markdown",
   "metadata": {},
   "source": [
    "### Grouping by another series"
   ]
  },
  {
   "cell_type": "code",
   "execution_count": null,
   "metadata": {
    "tags": []
   },
   "outputs": [],
   "source": [
    "# Read life_fname into a DataFrame: life\n",
    "life = pd.read_csv('gapminder_life.csv', index_col='Country')\n",
    "\n",
    "# Read regions_fname into a DataFrame: regions\n",
    "regions = pd.read_csv('gapminder_region.csv', index_col = 'Country')\n",
    "\n",
    "# Group life by regions['region']: life_by_region\n",
    "life_by_region = life.groupby(regions.region)\n",
    "\n",
    "# Print the mean over the '2010' column of life_by_region\n",
    "print(life_by_region['life'].mean())"
   ]
  },
  {
   "cell_type": "markdown",
   "metadata": {},
   "source": [
    "### Aggregating on index levels/fields"
   ]
  },
  {
   "cell_type": "code",
   "execution_count": null,
   "metadata": {
    "tags": []
   },
   "outputs": [],
   "source": [
    "# Read the CSV file into a DataFrame and sort the index: gapminder\n",
    "gapminder = pd.read_csv('gapminder_tidy.csv', index_col = ['Year','region','Country']).sort_index()\n",
    "\n",
    "# Group gapminder by 'Year' and 'region': by_year_region\n",
    "by_year_region = gapminder.groupby(level = ['Year','region'])\n",
    "\n",
    "# Define the function to compute spread: spread\n",
    "def spread(series):\n",
    "    return series.max() - series.min()\n",
    "\n",
    "# Create the dictionary: aggregator\n",
    "aggregator = {'population':'sum', 'child_mortality':'mean', 'gdp':spread}\n",
    "\n",
    "# Aggregate by_year_region using the dictionary: aggregated\n",
    "aggregated = by_year_region.agg(aggregator)\n",
    "\n",
    "# Print the last 6 entries of aggregated \n",
    "print(aggregated.tail(6))"
   ]
  },
  {
   "cell_type": "markdown",
   "metadata": {},
   "source": [
    "### Detecting outliers with Z-Scores"
   ]
  },
  {
   "cell_type": "code",
   "execution_count": null,
   "metadata": {},
   "outputs": [],
   "source": [
    "# Import zscore\n",
    "from scipy.stats import zscore\n",
    "\n",
    "# Group gapminder_2010: standardized\n",
    "standardized = gapminder.groupby('region')['life','fertility'].transform(zscore)\n",
    "\n",
    "# Construct a Boolean Series to identify outliers: outliers\n",
    "outliers = (standardized['life'] < -3) | (standardized['fertility'] > 3)\n",
    "\n",
    "# Filter gapminder_2010 by the outliers: gm_outliers\n",
    "gm_outliers = gapminder.loc[outliers]\n",
    "\n",
    "# Print gm_outliers\n",
    "gm_outliers.head()"
   ]
  },
  {
   "cell_type": "code",
   "execution_count": null,
   "metadata": {},
   "outputs": [],
   "source": [
    "def disparity(gr):\n",
    "    # Compute the spread of gr['gdp']: s\n",
    "    s = gr['gdp'].max() - gr['gdp'].min()\n",
    "    # Compute the z-score of gr['gdp'] as (gr['gdp']-gr['gdp'].mean())/gr['gdp'].std(): z\n",
    "    z = (gr['gdp'] - gr['gdp'].mean())/gr['gdp'].std()\n",
    "    # Return a DataFrame with the inputs {'z(gdp)':z, 'regional spread(gdp)':s}\n",
    "    return pd.DataFrame({'z(gdp)':z , 'regional spread(gdp)':s})"
   ]
  },
  {
   "cell_type": "code",
   "execution_count": null,
   "metadata": {},
   "outputs": [],
   "source": [
    "# Group gapminder_2010 by 'region': regional\n",
    "regional = gapminder.groupby('region')\n",
    "\n",
    "# Apply the disparity function on regional: reg_disp\n",
    "reg_disp = regional.apply(disparity)\n",
    "\n",
    "# Print the disparity of 'United States', 'United Kingdom', and 'China'\n",
    "reg_disp.head()"
   ]
  },
  {
   "cell_type": "markdown",
   "metadata": {},
   "source": [
    "### Grouping on a function of the index"
   ]
  },
  {
   "cell_type": "code",
   "execution_count": null,
   "metadata": {},
   "outputs": [],
   "source": [
    "sales = pd.read_csv('sales-feb-2015.csv', index_col='Date', parse_dates=True)\n",
    "sales.head()"
   ]
  },
  {
   "cell_type": "code",
   "execution_count": null,
   "metadata": {
    "tags": []
   },
   "outputs": [],
   "source": [
    "# Create a groupby object: by_day\n",
    "by_day = sales.groupby(sales.index.strftime('%a'))\n",
    "\n",
    "# Create sum: units_sum\n",
    "units_sum = by_day['Units'].sum()\n",
    "\n",
    "# Print units_sum\n",
    "print(units_sum)"
   ]
  },
  {
   "cell_type": "markdown",
   "metadata": {},
   "source": [
    "### Grouping and filtering with .filter( )"
   ]
  },
  {
   "cell_type": "code",
   "execution_count": null,
   "metadata": {
    "tags": []
   },
   "outputs": [],
   "source": [
    "# Group sales by 'Company': by_company\n",
    "by_company = sales.groupby('Company')\n",
    "\n",
    "# Compute the sum of the 'Units' of by_company: by_com_sum\n",
    "by_com_sum = by_company['Units'].sum()\n",
    "print(by_com_sum)\n",
    "\n",
    "# Filter 'Units' where the sum is > 35: by_com_filt\n",
    "by_com_filt = by_company.filter(lambda g: g['Units'].sum() > 35)\n",
    "print(by_com_filt)"
   ]
  },
  {
   "cell_type": "markdown",
   "metadata": {},
   "source": [
    "## 5. Case Study"
   ]
  },
  {
   "cell_type": "code",
   "execution_count": null,
   "metadata": {},
   "outputs": [],
   "source": [
    "medals = pd.read_csv('all_medalists.csv')\n",
    "medals.head()"
   ]
  },
  {
   "cell_type": "markdown",
   "metadata": {},
   "source": [
    "### Using .value_counts() for ranking"
   ]
  },
  {
   "cell_type": "code",
   "execution_count": null,
   "metadata": {
    "tags": []
   },
   "outputs": [],
   "source": [
    "# Select the 'NOC' column of medals: country_names\n",
    "country_names = medals.loc[:, 'NOC']\n",
    "\n",
    "# Count the number of medals won by each country: medal_counts\n",
    "medal_counts = country_names.value_counts()\n",
    "\n",
    "# Print top 15 countries ranked by medals\n",
    "print(medal_counts.head(15))"
   ]
  },
  {
   "cell_type": "markdown",
   "metadata": {},
   "source": [
    "### Using .pivot_table() to count medals by type"
   ]
  },
  {
   "cell_type": "code",
   "execution_count": null,
   "metadata": {
    "tags": []
   },
   "outputs": [],
   "source": [
    "# Construct the pivot table: counted\n",
    "counted = medals.pivot_table(index = 'NOC', columns = 'Medal', values = 'Athlete', aggfunc = 'count')\n",
    "\n",
    "# Create the new column: counted['totals']\n",
    "counted['totals'] = counted.sum(axis = 'columns')\n",
    "\n",
    "# Sort counted by the 'totals' column\n",
    "counted = counted.sort_values('totals', ascending = False)\n",
    "\n",
    "# Print the top 15 rows of counted\n",
    "print(counted.head(15))"
   ]
  },
  {
   "cell_type": "markdown",
   "metadata": {},
   "source": [
    "### Applying .drop_duplicates()"
   ]
  },
  {
   "cell_type": "code",
   "execution_count": null,
   "metadata": {
    "tags": []
   },
   "outputs": [],
   "source": [
    "# Select columns: ev_gen\n",
    "ev_gen = medals[['Event_gender', 'Gender']]\n",
    "\n",
    "# Drop duplicate pairs: ev_gen_uniques\n",
    "ev_gen_uniques = ev_gen.drop_duplicates()\n",
    "\n",
    "# Print ev_gen_uniques\n",
    "print(ev_gen_uniques)"
   ]
  },
  {
   "cell_type": "markdown",
   "metadata": {},
   "source": [
    "### Finding possible errors with .groupby()"
   ]
  },
  {
   "cell_type": "code",
   "execution_count": null,
   "metadata": {
    "tags": []
   },
   "outputs": [],
   "source": [
    "# Group medals by the two columns: medals_by_gender\n",
    "medals_by_gender = medals.groupby(['Event_gender', 'Gender'])\n",
    "\n",
    "# Create a DataFrame with a group count: medal_count_by_gender\n",
    "medal_count_by_gender = medals_by_gender.count()\n",
    "\n",
    "# Print medal_count_by_gender\n",
    "print(medal_count_by_gender)"
   ]
  },
  {
   "cell_type": "markdown",
   "metadata": {},
   "source": [
    "### Locating suspicious data"
   ]
  },
  {
   "cell_type": "code",
   "execution_count": null,
   "metadata": {
    "tags": []
   },
   "outputs": [],
   "source": [
    "# Create the Boolean Series: sus\n",
    "sus = (medals.Event_gender == 'W') & (medals.Gender == 'Men')\n",
    "\n",
    "# Create a DataFrame with the suspicious row: suspect\n",
    "suspect = medals.loc[sus]\n",
    "\n",
    "# Print suspect\n",
    "print(suspect)"
   ]
  },
  {
   "cell_type": "markdown",
   "metadata": {},
   "source": [
    "### Using .nunique() to rank by distinct sports"
   ]
  },
  {
   "cell_type": "code",
   "execution_count": null,
   "metadata": {
    "tags": []
   },
   "outputs": [],
   "source": [
    "# Group medals by 'NOC': country_grouped\n",
    "country_grouped = medals.groupby('NOC')\n",
    "\n",
    "# Compute the number of distinct sports in which each country won medals: Nsports\n",
    "Nsports = country_grouped['Sport'].nunique()\n",
    "\n",
    "# Sort the values of Nsports in descending order\n",
    "Nsports = Nsports.sort_values(ascending = False)\n",
    "\n",
    "# Print the top 15 rows of Nsports\n",
    "print(Nsports.head(15))"
   ]
  },
  {
   "cell_type": "markdown",
   "metadata": {},
   "source": [
    "### Counting USA vs. USSR Cold War Olympic Sports"
   ]
  },
  {
   "cell_type": "code",
   "execution_count": null,
   "metadata": {
    "tags": []
   },
   "outputs": [],
   "source": [
    "# Extract all rows for which the 'Edition' is between 1952 & 1988 and for which 'NOC' is either 'USA' or 'URS'\n",
    "\n",
    "mask = (medals.Edition >= 1952) & (medals.Edition <= 1988) & (medals.NOC.isin(['USA','URS']))\n",
    "\n",
    "# Use during_cold_war and is_usa_urs to create the DataFrame: cold_war_medals\n",
    "cold_war_medals = medals.loc[mask]\n",
    "\n",
    "# Group cold_war_medals by 'NOC'\n",
    "country_grouped = cold_war_medals.groupby('NOC')\n",
    "\n",
    "# Create Nsports\n",
    "Nsports = country_grouped['Sport'].nunique().sort_values(ascending = False)\n",
    "\n",
    "# Print Nsports\n",
    "print(Nsports)"
   ]
  },
  {
   "cell_type": "markdown",
   "metadata": {},
   "source": [
    "### Counting USA vs. USSR Cold War Olympic Medals"
   ]
  },
  {
   "cell_type": "code",
   "execution_count": null,
   "metadata": {
    "tags": []
   },
   "outputs": [],
   "source": [
    "# Create the pivot table: medals_won_by_country\n",
    "medals_won_by_country = medals.pivot_table(index = 'Edition', columns = 'NOC', values = 'Athlete', aggfunc = 'count')\n",
    "# Slice medals_won_by_country: cold_war_usa_urs_medals\n",
    "cold_war_usa_urs_medals = medals_won_by_country.loc[1952:1988, ['USA', 'URS']]\n",
    "\n",
    "# Create most_medals \n",
    "most_medals = cold_war_usa_urs_medals.idxmax(axis = 'columns')\n",
    "# Print most_medals.value_counts()\n",
    "print(most_medals.value_counts())\n"
   ]
  },
  {
   "cell_type": "markdown",
   "metadata": {},
   "source": [
    "### Visualizing USA Medal Counts by Edition: Line Plot"
   ]
  },
  {
   "cell_type": "code",
   "execution_count": null,
   "metadata": {},
   "outputs": [],
   "source": [
    "# Create the DataFrame: usa\n",
    "usa = medals.loc[medals.NOC == 'USA']\n",
    "\n",
    "# Group usa by ['Edition', 'Medal'] and aggregate over 'Athlete'\n",
    "usa_medals_by_year = usa.groupby(['Edition', 'Medal'])['Athlete'].count()\n",
    "\n",
    "# Reshape usa_medals_by_year by unstacking\n",
    "usa_medals_by_year = usa_medals_by_year.unstack(level = 'Medal')\n",
    "\n",
    "# Plot the DataFrame usa_medals_by_year\n",
    "usa_medals_by_year.plot()\n",
    "plt.show()"
   ]
  },
  {
   "cell_type": "markdown",
   "metadata": {},
   "source": [
    "### Visualizing USA Medal Counts by Edition: Area Plot with Ordered Medals"
   ]
  },
  {
   "cell_type": "code",
   "execution_count": null,
   "metadata": {},
   "outputs": [],
   "source": [
    "# Redefine 'Medal' as an ordered categorical\n",
    "medals.Medal = pd.Categorical(values = medals.Medal, categories = ['Bronze', 'Silver', 'Gold'], ordered = True)\n",
    "\n",
    "# Create the DataFrame: usa\n",
    "usa = medals[medals.NOC == 'USA']\n",
    "\n",
    "# Group usa by 'Edition', 'Medal', and 'Athlete'\n",
    "usa_medals_by_year = usa.groupby(['Edition', 'Medal'])['Athlete'].count()\n",
    "\n",
    "# Reshape usa_medals_by_year by unstacking\n",
    "usa_medals_by_year = usa_medals_by_year.unstack(level='Medal')\n",
    "\n",
    "# Create an area plot of usa_medals_by_year\n",
    "usa_medals_by_year.plot.area()\n",
    "plt.show()"
   ]
  },
  {
   "cell_type": "code",
   "execution_count": null,
   "metadata": {},
   "outputs": [],
   "source": []
  }
 ],
 "metadata": {
  "jupytext": {
   "formats": "ipynb,auto:light"
  },
  "kernelspec": {
   "display_name": "Python 3 (ipykernel)",
   "language": "python",
   "name": "python3"
  },
  "language_info": {
   "codemirror_mode": {
    "name": "ipython",
    "version": 3
   },
   "file_extension": ".py",
   "mimetype": "text/x-python",
   "name": "python",
   "nbconvert_exporter": "python",
   "pygments_lexer": "ipython3",
   "version": "3.9.7"
  }
 },
 "nbformat": 4,
 "nbformat_minor": 4
}
