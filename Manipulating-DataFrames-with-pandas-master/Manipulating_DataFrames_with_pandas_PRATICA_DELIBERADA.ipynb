{
 "cells": [
  {
   "cell_type": "code",
   "execution_count": 1,
   "metadata": {},
   "outputs": [],
   "source": [
    "import pandas as pd\n",
    "import numpy as np\n",
    "import matplotlib.pyplot as plt\n",
    "%matplotlib inline"
   ]
  },
  {
   "cell_type": "markdown",
   "metadata": {},
   "source": [
    "## 1. Extracting and transforming data"
   ]
  },
  {
   "cell_type": "markdown",
   "metadata": {},
   "source": [
    "### como ler o csv já definindo quem será a coluna index?\n"
   ]
  },
  {
   "cell_type": "code",
   "execution_count": 2,
   "metadata": {},
   "outputs": [],
   "source": [
    "election = pd.read_csv('pennsylvania2012_turnout.csv', index_col = 'county')"
   ]
  },
  {
   "cell_type": "markdown",
   "metadata": {},
   "source": [
    "### Slicing rows"
   ]
  },
  {
   "cell_type": "code",
   "execution_count": 3,
   "metadata": {},
   "outputs": [
    {
     "data": {
      "text/html": [
       "<div>\n",
       "<style scoped>\n",
       "    .dataframe tbody tr th:only-of-type {\n",
       "        vertical-align: middle;\n",
       "    }\n",
       "\n",
       "    .dataframe tbody tr th {\n",
       "        vertical-align: top;\n",
       "    }\n",
       "\n",
       "    .dataframe thead th {\n",
       "        text-align: right;\n",
       "    }\n",
       "</style>\n",
       "<table border=\"1\" class=\"dataframe\">\n",
       "  <thead>\n",
       "    <tr style=\"text-align: right;\">\n",
       "      <th></th>\n",
       "      <th>state</th>\n",
       "      <th>total</th>\n",
       "      <th>Obama</th>\n",
       "      <th>Romney</th>\n",
       "      <th>winner</th>\n",
       "      <th>voters</th>\n",
       "      <th>turnout</th>\n",
       "      <th>margin</th>\n",
       "    </tr>\n",
       "    <tr>\n",
       "      <th>county</th>\n",
       "      <th></th>\n",
       "      <th></th>\n",
       "      <th></th>\n",
       "      <th></th>\n",
       "      <th></th>\n",
       "      <th></th>\n",
       "      <th></th>\n",
       "      <th></th>\n",
       "    </tr>\n",
       "  </thead>\n",
       "  <tbody>\n",
       "    <tr>\n",
       "      <th>Adams</th>\n",
       "      <td>PA</td>\n",
       "      <td>41973</td>\n",
       "      <td>35.482334</td>\n",
       "      <td>63.112001</td>\n",
       "      <td>Romney</td>\n",
       "      <td>61156</td>\n",
       "      <td>68.632677</td>\n",
       "      <td>27.629667</td>\n",
       "    </tr>\n",
       "    <tr>\n",
       "      <th>Allegheny</th>\n",
       "      <td>PA</td>\n",
       "      <td>614671</td>\n",
       "      <td>56.640219</td>\n",
       "      <td>42.185820</td>\n",
       "      <td>Obama</td>\n",
       "      <td>924351</td>\n",
       "      <td>66.497575</td>\n",
       "      <td>14.454399</td>\n",
       "    </tr>\n",
       "    <tr>\n",
       "      <th>Armstrong</th>\n",
       "      <td>PA</td>\n",
       "      <td>28322</td>\n",
       "      <td>30.696985</td>\n",
       "      <td>67.901278</td>\n",
       "      <td>Romney</td>\n",
       "      <td>42147</td>\n",
       "      <td>67.198140</td>\n",
       "      <td>37.204293</td>\n",
       "    </tr>\n",
       "    <tr>\n",
       "      <th>Beaver</th>\n",
       "      <td>PA</td>\n",
       "      <td>80015</td>\n",
       "      <td>46.032619</td>\n",
       "      <td>52.637630</td>\n",
       "      <td>Romney</td>\n",
       "      <td>115157</td>\n",
       "      <td>69.483401</td>\n",
       "      <td>6.605012</td>\n",
       "    </tr>\n",
       "    <tr>\n",
       "      <th>Bedford</th>\n",
       "      <td>PA</td>\n",
       "      <td>21444</td>\n",
       "      <td>22.057452</td>\n",
       "      <td>76.986570</td>\n",
       "      <td>Romney</td>\n",
       "      <td>32189</td>\n",
       "      <td>66.619031</td>\n",
       "      <td>54.929118</td>\n",
       "    </tr>\n",
       "  </tbody>\n",
       "</table>\n",
       "</div>"
      ],
      "text/plain": [
       "          state   total      Obama     Romney  winner  voters    turnout  \\\n",
       "county                                                                     \n",
       "Adams        PA   41973  35.482334  63.112001  Romney   61156  68.632677   \n",
       "Allegheny    PA  614671  56.640219  42.185820   Obama  924351  66.497575   \n",
       "Armstrong    PA   28322  30.696985  67.901278  Romney   42147  67.198140   \n",
       "Beaver       PA   80015  46.032619  52.637630  Romney  115157  69.483401   \n",
       "Bedford      PA   21444  22.057452  76.986570  Romney   32189  66.619031   \n",
       "\n",
       "              margin  \n",
       "county                \n",
       "Adams      27.629667  \n",
       "Allegheny  14.454399  \n",
       "Armstrong  37.204293  \n",
       "Beaver      6.605012  \n",
       "Bedford    54.929118  "
      ]
     },
     "execution_count": 3,
     "metadata": {},
     "output_type": "execute_result"
    }
   ],
   "source": [
    "election.head()"
   ]
  },
  {
   "cell_type": "code",
   "execution_count": 4,
   "metadata": {},
   "outputs": [
    {
     "name": "stdout",
     "output_type": "stream",
     "text": [
      "Romney\n"
     ]
    }
   ],
   "source": [
    "teste = election.loc['Bedford','winner']\n",
    "print(teste)"
   ]
  },
  {
   "cell_type": "code",
   "execution_count": 5,
   "metadata": {
    "scrolled": true,
    "tags": []
   },
   "outputs": [
    {
     "name": "stdout",
     "output_type": "stream",
     "text": [
      "             state   total      Obama     Romney  winner   voters    turnout  \\\n",
      "county                                                                         \n",
      "Perry           PA   18240  29.769737  68.591009  Romney    27245  66.948064   \n",
      "Philadelphia    PA  653598  85.224251  14.051451   Obama  1099197  59.461407   \n",
      "Pike            PA   23164  43.904334  54.882576  Romney    41840  55.363289   \n",
      "Potter          PA    7205  26.259542  72.158223  Romney    10913  66.022175   \n",
      "\n",
      "                 margin  \n",
      "county                   \n",
      "Perry         38.821272  \n",
      "Philadelphia  71.172800  \n",
      "Pike          10.978242  \n",
      "Potter        45.898681  \n",
      "             state   total      Obama     Romney  winner   voters    turnout  \\\n",
      "county                                                                         \n",
      "Potter          PA    7205  26.259542  72.158223  Romney    10913  66.022175   \n",
      "Pike            PA   23164  43.904334  54.882576  Romney    41840  55.363289   \n",
      "Philadelphia    PA  653598  85.224251  14.051451   Obama  1099197  59.461407   \n",
      "Perry           PA   18240  29.769737  68.591009  Romney    27245  66.948064   \n",
      "\n",
      "                 margin  \n",
      "county                   \n",
      "Potter        45.898681  \n",
      "Pike          10.978242  \n",
      "Philadelphia  71.172800  \n",
      "Perry         38.821272  \n",
      "             state   total      Obama     Romney  winner   voters    turnout  \\\n",
      "county                                                                         \n",
      "Potter          PA    7205  26.259542  72.158223  Romney    10913  66.022175   \n",
      "Pike            PA   23164  43.904334  54.882576  Romney    41840  55.363289   \n",
      "Philadelphia    PA  653598  85.224251  14.051451   Obama  1099197  59.461407   \n",
      "Perry           PA   18240  29.769737  68.591009  Romney    27245  66.948064   \n",
      "\n",
      "                 margin  \n",
      "county                   \n",
      "Potter        45.898681  \n",
      "Pike          10.978242  \n",
      "Philadelphia  71.172800  \n",
      "Perry         38.821272  \n"
     ]
    }
   ],
   "source": [
    "# Fatie os condados (são linhas) de Perry até Potter, CONDADOS SÃO INDEX\n",
    "#faz logo aqui, depois confere la embaixo, o nome dado ao resultado será \n",
    "#p_counties =\n",
    "p_counties= election.loc['perry':'potter', :]\n",
    "# Slice the row labels 'Perry' to 'Potter': p_counties\n",
    "\n",
    "# Parte as linhas de Perry até Potter: p_counties ( como é linha, a cláusula é antes da vírgula, lembre da ordem linha, coluna\n",
    "# e as palavras do filtro separadas por :)\n",
    "# veja na linha acima que o indice é a coluna county, logo ela será nossa coluna a filtrar\n",
    "p_counties = election.loc['Perry':'Potter', :]\n",
    "\n",
    "# Print the p_counties DataFrame\n",
    "print(p_counties)\n",
    "\n",
    "#agora faz a mesma coisa só que em ordem reversa, de potter até perry\n",
    "condados_reverso = election.loc['Potter':'Perry':-1, :]\n",
    "# Slice the row labels 'Potter' to 'Perry' in reverse order: p_counties_rev\n",
    "p_counties_rev = election.loc['Potter':'Perry':-1, :]\n",
    "\n",
    "# Print the p_counties_rev DataFrame\n",
    "print(p_counties_rev)\n",
    "print(condados_reverso)"
   ]
  },
  {
   "cell_type": "code",
   "execution_count": 6,
   "metadata": {
    "tags": []
   },
   "outputs": [
    {
     "name": "stdout",
     "output_type": "stream",
     "text": [
      "             state   total      Obama     Romney  winner   voters    turnout  \\\n",
      "county                                                                         \n",
      "Potter          PA    7205  26.259542  72.158223  Romney    10913  66.022175   \n",
      "Pike            PA   23164  43.904334  54.882576  Romney    41840  55.363289   \n",
      "Philadelphia    PA  653598  85.224251  14.051451   Obama  1099197  59.461407   \n",
      "Perry           PA   18240  29.769737  68.591009  Romney    27245  66.948064   \n",
      "\n",
      "                 margin  \n",
      "county                   \n",
      "Potter        45.898681  \n",
      "Pike          10.978242  \n",
      "Philadelphia  71.172800  \n",
      "Perry         38.821272  \n"
     ]
    }
   ],
   "source": [
    "print(p_counties_rev)\n"
   ]
  },
  {
   "cell_type": "markdown",
   "metadata": {},
   "source": [
    "### Slicing columns"
   ]
  },
  {
   "cell_type": "code",
   "execution_count": null,
   "metadata": {},
   "outputs": [],
   "source": []
  },
  {
   "cell_type": "code",
   "execution_count": 7,
   "metadata": {
    "scrolled": true,
    "tags": []
   },
   "outputs": [
    {
     "name": "stdout",
     "output_type": "stream",
     "text": [
      "          state   total      Obama\n",
      "county                            \n",
      "Adams        PA   41973  35.482334\n",
      "Allegheny    PA  614671  56.640219\n",
      "Armstrong    PA   28322  30.696985\n",
      "Beaver       PA   80015  46.032619\n",
      "Bedford      PA   21444  22.057452\n",
      "               Obama     Romney  winner\n",
      "county                                 \n",
      "Adams      35.482334  63.112001  Romney\n",
      "Allegheny  56.640219  42.185820   Obama\n",
      "Armstrong  30.696985  67.901278  Romney\n",
      "Beaver     46.032619  52.637630  Romney\n",
      "Bedford    22.057452  76.986570  Romney\n",
      "              Romney  winner  voters    turnout     margin\n",
      "county                                                    \n",
      "Adams      63.112001  Romney   61156  68.632677  27.629667\n",
      "Allegheny  42.185820   Obama  924351  66.497575  14.454399\n",
      "Armstrong  67.901278  Romney   42147  67.198140  37.204293\n",
      "Beaver     52.637630  Romney  115157  69.483401   6.605012\n",
      "Bedford    76.986570  Romney   32189  66.619031  54.929118\n"
     ]
    }
   ],
   "source": [
    "#fatia as colunas da esquerda pra direita do inicio ate obama\n",
    "\n",
    "esquerda = election.loc[:,:'Obama']\n",
    "# # Slice the columns from the starting column to 'Obama': left_columns\n",
    "left_columns = election.loc[:, :'Obama']\n",
    "\n",
    "# Print the output of left_columns.head()\n",
    "print(left_columns.head())\n",
    "\n",
    "# Slice the columns from 'Obama' to 'winner': middle_columns\n",
    "middle_columns = election.loc[:, 'Obama':'winner']\n",
    "\n",
    "# Print the output of middle_columns.head()\n",
    "print(middle_columns.head())\n",
    "\n",
    "# Slice the columns from 'Romney' to the end: 'right_columns'\n",
    "right_columns = election.loc[:, 'Romney':]\n",
    "\n",
    "# Print the output of right_columns.head()\n",
    "print(right_columns.head())"
   ]
  },
  {
   "cell_type": "code",
   "execution_count": null,
   "metadata": {},
   "outputs": [],
   "source": [
    "\n",
    "\n"
   ]
  },
  {
   "cell_type": "markdown",
   "metadata": {},
   "source": [
    "### Subselecting DataFrames with lists"
   ]
  },
  {
   "cell_type": "code",
   "execution_count": 8,
   "metadata": {},
   "outputs": [],
   "source": [
    "#three_counties.head()"
   ]
  },
  {
   "cell_type": "code",
   "execution_count": 9,
   "metadata": {
    "tags": []
   },
   "outputs": [
    {
     "name": "stdout",
     "output_type": "stream",
     "text": [
      "              winner      Obama     Romney\n",
      "county                                    \n",
      "Philadelphia   Obama  85.224251  14.051451\n",
      "Centre        Romney  48.948416  48.977486\n",
      "Fulton        Romney  21.096291  77.748861\n"
     ]
    }
   ],
   "source": [
    "# Create the list of row labels: rows\n",
    "rows = ['Philadelphia', 'Centre', 'Fulton']\n",
    "\n",
    "# Create the list of column labels: cols\n",
    "cols = ['winner', 'Obama', 'Romney']\n",
    "\n",
    "# Create the new DataFrame: three_counties\n",
    "three_counties = election.loc[rows, cols]\n",
    "\n",
    "# Print the three_counties DataFrame\n",
    "print(three_counties)"
   ]
  },
  {
   "cell_type": "markdown",
   "metadata": {},
   "source": [
    "### Thresholding data (dados no limiar)"
   ]
  },
  {
   "cell_type": "code",
   "execution_count": 10,
   "metadata": {},
   "outputs": [],
   "source": [
    "# cria um array com uma faixa de valores baseado em um campo do dataset\n",
    "# filtra o dataframe baseado neste array e joga em um novo dataframe chamado high_turnout_df\n",
    "# imprime o novo dataframe"
   ]
  },
  {
   "cell_type": "code",
   "execution_count": 11,
   "metadata": {
    "scrolled": true,
    "tags": []
   },
   "outputs": [
    {
     "name": "stdout",
     "output_type": "stream",
     "text": [
      "             state   total      Obama     Romney  winner  voters    turnout  \\\n",
      "county                                                                        \n",
      "Bucks           PA  319407  49.966970  48.801686   Obama  435606  73.324748   \n",
      "Butler          PA   88924  31.920516  66.816607  Romney  122762  72.436096   \n",
      "Chester         PA  248295  49.228539  49.650617  Romney  337822  73.498766   \n",
      "Forest          PA    2308  38.734835  59.835355  Romney    3232  71.410891   \n",
      "Franklin        PA   62802  30.110506  68.583803  Romney   87406  71.850903   \n",
      "Montgomery      PA  401787  56.637223  42.286834   Obama  551105  72.905708   \n",
      "Westmoreland    PA  168709  37.567646  61.306154  Romney  238006  70.884347   \n",
      "\n",
      "                 margin  \n",
      "county                   \n",
      "Bucks          1.165284  \n",
      "Butler        34.896091  \n",
      "Chester        0.422079  \n",
      "Forest        21.100520  \n",
      "Franklin      38.473297  \n",
      "Montgomery    14.350390  \n",
      "Westmoreland  23.738508  \n"
     ]
    }
   ],
   "source": [
    "# Create the boolean array: high_turnout\n",
    "high_turnout = election.turnout > 70\n",
    "high_turnout = election['turnout'] > 70\n",
    "\n",
    "# Filter the election DataFrame with the high_turnout array: high_turnout_df\n",
    "high_turnout_df = election[high_turnout]\n",
    "\n",
    "# Print the high_turnout_results DataFrame\n",
    "print(high_turnout_df)"
   ]
  },
  {
   "cell_type": "code",
   "execution_count": 12,
   "metadata": {},
   "outputs": [
    {
     "data": {
      "text/html": [
       "<div>\n",
       "<style scoped>\n",
       "    .dataframe tbody tr th:only-of-type {\n",
       "        vertical-align: middle;\n",
       "    }\n",
       "\n",
       "    .dataframe tbody tr th {\n",
       "        vertical-align: top;\n",
       "    }\n",
       "\n",
       "    .dataframe thead th {\n",
       "        text-align: right;\n",
       "    }\n",
       "</style>\n",
       "<table border=\"1\" class=\"dataframe\">\n",
       "  <thead>\n",
       "    <tr style=\"text-align: right;\">\n",
       "      <th></th>\n",
       "      <th>state</th>\n",
       "      <th>total</th>\n",
       "      <th>Obama</th>\n",
       "      <th>Romney</th>\n",
       "      <th>winner</th>\n",
       "      <th>voters</th>\n",
       "      <th>turnout</th>\n",
       "      <th>margin</th>\n",
       "    </tr>\n",
       "    <tr>\n",
       "      <th>county</th>\n",
       "      <th></th>\n",
       "      <th></th>\n",
       "      <th></th>\n",
       "      <th></th>\n",
       "      <th></th>\n",
       "      <th></th>\n",
       "      <th></th>\n",
       "      <th></th>\n",
       "    </tr>\n",
       "  </thead>\n",
       "  <tbody>\n",
       "    <tr>\n",
       "      <th>Bucks</th>\n",
       "      <td>PA</td>\n",
       "      <td>319407</td>\n",
       "      <td>49.966970</td>\n",
       "      <td>48.801686</td>\n",
       "      <td>Obama</td>\n",
       "      <td>435606</td>\n",
       "      <td>73.324748</td>\n",
       "      <td>1.165284</td>\n",
       "    </tr>\n",
       "    <tr>\n",
       "      <th>Butler</th>\n",
       "      <td>PA</td>\n",
       "      <td>88924</td>\n",
       "      <td>31.920516</td>\n",
       "      <td>66.816607</td>\n",
       "      <td>Romney</td>\n",
       "      <td>122762</td>\n",
       "      <td>72.436096</td>\n",
       "      <td>34.896091</td>\n",
       "    </tr>\n",
       "    <tr>\n",
       "      <th>Chester</th>\n",
       "      <td>PA</td>\n",
       "      <td>248295</td>\n",
       "      <td>49.228539</td>\n",
       "      <td>49.650617</td>\n",
       "      <td>Romney</td>\n",
       "      <td>337822</td>\n",
       "      <td>73.498766</td>\n",
       "      <td>0.422079</td>\n",
       "    </tr>\n",
       "    <tr>\n",
       "      <th>Forest</th>\n",
       "      <td>PA</td>\n",
       "      <td>2308</td>\n",
       "      <td>38.734835</td>\n",
       "      <td>59.835355</td>\n",
       "      <td>Romney</td>\n",
       "      <td>3232</td>\n",
       "      <td>71.410891</td>\n",
       "      <td>21.100520</td>\n",
       "    </tr>\n",
       "    <tr>\n",
       "      <th>Franklin</th>\n",
       "      <td>PA</td>\n",
       "      <td>62802</td>\n",
       "      <td>30.110506</td>\n",
       "      <td>68.583803</td>\n",
       "      <td>Romney</td>\n",
       "      <td>87406</td>\n",
       "      <td>71.850903</td>\n",
       "      <td>38.473297</td>\n",
       "    </tr>\n",
       "  </tbody>\n",
       "</table>\n",
       "</div>"
      ],
      "text/plain": [
       "         state   total      Obama     Romney  winner  voters    turnout  \\\n",
       "county                                                                    \n",
       "Bucks       PA  319407  49.966970  48.801686   Obama  435606  73.324748   \n",
       "Butler      PA   88924  31.920516  66.816607  Romney  122762  72.436096   \n",
       "Chester     PA  248295  49.228539  49.650617  Romney  337822  73.498766   \n",
       "Forest      PA    2308  38.734835  59.835355  Romney    3232  71.410891   \n",
       "Franklin    PA   62802  30.110506  68.583803  Romney   87406  71.850903   \n",
       "\n",
       "             margin  \n",
       "county               \n",
       "Bucks      1.165284  \n",
       "Butler    34.896091  \n",
       "Chester    0.422079  \n",
       "Forest    21.100520  \n",
       "Franklin  38.473297  "
      ]
     },
     "execution_count": 12,
     "metadata": {},
     "output_type": "execute_result"
    }
   ],
   "source": [
    "high_turnout_df.head()"
   ]
  },
  {
   "cell_type": "markdown",
   "metadata": {},
   "source": [
    "### Filtering columns using other columns"
   ]
  },
  {
   "cell_type": "code",
   "execution_count": 13,
   "metadata": {},
   "outputs": [
    {
     "data": {
      "text/html": [
       "<div>\n",
       "<style scoped>\n",
       "    .dataframe tbody tr th:only-of-type {\n",
       "        vertical-align: middle;\n",
       "    }\n",
       "\n",
       "    .dataframe tbody tr th {\n",
       "        vertical-align: top;\n",
       "    }\n",
       "\n",
       "    .dataframe thead th {\n",
       "        text-align: right;\n",
       "    }\n",
       "</style>\n",
       "<table border=\"1\" class=\"dataframe\">\n",
       "  <thead>\n",
       "    <tr style=\"text-align: right;\">\n",
       "      <th></th>\n",
       "      <th>state</th>\n",
       "      <th>total</th>\n",
       "      <th>Obama</th>\n",
       "      <th>Romney</th>\n",
       "      <th>winner</th>\n",
       "      <th>voters</th>\n",
       "      <th>turnout</th>\n",
       "      <th>margin</th>\n",
       "    </tr>\n",
       "    <tr>\n",
       "      <th>county</th>\n",
       "      <th></th>\n",
       "      <th></th>\n",
       "      <th></th>\n",
       "      <th></th>\n",
       "      <th></th>\n",
       "      <th></th>\n",
       "      <th></th>\n",
       "      <th></th>\n",
       "    </tr>\n",
       "  </thead>\n",
       "  <tbody>\n",
       "    <tr>\n",
       "      <th>Adams</th>\n",
       "      <td>PA</td>\n",
       "      <td>41973</td>\n",
       "      <td>35.482334</td>\n",
       "      <td>63.112001</td>\n",
       "      <td>Romney</td>\n",
       "      <td>61156</td>\n",
       "      <td>68.632677</td>\n",
       "      <td>27.629667</td>\n",
       "    </tr>\n",
       "    <tr>\n",
       "      <th>Allegheny</th>\n",
       "      <td>PA</td>\n",
       "      <td>614671</td>\n",
       "      <td>56.640219</td>\n",
       "      <td>42.185820</td>\n",
       "      <td>Obama</td>\n",
       "      <td>924351</td>\n",
       "      <td>66.497575</td>\n",
       "      <td>14.454399</td>\n",
       "    </tr>\n",
       "    <tr>\n",
       "      <th>Armstrong</th>\n",
       "      <td>PA</td>\n",
       "      <td>28322</td>\n",
       "      <td>30.696985</td>\n",
       "      <td>67.901278</td>\n",
       "      <td>Romney</td>\n",
       "      <td>42147</td>\n",
       "      <td>67.198140</td>\n",
       "      <td>37.204293</td>\n",
       "    </tr>\n",
       "    <tr>\n",
       "      <th>Beaver</th>\n",
       "      <td>PA</td>\n",
       "      <td>80015</td>\n",
       "      <td>46.032619</td>\n",
       "      <td>52.637630</td>\n",
       "      <td>Romney</td>\n",
       "      <td>115157</td>\n",
       "      <td>69.483401</td>\n",
       "      <td>6.605012</td>\n",
       "    </tr>\n",
       "    <tr>\n",
       "      <th>Bedford</th>\n",
       "      <td>PA</td>\n",
       "      <td>21444</td>\n",
       "      <td>22.057452</td>\n",
       "      <td>76.986570</td>\n",
       "      <td>Romney</td>\n",
       "      <td>32189</td>\n",
       "      <td>66.619031</td>\n",
       "      <td>54.929118</td>\n",
       "    </tr>\n",
       "  </tbody>\n",
       "</table>\n",
       "</div>"
      ],
      "text/plain": [
       "          state   total      Obama     Romney  winner  voters    turnout  \\\n",
       "county                                                                     \n",
       "Adams        PA   41973  35.482334  63.112001  Romney   61156  68.632677   \n",
       "Allegheny    PA  614671  56.640219  42.185820   Obama  924351  66.497575   \n",
       "Armstrong    PA   28322  30.696985  67.901278  Romney   42147  67.198140   \n",
       "Beaver       PA   80015  46.032619  52.637630  Romney  115157  69.483401   \n",
       "Bedford      PA   21444  22.057452  76.986570  Romney   32189  66.619031   \n",
       "\n",
       "              margin  \n",
       "county                \n",
       "Adams      27.629667  \n",
       "Allegheny  14.454399  \n",
       "Armstrong  37.204293  \n",
       "Beaver      6.605012  \n",
       "Bedford    54.929118  "
      ]
     },
     "execution_count": 13,
     "metadata": {},
     "output_type": "execute_result"
    }
   ],
   "source": [
    "election.head()"
   ]
  },
  {
   "cell_type": "code",
   "execution_count": 14,
   "metadata": {},
   "outputs": [],
   "source": [
    "# Import numpy\n",
    "import numpy as np\n",
    "\n",
    "# Create the boolean array: too_close\n",
    "too_close = election.margin < 1"
   ]
  },
  {
   "cell_type": "code",
   "execution_count": 15,
   "metadata": {},
   "outputs": [],
   "source": [
    "#print(too_close.head(10))\n",
    "#print(election.head(10))"
   ]
  },
  {
   "cell_type": "code",
   "execution_count": 16,
   "metadata": {
    "tags": []
   },
   "outputs": [
    {
     "name": "stdout",
     "output_type": "stream",
     "text": [
      "<class 'pandas.core.frame.DataFrame'>\n",
      "Index: 67 entries, Adams to York\n",
      "Data columns (total 8 columns):\n",
      " #   Column   Non-Null Count  Dtype  \n",
      "---  ------   --------------  -----  \n",
      " 0   state    67 non-null     object \n",
      " 1   total    67 non-null     int64  \n",
      " 2   Obama    67 non-null     float64\n",
      " 3   Romney   67 non-null     float64\n",
      " 4   winner   64 non-null     object \n",
      " 5   voters   67 non-null     int64  \n",
      " 6   turnout  67 non-null     float64\n",
      " 7   margin   67 non-null     float64\n",
      "dtypes: float64(4), int64(2), object(2)\n",
      "memory usage: 6.8+ KB\n",
      "None\n"
     ]
    }
   ],
   "source": [
    "# Import numpy\n",
    "import numpy as np\n",
    "\n",
    "# Create the boolean array: too_close\n",
    "too_close = election.margin < 1\n",
    "\n",
    "# Assign np.nan to the 'winner' column where the results were too close to call\n",
    "# Atribua np.nan à coluna 'winner', onde os resultados foram muito próximos para serem chamados\n",
    "election.loc[too_close, 'winner'] = np.nan\n",
    "\n",
    "# Print the output of election.info()\n",
    "print(election.info())\n",
    " #veja que abaixo de romney tem a coluna winner"
   ]
  },
  {
   "cell_type": "code",
   "execution_count": 17,
   "metadata": {},
   "outputs": [
    {
     "data": {
      "text/html": [
       "<div>\n",
       "<style scoped>\n",
       "    .dataframe tbody tr th:only-of-type {\n",
       "        vertical-align: middle;\n",
       "    }\n",
       "\n",
       "    .dataframe tbody tr th {\n",
       "        vertical-align: top;\n",
       "    }\n",
       "\n",
       "    .dataframe thead th {\n",
       "        text-align: right;\n",
       "    }\n",
       "</style>\n",
       "<table border=\"1\" class=\"dataframe\">\n",
       "  <thead>\n",
       "    <tr style=\"text-align: right;\">\n",
       "      <th></th>\n",
       "      <th>state</th>\n",
       "      <th>total</th>\n",
       "      <th>Obama</th>\n",
       "      <th>Romney</th>\n",
       "      <th>winner</th>\n",
       "      <th>voters</th>\n",
       "      <th>turnout</th>\n",
       "      <th>margin</th>\n",
       "    </tr>\n",
       "    <tr>\n",
       "      <th>county</th>\n",
       "      <th></th>\n",
       "      <th></th>\n",
       "      <th></th>\n",
       "      <th></th>\n",
       "      <th></th>\n",
       "      <th></th>\n",
       "      <th></th>\n",
       "      <th></th>\n",
       "    </tr>\n",
       "  </thead>\n",
       "  <tbody>\n",
       "    <tr>\n",
       "      <th>Adams</th>\n",
       "      <td>PA</td>\n",
       "      <td>41973</td>\n",
       "      <td>35.482334</td>\n",
       "      <td>63.112001</td>\n",
       "      <td>Romney</td>\n",
       "      <td>61156</td>\n",
       "      <td>68.632677</td>\n",
       "      <td>27.629667</td>\n",
       "    </tr>\n",
       "    <tr>\n",
       "      <th>Allegheny</th>\n",
       "      <td>PA</td>\n",
       "      <td>614671</td>\n",
       "      <td>56.640219</td>\n",
       "      <td>42.185820</td>\n",
       "      <td>Obama</td>\n",
       "      <td>924351</td>\n",
       "      <td>66.497575</td>\n",
       "      <td>14.454399</td>\n",
       "    </tr>\n",
       "    <tr>\n",
       "      <th>Armstrong</th>\n",
       "      <td>PA</td>\n",
       "      <td>28322</td>\n",
       "      <td>30.696985</td>\n",
       "      <td>67.901278</td>\n",
       "      <td>Romney</td>\n",
       "      <td>42147</td>\n",
       "      <td>67.198140</td>\n",
       "      <td>37.204293</td>\n",
       "    </tr>\n",
       "    <tr>\n",
       "      <th>Beaver</th>\n",
       "      <td>PA</td>\n",
       "      <td>80015</td>\n",
       "      <td>46.032619</td>\n",
       "      <td>52.637630</td>\n",
       "      <td>Romney</td>\n",
       "      <td>115157</td>\n",
       "      <td>69.483401</td>\n",
       "      <td>6.605012</td>\n",
       "    </tr>\n",
       "    <tr>\n",
       "      <th>Bedford</th>\n",
       "      <td>PA</td>\n",
       "      <td>21444</td>\n",
       "      <td>22.057452</td>\n",
       "      <td>76.986570</td>\n",
       "      <td>Romney</td>\n",
       "      <td>32189</td>\n",
       "      <td>66.619031</td>\n",
       "      <td>54.929118</td>\n",
       "    </tr>\n",
       "    <tr>\n",
       "      <th>Berks</th>\n",
       "      <td>PA</td>\n",
       "      <td>163253</td>\n",
       "      <td>48.939376</td>\n",
       "      <td>49.528646</td>\n",
       "      <td>NaN</td>\n",
       "      <td>250356</td>\n",
       "      <td>65.208343</td>\n",
       "      <td>0.589269</td>\n",
       "    </tr>\n",
       "    <tr>\n",
       "      <th>Blair</th>\n",
       "      <td>PA</td>\n",
       "      <td>47631</td>\n",
       "      <td>32.575424</td>\n",
       "      <td>66.133401</td>\n",
       "      <td>Romney</td>\n",
       "      <td>85328</td>\n",
       "      <td>55.821067</td>\n",
       "      <td>33.557977</td>\n",
       "    </tr>\n",
       "    <tr>\n",
       "      <th>Bradford</th>\n",
       "      <td>PA</td>\n",
       "      <td>22501</td>\n",
       "      <td>36.847251</td>\n",
       "      <td>61.450602</td>\n",
       "      <td>Romney</td>\n",
       "      <td>40490</td>\n",
       "      <td>55.571746</td>\n",
       "      <td>24.603351</td>\n",
       "    </tr>\n",
       "    <tr>\n",
       "      <th>Bucks</th>\n",
       "      <td>PA</td>\n",
       "      <td>319407</td>\n",
       "      <td>49.966970</td>\n",
       "      <td>48.801686</td>\n",
       "      <td>Obama</td>\n",
       "      <td>435606</td>\n",
       "      <td>73.324748</td>\n",
       "      <td>1.165284</td>\n",
       "    </tr>\n",
       "    <tr>\n",
       "      <th>Butler</th>\n",
       "      <td>PA</td>\n",
       "      <td>88924</td>\n",
       "      <td>31.920516</td>\n",
       "      <td>66.816607</td>\n",
       "      <td>Romney</td>\n",
       "      <td>122762</td>\n",
       "      <td>72.436096</td>\n",
       "      <td>34.896091</td>\n",
       "    </tr>\n",
       "  </tbody>\n",
       "</table>\n",
       "</div>"
      ],
      "text/plain": [
       "          state   total      Obama     Romney  winner  voters    turnout  \\\n",
       "county                                                                     \n",
       "Adams        PA   41973  35.482334  63.112001  Romney   61156  68.632677   \n",
       "Allegheny    PA  614671  56.640219  42.185820   Obama  924351  66.497575   \n",
       "Armstrong    PA   28322  30.696985  67.901278  Romney   42147  67.198140   \n",
       "Beaver       PA   80015  46.032619  52.637630  Romney  115157  69.483401   \n",
       "Bedford      PA   21444  22.057452  76.986570  Romney   32189  66.619031   \n",
       "Berks        PA  163253  48.939376  49.528646     NaN  250356  65.208343   \n",
       "Blair        PA   47631  32.575424  66.133401  Romney   85328  55.821067   \n",
       "Bradford     PA   22501  36.847251  61.450602  Romney   40490  55.571746   \n",
       "Bucks        PA  319407  49.966970  48.801686   Obama  435606  73.324748   \n",
       "Butler       PA   88924  31.920516  66.816607  Romney  122762  72.436096   \n",
       "\n",
       "              margin  \n",
       "county                \n",
       "Adams      27.629667  \n",
       "Allegheny  14.454399  \n",
       "Armstrong  37.204293  \n",
       "Beaver      6.605012  \n",
       "Bedford    54.929118  \n",
       "Berks       0.589269  \n",
       "Blair      33.557977  \n",
       "Bradford   24.603351  \n",
       "Bucks       1.165284  \n",
       "Butler     34.896091  "
      ]
     },
     "execution_count": 17,
     "metadata": {},
     "output_type": "execute_result"
    }
   ],
   "source": [
    "election.head(10)"
   ]
  },
  {
   "cell_type": "markdown",
   "metadata": {},
   "source": [
    "### Filtering using NaNs ( removendo NaN e removendo aqueles que tem menos que 1000 preenchidos)\n"
   ]
  },
  {
   "cell_type": "code",
   "execution_count": null,
   "metadata": {},
   "outputs": [],
   "source": []
  },
  {
   "cell_type": "code",
   "execution_count": 19,
   "metadata": {
    "tags": []
   },
   "outputs": [
    {
     "name": "stdout",
     "output_type": "stream",
     "text": [
      "(1309, 2)\n",
      "(1309, 14)\n"
     ]
    }
   ],
   "source": [
    "titanic = pd.read_csv('titanic.csv')\n",
    "\n",
    "# Select the 'age' and 'cabin' columns: df\n",
    "df = titanic[['age','cabin']]\n",
    "\n",
    "# Print the shape of df\n",
    "print(df.shape)\n",
    "print (titanic.shape)\n",
    "#df.head(3)"
   ]
  },
  {
   "cell_type": "code",
   "execution_count": 24,
   "metadata": {},
   "outputs": [
    {
     "name": "stdout",
     "output_type": "stream",
     "text": [
      "<class 'pandas.core.frame.DataFrame'>\n",
      "RangeIndex: 1309 entries, 0 to 1308\n",
      "Data columns (total 10 columns):\n",
      " #   Column    Non-Null Count  Dtype  \n",
      "---  ------    --------------  -----  \n",
      " 0   pclass    1309 non-null   int64  \n",
      " 1   survived  1309 non-null   int64  \n",
      " 2   name      1309 non-null   object \n",
      " 3   sex       1309 non-null   object \n",
      " 4   age       1046 non-null   float64\n",
      " 5   sibsp     1309 non-null   int64  \n",
      " 6   parch     1309 non-null   int64  \n",
      " 7   ticket    1309 non-null   object \n",
      " 8   fare      1308 non-null   float64\n",
      " 9   embarked  1307 non-null   object \n",
      "dtypes: float64(2), int64(4), object(4)\n",
      "memory usage: 102.4+ KB\n",
      "None\n"
     ]
    },
    {
     "data": {
      "text/plain": [
       "pclass        0\n",
       "survived      0\n",
       "name          0\n",
       "sex           0\n",
       "age         263\n",
       "sibsp         0\n",
       "parch         0\n",
       "ticket        0\n",
       "fare          1\n",
       "embarked      2\n",
       "dtype: int64"
      ]
     },
     "execution_count": 24,
     "metadata": {},
     "output_type": "execute_result"
    }
   ],
   "source": [
    "# Drop columns in titanic with less than 1000 non-missing values\n",
    "# dropa colunas com menos de 1000 valores não ausentes (menos de 1000 preenchidos -> dropa; mais de 1000 -> mantém)\n",
    "# ou seja, menos de 1000 preenchidos é que está muita coisa vazia, vamos dropar pois são dados esparsos\n",
    "print(titanic.dropna(thresh=1000, axis='columns').info())\n",
    "titanic.dropna(thresh=1000, axis='columns').isnull().sum()"
   ]
  },
  {
   "cell_type": "code",
   "execution_count": 25,
   "metadata": {
    "tags": []
   },
   "outputs": [
    {
     "name": "stdout",
     "output_type": "stream",
     "text": [
      "(272, 2)\n",
      "(1069, 2)\n"
     ]
    }
   ],
   "source": [
    "# Drop rows in df with how='any' and print the shape\n",
    "print(df.dropna(how = 'any').shape)\n",
    "\n",
    "# Drop rows in df with how='all' and print the shape\n",
    "print(df.dropna(how = 'all').shape)"
   ]
  },
  {
   "cell_type": "markdown",
   "metadata": {},
   "source": [
    "### Using apply() to transform a column (apply pega o dataframe e aplica uma função def direto a uma coluna)\n"
   ]
  },
  {
   "cell_type": "code",
   "execution_count": 18,
   "metadata": {},
   "outputs": [],
   "source": [
    "weather = pd.read_csv('pittsburgh2013.csv')"
   ]
  },
  {
   "cell_type": "code",
   "execution_count": 19,
   "metadata": {
    "tags": []
   },
   "outputs": [
    {
     "name": "stdout",
     "output_type": "stream",
     "text": [
      "   Mean TemperatureC  Mean Dew PointC\n",
      "0          -2.222222        -2.777778\n",
      "1          -6.111111       -11.111111\n",
      "2          -4.444444        -9.444444\n",
      "3          -2.222222        -7.222222\n",
      "4          -1.111111        -6.666667\n"
     ]
    }
   ],
   "source": [
    "# Write a function to convert degrees Fahrenheit to degrees Celsius: to_celsius\n",
    "def to_celsius(F):\n",
    "    return 5/9*(F - 32)\n",
    "\n",
    "# Apply the function over 'Mean TemperatureF' and 'Mean Dew PointF': df_celsius\n",
    "df_celsius = weather[['Mean TemperatureF','Mean Dew PointF']].apply(to_celsius)\n",
    "\n",
    "# Reassign the columns df_celsius\n",
    "df_celsius.columns = ['Mean TemperatureC', 'Mean Dew PointC']\n",
    "\n",
    "# Print the output of df_celsius.head()\n",
    "print(df_celsius.head())"
   ]
  },
  {
   "cell_type": "markdown",
   "metadata": {},
   "source": [
    "### Using .map() with a dictionary (map() pega um dicionário e usa como critério para criar nova coluna com um if baseado no dicionário: se obama preenche com a palavra blue, se Romney preenche com a palavra red)\n"
   ]
  },
  {
   "cell_type": "code",
   "execution_count": 20,
   "metadata": {
    "tags": []
   },
   "outputs": [
    {
     "name": "stdout",
     "output_type": "stream",
     "text": [
      "          state   total      Obama     Romney  winner  voters    turnout  \\\n",
      "county                                                                     \n",
      "Adams        PA   41973  35.482334  63.112001  Romney   61156  68.632677   \n",
      "Allegheny    PA  614671  56.640219  42.185820   Obama  924351  66.497575   \n",
      "Armstrong    PA   28322  30.696985  67.901278  Romney   42147  67.198140   \n",
      "Beaver       PA   80015  46.032619  52.637630  Romney  115157  69.483401   \n",
      "Bedford      PA   21444  22.057452  76.986570  Romney   32189  66.619031   \n",
      "\n",
      "              margin color  \n",
      "county                      \n",
      "Adams      27.629667   red  \n",
      "Allegheny  14.454399  blue  \n",
      "Armstrong  37.204293   red  \n",
      "Beaver      6.605012   red  \n",
      "Bedford    54.929118   red  \n"
     ]
    }
   ],
   "source": [
    "# Create the dictionary: red_vs_blue\n",
    "red_vs_blue = {'Obama':'blue', 'Romney':'red'}\n",
    "\n",
    "# Use the dictionary to map the 'winner' column to the new column: election['color']\n",
    "election['color'] = election['winner'].map(red_vs_blue)\n",
    "\n",
    "# Print the output of election.head()\n",
    "print(election.head())"
   ]
  },
  {
   "cell_type": "markdown",
   "metadata": {},
   "source": [
    "### Using vectorized functions - "
   ]
  },
  {
   "cell_type": "code",
   "execution_count": 28,
   "metadata": {
    "tags": []
   },
   "outputs": [
    {
     "name": "stdout",
     "output_type": "stream",
     "text": [
      "<class 'pandas.core.series.Series'>\n",
      "          state   total      Obama     Romney  winner  voters    turnout  \\\n",
      "county                                                                     \n",
      "Adams        PA   41973  35.482334  63.112001  Romney   61156  68.632677   \n",
      "Allegheny    PA  614671  56.640219  42.185820   Obama  924351  66.497575   \n",
      "Armstrong    PA   28322  30.696985  67.901278  Romney   42147  67.198140   \n",
      "Beaver       PA   80015  46.032619  52.637630  Romney  115157  69.483401   \n",
      "Bedford      PA   21444  22.057452  76.986570  Romney   32189  66.619031   \n",
      "\n",
      "              margin color  turnout_zscore  \n",
      "county                                      \n",
      "Adams      27.629667   red        0.853734  \n",
      "Allegheny  14.454399  blue        0.439846  \n",
      "Armstrong  37.204293   red        0.575650  \n",
      "Beaver      6.605012   red        1.018647  \n",
      "Bedford    54.929118   red        0.463391  \n"
     ]
    }
   ],
   "source": [
    "# Import zscore from scipy.stats\n",
    "from scipy.stats import zscore\n",
    "\n",
    "# Call zscore with election['turnout'] as input: turnout_zscore\n",
    "turnout_zscore = zscore(election['turnout'])\n",
    "\n",
    "# Print the type of turnout_zscore\n",
    "print(type(turnout_zscore))\n",
    "\n",
    "# Assign turnout_zscore to a new column: election['turnout_zscore']\n",
    "election['turnout_zscore'] = turnout_zscore\n",
    "\n",
    "# Print the output of election.head()\n",
    "print(election.head())"
   ]
  },
  {
   "cell_type": "markdown",
   "metadata": {},
   "source": [
    "#### Select columns with all nonzeros\n",
    "df2.loc[: , df2.all( )]\n",
    "#### Select columns with any nonzeros\n",
    "df2.loc[: , df2.any( )]\n",
    "#### Select columns without NaNs\n",
    "df.loc[: , df.notnull( ).all( )]\n",
    "#### Select columns with any NaNs\n",
    "df.loc[: , df.isnull( ).any( )]\n",
    "#### Drop rows with any NaNs\n",
    "df.dropna(how='any')\n",
    "\n",
    "#### Work with string values\n",
    "df.index.str.upper( )\n",
    "\n",
    "df.index.map(str.lower)"
   ]
  },
  {
   "cell_type": "markdown",
   "metadata": {},
   "source": [
    "## 2. Advanced indexing"
   ]
  },
  {
   "cell_type": "code",
   "execution_count": 20,
   "metadata": {},
   "outputs": [
    {
     "data": {
      "text/html": [
       "<div>\n",
       "<style scoped>\n",
       "    .dataframe tbody tr th:only-of-type {\n",
       "        vertical-align: middle;\n",
       "    }\n",
       "\n",
       "    .dataframe tbody tr th {\n",
       "        vertical-align: top;\n",
       "    }\n",
       "\n",
       "    .dataframe thead th {\n",
       "        text-align: right;\n",
       "    }\n",
       "</style>\n",
       "<table border=\"1\" class=\"dataframe\">\n",
       "  <thead>\n",
       "    <tr style=\"text-align: right;\">\n",
       "      <th></th>\n",
       "      <th>eggs</th>\n",
       "      <th>salt</th>\n",
       "      <th>spam</th>\n",
       "    </tr>\n",
       "    <tr>\n",
       "      <th>month</th>\n",
       "      <th></th>\n",
       "      <th></th>\n",
       "      <th></th>\n",
       "    </tr>\n",
       "  </thead>\n",
       "  <tbody>\n",
       "    <tr>\n",
       "      <th>Jan</th>\n",
       "      <td>47</td>\n",
       "      <td>12.0</td>\n",
       "      <td>17</td>\n",
       "    </tr>\n",
       "    <tr>\n",
       "      <th>Feb</th>\n",
       "      <td>110</td>\n",
       "      <td>50.0</td>\n",
       "      <td>31</td>\n",
       "    </tr>\n",
       "    <tr>\n",
       "      <th>Mar</th>\n",
       "      <td>221</td>\n",
       "      <td>89.0</td>\n",
       "      <td>72</td>\n",
       "    </tr>\n",
       "    <tr>\n",
       "      <th>Apr</th>\n",
       "      <td>77</td>\n",
       "      <td>87.0</td>\n",
       "      <td>20</td>\n",
       "    </tr>\n",
       "    <tr>\n",
       "      <th>May</th>\n",
       "      <td>132</td>\n",
       "      <td>NaN</td>\n",
       "      <td>52</td>\n",
       "    </tr>\n",
       "    <tr>\n",
       "      <th>Jun</th>\n",
       "      <td>205</td>\n",
       "      <td>60.0</td>\n",
       "      <td>55</td>\n",
       "    </tr>\n",
       "  </tbody>\n",
       "</table>\n",
       "</div>"
      ],
      "text/plain": [
       "       eggs  salt  spam\n",
       "month                  \n",
       "Jan      47  12.0    17\n",
       "Feb     110  50.0    31\n",
       "Mar     221  89.0    72\n",
       "Apr      77  87.0    20\n",
       "May     132   NaN    52\n",
       "Jun     205  60.0    55"
      ]
     },
     "execution_count": 20,
     "metadata": {},
     "output_type": "execute_result"
    }
   ],
   "source": [
    "sales = pd.read_csv('sales.csv', index_col = 'month')\n",
    "sales"
   ]
  },
  {
   "cell_type": "markdown",
   "metadata": {},
   "source": [
    "### Changing index of a DataFrame"
   ]
  },
  {
   "cell_type": "code",
   "execution_count": 21,
   "metadata": {
    "tags": []
   },
   "outputs": [
    {
     "name": "stdout",
     "output_type": "stream",
     "text": [
      "     eggs  salt  spam\n",
      "JAN    47  12.0    17\n",
      "FEB   110  50.0    31\n",
      "MAR   221  89.0    72\n",
      "APR    77  87.0    20\n",
      "MAY   132   NaN    52\n",
      "JUN   205  60.0    55\n"
     ]
    }
   ],
   "source": [
    "# Create the list of new indexes: new_idx\n",
    "new_idx = [idx.upper() for idx in sales.index]\n",
    "\n",
    "# Assign new_idx to sales.index\n",
    "sales.index = new_idx\n",
    "\n",
    "# Print the sales DataFrame\n",
    "print(sales)"
   ]
  },
  {
   "cell_type": "markdown",
   "metadata": {},
   "source": [
    "### Changing index name labels"
   ]
  },
  {
   "cell_type": "code",
   "execution_count": 22,
   "metadata": {
    "tags": []
   },
   "outputs": [
    {
     "name": "stdout",
     "output_type": "stream",
     "text": [
      "        eggs  salt  spam\n",
      "MONTHS                  \n",
      "JAN       47  12.0    17\n",
      "FEB      110  50.0    31\n",
      "MAR      221  89.0    72\n",
      "APR       77  87.0    20\n",
      "MAY      132   NaN    52\n",
      "JUN      205  60.0    55\n",
      "PRODUCTS  eggs  salt  spam\n",
      "MONTHS                    \n",
      "JAN         47  12.0    17\n",
      "FEB        110  50.0    31\n",
      "MAR        221  89.0    72\n",
      "APR         77  87.0    20\n",
      "MAY        132   NaN    52\n",
      "JUN        205  60.0    55\n"
     ]
    }
   ],
   "source": [
    "# Assign the string 'MONTHS' to sales.index.name\n",
    "sales.index.name = 'MONTHS'\n",
    "\n",
    "# Print the sales DataFrame\n",
    "print(sales)\n",
    "\n",
    "#Assign the string 'PRODUCTS' to sales.columns.name \n",
    "sales.columns.name = 'PRODUCTS'\n",
    "\n",
    "#Print the sales dataframe again\n",
    "print(sales)"
   ]
  },
  {
   "cell_type": "markdown",
   "metadata": {},
   "source": [
    "### Building an index, then a DataFrame"
   ]
  },
  {
   "cell_type": "code",
   "execution_count": 23,
   "metadata": {
    "tags": []
   },
   "outputs": [
    {
     "name": "stdout",
     "output_type": "stream",
     "text": [
      "PRODUCTS  eggs  salt  spam\n",
      "Jan         47  12.0    17\n",
      "Feb        110  50.0    31\n",
      "Mar        221  89.0    72\n",
      "Apr         77  87.0    20\n",
      "May        132   NaN    52\n",
      "Jun        205  60.0    55\n"
     ]
    }
   ],
   "source": [
    "# Generate the list of months: months\n",
    "months = ['Jan', 'Feb', 'Mar', 'Apr', 'May', 'Jun']\n",
    "\n",
    "# Assign months to sales.index\n",
    "sales.index = months\n",
    "# Print the modified sales DataFrame\n",
    "print(sales)"
   ]
  },
  {
   "cell_type": "code",
   "execution_count": 24,
   "metadata": {},
   "outputs": [],
   "source": [
    "sales['state'] = ['CA','CA', 'NY', 'NY','TX','TX']\n",
    "sales['month'] = sales.index\n",
    "sales.set_index('state', inplace = True)"
   ]
  },
  {
   "cell_type": "markdown",
   "metadata": {},
   "source": [
    "### Extracting data with a MultiIndex"
   ]
  },
  {
   "cell_type": "code",
   "execution_count": 25,
   "metadata": {
    "tags": []
   },
   "outputs": [
    {
     "name": "stdout",
     "output_type": "stream",
     "text": [
      "PRODUCTS  eggs  salt  spam month\n",
      "state                           \n",
      "CA          47  12.0    17   Jan\n",
      "CA         110  50.0    31   Feb\n",
      "TX         132   NaN    52   May\n",
      "TX         205  60.0    55   Jun\n",
      "PRODUCTS  eggs  salt  spam month\n",
      "state                           \n",
      "CA          47  12.0    17   Jan\n",
      "CA         110  50.0    31   Feb\n",
      "NY         221  89.0    72   Mar\n",
      "NY          77  87.0    20   Apr\n",
      "TX         132   NaN    52   May\n",
      "TX         205  60.0    55   Jun\n"
     ]
    }
   ],
   "source": [
    "# Print sales.loc[['CA', 'TX']]\n",
    "print(sales.loc[['CA', 'TX']])\n",
    "\n",
    "# Print sales['CA':'TX']\n",
    "print(sales['CA':'TX'])"
   ]
  },
  {
   "cell_type": "markdown",
   "metadata": {},
   "source": [
    "### Setting & sorting a MultiIndex"
   ]
  },
  {
   "cell_type": "code",
   "execution_count": 26,
   "metadata": {
    "tags": []
   },
   "outputs": [
    {
     "name": "stdout",
     "output_type": "stream",
     "text": [
      "PRODUCTS     eggs  salt  spam\n",
      "state month                  \n",
      "CA    Feb     110  50.0    31\n",
      "      Jan      47  12.0    17\n",
      "NY    Apr      77  87.0    20\n",
      "      Mar     221  89.0    72\n",
      "TX    Jun     205  60.0    55\n",
      "      May     132   NaN    52\n"
     ]
    }
   ],
   "source": [
    "sales.reset_index(inplace = True)\n",
    "# Set the index to be the columns ['state', 'month']: sales\n",
    "sales = sales.set_index(['state', 'month'])\n",
    "\n",
    "# Sort the MultiIndex: sales\n",
    "sales = sales.sort_index()\n",
    "\n",
    "# Print the sales DataFrame\n",
    "print(sales)"
   ]
  },
  {
   "cell_type": "markdown",
   "metadata": {},
   "source": [
    "### Indexing multiple levels of a MultiIndex"
   ]
  },
  {
   "cell_type": "code",
   "execution_count": 27,
   "metadata": {},
   "outputs": [
    {
     "data": {
      "text/plain": [
       "PRODUCTS\n",
       "eggs    77.0\n",
       "salt    87.0\n",
       "spam    20.0\n",
       "Name: (NY, Apr), dtype: float64"
      ]
     },
     "execution_count": 27,
     "metadata": {},
     "output_type": "execute_result"
    }
   ],
   "source": [
    "# Look up data for NY in month 1: NY_month1\n",
    "NY_month1 = sales.loc[('NY', 'Apr'), :]\n",
    "\n",
    "# Look up data for CA and TX in month 2: CA_TX_month2\n",
    "CA_TX_month2 = sales.loc[(['CA', 'TX'], 'Jun'), :]\n",
    "\n",
    "# Look up data for all states in month 2: all_month2\n",
    "all_month2 = sales.loc[(slice(None), 'Mar'), :]\n",
    "\n",
    "NY_month1"
   ]
  },
  {
   "cell_type": "markdown",
   "metadata": {},
   "source": [
    "### Using .loc[ ] with nonunique indexes"
   ]
  },
  {
   "cell_type": "code",
   "execution_count": 28,
   "metadata": {
    "tags": []
   },
   "outputs": [
    {
     "name": "stdout",
     "output_type": "stream",
     "text": [
      "PRODUCTS month  eggs  salt  spam\n",
      "state                           \n",
      "CA         Feb   110  50.0    31\n",
      "CA         Jan    47  12.0    17\n",
      "NY         Apr    77  87.0    20\n",
      "NY         Mar   221  89.0    72\n",
      "TX         Jun   205  60.0    55\n",
      "TX         May   132   NaN    52\n",
      "PRODUCTS month  eggs  salt  spam\n",
      "state                           \n",
      "NY         Apr    77  87.0    20\n",
      "NY         Mar   221  89.0    72\n"
     ]
    }
   ],
   "source": [
    "sales.reset_index(inplace = True)\n",
    "# Set the index to the column 'state': sales\n",
    "sales = sales.set_index('state')\n",
    "\n",
    "# Print the sales DataFrame\n",
    "print(sales)\n",
    "\n",
    "# Access the data from 'NY'\n",
    "print(sales.loc['NY', :])"
   ]
  },
  {
   "cell_type": "markdown",
   "metadata": {},
   "source": [
    "## 3. Rearranging and reshaping data"
   ]
  },
  {
   "cell_type": "code",
   "execution_count": 29,
   "metadata": {},
   "outputs": [
    {
     "data": {
      "text/html": [
       "<div>\n",
       "<style scoped>\n",
       "    .dataframe tbody tr th:only-of-type {\n",
       "        vertical-align: middle;\n",
       "    }\n",
       "\n",
       "    .dataframe tbody tr th {\n",
       "        vertical-align: top;\n",
       "    }\n",
       "\n",
       "    .dataframe thead th {\n",
       "        text-align: right;\n",
       "    }\n",
       "</style>\n",
       "<table border=\"1\" class=\"dataframe\">\n",
       "  <thead>\n",
       "    <tr style=\"text-align: right;\">\n",
       "      <th></th>\n",
       "      <th>weekday</th>\n",
       "      <th>city</th>\n",
       "      <th>visitors</th>\n",
       "      <th>signups</th>\n",
       "    </tr>\n",
       "  </thead>\n",
       "  <tbody>\n",
       "    <tr>\n",
       "      <th>0</th>\n",
       "      <td>Sun</td>\n",
       "      <td>Austin</td>\n",
       "      <td>139</td>\n",
       "      <td>7</td>\n",
       "    </tr>\n",
       "    <tr>\n",
       "      <th>1</th>\n",
       "      <td>Sun</td>\n",
       "      <td>Dallas</td>\n",
       "      <td>237</td>\n",
       "      <td>12</td>\n",
       "    </tr>\n",
       "    <tr>\n",
       "      <th>2</th>\n",
       "      <td>Mon</td>\n",
       "      <td>Austin</td>\n",
       "      <td>326</td>\n",
       "      <td>3</td>\n",
       "    </tr>\n",
       "    <tr>\n",
       "      <th>3</th>\n",
       "      <td>Mon</td>\n",
       "      <td>Dallas</td>\n",
       "      <td>456</td>\n",
       "      <td>5</td>\n",
       "    </tr>\n",
       "  </tbody>\n",
       "</table>\n",
       "</div>"
      ],
      "text/plain": [
       "  weekday    city  visitors  signups\n",
       "0     Sun  Austin       139        7\n",
       "1     Sun  Dallas       237       12\n",
       "2     Mon  Austin       326        3\n",
       "3     Mon  Dallas       456        5"
      ]
     },
     "execution_count": 29,
     "metadata": {},
     "output_type": "execute_result"
    }
   ],
   "source": [
    "users = pd.read_csv('users.csv', index_col = 0)\n",
    "users"
   ]
  },
  {
   "cell_type": "markdown",
   "metadata": {},
   "source": [
    "### Pivoting a single variable"
   ]
  },
  {
   "cell_type": "code",
   "execution_count": 30,
   "metadata": {
    "tags": []
   },
   "outputs": [
    {
     "name": "stdout",
     "output_type": "stream",
     "text": [
      "city     Austin  Dallas\n",
      "weekday                \n",
      "Mon         326     456\n",
      "Sun         139     237\n"
     ]
    }
   ],
   "source": [
    "# Pivot the users DataFrame: visitors_pivot\n",
    "visitors_pivot = users.pivot_table(index = 'weekday', columns = 'city', values = 'visitors')\n",
    "\n",
    "# Print the pivoted DataFrame\n",
    "print(visitors_pivot)"
   ]
  },
  {
   "cell_type": "markdown",
   "metadata": {},
   "source": [
    "### Pivoting all variables"
   ]
  },
  {
   "cell_type": "code",
   "execution_count": 31,
   "metadata": {
    "tags": []
   },
   "outputs": [
    {
     "name": "stdout",
     "output_type": "stream",
     "text": [
      "city     Austin  Dallas\n",
      "weekday                \n",
      "Mon           3       5\n",
      "Sun           7      12\n",
      "        visitors        signups       \n",
      "city      Austin Dallas  Austin Dallas\n",
      "weekday                               \n",
      "Mon          326    456       3      5\n",
      "Sun          139    237       7     12\n"
     ]
    }
   ],
   "source": [
    "# Pivot users with signups indexed by weekday and city: signups_pivot\n",
    "signups_pivot =users.pivot(index = 'weekday', columns = 'city', values = 'signups')\n",
    "\n",
    "# Print signups_pivot\n",
    "print(signups_pivot)\n",
    "\n",
    "# Pivot users pivoted by both signups and visitors: pivot\n",
    "pivot = users.pivot(index = 'weekday', columns = 'city')\n",
    "\n",
    "# Print the pivoted DataFrame\n",
    "print(pivot)"
   ]
  },
  {
   "cell_type": "markdown",
   "metadata": {},
   "source": [
    "### Stacking & unstacking"
   ]
  },
  {
   "cell_type": "code",
   "execution_count": 32,
   "metadata": {},
   "outputs": [
    {
     "name": "stdout",
     "output_type": "stream",
     "text": [
      "          city    weekday\n",
      "visitors  Austin  Mon        326\n",
      "                  Sun        139\n",
      "          Dallas  Mon        456\n",
      "                  Sun        237\n",
      "signups   Austin  Mon          3\n",
      "                  Sun          7\n",
      "          Dallas  Mon          5\n",
      "                  Sun         12\n",
      "dtype: int64\n"
     ]
    }
   ],
   "source": [
    "# Unstack users by 'weekday': byweekday\n",
    "byweekday = pivot.unstack(level = 'weekday')\n",
    "\n",
    "# Print the byweekday DataFrame\n",
    "print(byweekday)"
   ]
  },
  {
   "cell_type": "markdown",
   "metadata": {},
   "source": [
    "### Restoring the index order"
   ]
  },
  {
   "cell_type": "code",
   "execution_count": 33,
   "metadata": {
    "tags": []
   },
   "outputs": [
    {
     "name": "stdout",
     "output_type": "stream",
     "text": [
      "                visitors  signups\n",
      "city   weekday                   \n",
      "Austin Sun           139        7\n",
      "Dallas Sun           237       12\n",
      "Austin Mon           326        3\n",
      "Dallas Mon           456        5\n",
      "                visitors  signups\n",
      "weekday city                     \n",
      "Sun     Austin       139        7\n",
      "        Dallas       237       12\n",
      "Mon     Austin       326        3\n",
      "        Dallas       456        5\n",
      "                visitors  signups\n",
      "weekday city                     \n",
      "Mon     Austin       326        3\n",
      "        Dallas       456        5\n",
      "Sun     Austin       139        7\n",
      "        Dallas       237       12\n",
      "False\n"
     ]
    }
   ],
   "source": [
    "# Stack 'city' back into the index of bycity: newusers\n",
    "\n",
    "newusers = users.set_index(['city', 'weekday'])\n",
    "print(newusers)\n",
    "\n",
    "# Swap the levels of the index of newusers: newusers\n",
    "newusers = newusers.swaplevel(0,1)\n",
    "\n",
    "# Print newusers and verify that the index is not sorted\n",
    "print(newusers)\n",
    "\n",
    "# Sort the index of newusers: newusers\n",
    "newusers = newusers.sort_index()\n",
    "\n",
    "# Print newusers and verify that the index is now sorted\n",
    "print(newusers)\n",
    "\n",
    "# Verify that the new DataFrame is equal to the original\n",
    "print(newusers.equals(users))"
   ]
  },
  {
   "cell_type": "markdown",
   "metadata": {},
   "source": [
    "### Adding names for readability"
   ]
  },
  {
   "cell_type": "code",
   "execution_count": 43,
   "metadata": {},
   "outputs": [
    {
     "name": "stdout",
     "output_type": "stream",
     "text": [
      "  weekday    city  visitors  signups\n",
      "0     Sun  Austin       139        7\n",
      "1     Sun  Dallas       237       12\n",
      "2     Mon  Austin       326        3\n",
      "3     Mon  Dallas       456        5\n",
      "  weekday    city  activity  count\n",
      "0     Sun  Austin  visitors    139\n",
      "1     Sun  Dallas  visitors    237\n",
      "2     Mon  Austin  visitors    326\n",
      "3     Mon  Dallas  visitors    456\n",
      "4     Sun  Austin   signups      7\n",
      "5     Sun  Dallas   signups     12\n",
      "6     Mon  Austin   signups      3\n",
      "7     Mon  Dallas   signups      5\n"
     ]
    }
   ],
   "source": [
    "# Reset the index: visitors_by_city_weekday\n",
    "visitors_by_city_weekday = users\n",
    "\n",
    "# Print visitors_by_city_weekday\n",
    "print(visitors_by_city_weekday)\n",
    "\n",
    "# Melt visitors_by_city_weekday: visitors\n",
    "visitors = pd.melt(visitors_by_city_weekday, id_vars=['weekday', 'city'], value_vars = ['visitors', 'signups'], var_name = 'activity', value_name= 'count')\n",
    "\n",
    "# Print visitors\n",
    "print(visitors)"
   ]
  },
  {
   "cell_type": "code",
   "execution_count": null,
   "metadata": {},
   "outputs": [],
   "source": []
  },
  {
   "cell_type": "code",
   "execution_count": null,
   "metadata": {},
   "outputs": [],
   "source": []
  },
  {
   "cell_type": "markdown",
   "metadata": {},
   "source": [
    "### Going from wide to long: obtaining key-value pairs with melt( )"
   ]
  },
  {
   "cell_type": "code",
   "execution_count": 44,
   "metadata": {
    "tags": []
   },
   "outputs": [
    {
     "name": "stdout",
     "output_type": "stream",
     "text": [
      "                visitors  signups\n",
      "city   weekday                   \n",
      "Austin Sun           139        7\n",
      "Dallas Sun           237       12\n",
      "Austin Mon           326        3\n",
      "Dallas Mon           456        5\n",
      "   variable  value\n",
      "0  visitors    139\n",
      "1  visitors    237\n",
      "2  visitors    326\n",
      "3  visitors    456\n",
      "4   signups      7\n",
      "5   signups     12\n",
      "6   signups      3\n",
      "7   signups      5\n"
     ]
    }
   ],
   "source": [
    "# Set the new index: users_idx\n",
    "users_idx = users.set_index(['city', 'weekday'])\n",
    "\n",
    "# Print the users_idx DataFrame\n",
    "print(users_idx)\n",
    "\n",
    "# Obtain the key-value pairs: kv_pairs\n",
    "kv_pairs = pd.melt(users_idx, col_level=0)\n",
    "\n",
    "# Print the key-value pairs\n",
    "print(kv_pairs)"
   ]
  },
  {
   "cell_type": "markdown",
   "metadata": {},
   "source": [
    "### Setting up a pivot table"
   ]
  },
  {
   "cell_type": "code",
   "execution_count": 45,
   "metadata": {
    "tags": []
   },
   "outputs": [
    {
     "name": "stdout",
     "output_type": "stream",
     "text": [
      "        signups        visitors       \n",
      "city     Austin Dallas   Austin Dallas\n",
      "weekday                               \n",
      "Mon           3      5      326    456\n",
      "Sun           7     12      139    237\n"
     ]
    }
   ],
   "source": [
    "# Create the DataFrame with the appropriate pivot table: by_city_day\n",
    "by_city_day = users.pivot_table(index = 'weekday', columns = 'city')\n",
    "\n",
    "# Print by_city_day\n",
    "print(by_city_day)"
   ]
  },
  {
   "cell_type": "markdown",
   "metadata": {},
   "source": [
    "### Using other aggregations in pivot tables"
   ]
  },
  {
   "cell_type": "code",
   "execution_count": 46,
   "metadata": {
    "tags": []
   },
   "outputs": [
    {
     "name": "stdout",
     "output_type": "stream",
     "text": [
      "         city  signups  visitors\n",
      "weekday                         \n",
      "Mon         2        2         2\n",
      "Sun         2        2         2\n",
      "==========================================\n",
      "True\n"
     ]
    }
   ],
   "source": [
    "# Use a pivot table to display the count of each column: count_by_weekday1\n",
    "count_by_weekday1 = users.pivot_table(index='weekday', aggfunc='count')\n",
    "\n",
    "# Print count_by_weekday\n",
    "print(count_by_weekday1)\n",
    "\n",
    "# Replace 'aggfunc='count'' with 'aggfunc=len': count_by_weekday2\n",
    "count_by_weekday2 = users.pivot_table(index='weekday', aggfunc=len)\n",
    "\n",
    "# Verify that the same result is obtained\n",
    "print('==========================================')\n",
    "print(count_by_weekday1.equals(count_by_weekday2))"
   ]
  },
  {
   "cell_type": "markdown",
   "metadata": {},
   "source": [
    "### Using margins in pivot tables"
   ]
  },
  {
   "cell_type": "code",
   "execution_count": 47,
   "metadata": {
    "tags": []
   },
   "outputs": [
    {
     "name": "stdout",
     "output_type": "stream",
     "text": [
      "         signups  visitors\n",
      "weekday                   \n",
      "Mon            8       782\n",
      "Sun           19       376\n",
      "         signups  visitors\n",
      "weekday                   \n",
      "Mon            8       782\n",
      "Sun           19       376\n",
      "All           27      1158\n"
     ]
    }
   ],
   "source": [
    "# Create the DataFrame with the appropriate pivot table: signups_and_visitors\n",
    "signups_and_visitors = users.pivot_table(index = 'weekday', aggfunc = 'sum' )\n",
    "\n",
    "# Print signups_and_visitors\n",
    "print(signups_and_visitors)\n",
    "\n",
    "# Add in the margins: signups_and_visitors_total \n",
    "signups_and_visitors_total = users.pivot_table(index = 'weekday', aggfunc = 'sum', margins = True)\n",
    "\n",
    "# Print signups_and_visitors_total\n",
    "print(signups_and_visitors_total)"
   ]
  },
  {
   "cell_type": "markdown",
   "metadata": {},
   "source": [
    "## 4. Grouping data"
   ]
  },
  {
   "cell_type": "markdown",
   "metadata": {},
   "source": [
    "### Grouping by multiple columns"
   ]
  },
  {
   "cell_type": "code",
   "execution_count": 48,
   "metadata": {
    "tags": []
   },
   "outputs": [
    {
     "name": "stdout",
     "output_type": "stream",
     "text": [
      "pclass\n",
      "1    323\n",
      "2    277\n",
      "3    709\n",
      "Name: survived, dtype: int64\n",
      "embarked  pclass\n",
      "C         1         141\n",
      "          2          28\n",
      "          3         101\n",
      "Q         1           3\n",
      "          2           7\n",
      "          3         113\n",
      "S         1         177\n",
      "          2         242\n",
      "          3         495\n",
      "Name: survived, dtype: int64\n"
     ]
    }
   ],
   "source": [
    "# Group titanic by 'pclass'\n",
    "by_class = titanic.groupby('pclass')\n",
    "\n",
    "# Aggregate 'survived' column of by_class by count\n",
    "count_by_class = by_class['survived'].count()\n",
    "\n",
    "# Print count_by_class\n",
    "print(count_by_class)\n",
    "\n",
    "# Group titanic by 'embarked' and 'pclass'\n",
    "by_mult = titanic.groupby(['embarked', 'pclass'])\n",
    "\n",
    "# Aggregate 'survived' column of by_mult by count\n",
    "count_mult = by_mult['survived'].count()\n",
    "\n",
    "# Print count_mult\n",
    "print(count_mult)"
   ]
  },
  {
   "cell_type": "markdown",
   "metadata": {},
   "source": [
    "### Computing multiple aggregates of multiple columns"
   ]
  },
  {
   "cell_type": "code",
   "execution_count": 49,
   "metadata": {
    "tags": []
   },
   "outputs": [
    {
     "name": "stdout",
     "output_type": "stream",
     "text": [
      "pclass\n",
      "1    80.0\n",
      "2    70.0\n",
      "3    74.0\n",
      "Name: (age, max), dtype: float64\n",
      "pclass\n",
      "1    60.0000\n",
      "2    15.0458\n",
      "3     8.0500\n",
      "Name: (fare, median), dtype: float64\n"
     ]
    }
   ],
   "source": [
    "# Group titanic by 'pclass': by_class\n",
    "by_class = titanic.groupby('pclass')\n",
    "\n",
    "# Select 'age' and 'fare'\n",
    "by_class_sub = by_class[['age','fare']]\n",
    "\n",
    "# Aggregate by_class_sub by 'max' and 'median': aggregated\n",
    "aggregated = by_class_sub.agg(['max', 'median'])\n",
    "\n",
    "# Print the maximum age in each class\n",
    "print(aggregated.loc[:, ('age','max')])\n",
    "\n",
    "# Print the median fare in each class\n",
    "print(aggregated.loc[:, ('fare', 'median')])"
   ]
  },
  {
   "cell_type": "code",
   "execution_count": 50,
   "metadata": {},
   "outputs": [
    {
     "data": {
      "text/html": [
       "<div>\n",
       "<style scoped>\n",
       "    .dataframe tbody tr th:only-of-type {\n",
       "        vertical-align: middle;\n",
       "    }\n",
       "\n",
       "    .dataframe tbody tr th {\n",
       "        vertical-align: top;\n",
       "    }\n",
       "\n",
       "    .dataframe thead tr th {\n",
       "        text-align: left;\n",
       "    }\n",
       "\n",
       "    .dataframe thead tr:last-of-type th {\n",
       "        text-align: right;\n",
       "    }\n",
       "</style>\n",
       "<table border=\"1\" class=\"dataframe\">\n",
       "  <thead>\n",
       "    <tr>\n",
       "      <th></th>\n",
       "      <th colspan=\"2\" halign=\"left\">age</th>\n",
       "      <th colspan=\"2\" halign=\"left\">fare</th>\n",
       "    </tr>\n",
       "    <tr>\n",
       "      <th></th>\n",
       "      <th>max</th>\n",
       "      <th>median</th>\n",
       "      <th>max</th>\n",
       "      <th>median</th>\n",
       "    </tr>\n",
       "    <tr>\n",
       "      <th>pclass</th>\n",
       "      <th></th>\n",
       "      <th></th>\n",
       "      <th></th>\n",
       "      <th></th>\n",
       "    </tr>\n",
       "  </thead>\n",
       "  <tbody>\n",
       "    <tr>\n",
       "      <th>1</th>\n",
       "      <td>80.0</td>\n",
       "      <td>39.0</td>\n",
       "      <td>512.3292</td>\n",
       "      <td>60.0000</td>\n",
       "    </tr>\n",
       "    <tr>\n",
       "      <th>2</th>\n",
       "      <td>70.0</td>\n",
       "      <td>29.0</td>\n",
       "      <td>73.5000</td>\n",
       "      <td>15.0458</td>\n",
       "    </tr>\n",
       "    <tr>\n",
       "      <th>3</th>\n",
       "      <td>74.0</td>\n",
       "      <td>24.0</td>\n",
       "      <td>69.5500</td>\n",
       "      <td>8.0500</td>\n",
       "    </tr>\n",
       "  </tbody>\n",
       "</table>\n",
       "</div>"
      ],
      "text/plain": [
       "         age             fare         \n",
       "         max median       max   median\n",
       "pclass                                \n",
       "1       80.0   39.0  512.3292  60.0000\n",
       "2       70.0   29.0   73.5000  15.0458\n",
       "3       74.0   24.0   69.5500   8.0500"
      ]
     },
     "execution_count": 50,
     "metadata": {},
     "output_type": "execute_result"
    }
   ],
   "source": [
    "aggregated"
   ]
  },
  {
   "cell_type": "markdown",
   "metadata": {},
   "source": [
    "### Filling missing data (imputation) by group"
   ]
  },
  {
   "cell_type": "code",
   "execution_count": 51,
   "metadata": {},
   "outputs": [
    {
     "data": {
      "text/html": [
       "<div>\n",
       "<style scoped>\n",
       "    .dataframe tbody tr th:only-of-type {\n",
       "        vertical-align: middle;\n",
       "    }\n",
       "\n",
       "    .dataframe tbody tr th {\n",
       "        vertical-align: top;\n",
       "    }\n",
       "\n",
       "    .dataframe thead th {\n",
       "        text-align: right;\n",
       "    }\n",
       "</style>\n",
       "<table border=\"1\" class=\"dataframe\">\n",
       "  <thead>\n",
       "    <tr style=\"text-align: right;\">\n",
       "      <th></th>\n",
       "      <th>pclass</th>\n",
       "      <th>survived</th>\n",
       "      <th>name</th>\n",
       "      <th>sex</th>\n",
       "      <th>age</th>\n",
       "      <th>sibsp</th>\n",
       "      <th>parch</th>\n",
       "      <th>ticket</th>\n",
       "      <th>fare</th>\n",
       "      <th>cabin</th>\n",
       "      <th>embarked</th>\n",
       "      <th>boat</th>\n",
       "      <th>body</th>\n",
       "      <th>home.dest</th>\n",
       "    </tr>\n",
       "  </thead>\n",
       "  <tbody>\n",
       "    <tr>\n",
       "      <th>1299</th>\n",
       "      <td>3</td>\n",
       "      <td>0</td>\n",
       "      <td>Yasbeck, Mr. Antoni</td>\n",
       "      <td>male</td>\n",
       "      <td>27.0</td>\n",
       "      <td>1</td>\n",
       "      <td>0</td>\n",
       "      <td>2659</td>\n",
       "      <td>14.4542</td>\n",
       "      <td>NaN</td>\n",
       "      <td>C</td>\n",
       "      <td>C</td>\n",
       "      <td>NaN</td>\n",
       "      <td>NaN</td>\n",
       "    </tr>\n",
       "    <tr>\n",
       "      <th>1300</th>\n",
       "      <td>3</td>\n",
       "      <td>1</td>\n",
       "      <td>Yasbeck, Mrs. Antoni (Selini Alexander)</td>\n",
       "      <td>female</td>\n",
       "      <td>15.0</td>\n",
       "      <td>1</td>\n",
       "      <td>0</td>\n",
       "      <td>2659</td>\n",
       "      <td>14.4542</td>\n",
       "      <td>NaN</td>\n",
       "      <td>C</td>\n",
       "      <td>NaN</td>\n",
       "      <td>NaN</td>\n",
       "      <td>NaN</td>\n",
       "    </tr>\n",
       "    <tr>\n",
       "      <th>1301</th>\n",
       "      <td>3</td>\n",
       "      <td>0</td>\n",
       "      <td>Youseff, Mr. Gerious</td>\n",
       "      <td>male</td>\n",
       "      <td>45.5</td>\n",
       "      <td>0</td>\n",
       "      <td>0</td>\n",
       "      <td>2628</td>\n",
       "      <td>7.2250</td>\n",
       "      <td>NaN</td>\n",
       "      <td>C</td>\n",
       "      <td>NaN</td>\n",
       "      <td>312.0</td>\n",
       "      <td>NaN</td>\n",
       "    </tr>\n",
       "    <tr>\n",
       "      <th>1302</th>\n",
       "      <td>3</td>\n",
       "      <td>0</td>\n",
       "      <td>Yousif, Mr. Wazli</td>\n",
       "      <td>male</td>\n",
       "      <td>28.0</td>\n",
       "      <td>0</td>\n",
       "      <td>0</td>\n",
       "      <td>2647</td>\n",
       "      <td>7.2250</td>\n",
       "      <td>NaN</td>\n",
       "      <td>C</td>\n",
       "      <td>NaN</td>\n",
       "      <td>NaN</td>\n",
       "      <td>NaN</td>\n",
       "    </tr>\n",
       "    <tr>\n",
       "      <th>1303</th>\n",
       "      <td>3</td>\n",
       "      <td>0</td>\n",
       "      <td>Yousseff, Mr. Gerious</td>\n",
       "      <td>male</td>\n",
       "      <td>28.0</td>\n",
       "      <td>0</td>\n",
       "      <td>0</td>\n",
       "      <td>2627</td>\n",
       "      <td>14.4583</td>\n",
       "      <td>NaN</td>\n",
       "      <td>C</td>\n",
       "      <td>NaN</td>\n",
       "      <td>NaN</td>\n",
       "      <td>NaN</td>\n",
       "    </tr>\n",
       "    <tr>\n",
       "      <th>1304</th>\n",
       "      <td>3</td>\n",
       "      <td>0</td>\n",
       "      <td>Zabour, Miss. Hileni</td>\n",
       "      <td>female</td>\n",
       "      <td>14.5</td>\n",
       "      <td>1</td>\n",
       "      <td>0</td>\n",
       "      <td>2665</td>\n",
       "      <td>14.4542</td>\n",
       "      <td>NaN</td>\n",
       "      <td>C</td>\n",
       "      <td>NaN</td>\n",
       "      <td>328.0</td>\n",
       "      <td>NaN</td>\n",
       "    </tr>\n",
       "    <tr>\n",
       "      <th>1305</th>\n",
       "      <td>3</td>\n",
       "      <td>0</td>\n",
       "      <td>Zabour, Miss. Thamine</td>\n",
       "      <td>female</td>\n",
       "      <td>28.0</td>\n",
       "      <td>1</td>\n",
       "      <td>0</td>\n",
       "      <td>2665</td>\n",
       "      <td>14.4542</td>\n",
       "      <td>NaN</td>\n",
       "      <td>C</td>\n",
       "      <td>NaN</td>\n",
       "      <td>NaN</td>\n",
       "      <td>NaN</td>\n",
       "    </tr>\n",
       "    <tr>\n",
       "      <th>1306</th>\n",
       "      <td>3</td>\n",
       "      <td>0</td>\n",
       "      <td>Zakarian, Mr. Mapriededer</td>\n",
       "      <td>male</td>\n",
       "      <td>26.5</td>\n",
       "      <td>0</td>\n",
       "      <td>0</td>\n",
       "      <td>2656</td>\n",
       "      <td>7.2250</td>\n",
       "      <td>NaN</td>\n",
       "      <td>C</td>\n",
       "      <td>NaN</td>\n",
       "      <td>304.0</td>\n",
       "      <td>NaN</td>\n",
       "    </tr>\n",
       "    <tr>\n",
       "      <th>1307</th>\n",
       "      <td>3</td>\n",
       "      <td>0</td>\n",
       "      <td>Zakarian, Mr. Ortin</td>\n",
       "      <td>male</td>\n",
       "      <td>27.0</td>\n",
       "      <td>0</td>\n",
       "      <td>0</td>\n",
       "      <td>2670</td>\n",
       "      <td>7.2250</td>\n",
       "      <td>NaN</td>\n",
       "      <td>C</td>\n",
       "      <td>NaN</td>\n",
       "      <td>NaN</td>\n",
       "      <td>NaN</td>\n",
       "    </tr>\n",
       "    <tr>\n",
       "      <th>1308</th>\n",
       "      <td>3</td>\n",
       "      <td>0</td>\n",
       "      <td>Zimmerman, Mr. Leo</td>\n",
       "      <td>male</td>\n",
       "      <td>29.0</td>\n",
       "      <td>0</td>\n",
       "      <td>0</td>\n",
       "      <td>315082</td>\n",
       "      <td>7.8750</td>\n",
       "      <td>NaN</td>\n",
       "      <td>S</td>\n",
       "      <td>NaN</td>\n",
       "      <td>NaN</td>\n",
       "      <td>NaN</td>\n",
       "    </tr>\n",
       "  </tbody>\n",
       "</table>\n",
       "</div>"
      ],
      "text/plain": [
       "      pclass  survived                                     name     sex   age  \\\n",
       "1299       3         0                      Yasbeck, Mr. Antoni    male  27.0   \n",
       "1300       3         1  Yasbeck, Mrs. Antoni (Selini Alexander)  female  15.0   \n",
       "1301       3         0                     Youseff, Mr. Gerious    male  45.5   \n",
       "1302       3         0                        Yousif, Mr. Wazli    male  28.0   \n",
       "1303       3         0                    Yousseff, Mr. Gerious    male  28.0   \n",
       "1304       3         0                     Zabour, Miss. Hileni  female  14.5   \n",
       "1305       3         0                    Zabour, Miss. Thamine  female  28.0   \n",
       "1306       3         0                Zakarian, Mr. Mapriededer    male  26.5   \n",
       "1307       3         0                      Zakarian, Mr. Ortin    male  27.0   \n",
       "1308       3         0                       Zimmerman, Mr. Leo    male  29.0   \n",
       "\n",
       "      sibsp  parch  ticket     fare cabin embarked boat   body home.dest  \n",
       "1299      1      0    2659  14.4542   NaN        C    C    NaN       NaN  \n",
       "1300      1      0    2659  14.4542   NaN        C  NaN    NaN       NaN  \n",
       "1301      0      0    2628   7.2250   NaN        C  NaN  312.0       NaN  \n",
       "1302      0      0    2647   7.2250   NaN        C  NaN    NaN       NaN  \n",
       "1303      0      0    2627  14.4583   NaN        C  NaN    NaN       NaN  \n",
       "1304      1      0    2665  14.4542   NaN        C  NaN  328.0       NaN  \n",
       "1305      1      0    2665  14.4542   NaN        C  NaN    NaN       NaN  \n",
       "1306      0      0    2656   7.2250   NaN        C  NaN  304.0       NaN  \n",
       "1307      0      0    2670   7.2250   NaN        C  NaN    NaN       NaN  \n",
       "1308      0      0  315082   7.8750   NaN        S  NaN    NaN       NaN  "
      ]
     },
     "execution_count": 51,
     "metadata": {},
     "output_type": "execute_result"
    }
   ],
   "source": [
    "# Create a groupby object: by_sex_class\n",
    "by_sex_class = titanic.groupby(['sex', 'pclass'])\n",
    "\n",
    "# Write a function that imputes median\n",
    "def impute_median(series):\n",
    "    return series.fillna(series.median())\n",
    "\n",
    "# Impute age and assign to titanic['age']\n",
    "titanic.age = titanic.age.transform(impute_median)\n",
    "\n",
    "# Print the output of titanic.tail(10)\n",
    "titanic.tail(10)"
   ]
  },
  {
   "cell_type": "markdown",
   "metadata": {},
   "source": [
    "### Grouping and filtering with .apply()"
   ]
  },
  {
   "cell_type": "code",
   "execution_count": 52,
   "metadata": {},
   "outputs": [
    {
     "data": {
      "text/plain": [
       "array(['B5', 'C22 C26', 'E12', 'D7', 'A36', 'C101', nan, 'C62 C64', 'B35',\n",
       "       'A23', 'B58 B60', 'D15', 'C6', 'D35', 'C148', 'C97', 'B49', 'C99',\n",
       "       'C52', 'T', 'A31', 'C7', 'C103', 'D22', 'E33', 'A21', 'B10', 'B4',\n",
       "       'E40', 'B38', 'E24', 'B51 B53 B55', 'B96 B98', 'C46', 'E31', 'E8',\n",
       "       'B61', 'B77', 'A9', 'C89', 'A14', 'E58', 'E49', 'E52', 'E45',\n",
       "       'B22', 'B26', 'C85', 'E17', 'B71', 'B20', 'A34', 'C86', 'A16',\n",
       "       'A20', 'A18', 'C54', 'C45', 'D20', 'A29', 'C95', 'E25', 'C111',\n",
       "       'C23 C25 C27', 'E36', 'D34', 'D40', 'B39', 'B41', 'B102', 'C123',\n",
       "       'E63', 'C130', 'B86', 'C92', 'A5', 'C51', 'B42', 'C91', 'C125',\n",
       "       'D10 D12', 'B82 B84', 'E50', 'D33', 'C83', 'B94', 'D49', 'D45',\n",
       "       'B69', 'B11', 'E46', 'C39', 'B18', 'D11', 'C93', 'B28', 'C49',\n",
       "       'B52 B54 B56', 'E60', 'C132', 'B37', 'D21', 'D19', 'C124', 'D17',\n",
       "       'B101', 'D28', 'D6', 'D9', 'B80', 'C106', 'B79', 'C47', 'D30',\n",
       "       'C90', 'E38', 'C78', 'C30', 'C118', 'D36', 'D48', 'D47', 'C105',\n",
       "       'B36', 'B30', 'D43', 'B24', 'C2', 'C65', 'B73', 'C104', 'C110',\n",
       "       'C50', 'B3', 'A24', 'A32', 'A11', 'A10', 'B57 B59 B63 B66', 'C28',\n",
       "       'E44', 'A26', 'A6', 'A7', 'C31', 'A19', 'B45', 'E34', 'B78', 'B50',\n",
       "       'C87', 'C116', 'C55 C57', 'D50', 'E68', 'E67', 'C126', 'C68',\n",
       "       'C70', 'C53', 'B19', 'D46', 'D37', 'D26', 'C32', 'C80', 'C82',\n",
       "       'C128', 'E39 E41', 'D', 'F4', 'D56', 'F33', 'E101', 'E77', 'F2',\n",
       "       'D38', 'F', 'F G63', 'F E57', 'F E46', 'F G73', 'E121', 'F E69',\n",
       "       'E10', 'G6', 'F38'], dtype=object)"
      ]
     },
     "execution_count": 52,
     "metadata": {},
     "output_type": "execute_result"
    }
   ],
   "source": [
    "titanic['cabin'].unique()"
   ]
  },
  {
   "cell_type": "code",
   "execution_count": 53,
   "metadata": {},
   "outputs": [],
   "source": [
    "def c_deck_survival(gr):\n",
    "\n",
    "    c_passengers = gr['cabin'].str.startswith('C').fillna(False)\n",
    "    return gr.loc[c_passengers, 'survived'].mean()"
   ]
  },
  {
   "cell_type": "code",
   "execution_count": 54,
   "metadata": {},
   "outputs": [
    {
     "data": {
      "text/plain": [
       "sex\n",
       "female    0.913043\n",
       "male      0.312500\n",
       "dtype: float64"
      ]
     },
     "execution_count": 54,
     "metadata": {},
     "output_type": "execute_result"
    }
   ],
   "source": [
    "# Create a groupby object using titanic over the 'sex' column: by_sex\n",
    "by_sex = titanic.groupby('sex')\n",
    "\n",
    "# Call by_sex.apply with the function c_deck_survival\n",
    "c_surv_by_sex = by_sex.apply(c_deck_survival)\n",
    "\n",
    "# Print the survival rates\n",
    "c_surv_by_sex"
   ]
  },
  {
   "cell_type": "markdown",
   "metadata": {},
   "source": [
    "### Filtering and grouping with .map( )"
   ]
  },
  {
   "cell_type": "code",
   "execution_count": 55,
   "metadata": {
    "tags": []
   },
   "outputs": [
    {
     "name": "stdout",
     "output_type": "stream",
     "text": [
      "age\n",
      "over 10     0.366748\n",
      "under 10    0.609756\n",
      "Name: survived, dtype: float64\n",
      "age       pclass\n",
      "over 10   1         0.617555\n",
      "          2         0.380392\n",
      "          3         0.238897\n",
      "under 10  1         0.750000\n",
      "          2         1.000000\n",
      "          3         0.446429\n",
      "Name: survived, dtype: float64\n"
     ]
    }
   ],
   "source": [
    "# Create the Boolean Series: under10\n",
    "under10 = (titanic['age'] < 10).map({True:'under 10', False:'over 10'})\n",
    "\n",
    "# Group by under10 and compute the survival rate\n",
    "survived_mean_1 = titanic.groupby(under10)['survived'].mean()\n",
    "print(survived_mean_1)\n",
    "\n",
    "# Group by under10 and pclass and compute the survival rate\n",
    "survived_mean_2 = titanic.groupby([under10, 'pclass'])['survived'].mean()\n",
    "print(survived_mean_2)"
   ]
  },
  {
   "cell_type": "code",
   "execution_count": 56,
   "metadata": {},
   "outputs": [
    {
     "data": {
      "text/plain": [
       "0     over 10\n",
       "1    under 10\n",
       "2    under 10\n",
       "3     over 10\n",
       "4     over 10\n",
       "Name: age, dtype: object"
      ]
     },
     "execution_count": 56,
     "metadata": {},
     "output_type": "execute_result"
    }
   ],
   "source": [
    "under10.head()"
   ]
  },
  {
   "cell_type": "markdown",
   "metadata": {},
   "source": [
    "### Grouping by another series"
   ]
  },
  {
   "cell_type": "code",
   "execution_count": 57,
   "metadata": {
    "tags": []
   },
   "outputs": [
    {
     "name": "stdout",
     "output_type": "stream",
     "text": [
      "region\n",
      "America                       68.722251\n",
      "East Asia & Pacific           66.108632\n",
      "Europe & Central Asia         71.931303\n",
      "Middle East & North Africa    65.194301\n",
      "South Asia                    57.137710\n",
      "Sub-Saharan Africa            51.664426\n",
      "Name: life, dtype: float64\n"
     ]
    }
   ],
   "source": [
    "# Read life_fname into a DataFrame: life\n",
    "life = pd.read_csv('gapminder_life.csv', index_col='Country')\n",
    "\n",
    "# Read regions_fname into a DataFrame: regions\n",
    "regions = pd.read_csv('gapminder_region.csv', index_col = 'Country')\n",
    "\n",
    "# Group life by regions['region']: life_by_region\n",
    "life_by_region = life.groupby(regions.region)\n",
    "\n",
    "# Print the mean over the '2010' column of life_by_region\n",
    "print(life_by_region['life'].mean())"
   ]
  },
  {
   "cell_type": "markdown",
   "metadata": {},
   "source": [
    "### Aggregating on index levels/fields"
   ]
  },
  {
   "cell_type": "code",
   "execution_count": 58,
   "metadata": {
    "tags": []
   },
   "outputs": [
    {
     "name": "stdout",
     "output_type": "stream",
     "text": [
      "                                   population  child_mortality       gdp\n",
      "Year region                                                             \n",
      "2013 America                     9.629087e+08        17.745833   49634.0\n",
      "     East Asia & Pacific         2.244209e+09        22.285714  134744.0\n",
      "     Europe & Central Asia       8.968788e+08         9.831875   86418.0\n",
      "     Middle East & North Africa  4.030504e+08        20.221500  128676.0\n",
      "     South Asia                  1.701241e+09        46.287500   11469.0\n",
      "     Sub-Saharan Africa          9.205996e+08        76.944490   32035.0\n"
     ]
    }
   ],
   "source": [
    "# Read the CSV file into a DataFrame and sort the index: gapminder\n",
    "gapminder = pd.read_csv('gapminder_tidy.csv', index_col = ['Year','region','Country']).sort_index()\n",
    "\n",
    "# Group gapminder by 'Year' and 'region': by_year_region\n",
    "by_year_region = gapminder.groupby(level = ['Year','region'])\n",
    "\n",
    "# Define the function to compute spread: spread\n",
    "def spread(series):\n",
    "    return series.max() - series.min()\n",
    "\n",
    "# Create the dictionary: aggregator\n",
    "aggregator = {'population':'sum', 'child_mortality':'mean', 'gdp':spread}\n",
    "\n",
    "# Aggregate by_year_region using the dictionary: aggregated\n",
    "aggregated = by_year_region.agg(aggregator)\n",
    "\n",
    "# Print the last 6 entries of aggregated \n",
    "print(aggregated.tail(6))"
   ]
  },
  {
   "cell_type": "markdown",
   "metadata": {},
   "source": [
    "### Detecting outliers with Z-Scores"
   ]
  },
  {
   "cell_type": "code",
   "execution_count": 59,
   "metadata": {},
   "outputs": [
    {
     "name": "stderr",
     "output_type": "stream",
     "text": [
      "/tmp/ipykernel_131/537911729.py:5: FutureWarning: Indexing with multiple keys (implicitly converted to a tuple of keys) will be deprecated, use a list instead.\n",
      "  standardized = gapminder.groupby('region')['life','fertility'].transform(zscore)\n"
     ]
    },
    {
     "data": {
      "text/html": [
       "<div>\n",
       "<style scoped>\n",
       "    .dataframe tbody tr th:only-of-type {\n",
       "        vertical-align: middle;\n",
       "    }\n",
       "\n",
       "    .dataframe tbody tr th {\n",
       "        vertical-align: top;\n",
       "    }\n",
       "\n",
       "    .dataframe thead th {\n",
       "        text-align: right;\n",
       "    }\n",
       "</style>\n",
       "<table border=\"1\" class=\"dataframe\">\n",
       "  <thead>\n",
       "    <tr style=\"text-align: right;\">\n",
       "      <th></th>\n",
       "      <th></th>\n",
       "      <th></th>\n",
       "      <th>fertility</th>\n",
       "      <th>life</th>\n",
       "      <th>population</th>\n",
       "      <th>child_mortality</th>\n",
       "      <th>gdp</th>\n",
       "    </tr>\n",
       "    <tr>\n",
       "      <th>Year</th>\n",
       "      <th>region</th>\n",
       "      <th>Country</th>\n",
       "      <th></th>\n",
       "      <th></th>\n",
       "      <th></th>\n",
       "      <th></th>\n",
       "      <th></th>\n",
       "    </tr>\n",
       "  </thead>\n",
       "  <tbody>\n",
       "    <tr>\n",
       "      <th rowspan=\"5\" valign=\"top\">1964</th>\n",
       "      <th rowspan=\"3\" valign=\"top\">America</th>\n",
       "      <th>Bolivia</th>\n",
       "      <td>6.607</td>\n",
       "      <td>43.913</td>\n",
       "      <td>3668568.0</td>\n",
       "      <td>265.40</td>\n",
       "      <td>2971.0</td>\n",
       "    </tr>\n",
       "    <tr>\n",
       "      <th>Guatemala</th>\n",
       "      <td>6.434</td>\n",
       "      <td>47.884</td>\n",
       "      <td>4636016.0</td>\n",
       "      <td>201.50</td>\n",
       "      <td>3722.0</td>\n",
       "    </tr>\n",
       "    <tr>\n",
       "      <th>Haiti</th>\n",
       "      <td>6.233</td>\n",
       "      <td>44.464</td>\n",
       "      <td>4188276.0</td>\n",
       "      <td>273.00</td>\n",
       "      <td>2024.0</td>\n",
       "    </tr>\n",
       "    <tr>\n",
       "      <th>East Asia &amp; Pacific</th>\n",
       "      <th>Timor-Leste</th>\n",
       "      <td>6.347</td>\n",
       "      <td>35.724</td>\n",
       "      <td>537278.0</td>\n",
       "      <td>318.95</td>\n",
       "      <td>701.0</td>\n",
       "    </tr>\n",
       "    <tr>\n",
       "      <th>Europe &amp; Central Asia</th>\n",
       "      <th>Turkey</th>\n",
       "      <td>6.029</td>\n",
       "      <td>48.313</td>\n",
       "      <td>31109820.0</td>\n",
       "      <td>221.90</td>\n",
       "      <td>5296.0</td>\n",
       "    </tr>\n",
       "  </tbody>\n",
       "</table>\n",
       "</div>"
      ],
      "text/plain": [
       "                                        fertility    life  population  \\\n",
       "Year region                Country                                      \n",
       "1964 America               Bolivia          6.607  43.913   3668568.0   \n",
       "                           Guatemala        6.434  47.884   4636016.0   \n",
       "                           Haiti            6.233  44.464   4188276.0   \n",
       "     East Asia & Pacific   Timor-Leste      6.347  35.724    537278.0   \n",
       "     Europe & Central Asia Turkey           6.029  48.313  31109820.0   \n",
       "\n",
       "                                        child_mortality     gdp  \n",
       "Year region                Country                               \n",
       "1964 America               Bolivia               265.40  2971.0  \n",
       "                           Guatemala             201.50  3722.0  \n",
       "                           Haiti                 273.00  2024.0  \n",
       "     East Asia & Pacific   Timor-Leste           318.95   701.0  \n",
       "     Europe & Central Asia Turkey                221.90  5296.0  "
      ]
     },
     "execution_count": 59,
     "metadata": {},
     "output_type": "execute_result"
    }
   ],
   "source": [
    "# Import zscore\n",
    "from scipy.stats import zscore\n",
    "\n",
    "# Group gapminder_2010: standardized\n",
    "standardized = gapminder.groupby('region')['life','fertility'].transform(zscore)\n",
    "\n",
    "# Construct a Boolean Series to identify outliers: outliers\n",
    "outliers = (standardized['life'] < -3) | (standardized['fertility'] > 3)\n",
    "\n",
    "# Filter gapminder_2010 by the outliers: gm_outliers\n",
    "gm_outliers = gapminder.loc[outliers]\n",
    "\n",
    "# Print gm_outliers\n",
    "gm_outliers.head()"
   ]
  },
  {
   "cell_type": "code",
   "execution_count": 60,
   "metadata": {},
   "outputs": [],
   "source": [
    "def disparity(gr):\n",
    "    # Compute the spread of gr['gdp']: s\n",
    "    s = gr['gdp'].max() - gr['gdp'].min()\n",
    "    # Compute the z-score of gr['gdp'] as (gr['gdp']-gr['gdp'].mean())/gr['gdp'].std(): z\n",
    "    z = (gr['gdp'] - gr['gdp'].mean())/gr['gdp'].std()\n",
    "    # Return a DataFrame with the inputs {'z(gdp)':z, 'regional spread(gdp)':s}\n",
    "    return pd.DataFrame({'z(gdp)':z , 'regional spread(gdp)':s})"
   ]
  },
  {
   "cell_type": "code",
   "execution_count": 61,
   "metadata": {},
   "outputs": [
    {
     "data": {
      "text/html": [
       "<div>\n",
       "<style scoped>\n",
       "    .dataframe tbody tr th:only-of-type {\n",
       "        vertical-align: middle;\n",
       "    }\n",
       "\n",
       "    .dataframe tbody tr th {\n",
       "        vertical-align: top;\n",
       "    }\n",
       "\n",
       "    .dataframe thead th {\n",
       "        text-align: right;\n",
       "    }\n",
       "</style>\n",
       "<table border=\"1\" class=\"dataframe\">\n",
       "  <thead>\n",
       "    <tr style=\"text-align: right;\">\n",
       "      <th></th>\n",
       "      <th></th>\n",
       "      <th></th>\n",
       "      <th>z(gdp)</th>\n",
       "      <th>regional spread(gdp)</th>\n",
       "    </tr>\n",
       "    <tr>\n",
       "      <th>Year</th>\n",
       "      <th>region</th>\n",
       "      <th>Country</th>\n",
       "      <th></th>\n",
       "      <th></th>\n",
       "    </tr>\n",
       "  </thead>\n",
       "  <tbody>\n",
       "    <tr>\n",
       "      <th rowspan=\"5\" valign=\"top\">1964</th>\n",
       "      <th rowspan=\"5\" valign=\"top\">America</th>\n",
       "      <th>Antigua and Barbuda</th>\n",
       "      <td>-0.715944</td>\n",
       "      <td>49764.0</td>\n",
       "    </tr>\n",
       "    <tr>\n",
       "      <th>Argentina</th>\n",
       "      <td>-0.366331</td>\n",
       "      <td>49764.0</td>\n",
       "    </tr>\n",
       "    <tr>\n",
       "      <th>Aruba</th>\n",
       "      <td>-0.661965</td>\n",
       "      <td>49764.0</td>\n",
       "    </tr>\n",
       "    <tr>\n",
       "      <th>Bahamas</th>\n",
       "      <td>0.712486</td>\n",
       "      <td>49764.0</td>\n",
       "    </tr>\n",
       "    <tr>\n",
       "      <th>Barbados</th>\n",
       "      <td>-0.642850</td>\n",
       "      <td>49764.0</td>\n",
       "    </tr>\n",
       "  </tbody>\n",
       "</table>\n",
       "</div>"
      ],
      "text/plain": [
       "                                    z(gdp)  regional spread(gdp)\n",
       "Year region  Country                                            \n",
       "1964 America Antigua and Barbuda -0.715944               49764.0\n",
       "             Argentina           -0.366331               49764.0\n",
       "             Aruba               -0.661965               49764.0\n",
       "             Bahamas              0.712486               49764.0\n",
       "             Barbados            -0.642850               49764.0"
      ]
     },
     "execution_count": 61,
     "metadata": {},
     "output_type": "execute_result"
    }
   ],
   "source": [
    "# Group gapminder_2010 by 'region': regional\n",
    "regional = gapminder.groupby('region')\n",
    "\n",
    "# Apply the disparity function on regional: reg_disp\n",
    "reg_disp = regional.apply(disparity)\n",
    "\n",
    "# Print the disparity of 'United States', 'United Kingdom', and 'China'\n",
    "reg_disp.head()"
   ]
  },
  {
   "cell_type": "markdown",
   "metadata": {},
   "source": [
    "### Grouping on a function of the index"
   ]
  },
  {
   "cell_type": "code",
   "execution_count": 62,
   "metadata": {},
   "outputs": [
    {
     "data": {
      "text/html": [
       "<div>\n",
       "<style scoped>\n",
       "    .dataframe tbody tr th:only-of-type {\n",
       "        vertical-align: middle;\n",
       "    }\n",
       "\n",
       "    .dataframe tbody tr th {\n",
       "        vertical-align: top;\n",
       "    }\n",
       "\n",
       "    .dataframe thead th {\n",
       "        text-align: right;\n",
       "    }\n",
       "</style>\n",
       "<table border=\"1\" class=\"dataframe\">\n",
       "  <thead>\n",
       "    <tr style=\"text-align: right;\">\n",
       "      <th></th>\n",
       "      <th>Company</th>\n",
       "      <th>Product</th>\n",
       "      <th>Units</th>\n",
       "    </tr>\n",
       "    <tr>\n",
       "      <th>Date</th>\n",
       "      <th></th>\n",
       "      <th></th>\n",
       "      <th></th>\n",
       "    </tr>\n",
       "  </thead>\n",
       "  <tbody>\n",
       "    <tr>\n",
       "      <th>2015-02-02 08:30:00</th>\n",
       "      <td>Hooli</td>\n",
       "      <td>Software</td>\n",
       "      <td>3</td>\n",
       "    </tr>\n",
       "    <tr>\n",
       "      <th>2015-02-02 21:00:00</th>\n",
       "      <td>Mediacore</td>\n",
       "      <td>Hardware</td>\n",
       "      <td>9</td>\n",
       "    </tr>\n",
       "    <tr>\n",
       "      <th>2015-02-03 14:00:00</th>\n",
       "      <td>Initech</td>\n",
       "      <td>Software</td>\n",
       "      <td>13</td>\n",
       "    </tr>\n",
       "    <tr>\n",
       "      <th>2015-02-04 15:30:00</th>\n",
       "      <td>Streeplex</td>\n",
       "      <td>Software</td>\n",
       "      <td>13</td>\n",
       "    </tr>\n",
       "    <tr>\n",
       "      <th>2015-02-04 22:00:00</th>\n",
       "      <td>Acme Coporation</td>\n",
       "      <td>Hardware</td>\n",
       "      <td>14</td>\n",
       "    </tr>\n",
       "  </tbody>\n",
       "</table>\n",
       "</div>"
      ],
      "text/plain": [
       "                             Company   Product  Units\n",
       "Date                                                 \n",
       "2015-02-02 08:30:00            Hooli  Software      3\n",
       "2015-02-02 21:00:00        Mediacore  Hardware      9\n",
       "2015-02-03 14:00:00          Initech  Software     13\n",
       "2015-02-04 15:30:00        Streeplex  Software     13\n",
       "2015-02-04 22:00:00  Acme Coporation  Hardware     14"
      ]
     },
     "execution_count": 62,
     "metadata": {},
     "output_type": "execute_result"
    }
   ],
   "source": [
    "sales = pd.read_csv('sales-feb-2015.csv', index_col='Date', parse_dates=True)\n",
    "sales.head()"
   ]
  },
  {
   "cell_type": "code",
   "execution_count": 63,
   "metadata": {
    "tags": []
   },
   "outputs": [
    {
     "name": "stdout",
     "output_type": "stream",
     "text": [
      "Date\n",
      "Mon    48\n",
      "Sat     7\n",
      "Thu    59\n",
      "Tue    13\n",
      "Wed    48\n",
      "Name: Units, dtype: int64\n"
     ]
    }
   ],
   "source": [
    "# Create a groupby object: by_day\n",
    "by_day = sales.groupby(sales.index.strftime('%a'))\n",
    "\n",
    "# Create sum: units_sum\n",
    "units_sum = by_day['Units'].sum()\n",
    "\n",
    "# Print units_sum\n",
    "print(units_sum)"
   ]
  },
  {
   "cell_type": "markdown",
   "metadata": {},
   "source": [
    "### Grouping and filtering with .filter( )"
   ]
  },
  {
   "cell_type": "code",
   "execution_count": 64,
   "metadata": {
    "tags": []
   },
   "outputs": [
    {
     "name": "stdout",
     "output_type": "stream",
     "text": [
      "Company\n",
      "Acme Coporation    34\n",
      "Hooli              30\n",
      "Initech            30\n",
      "Mediacore          45\n",
      "Streeplex          36\n",
      "Name: Units, dtype: int64\n",
      "                       Company   Product  Units\n",
      "Date                                           \n",
      "2015-02-02 21:00:00  Mediacore  Hardware      9\n",
      "2015-02-04 15:30:00  Streeplex  Software     13\n",
      "2015-02-09 09:00:00  Streeplex   Service     19\n",
      "2015-02-09 13:00:00  Mediacore  Software      7\n",
      "2015-02-19 11:00:00  Mediacore  Hardware     16\n",
      "2015-02-19 16:00:00  Mediacore   Service     10\n",
      "2015-02-21 05:00:00  Mediacore  Software      3\n",
      "2015-02-26 09:00:00  Streeplex   Service      4\n"
     ]
    }
   ],
   "source": [
    "# Group sales by 'Company': by_company\n",
    "by_company = sales.groupby('Company')\n",
    "\n",
    "# Compute the sum of the 'Units' of by_company: by_com_sum\n",
    "by_com_sum = by_company['Units'].sum()\n",
    "print(by_com_sum)\n",
    "\n",
    "# Filter 'Units' where the sum is > 35: by_com_filt\n",
    "by_com_filt = by_company.filter(lambda g: g['Units'].sum() > 35)\n",
    "print(by_com_filt)"
   ]
  },
  {
   "cell_type": "markdown",
   "metadata": {},
   "source": [
    "## 5. Case Study"
   ]
  },
  {
   "cell_type": "code",
   "execution_count": 65,
   "metadata": {},
   "outputs": [
    {
     "data": {
      "text/html": [
       "<div>\n",
       "<style scoped>\n",
       "    .dataframe tbody tr th:only-of-type {\n",
       "        vertical-align: middle;\n",
       "    }\n",
       "\n",
       "    .dataframe tbody tr th {\n",
       "        vertical-align: top;\n",
       "    }\n",
       "\n",
       "    .dataframe thead th {\n",
       "        text-align: right;\n",
       "    }\n",
       "</style>\n",
       "<table border=\"1\" class=\"dataframe\">\n",
       "  <thead>\n",
       "    <tr style=\"text-align: right;\">\n",
       "      <th></th>\n",
       "      <th>City</th>\n",
       "      <th>Edition</th>\n",
       "      <th>Sport</th>\n",
       "      <th>Discipline</th>\n",
       "      <th>Athlete</th>\n",
       "      <th>NOC</th>\n",
       "      <th>Gender</th>\n",
       "      <th>Event</th>\n",
       "      <th>Event_gender</th>\n",
       "      <th>Medal</th>\n",
       "    </tr>\n",
       "  </thead>\n",
       "  <tbody>\n",
       "    <tr>\n",
       "      <th>0</th>\n",
       "      <td>Athens</td>\n",
       "      <td>1896</td>\n",
       "      <td>Aquatics</td>\n",
       "      <td>Swimming</td>\n",
       "      <td>HAJOS, Alfred</td>\n",
       "      <td>HUN</td>\n",
       "      <td>Men</td>\n",
       "      <td>100m freestyle</td>\n",
       "      <td>M</td>\n",
       "      <td>Gold</td>\n",
       "    </tr>\n",
       "    <tr>\n",
       "      <th>1</th>\n",
       "      <td>Athens</td>\n",
       "      <td>1896</td>\n",
       "      <td>Aquatics</td>\n",
       "      <td>Swimming</td>\n",
       "      <td>HERSCHMANN, Otto</td>\n",
       "      <td>AUT</td>\n",
       "      <td>Men</td>\n",
       "      <td>100m freestyle</td>\n",
       "      <td>M</td>\n",
       "      <td>Silver</td>\n",
       "    </tr>\n",
       "    <tr>\n",
       "      <th>2</th>\n",
       "      <td>Athens</td>\n",
       "      <td>1896</td>\n",
       "      <td>Aquatics</td>\n",
       "      <td>Swimming</td>\n",
       "      <td>DRIVAS, Dimitrios</td>\n",
       "      <td>GRE</td>\n",
       "      <td>Men</td>\n",
       "      <td>100m freestyle for sailors</td>\n",
       "      <td>M</td>\n",
       "      <td>Bronze</td>\n",
       "    </tr>\n",
       "    <tr>\n",
       "      <th>3</th>\n",
       "      <td>Athens</td>\n",
       "      <td>1896</td>\n",
       "      <td>Aquatics</td>\n",
       "      <td>Swimming</td>\n",
       "      <td>MALOKINIS, Ioannis</td>\n",
       "      <td>GRE</td>\n",
       "      <td>Men</td>\n",
       "      <td>100m freestyle for sailors</td>\n",
       "      <td>M</td>\n",
       "      <td>Gold</td>\n",
       "    </tr>\n",
       "    <tr>\n",
       "      <th>4</th>\n",
       "      <td>Athens</td>\n",
       "      <td>1896</td>\n",
       "      <td>Aquatics</td>\n",
       "      <td>Swimming</td>\n",
       "      <td>CHASAPIS, Spiridon</td>\n",
       "      <td>GRE</td>\n",
       "      <td>Men</td>\n",
       "      <td>100m freestyle for sailors</td>\n",
       "      <td>M</td>\n",
       "      <td>Silver</td>\n",
       "    </tr>\n",
       "  </tbody>\n",
       "</table>\n",
       "</div>"
      ],
      "text/plain": [
       "     City  Edition     Sport Discipline             Athlete  NOC Gender  \\\n",
       "0  Athens     1896  Aquatics   Swimming       HAJOS, Alfred  HUN    Men   \n",
       "1  Athens     1896  Aquatics   Swimming    HERSCHMANN, Otto  AUT    Men   \n",
       "2  Athens     1896  Aquatics   Swimming   DRIVAS, Dimitrios  GRE    Men   \n",
       "3  Athens     1896  Aquatics   Swimming  MALOKINIS, Ioannis  GRE    Men   \n",
       "4  Athens     1896  Aquatics   Swimming  CHASAPIS, Spiridon  GRE    Men   \n",
       "\n",
       "                        Event Event_gender   Medal  \n",
       "0              100m freestyle            M    Gold  \n",
       "1              100m freestyle            M  Silver  \n",
       "2  100m freestyle for sailors            M  Bronze  \n",
       "3  100m freestyle for sailors            M    Gold  \n",
       "4  100m freestyle for sailors            M  Silver  "
      ]
     },
     "execution_count": 65,
     "metadata": {},
     "output_type": "execute_result"
    }
   ],
   "source": [
    "medals = pd.read_csv('all_medalists.csv')\n",
    "medals.head()"
   ]
  },
  {
   "cell_type": "markdown",
   "metadata": {},
   "source": [
    "### Using .value_counts() for ranking"
   ]
  },
  {
   "cell_type": "code",
   "execution_count": 66,
   "metadata": {
    "tags": []
   },
   "outputs": [
    {
     "name": "stdout",
     "output_type": "stream",
     "text": [
      "USA    4335\n",
      "URS    2049\n",
      "GBR    1594\n",
      "FRA    1314\n",
      "ITA    1228\n",
      "GER    1211\n",
      "AUS    1075\n",
      "HUN    1053\n",
      "SWE    1021\n",
      "GDR     825\n",
      "NED     782\n",
      "JPN     704\n",
      "CHN     679\n",
      "RUS     638\n",
      "ROU     624\n",
      "Name: NOC, dtype: int64\n"
     ]
    }
   ],
   "source": [
    "# Select the 'NOC' column of medals: country_names\n",
    "country_names = medals.loc[:, 'NOC']\n",
    "\n",
    "# Count the number of medals won by each country: medal_counts\n",
    "medal_counts = country_names.value_counts()\n",
    "\n",
    "# Print top 15 countries ranked by medals\n",
    "print(medal_counts.head(15))"
   ]
  },
  {
   "cell_type": "markdown",
   "metadata": {},
   "source": [
    "### Using .pivot_table() to count medals by type"
   ]
  },
  {
   "cell_type": "code",
   "execution_count": 67,
   "metadata": {
    "tags": []
   },
   "outputs": [
    {
     "name": "stdout",
     "output_type": "stream",
     "text": [
      "Medal  Bronze    Gold  Silver  totals\n",
      "NOC                                  \n",
      "USA    1052.0  2088.0  1195.0  4335.0\n",
      "URS     584.0   838.0   627.0  2049.0\n",
      "GBR     505.0   498.0   591.0  1594.0\n",
      "FRA     475.0   378.0   461.0  1314.0\n",
      "ITA     374.0   460.0   394.0  1228.0\n",
      "GER     454.0   407.0   350.0  1211.0\n",
      "AUS     413.0   293.0   369.0  1075.0\n",
      "HUN     345.0   400.0   308.0  1053.0\n",
      "SWE     325.0   347.0   349.0  1021.0\n",
      "GDR     225.0   329.0   271.0   825.0\n",
      "NED     320.0   212.0   250.0   782.0\n",
      "JPN     270.0   206.0   228.0   704.0\n",
      "CHN     193.0   234.0   252.0   679.0\n",
      "RUS     240.0   192.0   206.0   638.0\n",
      "ROU     282.0   155.0   187.0   624.0\n"
     ]
    }
   ],
   "source": [
    "# Construct the pivot table: counted\n",
    "counted = medals.pivot_table(index = 'NOC', columns = 'Medal', values = 'Athlete', aggfunc = 'count')\n",
    "\n",
    "# Create the new column: counted['totals']\n",
    "counted['totals'] = counted.sum(axis = 'columns')\n",
    "\n",
    "# Sort counted by the 'totals' column\n",
    "counted = counted.sort_values('totals', ascending = False)\n",
    "\n",
    "# Print the top 15 rows of counted\n",
    "print(counted.head(15))"
   ]
  },
  {
   "cell_type": "markdown",
   "metadata": {},
   "source": [
    "### Applying .drop_duplicates()"
   ]
  },
  {
   "cell_type": "code",
   "execution_count": 68,
   "metadata": {
    "tags": []
   },
   "outputs": [
    {
     "name": "stdout",
     "output_type": "stream",
     "text": [
      "      Event_gender Gender\n",
      "0                M    Men\n",
      "348              X    Men\n",
      "416              W  Women\n",
      "639              X  Women\n",
      "23675            W    Men\n"
     ]
    }
   ],
   "source": [
    "# Select columns: ev_gen\n",
    "ev_gen = medals[['Event_gender', 'Gender']]\n",
    "\n",
    "# Drop duplicate pairs: ev_gen_uniques\n",
    "ev_gen_uniques = ev_gen.drop_duplicates()\n",
    "\n",
    "# Print ev_gen_uniques\n",
    "print(ev_gen_uniques)"
   ]
  },
  {
   "cell_type": "markdown",
   "metadata": {},
   "source": [
    "### Finding possible errors with .groupby()"
   ]
  },
  {
   "cell_type": "code",
   "execution_count": 69,
   "metadata": {
    "tags": []
   },
   "outputs": [
    {
     "name": "stdout",
     "output_type": "stream",
     "text": [
      "                      City  Edition  Sport  Discipline  Athlete    NOC  Event  \\\n",
      "Event_gender Gender                                                             \n",
      "M            Men     20067    20067  20067       20067    20067  20067  20067   \n",
      "W            Men         1        1      1           1        1      1      1   \n",
      "             Women    7277     7277   7277        7277     7277   7277   7277   \n",
      "X            Men      1653     1653   1653        1653     1653   1653   1653   \n",
      "             Women     218      218    218         218      218    218    218   \n",
      "\n",
      "                     Medal  \n",
      "Event_gender Gender         \n",
      "M            Men     20067  \n",
      "W            Men         1  \n",
      "             Women    7277  \n",
      "X            Men      1653  \n",
      "             Women     218  \n"
     ]
    }
   ],
   "source": [
    "# Group medals by the two columns: medals_by_gender\n",
    "medals_by_gender = medals.groupby(['Event_gender', 'Gender'])\n",
    "\n",
    "# Create a DataFrame with a group count: medal_count_by_gender\n",
    "medal_count_by_gender = medals_by_gender.count()\n",
    "\n",
    "# Print medal_count_by_gender\n",
    "print(medal_count_by_gender)"
   ]
  },
  {
   "cell_type": "markdown",
   "metadata": {},
   "source": [
    "### Locating suspicious data"
   ]
  },
  {
   "cell_type": "code",
   "execution_count": 70,
   "metadata": {
    "tags": []
   },
   "outputs": [
    {
     "name": "stdout",
     "output_type": "stream",
     "text": [
      "         City  Edition      Sport Discipline            Athlete  NOC Gender  \\\n",
      "23675  Sydney     2000  Athletics  Athletics  CHEPCHUMBA, Joyce  KEN    Men   \n",
      "\n",
      "          Event Event_gender   Medal  \n",
      "23675  marathon            W  Bronze  \n"
     ]
    }
   ],
   "source": [
    "# Create the Boolean Series: sus\n",
    "sus = (medals.Event_gender == 'W') & (medals.Gender == 'Men')\n",
    "\n",
    "# Create a DataFrame with the suspicious row: suspect\n",
    "suspect = medals.loc[sus]\n",
    "\n",
    "# Print suspect\n",
    "print(suspect)"
   ]
  },
  {
   "cell_type": "markdown",
   "metadata": {},
   "source": [
    "### Using .nunique() to rank by distinct sports"
   ]
  },
  {
   "cell_type": "code",
   "execution_count": 71,
   "metadata": {
    "tags": []
   },
   "outputs": [
    {
     "name": "stdout",
     "output_type": "stream",
     "text": [
      "NOC\n",
      "USA    34\n",
      "GBR    31\n",
      "FRA    28\n",
      "GER    26\n",
      "CHN    24\n",
      "CAN    22\n",
      "AUS    22\n",
      "ESP    22\n",
      "SWE    21\n",
      "ITA    21\n",
      "URS    21\n",
      "NED    20\n",
      "RUS    20\n",
      "JPN    20\n",
      "TCH    19\n",
      "Name: Sport, dtype: int64\n"
     ]
    }
   ],
   "source": [
    "# Group medals by 'NOC': country_grouped\n",
    "country_grouped = medals.groupby('NOC')\n",
    "\n",
    "# Compute the number of distinct sports in which each country won medals: Nsports\n",
    "Nsports = country_grouped['Sport'].nunique()\n",
    "\n",
    "# Sort the values of Nsports in descending order\n",
    "Nsports = Nsports.sort_values(ascending = False)\n",
    "\n",
    "# Print the top 15 rows of Nsports\n",
    "print(Nsports.head(15))"
   ]
  },
  {
   "cell_type": "markdown",
   "metadata": {},
   "source": [
    "### Counting USA vs. USSR Cold War Olympic Sports"
   ]
  },
  {
   "cell_type": "code",
   "execution_count": 72,
   "metadata": {
    "tags": []
   },
   "outputs": [
    {
     "name": "stdout",
     "output_type": "stream",
     "text": [
      "NOC\n",
      "URS    21\n",
      "USA    20\n",
      "Name: Sport, dtype: int64\n"
     ]
    }
   ],
   "source": [
    "# Extract all rows for which the 'Edition' is between 1952 & 1988 and for which 'NOC' is either 'USA' or 'URS'\n",
    "\n",
    "mask = (medals.Edition >= 1952) & (medals.Edition <= 1988) & (medals.NOC.isin(['USA','URS']))\n",
    "\n",
    "# Use during_cold_war and is_usa_urs to create the DataFrame: cold_war_medals\n",
    "cold_war_medals = medals.loc[mask]\n",
    "\n",
    "# Group cold_war_medals by 'NOC'\n",
    "country_grouped = cold_war_medals.groupby('NOC')\n",
    "\n",
    "# Create Nsports\n",
    "Nsports = country_grouped['Sport'].nunique().sort_values(ascending = False)\n",
    "\n",
    "# Print Nsports\n",
    "print(Nsports)"
   ]
  },
  {
   "cell_type": "markdown",
   "metadata": {},
   "source": [
    "### Counting USA vs. USSR Cold War Olympic Medals"
   ]
  },
  {
   "cell_type": "code",
   "execution_count": 73,
   "metadata": {
    "tags": []
   },
   "outputs": [
    {
     "name": "stdout",
     "output_type": "stream",
     "text": [
      "URS    8\n",
      "USA    2\n",
      "dtype: int64\n"
     ]
    }
   ],
   "source": [
    "# Create the pivot table: medals_won_by_country\n",
    "medals_won_by_country = medals.pivot_table(index = 'Edition', columns = 'NOC', values = 'Athlete', aggfunc = 'count')\n",
    "# Slice medals_won_by_country: cold_war_usa_urs_medals\n",
    "cold_war_usa_urs_medals = medals_won_by_country.loc[1952:1988, ['USA', 'URS']]\n",
    "\n",
    "# Create most_medals \n",
    "most_medals = cold_war_usa_urs_medals.idxmax(axis = 'columns')\n",
    "# Print most_medals.value_counts()\n",
    "print(most_medals.value_counts())\n"
   ]
  },
  {
   "cell_type": "markdown",
   "metadata": {},
   "source": [
    "### Visualizing USA Medal Counts by Edition: Line Plot"
   ]
  },
  {
   "cell_type": "code",
   "execution_count": 74,
   "metadata": {},
   "outputs": [
    {
     "data": {
      "image/png": "[encoded data removed]",
      "text/plain": [
       "<Figure size 432x288 with 1 Axes>"
      ]
     },
     "metadata": {
      "needs_background": "light"
     },
     "output_type": "display_data"
    }
   ],
   "source": [
    "# Create the DataFrame: usa\n",
    "usa = medals.loc[medals.NOC == 'USA']\n",
    "\n",
    "# Group usa by ['Edition', 'Medal'] and aggregate over 'Athlete'\n",
    "usa_medals_by_year = usa.groupby(['Edition', 'Medal'])['Athlete'].count()\n",
    "\n",
    "# Reshape usa_medals_by_year by unstacking\n",
    "usa_medals_by_year = usa_medals_by_year.unstack(level = 'Medal')\n",
    "\n",
    "# Plot the DataFrame usa_medals_by_year\n",
    "usa_medals_by_year.plot()\n",
    "plt.show()"
   ]
  },
  {
   "cell_type": "markdown",
   "metadata": {},
   "source": [
    "### Visualizing USA Medal Counts by Edition: Area Plot with Ordered Medals"
   ]
  },
  {
   "cell_type": "code",
   "execution_count": 75,
   "metadata": {},
   "outputs": [
    {
     "data": {
      "image/png": "[encoded data removed]",
      "text/plain": [
       "<Figure size 432x288 with 1 Axes>"
      ]
     },
     "metadata": {
      "needs_background": "light"
     },
     "output_type": "display_data"
    }
   ],
   "source": [
    "# Redefine 'Medal' as an ordered categorical\n",
    "medals.Medal = pd.Categorical(values = medals.Medal, categories = ['Bronze', 'Silver', 'Gold'], ordered = True)\n",
    "\n",
    "# Create the DataFrame: usa\n",
    "usa = medals[medals.NOC == 'USA']\n",
    "\n",
    "# Group usa by 'Edition', 'Medal', and 'Athlete'\n",
    "usa_medals_by_year = usa.groupby(['Edition', 'Medal'])['Athlete'].count()\n",
    "\n",
    "# Reshape usa_medals_by_year by unstacking\n",
    "usa_medals_by_year = usa_medals_by_year.unstack(level='Medal')\n",
    "\n",
    "# Create an area plot of usa_medals_by_year\n",
    "usa_medals_by_year.plot.area()\n",
    "plt.show()"
   ]
  },
  {
   "cell_type": "code",
   "execution_count": null,
   "metadata": {},
   "outputs": [],
   "source": []
  }
 ],
 "metadata": {
  "kernelspec": {
   "display_name": "Python 3 (ipykernel)",
   "language": "python",
   "name": "python3"
  },
  "language_info": {
   "codemirror_mode": {
    "name": "ipython",
    "version": 3
   },
   "file_extension": ".py",
   "mimetype": "text/x-python",
   "name": "python",
   "nbconvert_exporter": "python",
   "pygments_lexer": "ipython3",
   "version": "3.9.7"
  }
 },
 "nbformat": 4,
 "nbformat_minor": 4
}
