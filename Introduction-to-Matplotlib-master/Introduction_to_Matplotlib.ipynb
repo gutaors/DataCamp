{
 "cells": [
  {
   "cell_type": "markdown",
   "metadata": {},
   "source": [
    "## Introduction to Matplotlib\n"
   ]
  },
  {
   "cell_type": "markdown",
   "metadata": {},
   "source": [
    "### Using the matplotlib.pyplot interface"
   ]
  },
  {
   "cell_type": "code",
   "execution_count": 3,
   "metadata": {},
   "outputs": [
    {
     "data": {
      "image/png": "[encoded data removed]",
      "text/plain": [
       "<Figure size 432x288 with 1 Axes>"
      ]
     },
     "metadata": {
      "needs_background": "light"
     },
     "output_type": "display_data"
    }
   ],
   "source": [
    "# Import the matplotlib.pyplot submodule and name it plt\n",
    "import matplotlib.pyplot as plt\n",
    "\n",
    "# Create a Figure and an Axes with plt.subplots\n",
    "fig, ax = plt.subplots()\n",
    "\n",
    "# Call the show function to show the result\n",
    "plt.show()"
   ]
  },
  {
   "cell_type": "markdown",
   "metadata": {},
   "source": [
    "### Customizing data appearance"
   ]
  },
  {
   "cell_type": "code",
   "execution_count": 4,
   "metadata": {},
   "outputs": [
    {
     "ename": "NameError",
     "evalue": "name 'seattle_weather' is not defined",
     "output_type": "error",
     "traceback": [
      "\u001b[0;31m---------------------------------------------------------------------------\u001b[0m",
      "\u001b[0;31mNameError\u001b[0m                                 Traceback (most recent call last)",
      "\u001b[0;32m<ipython-input-4-d9564b76289e>\u001b[0m in \u001b[0;36m<module>\u001b[0;34m\u001b[0m\n\u001b[1;32m      1\u001b[0m \u001b[0;31m# Plot Seattle data, setting data appearance\u001b[0m\u001b[0;34m\u001b[0m\u001b[0;34m\u001b[0m\u001b[0;34m\u001b[0m\u001b[0m\n\u001b[0;32m----> 2\u001b[0;31m \u001b[0max\u001b[0m\u001b[0;34m.\u001b[0m\u001b[0mplot\u001b[0m\u001b[0;34m(\u001b[0m\u001b[0mseattle_weather\u001b[0m\u001b[0;34m[\u001b[0m\u001b[0;34m\"MONTH\"\u001b[0m\u001b[0;34m]\u001b[0m\u001b[0;34m,\u001b[0m \u001b[0mseattle_weather\u001b[0m\u001b[0;34m[\u001b[0m\u001b[0;34m\"MLY-PRCP-NORMAL\"\u001b[0m\u001b[0;34m]\u001b[0m\u001b[0;34m,\u001b[0m \u001b[0mcolor\u001b[0m \u001b[0;34m=\u001b[0m \u001b[0;34m'b'\u001b[0m\u001b[0;34m,\u001b[0m \u001b[0mmarker\u001b[0m \u001b[0;34m=\u001b[0m \u001b[0;34m'o'\u001b[0m\u001b[0;34m,\u001b[0m \u001b[0mlinestyle\u001b[0m \u001b[0;34m=\u001b[0m \u001b[0;34m'--'\u001b[0m\u001b[0;34m)\u001b[0m\u001b[0;34m\u001b[0m\u001b[0;34m\u001b[0m\u001b[0m\n\u001b[0m\u001b[1;32m      3\u001b[0m \u001b[0;34m\u001b[0m\u001b[0m\n\u001b[1;32m      4\u001b[0m \u001b[0;31m# Plot Austin data, setting data appearance\u001b[0m\u001b[0;34m\u001b[0m\u001b[0;34m\u001b[0m\u001b[0;34m\u001b[0m\u001b[0m\n\u001b[1;32m      5\u001b[0m \u001b[0max\u001b[0m\u001b[0;34m.\u001b[0m\u001b[0mplot\u001b[0m\u001b[0;34m(\u001b[0m\u001b[0maustin_weather\u001b[0m\u001b[0;34m[\u001b[0m\u001b[0;34m\"MONTH\"\u001b[0m\u001b[0;34m]\u001b[0m\u001b[0;34m,\u001b[0m \u001b[0maustin_weather\u001b[0m\u001b[0;34m[\u001b[0m\u001b[0;34m\"MLY-PRCP-NORMAL\"\u001b[0m\u001b[0;34m]\u001b[0m\u001b[0;34m,\u001b[0m \u001b[0mcolor\u001b[0m \u001b[0;34m=\u001b[0m \u001b[0;34m'r'\u001b[0m\u001b[0;34m,\u001b[0m \u001b[0mmarker\u001b[0m \u001b[0;34m=\u001b[0m\u001b[0;34m'v'\u001b[0m\u001b[0;34m,\u001b[0m \u001b[0mlinestyle\u001b[0m \u001b[0;34m=\u001b[0m \u001b[0;34m'--'\u001b[0m\u001b[0;34m)\u001b[0m\u001b[0;34m\u001b[0m\u001b[0;34m\u001b[0m\u001b[0m\n",
      "\u001b[0;31mNameError\u001b[0m: name 'seattle_weather' is not defined"
     ]
    }
   ],
   "source": [
    "# Plot Seattle data, setting data appearance\n",
    "ax.plot(seattle_weather[\"MONTH\"], seattle_weather[\"MLY-PRCP-NORMAL\"], color = 'b', marker = 'o', linestyle = '--')\n",
    "\n",
    "# Plot Austin data, setting data appearance\n",
    "ax.plot(austin_weather[\"MONTH\"], austin_weather[\"MLY-PRCP-NORMAL\"], color = 'r', marker ='v', linestyle = '--')\n",
    "\n",
    "# Call show to display the resulting plot\n",
    "plt.show()"
   ]
  },
  {
   "cell_type": "markdown",
   "metadata": {},
   "source": [
    "### Customizing axis labels and adding titles"
   ]
  },
  {
   "cell_type": "code",
   "execution_count": null,
   "metadata": {},
   "outputs": [],
   "source": [
    "# Customize the x-axis label\n",
    "ax.set_xlabel(\"Time (months)\")\n",
    "\n",
    "# Customize the y-axis label\n",
    "ax.set_ylabel(\"Average temperature (Fahrenheit degrees)\")\n",
    "\n",
    "# Add the title\n",
    "ax.set_title(\"Weather patterns in Austin and Seattle\")\n",
    "\n",
    "# Display the figure\n",
    "plt.show()"
   ]
  },
  {
   "cell_type": "markdown",
   "metadata": {},
   "source": [
    "### Creating small multiples with plt.subplots"
   ]
  },
  {
   "cell_type": "code",
   "execution_count": null,
   "metadata": {},
   "outputs": [],
   "source": [
    "# Create a Figure and an array of subplots with 2 rows and 2 columns\n",
    "fig, ax = plt.subplots(2, 2)\n",
    "\n",
    "# Addressing the top left Axes as index 0, 0, plot Seattle precipitation\n",
    "ax[0, 0].plot(seattle_weather['MONTH'], seattle_weather[\"MLY-PRCP-NORMAL\"])\n",
    "\n",
    "# In the top right (index 0,1), plot Seattle temperatures\n",
    "ax[0, 1].plot(seattle_weather['MONTH'], seattle_weather[\"MLY-TAVG-NORMAL\" ])\n",
    "\n",
    "# In the bottom left (1, 0) plot Austin precipitations\n",
    "ax[1,0].plot(austin_weather['MONTH'], austin_weather[\"MLY-PRCP-NORMAL\"])\n",
    "\n",
    "# In the bottom right (1, 1) plot Austin temperatures\n",
    "ax[1,1].plot(austin_weather['MONTH'], austin_weather[\"MLY-TAVG-NORMAL\" ])\n",
    "plt.show()"
   ]
  },
  {
   "cell_type": "markdown",
   "metadata": {},
   "source": [
    "### Small multiples with shared y axis"
   ]
  },
  {
   "cell_type": "code",
   "execution_count": null,
   "metadata": {},
   "outputs": [],
   "source": [
    "# Create a figure and an array of axes: 2 rows, 1 column with shared y axis\n",
    "fig, axes = plt.subplots(2, 1, sharey=True)\n",
    "\n",
    "# Plot Seattle precipitation in the top axes\n",
    "axes[0].plot(seattle_weather[\"MONTH\"], seattle_weather[\"MLY-PRCP-NORMAL\"], color='b')\n",
    "axes[0].plot(seattle_weather[\"MONTH\"], seattle_weather[\"MLY-PRCP-25PCTL\"], color='b', linestyle='--')\n",
    "axes[0].plot(seattle_weather[\"MONTH\"], seattle_weather[\"MLY-PRCP-75PCTL\"], color='b', linestyle='--')\n",
    "\n",
    "# Plot Austin precipitation in the bottom axes\n",
    "axes[1].plot(austin_weather[\"MONTH\"], austin_weather[\"MLY-PRCP-NORMAL\"], color='r')\n",
    "axes[1].plot(austin_weather[\"MONTH\"], austin_weather[\"MLY-PRCP-25PCTL\"], color='r', linestyle='--')\n",
    "axes[1].plot(austin_weather[\"MONTH\"], austin_weather[\"MLY-PRCP-75PCTL\"], color='r', linestyle='--')\n",
    "\n",
    "plt.show()"
   ]
  },
  {
   "cell_type": "markdown",
   "metadata": {},
   "source": [
    "## Plotting time-series"
   ]
  },
  {
   "cell_type": "markdown",
   "metadata": {},
   "source": [
    "### Read data with a time index"
   ]
  },
  {
   "cell_type": "code",
   "execution_count": null,
   "metadata": {},
   "outputs": [],
   "source": [
    "# Import pandas\n",
    "import pandas as pd\n",
    "\n",
    "# Read the data from file using read_csv\n",
    "climate_change = pd.read_csv('climate_change.csv', parse_dates=[\"date\"], index_col=\"date\")"
   ]
  },
  {
   "cell_type": "markdown",
   "metadata": {},
   "source": [
    "### Plot time-series data"
   ]
  },
  {
   "cell_type": "code",
   "execution_count": null,
   "metadata": {},
   "outputs": [],
   "source": [
    "import matplotlib.pyplot as plt\n",
    "fig, ax = plt.subplots()\n",
    "\n",
    "# Add the time-series for \"relative_temp\" to the plot\n",
    "ax.plot(climate_change.index, climate_change.relative_temp)\n",
    "\n",
    "# Set the x-axis label\n",
    "ax.set_xlabel('Time')\n",
    "\n",
    "# Set the y-axis label\n",
    "ax.set_ylabel('Relative temperature (Celsius)')\n",
    "\n",
    "# Show the figure\n",
    "plt.show()"
   ]
  },
  {
   "cell_type": "markdown",
   "metadata": {},
   "source": [
    "### Using a time index to zoom in"
   ]
  },
  {
   "cell_type": "code",
   "execution_count": null,
   "metadata": {},
   "outputs": [],
   "source": [
    "import matplotlib.pyplot as plt\n",
    "\n",
    "# Use plt.subplots to create fig and ax\n",
    "fig, ax = plt.subplots()\n",
    "\n",
    "# Create variable seventies with data from \"1970-01-01\" to \"1979-12-31\"\n",
    "seventies = climate_change[\"1970-01-01\": \"1979-12-31\"]\n",
    "\n",
    "# Add the time-series for \"co2\" data from seventies to the plot\n",
    "ax.plot(seventies.index, seventies[\"co2\"])\n",
    "\n",
    "# Show the figure\n",
    "plt.show()"
   ]
  },
  {
   "cell_type": "markdown",
   "metadata": {},
   "source": [
    "### Plotting two variables"
   ]
  },
  {
   "cell_type": "code",
   "execution_count": null,
   "metadata": {},
   "outputs": [],
   "source": [
    "import matplotlib.pyplot as plt\n",
    "\n",
    "# Initalize a Figure and Axes\n",
    "fig, ax = plt.subplots()\n",
    "\n",
    "# Plot the CO2 variable in blue\n",
    "ax.plot(climate_change.index, climate_change[\"co2\"], color='b')\n",
    "\n",
    "# Create a twin Axes that shares the x-axis\n",
    "ax2 = ax.twinx()\n",
    "\n",
    "# Plot the relative temperature in red\n",
    "ax2.plot(climate_change.index, climate_change[\"relative_temp\"], color='r')\n",
    "plt.show()"
   ]
  },
  {
   "cell_type": "markdown",
   "metadata": {},
   "source": [
    "### Defining a function that plots time-series data"
   ]
  },
  {
   "cell_type": "code",
   "execution_count": null,
   "metadata": {},
   "outputs": [],
   "source": [
    "# Define a function called plot_timeseries\n",
    "def plot_timeseries(axes, x, y, color, xlabel, ylabel):\n",
    "\n",
    "  # Plot the inputs x,y in the provided color\n",
    "  axes.plot(x, y, color=color)\n",
    "\n",
    "  # Set the x-axis label\n",
    "  axes.set_xlabel(xlabel)\n",
    "\n",
    "  # Set the y-axis label\n",
    "  axes.set_ylabel(ylabel, color=color)\n",
    "\n",
    "  # Set the colors tick params for y-axis\n",
    "  axes.tick_params('y', colors=color)"
   ]
  },
  {
   "cell_type": "markdown",
   "metadata": {},
   "source": [
    "### Using a plotting function"
   ]
  },
  {
   "cell_type": "code",
   "execution_count": null,
   "metadata": {},
   "outputs": [],
   "source": [
    "fig, ax = plt.subplots()\n",
    "\n",
    "# Plot the CO2 levels time-series in blue\n",
    "plot_timeseries(ax,climate_change.index, climate_change[\"co2\"], \"blue\", \"Time (years)\", \"CO2 levels\")\n",
    "\n",
    "# Create a twin Axes object that shares the x-axis\n",
    "ax2 = ax.twinx()\n",
    "\n",
    "# Plot the relative temperature data in red\n",
    "plot_timeseries(ax,climate_change.index, climate_change[\"relative_temp\"], \"red\", \"Time (years)\", \"Relative temperature (Celsius)\")\n",
    "\n",
    "plt.show()"
   ]
  },
  {
   "cell_type": "markdown",
   "metadata": {},
   "source": [
    "### Annotating a plot of time-series data"
   ]
  },
  {
   "cell_type": "code",
   "execution_count": null,
   "metadata": {},
   "outputs": [],
   "source": [
    "fig, ax = plt.subplots()\n",
    "\n",
    "# Plot the relative temperature data\n",
    "ax.plot(climate_change.index, climate_change['relative_temp'])\n",
    "\n",
    "# Annotate the date at which temperatures exceeded 1 degree\n",
    "ax.annotate(\">1 degree\", xy=(pd.Timestamp('2015-10-06'), 1))\n",
    "\n",
    "plt.show()"
   ]
  },
  {
   "cell_type": "markdown",
   "metadata": {},
   "source": [
    "### Plotting time-series: putting it all together"
   ]
  },
  {
   "cell_type": "code",
   "execution_count": null,
   "metadata": {},
   "outputs": [],
   "source": [
    "fig, ax = plt.subplots()\n",
    "\n",
    "# Plot the CO2 levels time-series in blue\n",
    "plot_timeseries(ax, climate_change.index, climate_change[\"co2\"], 'blue', \"Time (years)\", \"CO2 levels\")\n",
    "\n",
    "# Create an Axes object that shares the x-axis\n",
    "ax2 = ax.twinx()\n",
    "\n",
    "# Plot the relative temperature data in red\n",
    "plot_timeseries(ax2, climate_change.index, climate_change['relative_temp'], 'red', \"Time (years)\", \"Relative temp (Celsius)\")\n",
    "\n",
    "# Annotate the point with relative temperature >1 degree\n",
    "ax2.annotate(\">1 degree\", xy=(pd.Timestamp('2015-10-06'), 1), xytext=(pd.Timestamp('2008-10-06'), -0.2), arrowprops={'arrowstyle':'->', 'color':'gray'})\n",
    "\n",
    "plt.show()"
   ]
  },
  {
   "cell_type": "markdown",
   "metadata": {},
   "source": [
    "## Quantitative comparisons and statistical visualizations"
   ]
  },
  {
   "cell_type": "markdown",
   "metadata": {},
   "source": [
    "### Bar chart"
   ]
  },
  {
   "cell_type": "code",
   "execution_count": null,
   "metadata": {},
   "outputs": [],
   "source": [
    "fig, ax = plt.subplots()\n",
    "\n",
    "# Plot a bar-chart of gold medals as a function of country\n",
    "ax.bar(medals.index, medals[\"Gold\"])\n",
    "\n",
    "# Set the x-axis tick labels to the country names\n",
    "ax.set_xticklabels(medals.index, rotation=90)\n",
    "\n",
    "# Set the y-axis label\n",
    "ax.set_ylabel(\"Number of medals\")\n",
    "\n",
    "plt.show()"
   ]
  },
  {
   "cell_type": "markdown",
   "metadata": {},
   "source": [
    "### Stacked bar chart"
   ]
  },
  {
   "cell_type": "code",
   "execution_count": null,
   "metadata": {},
   "outputs": [],
   "source": [
    "# Add bars for \"Gold\" with the label \"Gold\"\n",
    "ax.bar(medals.index, medals['Gold'], label=\"Gold\")\n",
    "\n",
    "# Stack bars for \"Silver\" on top with label \"Silver\"\n",
    "ax.bar(medals.index, medals['Silver'], bottom=True, label = 'Silver')\n",
    "\n",
    "# Stack bars for \"Bronze\" on top of that with label \"Bronze\"\n",
    "ax.bar(medals.index, medals['Bronze'], bottom = True, label = 'Bronze')\n",
    "\n",
    "# Display the legend\n",
    "ax.legend()\n",
    "\n",
    "plt.show()"
   ]
  },
  {
   "cell_type": "markdown",
   "metadata": {},
   "source": [
    "### Creating histograms"
   ]
  },
  {
   "cell_type": "code",
   "execution_count": null,
   "metadata": {},
   "outputs": [],
   "source": [
    "fig, ax = plt.subplots()\n",
    "# Plot a histogram of \"Weight\" for mens_rowing\n",
    "ax.hist(mens_rowing.Weight)\n",
    "\n",
    "# Compare to histogram of \"Weight\" for mens_gymnastics\n",
    "ax.hist(mens_gymnastics.Weight)\n",
    "\n",
    "# Set the x-axis label to \"Weight (kg)\"\n",
    "ax.set_xlabel(\"Weight (kg)\")\n",
    "\n",
    "# Set the y-axis label to \"# of observations\"\n",
    "ax.set_ylabel(\"# of observations\")\n",
    "\n",
    "plt.show()"
   ]
  },
  {
   "cell_type": "markdown",
   "metadata": {},
   "source": [
    "### \"Step\" histogram"
   ]
  },
  {
   "cell_type": "code",
   "execution_count": null,
   "metadata": {},
   "outputs": [],
   "source": [
    "fig, ax = plt.subplots()\n",
    "\n",
    "# Plot a histogram of \"Weight\" for mens_rowing\n",
    "ax.hist(mens_rowing.Weight, label = 'Rowing', histtype = 'step', bins = 5)\n",
    "\n",
    "# Compare to histogram of \"Weight\" for mens_gymnastics\n",
    "ax.hist(mens_gymnastics.Weight, label = 'Gymnastics',histtype = 'step', bins = 5)\n",
    "\n",
    "ax.set_xlabel(\"Weight (kg)\")\n",
    "ax.set_ylabel(\"# of observations\")\n",
    "\n",
    "# Add the legend and show the Figure\n",
    "ax.legend()\n",
    "plt.show()"
   ]
  },
  {
   "cell_type": "markdown",
   "metadata": {},
   "source": [
    "### Adding error-bars to a bar chart"
   ]
  },
  {
   "cell_type": "code",
   "execution_count": null,
   "metadata": {},
   "outputs": [],
   "source": [
    "fig, ax = plt.subplots()\n",
    "\n",
    "# Add a bar for the rowing \"Height\" column mean/std\n",
    "ax.bar(\"Rowing\", mens_rowing[\"Height\"].mean(), yerr=mens_rowing[\"Height\"].std())\n",
    "\n",
    "# Add a bar for the gymnastics \"Height\" column mean/std\n",
    "ax.bar(\"Gymnastics\", mens_gymnastics[\"Height\"].mean(), yerr=mens_gymnastics[\"Height\"].std())\n",
    "\n",
    "# Label the y-axis\n",
    "ax.set_ylabel(\"Height (cm)\")\n",
    "\n",
    "plt.show()"
   ]
  },
  {
   "cell_type": "markdown",
   "metadata": {},
   "source": [
    "### Adding error-bars to a plot"
   ]
  },
  {
   "cell_type": "code",
   "execution_count": null,
   "metadata": {},
   "outputs": [],
   "source": [
    "fig, ax = plt.subplots()\n",
    "\n",
    "# Add Seattle temperature data in each month with error bars\n",
    "ax.errorbar(seattle_weather[\"MONTH\"], seattle_weather[\"MLY-TAVG-NORMAL\"], seattle_weather[\"MLY-TAVG-STDDEV\"])\n",
    "\n",
    "# Add Austin temperature data in each month with error bars\n",
    "ax.errorbar(austin_weather[\"MONTH\"], austin_weather[\"MLY-TAVG-NORMAL\"], austin_weather[\"MLY-TAVG-STDDEV\"])\n",
    "\n",
    "# Set the y-axis label\n",
    "ax.set_ylabel(\"Temperature (Fahrenheit)\")\n",
    "\n",
    "plt.show()"
   ]
  },
  {
   "cell_type": "markdown",
   "metadata": {},
   "source": [
    "### Creating boxplots"
   ]
  },
  {
   "cell_type": "code",
   "execution_count": null,
   "metadata": {},
   "outputs": [],
   "source": [
    "fig, ax = plt.subplots()\n",
    "\n",
    "# Add a boxplot for the \"Height\" column in the DataFrames\n",
    "ax.boxplot([mens_rowing[\"Height\"], mens_gymnastics[\"Height\"]])\n",
    "\n",
    "# Add x-axis tick labels:\n",
    "ax.set_xticklabels([\"Rowing\", \"Gymnastics\"])\n",
    "\n",
    "# Add a y-axis label\n",
    "ax.set_ylabel(\"Height (cm)\")\n",
    "\n",
    "plt.show()"
   ]
  },
  {
   "cell_type": "markdown",
   "metadata": {},
   "source": [
    "### Simple scatter plot"
   ]
  },
  {
   "cell_type": "code",
   "execution_count": null,
   "metadata": {},
   "outputs": [],
   "source": [
    "fig, ax = plt.subplots()\n",
    "\n",
    "# Add data: \"co2\" on x-axis, \"relative_temp\" on y-axis\n",
    "ax.scatter(climate_change[\"co2\"], climate_change[\"relative_temp\"])\n",
    "\n",
    "# Set the x-axis label to \"CO2 (ppm)\"\n",
    "ax.set_xlabel(\"CO2 (ppm)\")\n",
    "\n",
    "# Set the y-axis label to \"Relative temperature (C)\"\n",
    "ax.set_ylabel(\"Relative temperature (C)\")\n",
    "\n",
    "plt.show()"
   ]
  },
  {
   "cell_type": "markdown",
   "metadata": {},
   "source": [
    "### Encoding time by color"
   ]
  },
  {
   "cell_type": "code",
   "execution_count": null,
   "metadata": {},
   "outputs": [],
   "source": [
    "fig, ax = plt.subplots()\n",
    "\n",
    "# Add data: \"co2\", \"relative_temp\" as x-y, index as color\n",
    "ax.scatter(climate_change[\"co2\"], climate_change[\"relative_temp\"], c = climate_change.index)\n",
    "\n",
    "# Set the x-axis label to \"CO2 (ppm)\"\n",
    "ax.set_xlabel(\"CO2 (ppm)\")\n",
    "\n",
    "# Set the y-axis label to \"Relative temperature (C)\"\n",
    "ax.set_ylabel(\"Relative temperature (C)\")\n",
    "\n",
    "plt.show()"
   ]
  },
  {
   "cell_type": "markdown",
   "metadata": {},
   "source": [
    "## Sharing visualizations with others\n",
    "\n"
   ]
  },
  {
   "cell_type": "markdown",
   "metadata": {},
   "source": [
    "### Switching between styles"
   ]
  },
  {
   "cell_type": "code",
   "execution_count": null,
   "metadata": {},
   "outputs": [],
   "source": [
    "# Use the \"ggplot\" style and create new Figure/Axes\n",
    "plt.style.use('ggplot')\n",
    "fig, ax = plt.subplots()\n",
    "ax.plot(seattle_weather[\"MONTH\"], seattle_weather[\"MLY-TAVG-NORMAL\"])\n",
    "plt.show()"
   ]
  },
  {
   "cell_type": "code",
   "execution_count": null,
   "metadata": {},
   "outputs": [],
   "source": [
    "# Use the \"Solarize_Light2\" style and create new Figure/Axes\n",
    "plt.style.use(\"Solarize_Light2\")\n",
    "fig, ax = plt.subplots()\n",
    "ax.plot(austin_weather[\"MONTH\"], austin_weather[\"MLY-TAVG-NORMAL\"])\n",
    "plt.show()"
   ]
  },
  {
   "cell_type": "markdown",
   "metadata": {},
   "source": [
    "### Saving a file "
   ]
  },
  {
   "cell_type": "code",
   "execution_count": null,
   "metadata": {},
   "outputs": [],
   "source": [
    "# Save as a PNG file with 300 dpi\n",
    "fig.savefig('my_figure_300dpi.png', dpi  =300)"
   ]
  },
  {
   "cell_type": "code",
   "execution_count": null,
   "metadata": {},
   "outputs": [],
   "source": [
    "# Set the figure size as width of 5 inches and height of 3 inches\n",
    "fig.set_size_inches([3, 5])\n",
    "fig.savefig('figure_3_5.png')"
   ]
  },
  {
   "cell_type": "markdown",
   "metadata": {},
   "source": [
    "### Unique values of a column"
   ]
  },
  {
   "cell_type": "code",
   "execution_count": null,
   "metadata": {},
   "outputs": [],
   "source": [
    "# Extract the \"Sport\" column\n",
    "sports_column = summer_2016_medals[\"Sport\"]\n",
    "\n",
    "# Find the unique values of the \"Sport\" column\n",
    "sports = sports_column.unique()\n",
    "\n",
    "# Print out the unique sports values\n",
    "print(sports)"
   ]
  },
  {
   "cell_type": "markdown",
   "metadata": {},
   "source": [
    "### Automate your visualization"
   ]
  },
  {
   "cell_type": "code",
   "execution_count": null,
   "metadata": {},
   "outputs": [],
   "source": [
    "fig, ax = plt.subplots()\n",
    "\n",
    "# Loop over the different sports branches\n",
    "for sport in sports:\n",
    "  # Extract the rows only for this sport\n",
    "  sport_df = summer_2016_medals[summer_2016_medals[\"Sport\"] == sport]\n",
    "  # Add a bar for the \"Weight\" mean with std y error bar\n",
    "  ax.bar(sport, sport_df[\"Weight\"].mean(), yerr=sport_df[\"Weight\"].std())\n",
    "\n",
    "ax.set_ylabel(\"Weight\")\n",
    "ax.set_xticklabels(sports, rotation=90)\n",
    "\n",
    "# Save the figure to file\n",
    "fig.savefig(\"sports_weights.png\")"
   ]
  }
 ],
 "metadata": {
  "kernelspec": {
   "display_name": "Python 3",
   "language": "python",
   "name": "python3"
  },
  "language_info": {
   "codemirror_mode": {
    "name": "ipython",
    "version": 3
   },
   "file_extension": ".py",
   "mimetype": "text/x-python",
   "name": "python",
   "nbconvert_exporter": "python",
   "pygments_lexer": "ipython3",
   "version": "3.7.1"
  }
 },
 "nbformat": 4,
 "nbformat_minor": 2
}
